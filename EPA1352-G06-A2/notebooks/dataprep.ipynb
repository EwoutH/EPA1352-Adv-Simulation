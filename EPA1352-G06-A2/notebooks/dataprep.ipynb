{
 "cells": [
  {
   "cell_type": "code",
   "execution_count": 1,
   "metadata": {
    "collapsed": true
   },
   "outputs": [
    {
     "data": {
      "text/plain": "  road  chainage     lrp        lat        lon  gap       type  \\\n0   N1     0.000    LRPS  23.706028  90.443333  NaN     Others   \n1   N1     0.814   LRPSa  23.702917  90.450417  NaN    Culvert   \n2   N1     0.822   LRPSb  23.702778  90.450472  NaN  CrossRoad   \n3   N1     1.000  LRP001  23.702139  90.451972  NaN     KmPost   \n4   N1     2.000  LRP002  23.697889  90.460583  NaN     KmPost   \n\n                                                name  \n0  Start of Road  after Jatrabari Flyover infront...  \n1                                        Box Culvert  \n2                            Intersection with Z1101  \n3                                    Km post missing  \n4                                    Km post missing  ",
      "text/html": "<div>\n<style scoped>\n    .dataframe tbody tr th:only-of-type {\n        vertical-align: middle;\n    }\n\n    .dataframe tbody tr th {\n        vertical-align: top;\n    }\n\n    .dataframe thead th {\n        text-align: right;\n    }\n</style>\n<table border=\"1\" class=\"dataframe\">\n  <thead>\n    <tr style=\"text-align: right;\">\n      <th></th>\n      <th>road</th>\n      <th>chainage</th>\n      <th>lrp</th>\n      <th>lat</th>\n      <th>lon</th>\n      <th>gap</th>\n      <th>type</th>\n      <th>name</th>\n    </tr>\n  </thead>\n  <tbody>\n    <tr>\n      <th>0</th>\n      <td>N1</td>\n      <td>0.000</td>\n      <td>LRPS</td>\n      <td>23.706028</td>\n      <td>90.443333</td>\n      <td>NaN</td>\n      <td>Others</td>\n      <td>Start of Road  after Jatrabari Flyover infront...</td>\n    </tr>\n    <tr>\n      <th>1</th>\n      <td>N1</td>\n      <td>0.814</td>\n      <td>LRPSa</td>\n      <td>23.702917</td>\n      <td>90.450417</td>\n      <td>NaN</td>\n      <td>Culvert</td>\n      <td>Box Culvert</td>\n    </tr>\n    <tr>\n      <th>2</th>\n      <td>N1</td>\n      <td>0.822</td>\n      <td>LRPSb</td>\n      <td>23.702778</td>\n      <td>90.450472</td>\n      <td>NaN</td>\n      <td>CrossRoad</td>\n      <td>Intersection with Z1101</td>\n    </tr>\n    <tr>\n      <th>3</th>\n      <td>N1</td>\n      <td>1.000</td>\n      <td>LRP001</td>\n      <td>23.702139</td>\n      <td>90.451972</td>\n      <td>NaN</td>\n      <td>KmPost</td>\n      <td>Km post missing</td>\n    </tr>\n    <tr>\n      <th>4</th>\n      <td>N1</td>\n      <td>2.000</td>\n      <td>LRP002</td>\n      <td>23.697889</td>\n      <td>90.460583</td>\n      <td>NaN</td>\n      <td>KmPost</td>\n      <td>Km post missing</td>\n    </tr>\n  </tbody>\n</table>\n</div>"
     },
     "execution_count": 1,
     "metadata": {},
     "output_type": "execute_result"
    }
   ],
   "source": [
    "import pandas as pd\n",
    "\n",
    "dataroads = pd.read_csv('../data/_roads3.csv')\n",
    "dataroads.head()\n"
   ]
  },
  {
   "cell_type": "code",
   "execution_count": null,
   "outputs": [],
   "source": [],
   "metadata": {
    "collapsed": false,
    "pycharm": {
     "name": "#%%\n"
    }
   }
  }
 ],
 "metadata": {
  "kernelspec": {
   "display_name": "Python 3",
   "language": "python",
   "name": "python3"
  },
  "language_info": {
   "codemirror_mode": {
    "name": "ipython",
    "version": 2
   },
   "file_extension": ".py",
   "mimetype": "text/x-python",
   "name": "python",
   "nbconvert_exporter": "python",
   "pygments_lexer": "ipython2",
   "version": "2.7.6"
  }
 },
 "nbformat": 4,
 "nbformat_minor": 0
}