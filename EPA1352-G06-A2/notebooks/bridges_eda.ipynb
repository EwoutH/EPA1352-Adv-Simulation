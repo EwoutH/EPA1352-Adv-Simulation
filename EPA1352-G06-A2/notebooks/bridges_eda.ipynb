{
 "cells": [
  {
   "cell_type": "markdown",
   "metadata": {
    "collapsed": true,
    "pycharm": {
     "name": "#%% md\n"
    }
   },
   "source": [
    "## Bridges EDA"
   ]
  },
  {
   "cell_type": "code",
   "execution_count": null,
   "outputs": [],
   "source": [
    "import pandas as pd\n",
    "import math"
   ],
   "metadata": {
    "collapsed": false,
    "pycharm": {
     "name": "#%%\n",
     "is_executing": true
    }
   }
  },
  {
   "cell_type": "code",
   "execution_count": null,
   "outputs": [],
   "source": [
    "# Read the Bridges file\n",
    "bridges = pd.read_excel(\"../data/BMMS_overview.xlsx\")"
   ],
   "metadata": {
    "collapsed": false,
    "pycharm": {
     "name": "#%%\n",
     "is_executing": true
    }
   }
  },
  {
   "cell_type": "code",
   "execution_count": null,
   "outputs": [],
   "source": [
    "# Keep only bridges on the N1 road\n",
    "bridges = bridges.loc[bridges[\"road\"] == \"N1\"]\n",
    "\n",
    "# Define bright length bins and labels\n",
    "length_bins = [0, 10, 50, 200, math.inf]\n",
    "length_labels = ['S', 'M', 'L', 'XL']\n",
    "\n",
    "# Categorize bridges per length class\n",
    "bridges[\"length_class\"] = pd.cut(bridges[\"length\"], bins=length_bins, include_lowest=False, right=False, labels=length_labels)\n",
    "bridges[[\"length\", \"length_class\"]].head(10)"
   ],
   "metadata": {
    "collapsed": false,
    "pycharm": {
     "name": "#%%\n",
     "is_executing": true
    }
   }
  }
 ],
 "metadata": {
  "kernelspec": {
   "display_name": "Python 3",
   "language": "python",
   "name": "python3"
  },
  "language_info": {
   "codemirror_mode": {
    "name": "ipython",
    "version": 2
   },
   "file_extension": ".py",
   "mimetype": "text/x-python",
   "name": "python",
   "nbconvert_exporter": "python",
   "pygments_lexer": "ipython2",
   "version": "2.7.6"
  }
 },
 "nbformat": 4,
 "nbformat_minor": 0
}