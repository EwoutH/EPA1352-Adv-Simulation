{
 "cells": [
  {
   "cell_type": "markdown",
   "metadata": {
    "pycharm": {
     "name": "#%% md\n"
    }
   },
   "source": [
    "## Bridges EDA"
   ]
  },
  {
   "cell_type": "code",
   "execution_count": 1,
   "metadata": {
    "collapsed": false,
    "jupyter": {
     "outputs_hidden": false
    },
    "pycharm": {
     "name": "#%%\n"
    }
   },
   "outputs": [],
   "source": [
    "import pandas as pd\n",
    "import math"
   ]
  },
  {
   "cell_type": "code",
   "execution_count": 10,
   "metadata": {
    "collapsed": false,
    "jupyter": {
     "outputs_hidden": false
    },
    "pycharm": {
     "name": "#%%\n"
    }
   },
   "outputs": [
    {
     "data": {
      "text/plain": "  road      km              type  LRPName               name  length  \\\n0   N1   1.800       Box Culvert  LRP001a                  .   11.30   \n1   N1   4.925       Box Culvert  LRP004b                  .    6.60   \n2   N1   8.976  PC Girder Bridge  LRP008b  Kanch pur Bridge.  394.23   \n3   N1  10.880       Box Culvert  LRP010b   NOYAPARA CULVERT    6.30   \n4   N1  10.897       Box Culvert  LRP010c     ADUPUR CULVERT    6.30   \n\n  condition  structureNr                                           roadName  \\\n0         A       117861  Dhaka (Jatrabari)-Comilla (Mainamati)-Chittago...   \n1         A       117862  Dhaka (Jatrabari)-Comilla (Mainamati)-Chittago...   \n2         A       119889  Dhaka (Jatrabari)-Comilla (Mainamati)-Chittago...   \n3         A       112531  Dhaka (Jatrabari)-Comilla (Mainamati)-Chittago...   \n4         A       112532  Dhaka (Jatrabari)-Comilla (Mainamati)-Chittago...   \n\n   chainage  width  constructionYear  spans   zone circle     division  \\\n0     1.800   19.5            2005.0    2.0  Dhaka  Dhaka  Narayanganj   \n1     4.925   35.4            2006.0    1.0  Dhaka  Dhaka  Narayanganj   \n2     8.976    NaN               NaN    NaN  Dhaka  Dhaka  Narayanganj   \n3    10.880   12.2            1992.0    2.0  Dhaka  Dhaka  Narayanganj   \n4    10.897   12.2            1984.0    2.0  Dhaka  Dhaka  Narayanganj   \n\n    sub-division        lat        lon EstimatedLoc  \n0  Narayanganj-1  23.698739  90.458861  interpolate  \n1  Narayanganj-1  23.694664  90.487775  interpolate  \n2  Narayanganj-1  23.705060  90.523214  interpolate  \n3      Vitikandi  23.694391  90.537574  interpolate  \n4      Vitikandi  23.694302  90.537707  interpolate  ",
      "text/html": "<div>\n<style scoped>\n    .dataframe tbody tr th:only-of-type {\n        vertical-align: middle;\n    }\n\n    .dataframe tbody tr th {\n        vertical-align: top;\n    }\n\n    .dataframe thead th {\n        text-align: right;\n    }\n</style>\n<table border=\"1\" class=\"dataframe\">\n  <thead>\n    <tr style=\"text-align: right;\">\n      <th></th>\n      <th>road</th>\n      <th>km</th>\n      <th>type</th>\n      <th>LRPName</th>\n      <th>name</th>\n      <th>length</th>\n      <th>condition</th>\n      <th>structureNr</th>\n      <th>roadName</th>\n      <th>chainage</th>\n      <th>width</th>\n      <th>constructionYear</th>\n      <th>spans</th>\n      <th>zone</th>\n      <th>circle</th>\n      <th>division</th>\n      <th>sub-division</th>\n      <th>lat</th>\n      <th>lon</th>\n      <th>EstimatedLoc</th>\n    </tr>\n  </thead>\n  <tbody>\n    <tr>\n      <th>0</th>\n      <td>N1</td>\n      <td>1.800</td>\n      <td>Box Culvert</td>\n      <td>LRP001a</td>\n      <td>.</td>\n      <td>11.30</td>\n      <td>A</td>\n      <td>117861</td>\n      <td>Dhaka (Jatrabari)-Comilla (Mainamati)-Chittago...</td>\n      <td>1.800</td>\n      <td>19.5</td>\n      <td>2005.0</td>\n      <td>2.0</td>\n      <td>Dhaka</td>\n      <td>Dhaka</td>\n      <td>Narayanganj</td>\n      <td>Narayanganj-1</td>\n      <td>23.698739</td>\n      <td>90.458861</td>\n      <td>interpolate</td>\n    </tr>\n    <tr>\n      <th>1</th>\n      <td>N1</td>\n      <td>4.925</td>\n      <td>Box Culvert</td>\n      <td>LRP004b</td>\n      <td>.</td>\n      <td>6.60</td>\n      <td>A</td>\n      <td>117862</td>\n      <td>Dhaka (Jatrabari)-Comilla (Mainamati)-Chittago...</td>\n      <td>4.925</td>\n      <td>35.4</td>\n      <td>2006.0</td>\n      <td>1.0</td>\n      <td>Dhaka</td>\n      <td>Dhaka</td>\n      <td>Narayanganj</td>\n      <td>Narayanganj-1</td>\n      <td>23.694664</td>\n      <td>90.487775</td>\n      <td>interpolate</td>\n    </tr>\n    <tr>\n      <th>2</th>\n      <td>N1</td>\n      <td>8.976</td>\n      <td>PC Girder Bridge</td>\n      <td>LRP008b</td>\n      <td>Kanch pur Bridge.</td>\n      <td>394.23</td>\n      <td>A</td>\n      <td>119889</td>\n      <td>Dhaka (Jatrabari)-Comilla (Mainamati)-Chittago...</td>\n      <td>8.976</td>\n      <td>NaN</td>\n      <td>NaN</td>\n      <td>NaN</td>\n      <td>Dhaka</td>\n      <td>Dhaka</td>\n      <td>Narayanganj</td>\n      <td>Narayanganj-1</td>\n      <td>23.705060</td>\n      <td>90.523214</td>\n      <td>interpolate</td>\n    </tr>\n    <tr>\n      <th>3</th>\n      <td>N1</td>\n      <td>10.880</td>\n      <td>Box Culvert</td>\n      <td>LRP010b</td>\n      <td>NOYAPARA CULVERT</td>\n      <td>6.30</td>\n      <td>A</td>\n      <td>112531</td>\n      <td>Dhaka (Jatrabari)-Comilla (Mainamati)-Chittago...</td>\n      <td>10.880</td>\n      <td>12.2</td>\n      <td>1992.0</td>\n      <td>2.0</td>\n      <td>Dhaka</td>\n      <td>Dhaka</td>\n      <td>Narayanganj</td>\n      <td>Vitikandi</td>\n      <td>23.694391</td>\n      <td>90.537574</td>\n      <td>interpolate</td>\n    </tr>\n    <tr>\n      <th>4</th>\n      <td>N1</td>\n      <td>10.897</td>\n      <td>Box Culvert</td>\n      <td>LRP010c</td>\n      <td>ADUPUR CULVERT</td>\n      <td>6.30</td>\n      <td>A</td>\n      <td>112532</td>\n      <td>Dhaka (Jatrabari)-Comilla (Mainamati)-Chittago...</td>\n      <td>10.897</td>\n      <td>12.2</td>\n      <td>1984.0</td>\n      <td>2.0</td>\n      <td>Dhaka</td>\n      <td>Dhaka</td>\n      <td>Narayanganj</td>\n      <td>Vitikandi</td>\n      <td>23.694302</td>\n      <td>90.537707</td>\n      <td>interpolate</td>\n    </tr>\n  </tbody>\n</table>\n</div>"
     },
     "execution_count": 10,
     "metadata": {},
     "output_type": "execute_result"
    }
   ],
   "source": [
    "# Read the Bridges file\n",
    "bridges = pd.read_excel(\"../data/BMMS_overview.xlsx\")\n",
    "bridges.head()"
   ]
  },
  {
   "cell_type": "code",
   "execution_count": 6,
   "metadata": {
    "collapsed": false,
    "jupyter": {
     "outputs_hidden": false
    },
    "pycharm": {
     "name": "#%%\n"
    }
   },
   "outputs": [
    {
     "data": {
      "text/plain": "            km               type  LRPName                  name  length  \\\n0        1.800        Box Culvert  LRP001a                     .   11.30   \n1        4.925        Box Culvert  LRP004b                     .    6.60   \n2        8.976   PC Girder Bridge  LRP008b     Kanch pur Bridge.  394.23   \n3       10.880        Box Culvert  LRP010b      NOYAPARA CULVERT    6.30   \n4       10.897        Box Culvert  LRP010c        ADUPUR CULVERT    6.30   \n...        ...                ...      ...                   ...     ...   \n19378  426.915  RCC Girder Bridge  LRP423b     Balu Khali Bridge    7.90   \n19379  427.622  RCC Girder Bridge  LRP424a     Wheke Kang Bridge    6.40   \n19380  429.081  RCC Girder Bridge  LRP425c          Tasse Bridge   12.80   \n19381  436.789  RCC Girder Bridge  LRP433b  Naya Bazar(2) Bridge    9.40   \n19382  453.372       Slab Culvert  LRP449f                DONMIA    2.70   \n\n      condition  chainage        lat        lon length_class  \n0             A     1.800  23.698739  90.458861            M  \n1             A     4.925  23.694664  90.487775            S  \n2             A     8.976  23.705060  90.523214           XL  \n3             A    10.880  23.694391  90.537574            S  \n4             A    10.897  23.694302  90.537707            S  \n...         ...       ...        ...        ...          ...  \n19378         D   426.915  21.129768  92.187047            S  \n19379         D   427.622  21.125104  92.191367            S  \n19380         D   429.081  21.114558  92.198021            M  \n19381         D   436.789  21.056294  92.226645            S  \n19382         D   453.372  20.925389  92.264945            S  \n\n[787 rows x 10 columns]",
      "text/html": "<div>\n<style scoped>\n    .dataframe tbody tr th:only-of-type {\n        vertical-align: middle;\n    }\n\n    .dataframe tbody tr th {\n        vertical-align: top;\n    }\n\n    .dataframe thead th {\n        text-align: right;\n    }\n</style>\n<table border=\"1\" class=\"dataframe\">\n  <thead>\n    <tr style=\"text-align: right;\">\n      <th></th>\n      <th>km</th>\n      <th>type</th>\n      <th>LRPName</th>\n      <th>name</th>\n      <th>length</th>\n      <th>condition</th>\n      <th>chainage</th>\n      <th>lat</th>\n      <th>lon</th>\n      <th>length_class</th>\n    </tr>\n  </thead>\n  <tbody>\n    <tr>\n      <th>0</th>\n      <td>1.800</td>\n      <td>Box Culvert</td>\n      <td>LRP001a</td>\n      <td>.</td>\n      <td>11.30</td>\n      <td>A</td>\n      <td>1.800</td>\n      <td>23.698739</td>\n      <td>90.458861</td>\n      <td>M</td>\n    </tr>\n    <tr>\n      <th>1</th>\n      <td>4.925</td>\n      <td>Box Culvert</td>\n      <td>LRP004b</td>\n      <td>.</td>\n      <td>6.60</td>\n      <td>A</td>\n      <td>4.925</td>\n      <td>23.694664</td>\n      <td>90.487775</td>\n      <td>S</td>\n    </tr>\n    <tr>\n      <th>2</th>\n      <td>8.976</td>\n      <td>PC Girder Bridge</td>\n      <td>LRP008b</td>\n      <td>Kanch pur Bridge.</td>\n      <td>394.23</td>\n      <td>A</td>\n      <td>8.976</td>\n      <td>23.705060</td>\n      <td>90.523214</td>\n      <td>XL</td>\n    </tr>\n    <tr>\n      <th>3</th>\n      <td>10.880</td>\n      <td>Box Culvert</td>\n      <td>LRP010b</td>\n      <td>NOYAPARA CULVERT</td>\n      <td>6.30</td>\n      <td>A</td>\n      <td>10.880</td>\n      <td>23.694391</td>\n      <td>90.537574</td>\n      <td>S</td>\n    </tr>\n    <tr>\n      <th>4</th>\n      <td>10.897</td>\n      <td>Box Culvert</td>\n      <td>LRP010c</td>\n      <td>ADUPUR CULVERT</td>\n      <td>6.30</td>\n      <td>A</td>\n      <td>10.897</td>\n      <td>23.694302</td>\n      <td>90.537707</td>\n      <td>S</td>\n    </tr>\n    <tr>\n      <th>...</th>\n      <td>...</td>\n      <td>...</td>\n      <td>...</td>\n      <td>...</td>\n      <td>...</td>\n      <td>...</td>\n      <td>...</td>\n      <td>...</td>\n      <td>...</td>\n      <td>...</td>\n    </tr>\n    <tr>\n      <th>19378</th>\n      <td>426.915</td>\n      <td>RCC Girder Bridge</td>\n      <td>LRP423b</td>\n      <td>Balu Khali Bridge</td>\n      <td>7.90</td>\n      <td>D</td>\n      <td>426.915</td>\n      <td>21.129768</td>\n      <td>92.187047</td>\n      <td>S</td>\n    </tr>\n    <tr>\n      <th>19379</th>\n      <td>427.622</td>\n      <td>RCC Girder Bridge</td>\n      <td>LRP424a</td>\n      <td>Wheke Kang Bridge</td>\n      <td>6.40</td>\n      <td>D</td>\n      <td>427.622</td>\n      <td>21.125104</td>\n      <td>92.191367</td>\n      <td>S</td>\n    </tr>\n    <tr>\n      <th>19380</th>\n      <td>429.081</td>\n      <td>RCC Girder Bridge</td>\n      <td>LRP425c</td>\n      <td>Tasse Bridge</td>\n      <td>12.80</td>\n      <td>D</td>\n      <td>429.081</td>\n      <td>21.114558</td>\n      <td>92.198021</td>\n      <td>M</td>\n    </tr>\n    <tr>\n      <th>19381</th>\n      <td>436.789</td>\n      <td>RCC Girder Bridge</td>\n      <td>LRP433b</td>\n      <td>Naya Bazar(2) Bridge</td>\n      <td>9.40</td>\n      <td>D</td>\n      <td>436.789</td>\n      <td>21.056294</td>\n      <td>92.226645</td>\n      <td>S</td>\n    </tr>\n    <tr>\n      <th>19382</th>\n      <td>453.372</td>\n      <td>Slab Culvert</td>\n      <td>LRP449f</td>\n      <td>DONMIA</td>\n      <td>2.70</td>\n      <td>D</td>\n      <td>453.372</td>\n      <td>20.925389</td>\n      <td>92.264945</td>\n      <td>S</td>\n    </tr>\n  </tbody>\n</table>\n<p>787 rows × 10 columns</p>\n</div>"
     },
     "execution_count": 6,
     "metadata": {},
     "output_type": "execute_result"
    }
   ],
   "source": [
    "# Keep only bridges on the N1 road\n",
    "bridges = bridges.loc[bridges[\"road\"] == \"N1\"]\n",
    "\n",
    "# Define bright length bins and labels\n",
    "length_bins = [0, 10, 50, 200, math.inf]\n",
    "length_labels = ['S', 'M', 'L', 'XL']\n",
    "\n",
    "# Categorize bridges per length class\n",
    "bridges[\"length_class\"] = pd.cut(bridges[\"length\"], bins=length_bins, include_lowest=False, right=False, labels=length_labels)\n",
    "\n",
    "# Keep only useful columns\n",
    "keep_columns = ['km', 'type', 'LRPName', 'name', 'length', 'condition', 'chainage', 'lat', 'lon', 'length_class']\n",
    "bridges_clean = bridges[keep_columns]\n",
    "bridges_clean"
   ]
  },
  {
   "cell_type": "code",
   "execution_count": 7,
   "metadata": {},
   "outputs": [
    {
     "name": "stderr",
     "output_type": "stream",
     "text": [
      "C:\\Users\\cwouw\\AppData\\Local\\Temp\\ipykernel_24808\\1373030577.py:3: UserWarning: This pattern is interpreted as a regular expression, and has match groups. To actually get the groups, use str.extract.\n",
      "  filter = bridges_clean['name'].str.contains(patternDel)\n"
     ]
    },
    {
     "data": {
      "text/plain": "            km               type  LRPName                             name  \\\n0        1.800        Box Culvert  LRP001a                                .   \n1        4.925        Box Culvert  LRP004b                                .   \n12706    8.976   PC Girder Bridge  LRP008b        KANCHPUR PC GIRDER BRIDGE   \n2        8.976   PC Girder Bridge  LRP008b                Kanch pur Bridge.   \n14585   10.543        Box Culvert  LRP010a             KATCHPUR BOX CULVERT   \n...        ...                ...      ...                              ...   \n14739  458.799  RCC Girder Bridge  LRP455a  TEKNAF NAITANG RCC GIDER BRIDGE   \n465    459.681        Box Culvert  LRP456a     BUS STAND TEKNAF BOX CULVERT   \n15733  459.866        Box Culvert  LRP456b     BUS STAND TEKNAF BOX CULVERT   \n15734  460.113  RCC Girder Bridge  LRP456c                    YAKNAT BRIDGE   \n15735  460.113  RCC Girder Bridge  LRP456c                    Yaknat Bridge   \n\n       length condition  chainage        lat        lon length_class   dist  \n0       11.30         A     1.800  23.698739  90.458861            M    NaN  \n1        6.60         A     4.925  23.694664  90.487775            S  3.125  \n12706  397.00         C     8.976  23.705060  90.523214           XL  4.051  \n2      394.23         A     8.976  23.705060  90.523214           XL  0.000  \n14585    8.00         B    10.543  23.696400  90.535099            S  1.567  \n...       ...       ...       ...        ...        ...          ...    ...  \n14739   37.30         B   458.799  20.890158  92.295718            M  0.000  \n465      1.50         A   459.681  20.884567  92.298716            S  0.882  \n15733    1.50         C   459.866  20.883070  92.298163            S  0.185  \n15734   35.90         C   460.113  20.880985  92.297777            M  0.247  \n15735   35.90         C   460.113  20.880985  92.297777            M  0.000  \n\n[750 rows x 11 columns]",
      "text/html": "<div>\n<style scoped>\n    .dataframe tbody tr th:only-of-type {\n        vertical-align: middle;\n    }\n\n    .dataframe tbody tr th {\n        vertical-align: top;\n    }\n\n    .dataframe thead th {\n        text-align: right;\n    }\n</style>\n<table border=\"1\" class=\"dataframe\">\n  <thead>\n    <tr style=\"text-align: right;\">\n      <th></th>\n      <th>km</th>\n      <th>type</th>\n      <th>LRPName</th>\n      <th>name</th>\n      <th>length</th>\n      <th>condition</th>\n      <th>chainage</th>\n      <th>lat</th>\n      <th>lon</th>\n      <th>length_class</th>\n      <th>dist</th>\n    </tr>\n  </thead>\n  <tbody>\n    <tr>\n      <th>0</th>\n      <td>1.800</td>\n      <td>Box Culvert</td>\n      <td>LRP001a</td>\n      <td>.</td>\n      <td>11.30</td>\n      <td>A</td>\n      <td>1.800</td>\n      <td>23.698739</td>\n      <td>90.458861</td>\n      <td>M</td>\n      <td>NaN</td>\n    </tr>\n    <tr>\n      <th>1</th>\n      <td>4.925</td>\n      <td>Box Culvert</td>\n      <td>LRP004b</td>\n      <td>.</td>\n      <td>6.60</td>\n      <td>A</td>\n      <td>4.925</td>\n      <td>23.694664</td>\n      <td>90.487775</td>\n      <td>S</td>\n      <td>3.125</td>\n    </tr>\n    <tr>\n      <th>12706</th>\n      <td>8.976</td>\n      <td>PC Girder Bridge</td>\n      <td>LRP008b</td>\n      <td>KANCHPUR PC GIRDER BRIDGE</td>\n      <td>397.00</td>\n      <td>C</td>\n      <td>8.976</td>\n      <td>23.705060</td>\n      <td>90.523214</td>\n      <td>XL</td>\n      <td>4.051</td>\n    </tr>\n    <tr>\n      <th>2</th>\n      <td>8.976</td>\n      <td>PC Girder Bridge</td>\n      <td>LRP008b</td>\n      <td>Kanch pur Bridge.</td>\n      <td>394.23</td>\n      <td>A</td>\n      <td>8.976</td>\n      <td>23.705060</td>\n      <td>90.523214</td>\n      <td>XL</td>\n      <td>0.000</td>\n    </tr>\n    <tr>\n      <th>14585</th>\n      <td>10.543</td>\n      <td>Box Culvert</td>\n      <td>LRP010a</td>\n      <td>KATCHPUR BOX CULVERT</td>\n      <td>8.00</td>\n      <td>B</td>\n      <td>10.543</td>\n      <td>23.696400</td>\n      <td>90.535099</td>\n      <td>S</td>\n      <td>1.567</td>\n    </tr>\n    <tr>\n      <th>...</th>\n      <td>...</td>\n      <td>...</td>\n      <td>...</td>\n      <td>...</td>\n      <td>...</td>\n      <td>...</td>\n      <td>...</td>\n      <td>...</td>\n      <td>...</td>\n      <td>...</td>\n      <td>...</td>\n    </tr>\n    <tr>\n      <th>14739</th>\n      <td>458.799</td>\n      <td>RCC Girder Bridge</td>\n      <td>LRP455a</td>\n      <td>TEKNAF NAITANG RCC GIDER BRIDGE</td>\n      <td>37.30</td>\n      <td>B</td>\n      <td>458.799</td>\n      <td>20.890158</td>\n      <td>92.295718</td>\n      <td>M</td>\n      <td>0.000</td>\n    </tr>\n    <tr>\n      <th>465</th>\n      <td>459.681</td>\n      <td>Box Culvert</td>\n      <td>LRP456a</td>\n      <td>BUS STAND TEKNAF BOX CULVERT</td>\n      <td>1.50</td>\n      <td>A</td>\n      <td>459.681</td>\n      <td>20.884567</td>\n      <td>92.298716</td>\n      <td>S</td>\n      <td>0.882</td>\n    </tr>\n    <tr>\n      <th>15733</th>\n      <td>459.866</td>\n      <td>Box Culvert</td>\n      <td>LRP456b</td>\n      <td>BUS STAND TEKNAF BOX CULVERT</td>\n      <td>1.50</td>\n      <td>C</td>\n      <td>459.866</td>\n      <td>20.883070</td>\n      <td>92.298163</td>\n      <td>S</td>\n      <td>0.185</td>\n    </tr>\n    <tr>\n      <th>15734</th>\n      <td>460.113</td>\n      <td>RCC Girder Bridge</td>\n      <td>LRP456c</td>\n      <td>YAKNAT BRIDGE</td>\n      <td>35.90</td>\n      <td>C</td>\n      <td>460.113</td>\n      <td>20.880985</td>\n      <td>92.297777</td>\n      <td>M</td>\n      <td>0.247</td>\n    </tr>\n    <tr>\n      <th>15735</th>\n      <td>460.113</td>\n      <td>RCC Girder Bridge</td>\n      <td>LRP456c</td>\n      <td>Yaknat Bridge</td>\n      <td>35.90</td>\n      <td>C</td>\n      <td>460.113</td>\n      <td>20.880985</td>\n      <td>92.297777</td>\n      <td>M</td>\n      <td>0.000</td>\n    </tr>\n  </tbody>\n</table>\n<p>750 rows × 11 columns</p>\n</div>"
     },
     "execution_count": 7,
     "metadata": {},
     "output_type": "execute_result"
    }
   ],
   "source": [
    "# Filters out all variations of (R), (Right), (  R  ), etc.\n",
    "patternDel = \"\\(\\s*[a-zA-Z]*(R|r)[a-zA-Z]*\\s*\\)\"\n",
    "filter = bridges_clean['name'].str.contains(patternDel)\n",
    "bridges_clean2 = bridges_clean[~filter]\n",
    "\n",
    "# Sort on name ascending, then condition descending (taking the worst) and km ascending\n",
    "bridges_clean2 = bridges_clean2.sort_values([\"km\", \"condition\", \"name\"], ascending=[True, False, True])\n",
    "\n",
    "# Calculate distance between bridges\n",
    "bridges_clean2[\"dist\"] = bridges_clean2[\"km\"].diff()\n",
    "bridges_clean2"
   ]
  },
  {
   "cell_type": "code",
   "execution_count": 8,
   "outputs": [
    {
     "data": {
      "text/plain": "            km               type  LRPName                          name  \\\n1        4.925        Box Culvert  LRP004b                             .   \n12706    8.976   PC Girder Bridge  LRP008b     KANCHPUR PC GIRDER BRIDGE   \n14585   10.543        Box Culvert  LRP010a          KATCHPUR BOX CULVERT   \n3       10.880        Box Culvert  LRP010b              NOYAPARA CULVERT   \n4       10.897        Box Culvert  LRP010c                ADUPUR CULVERT   \n...        ...                ...      ...                           ...   \n14738  458.213  RCC Girder Bridge  LRP454b  NAITOM PARA RCC GIDER BRIDGE   \n15732  458.799  RCC Girder Bridge  LRP455a                Eskahal Bridge   \n465    459.681        Box Culvert  LRP456a  BUS STAND TEKNAF BOX CULVERT   \n15733  459.866        Box Culvert  LRP456b  BUS STAND TEKNAF BOX CULVERT   \n15734  460.113  RCC Girder Bridge  LRP456c                 YAKNAT BRIDGE   \n\n       length condition  chainage        lat        lon length_class   dist  \n1         6.6         A     4.925  23.694664  90.487775            S  3.125  \n12706   397.0         C     8.976  23.705060  90.523214           XL  4.051  \n14585     8.0         B    10.543  23.696400  90.535099            S  1.567  \n3         6.3         A    10.880  23.694391  90.537574            S  0.337  \n4         6.3         A    10.897  23.694302  90.537707            S  0.017  \n...       ...       ...       ...        ...        ...          ...    ...  \n14738     9.0         B   458.213  20.892271  92.290984            S  0.462  \n15732    37.3         C   458.799  20.890158  92.295718            M  0.586  \n465       1.5         A   459.681  20.884567  92.298716            S  0.882  \n15733     1.5         C   459.866  20.883070  92.298163            S  0.185  \n15734    35.9         C   460.113  20.880985  92.297777            M  0.247  \n\n[617 rows x 11 columns]",
      "text/html": "<div>\n<style scoped>\n    .dataframe tbody tr th:only-of-type {\n        vertical-align: middle;\n    }\n\n    .dataframe tbody tr th {\n        vertical-align: top;\n    }\n\n    .dataframe thead th {\n        text-align: right;\n    }\n</style>\n<table border=\"1\" class=\"dataframe\">\n  <thead>\n    <tr style=\"text-align: right;\">\n      <th></th>\n      <th>km</th>\n      <th>type</th>\n      <th>LRPName</th>\n      <th>name</th>\n      <th>length</th>\n      <th>condition</th>\n      <th>chainage</th>\n      <th>lat</th>\n      <th>lon</th>\n      <th>length_class</th>\n      <th>dist</th>\n    </tr>\n  </thead>\n  <tbody>\n    <tr>\n      <th>1</th>\n      <td>4.925</td>\n      <td>Box Culvert</td>\n      <td>LRP004b</td>\n      <td>.</td>\n      <td>6.6</td>\n      <td>A</td>\n      <td>4.925</td>\n      <td>23.694664</td>\n      <td>90.487775</td>\n      <td>S</td>\n      <td>3.125</td>\n    </tr>\n    <tr>\n      <th>12706</th>\n      <td>8.976</td>\n      <td>PC Girder Bridge</td>\n      <td>LRP008b</td>\n      <td>KANCHPUR PC GIRDER BRIDGE</td>\n      <td>397.0</td>\n      <td>C</td>\n      <td>8.976</td>\n      <td>23.705060</td>\n      <td>90.523214</td>\n      <td>XL</td>\n      <td>4.051</td>\n    </tr>\n    <tr>\n      <th>14585</th>\n      <td>10.543</td>\n      <td>Box Culvert</td>\n      <td>LRP010a</td>\n      <td>KATCHPUR BOX CULVERT</td>\n      <td>8.0</td>\n      <td>B</td>\n      <td>10.543</td>\n      <td>23.696400</td>\n      <td>90.535099</td>\n      <td>S</td>\n      <td>1.567</td>\n    </tr>\n    <tr>\n      <th>3</th>\n      <td>10.880</td>\n      <td>Box Culvert</td>\n      <td>LRP010b</td>\n      <td>NOYAPARA CULVERT</td>\n      <td>6.3</td>\n      <td>A</td>\n      <td>10.880</td>\n      <td>23.694391</td>\n      <td>90.537574</td>\n      <td>S</td>\n      <td>0.337</td>\n    </tr>\n    <tr>\n      <th>4</th>\n      <td>10.897</td>\n      <td>Box Culvert</td>\n      <td>LRP010c</td>\n      <td>ADUPUR CULVERT</td>\n      <td>6.3</td>\n      <td>A</td>\n      <td>10.897</td>\n      <td>23.694302</td>\n      <td>90.537707</td>\n      <td>S</td>\n      <td>0.017</td>\n    </tr>\n    <tr>\n      <th>...</th>\n      <td>...</td>\n      <td>...</td>\n      <td>...</td>\n      <td>...</td>\n      <td>...</td>\n      <td>...</td>\n      <td>...</td>\n      <td>...</td>\n      <td>...</td>\n      <td>...</td>\n      <td>...</td>\n    </tr>\n    <tr>\n      <th>14738</th>\n      <td>458.213</td>\n      <td>RCC Girder Bridge</td>\n      <td>LRP454b</td>\n      <td>NAITOM PARA RCC GIDER BRIDGE</td>\n      <td>9.0</td>\n      <td>B</td>\n      <td>458.213</td>\n      <td>20.892271</td>\n      <td>92.290984</td>\n      <td>S</td>\n      <td>0.462</td>\n    </tr>\n    <tr>\n      <th>15732</th>\n      <td>458.799</td>\n      <td>RCC Girder Bridge</td>\n      <td>LRP455a</td>\n      <td>Eskahal Bridge</td>\n      <td>37.3</td>\n      <td>C</td>\n      <td>458.799</td>\n      <td>20.890158</td>\n      <td>92.295718</td>\n      <td>M</td>\n      <td>0.586</td>\n    </tr>\n    <tr>\n      <th>465</th>\n      <td>459.681</td>\n      <td>Box Culvert</td>\n      <td>LRP456a</td>\n      <td>BUS STAND TEKNAF BOX CULVERT</td>\n      <td>1.5</td>\n      <td>A</td>\n      <td>459.681</td>\n      <td>20.884567</td>\n      <td>92.298716</td>\n      <td>S</td>\n      <td>0.882</td>\n    </tr>\n    <tr>\n      <th>15733</th>\n      <td>459.866</td>\n      <td>Box Culvert</td>\n      <td>LRP456b</td>\n      <td>BUS STAND TEKNAF BOX CULVERT</td>\n      <td>1.5</td>\n      <td>C</td>\n      <td>459.866</td>\n      <td>20.883070</td>\n      <td>92.298163</td>\n      <td>S</td>\n      <td>0.185</td>\n    </tr>\n    <tr>\n      <th>15734</th>\n      <td>460.113</td>\n      <td>RCC Girder Bridge</td>\n      <td>LRP456c</td>\n      <td>YAKNAT BRIDGE</td>\n      <td>35.9</td>\n      <td>C</td>\n      <td>460.113</td>\n      <td>20.880985</td>\n      <td>92.297777</td>\n      <td>M</td>\n      <td>0.247</td>\n    </tr>\n  </tbody>\n</table>\n<p>617 rows × 11 columns</p>\n</div>"
     },
     "execution_count": 8,
     "metadata": {},
     "output_type": "execute_result"
    }
   ],
   "source": [
    "# TODO: Don't import first bridge!\n",
    "\n",
    "# Drop all bridges that are closer to the previous bridge then their own length\n",
    "bridges_clean3 = bridges_clean2.loc[bridges_clean2[\"dist\"]*1000 >= bridges_clean2[\"length\"]]\n",
    "bridges_clean3"
   ],
   "metadata": {
    "collapsed": false,
    "pycharm": {
     "name": "#%%\n"
    }
   }
  },
  {
   "cell_type": "markdown",
   "source": [
    "## Convert to example data format\n",
    "\n",
    "TODO:\n",
    " - Calculate length between each bridge (without the bridge length itself)\n",
    " - Convert column names to be identical to example data"
   ],
   "metadata": {
    "collapsed": false,
    "pycharm": {
     "name": "#%% md\n"
    }
   }
  },
  {
   "cell_type": "code",
   "execution_count": 9,
   "outputs": [],
   "source": [
    "bridges_clean3.to_csv('bridges.csv')"
   ],
   "metadata": {
    "collapsed": false,
    "pycharm": {
     "name": "#%%\n"
    }
   }
  },
  {
   "cell_type": "code",
   "execution_count": 23,
   "outputs": [
    {
     "name": "stderr",
     "output_type": "stream",
     "text": [
      "C:\\Users\\cwouw\\AppData\\Local\\Temp\\ipykernel_24808\\973546445.py:1: SettingWithCopyWarning: \n",
      "A value is trying to be set on a copy of a slice from a DataFrame.\n",
      "Try using .loc[row_indexer,col_indexer] = value instead\n",
      "\n",
      "See the caveats in the documentation: https://pandas.pydata.org/pandas-docs/stable/user_guide/indexing.html#returning-a-view-versus-a-copy\n",
      "  bridges_clean3[\"model_type\"] = 'bridge'\n"
     ]
    },
    {
     "data": {
      "text/plain": "     level_0  index       km               type  LRPName  \\\n0          0      1    4.925        Box Culvert  LRP004b   \n1          1  12706    8.976   PC Girder Bridge  LRP008b   \n2          2  14585   10.543        Box Culvert  LRP010a   \n3          3      3   10.880        Box Culvert  LRP010b   \n4          4      4   10.897        Box Culvert  LRP010c   \n..       ...    ...      ...                ...      ...   \n612      612  14738  458.213  RCC Girder Bridge  LRP454b   \n613      613  15732  458.799  RCC Girder Bridge  LRP455a   \n614      614    465  459.681        Box Culvert  LRP456a   \n615      615  15733  459.866        Box Culvert  LRP456b   \n616      616  15734  460.113  RCC Girder Bridge  LRP456c   \n\n                             name  length condition  chainage        lat  \\\n0                               .     6.6         A     4.925  23.694664   \n1       KANCHPUR PC GIRDER BRIDGE   397.0         C     8.976  23.705060   \n2            KATCHPUR BOX CULVERT     8.0         B    10.543  23.696400   \n3                NOYAPARA CULVERT     6.3         A    10.880  23.694391   \n4                  ADUPUR CULVERT     6.3         A    10.897  23.694302   \n..                            ...     ...       ...       ...        ...   \n612  NAITOM PARA RCC GIDER BRIDGE     9.0         B   458.213  20.892271   \n613                Eskahal Bridge    37.3         C   458.799  20.890158   \n614  BUS STAND TEKNAF BOX CULVERT     1.5         A   459.681  20.884567   \n615  BUS STAND TEKNAF BOX CULVERT     1.5         C   459.866  20.883070   \n616                 YAKNAT BRIDGE    35.9         C   460.113  20.880985   \n\n           lon length_class   dist model_type  \n0    90.487775            S  3.125     bridge  \n1    90.523214           XL  4.051     bridge  \n2    90.535099            S  1.567     bridge  \n3    90.537574            S  0.337     bridge  \n4    90.537707            S  0.017     bridge  \n..         ...          ...    ...        ...  \n612  92.290984            S  0.462     bridge  \n613  92.295718            M  0.586     bridge  \n614  92.298716            S  0.882     bridge  \n615  92.298163            S  0.185     bridge  \n616  92.297777            M  0.247     bridge  \n\n[617 rows x 14 columns]",
      "text/html": "<div>\n<style scoped>\n    .dataframe tbody tr th:only-of-type {\n        vertical-align: middle;\n    }\n\n    .dataframe tbody tr th {\n        vertical-align: top;\n    }\n\n    .dataframe thead th {\n        text-align: right;\n    }\n</style>\n<table border=\"1\" class=\"dataframe\">\n  <thead>\n    <tr style=\"text-align: right;\">\n      <th></th>\n      <th>level_0</th>\n      <th>index</th>\n      <th>km</th>\n      <th>type</th>\n      <th>LRPName</th>\n      <th>name</th>\n      <th>length</th>\n      <th>condition</th>\n      <th>chainage</th>\n      <th>lat</th>\n      <th>lon</th>\n      <th>length_class</th>\n      <th>dist</th>\n      <th>model_type</th>\n    </tr>\n  </thead>\n  <tbody>\n    <tr>\n      <th>0</th>\n      <td>0</td>\n      <td>1</td>\n      <td>4.925</td>\n      <td>Box Culvert</td>\n      <td>LRP004b</td>\n      <td>.</td>\n      <td>6.6</td>\n      <td>A</td>\n      <td>4.925</td>\n      <td>23.694664</td>\n      <td>90.487775</td>\n      <td>S</td>\n      <td>3.125</td>\n      <td>bridge</td>\n    </tr>\n    <tr>\n      <th>1</th>\n      <td>1</td>\n      <td>12706</td>\n      <td>8.976</td>\n      <td>PC Girder Bridge</td>\n      <td>LRP008b</td>\n      <td>KANCHPUR PC GIRDER BRIDGE</td>\n      <td>397.0</td>\n      <td>C</td>\n      <td>8.976</td>\n      <td>23.705060</td>\n      <td>90.523214</td>\n      <td>XL</td>\n      <td>4.051</td>\n      <td>bridge</td>\n    </tr>\n    <tr>\n      <th>2</th>\n      <td>2</td>\n      <td>14585</td>\n      <td>10.543</td>\n      <td>Box Culvert</td>\n      <td>LRP010a</td>\n      <td>KATCHPUR BOX CULVERT</td>\n      <td>8.0</td>\n      <td>B</td>\n      <td>10.543</td>\n      <td>23.696400</td>\n      <td>90.535099</td>\n      <td>S</td>\n      <td>1.567</td>\n      <td>bridge</td>\n    </tr>\n    <tr>\n      <th>3</th>\n      <td>3</td>\n      <td>3</td>\n      <td>10.880</td>\n      <td>Box Culvert</td>\n      <td>LRP010b</td>\n      <td>NOYAPARA CULVERT</td>\n      <td>6.3</td>\n      <td>A</td>\n      <td>10.880</td>\n      <td>23.694391</td>\n      <td>90.537574</td>\n      <td>S</td>\n      <td>0.337</td>\n      <td>bridge</td>\n    </tr>\n    <tr>\n      <th>4</th>\n      <td>4</td>\n      <td>4</td>\n      <td>10.897</td>\n      <td>Box Culvert</td>\n      <td>LRP010c</td>\n      <td>ADUPUR CULVERT</td>\n      <td>6.3</td>\n      <td>A</td>\n      <td>10.897</td>\n      <td>23.694302</td>\n      <td>90.537707</td>\n      <td>S</td>\n      <td>0.017</td>\n      <td>bridge</td>\n    </tr>\n    <tr>\n      <th>...</th>\n      <td>...</td>\n      <td>...</td>\n      <td>...</td>\n      <td>...</td>\n      <td>...</td>\n      <td>...</td>\n      <td>...</td>\n      <td>...</td>\n      <td>...</td>\n      <td>...</td>\n      <td>...</td>\n      <td>...</td>\n      <td>...</td>\n      <td>...</td>\n    </tr>\n    <tr>\n      <th>612</th>\n      <td>612</td>\n      <td>14738</td>\n      <td>458.213</td>\n      <td>RCC Girder Bridge</td>\n      <td>LRP454b</td>\n      <td>NAITOM PARA RCC GIDER BRIDGE</td>\n      <td>9.0</td>\n      <td>B</td>\n      <td>458.213</td>\n      <td>20.892271</td>\n      <td>92.290984</td>\n      <td>S</td>\n      <td>0.462</td>\n      <td>bridge</td>\n    </tr>\n    <tr>\n      <th>613</th>\n      <td>613</td>\n      <td>15732</td>\n      <td>458.799</td>\n      <td>RCC Girder Bridge</td>\n      <td>LRP455a</td>\n      <td>Eskahal Bridge</td>\n      <td>37.3</td>\n      <td>C</td>\n      <td>458.799</td>\n      <td>20.890158</td>\n      <td>92.295718</td>\n      <td>M</td>\n      <td>0.586</td>\n      <td>bridge</td>\n    </tr>\n    <tr>\n      <th>614</th>\n      <td>614</td>\n      <td>465</td>\n      <td>459.681</td>\n      <td>Box Culvert</td>\n      <td>LRP456a</td>\n      <td>BUS STAND TEKNAF BOX CULVERT</td>\n      <td>1.5</td>\n      <td>A</td>\n      <td>459.681</td>\n      <td>20.884567</td>\n      <td>92.298716</td>\n      <td>S</td>\n      <td>0.882</td>\n      <td>bridge</td>\n    </tr>\n    <tr>\n      <th>615</th>\n      <td>615</td>\n      <td>15733</td>\n      <td>459.866</td>\n      <td>Box Culvert</td>\n      <td>LRP456b</td>\n      <td>BUS STAND TEKNAF BOX CULVERT</td>\n      <td>1.5</td>\n      <td>C</td>\n      <td>459.866</td>\n      <td>20.883070</td>\n      <td>92.298163</td>\n      <td>S</td>\n      <td>0.185</td>\n      <td>bridge</td>\n    </tr>\n    <tr>\n      <th>616</th>\n      <td>616</td>\n      <td>15734</td>\n      <td>460.113</td>\n      <td>RCC Girder Bridge</td>\n      <td>LRP456c</td>\n      <td>YAKNAT BRIDGE</td>\n      <td>35.9</td>\n      <td>C</td>\n      <td>460.113</td>\n      <td>20.880985</td>\n      <td>92.297777</td>\n      <td>M</td>\n      <td>0.247</td>\n      <td>bridge</td>\n    </tr>\n  </tbody>\n</table>\n<p>617 rows × 14 columns</p>\n</div>"
     },
     "execution_count": 23,
     "metadata": {},
     "output_type": "execute_result"
    }
   ],
   "source": [
    "bridges_clean3[\"model_type\"] = 'bridge'\n",
    "bridges_clean3"
   ],
   "metadata": {
    "collapsed": false,
    "pycharm": {
     "name": "#%%\n"
    }
   }
  },
  {
   "cell_type": "markdown",
   "source": [
    "Todo:\n",
    "\n",
    "** Add the starting and ending point of the N1\n",
    "- Coordinates\n",
    "- Give them  model_type sourcesink\n",
    "-\n",
    "** Add new rows after all bridges\n",
    "- give them model_type link\n",
    "- dist = dist - length / 1000\n",
    "- give them coordinates of the end point\n",
    "\n",
    "It can also be an idea to look for the road information in _roads3.csv"
   ],
   "metadata": {
    "collapsed": false,
    "pycharm": {
     "name": "#%% md\n"
    }
   }
  },
  {
   "cell_type": "code",
   "execution_count": 39,
   "outputs": [
    {
     "ename": "TypeError",
     "evalue": "Index(...) must be called with a collection of some kind, 'model_type' was passed",
     "output_type": "error",
     "traceback": [
      "\u001B[1;31m---------------------------------------------------------------------------\u001B[0m",
      "\u001B[1;31mTypeError\u001B[0m                                 Traceback (most recent call last)",
      "Input \u001B[1;32mIn [39]\u001B[0m, in \u001B[0;36m<module>\u001B[1;34m\u001B[0m\n\u001B[0;32m      1\u001B[0m \u001B[38;5;28;01mfor\u001B[39;00m i \u001B[38;5;129;01min\u001B[39;00m bridges_clean3[\u001B[38;5;124m'\u001B[39m\u001B[38;5;124mmodel_type\u001B[39m\u001B[38;5;124m'\u001B[39m]:\n\u001B[0;32m      2\u001B[0m     \u001B[38;5;28;01mif\u001B[39;00m i \u001B[38;5;241m==\u001B[39m \u001B[38;5;124m'\u001B[39m\u001B[38;5;124mbridge\u001B[39m\u001B[38;5;124m'\u001B[39m:\n\u001B[1;32m----> 3\u001B[0m         link \u001B[38;5;241m=\u001B[39m \u001B[43mpd\u001B[49m\u001B[38;5;241;43m.\u001B[39;49m\u001B[43mDataFrame\u001B[49m\u001B[43m(\u001B[49m\u001B[43m[\u001B[49m\u001B[38;5;124;43m'\u001B[39;49m\u001B[38;5;124;43mlink\u001B[39;49m\u001B[38;5;124;43m'\u001B[39;49m\u001B[43m]\u001B[49m\u001B[43m,\u001B[49m\u001B[43m \u001B[49m\u001B[43mcolumns\u001B[49m\u001B[38;5;241;43m=\u001B[39;49m\u001B[38;5;124;43m'\u001B[39;49m\u001B[38;5;124;43mmodel_type\u001B[39;49m\u001B[38;5;124;43m'\u001B[39;49m\u001B[43m)\u001B[49m\n\u001B[0;32m      4\u001B[0m         bridges_clean3\u001B[38;5;241m.\u001B[39mappend(link)\n\u001B[0;32m      5\u001B[0m bridges_clean3\n",
      "File \u001B[1;32mc:\\users\\cwouw\\pycharmprojects\\pythonproject\\venv\\lib\\site-packages\\pandas\\core\\frame.py:737\u001B[0m, in \u001B[0;36mDataFrame.__init__\u001B[1;34m(self, data, index, columns, dtype, copy)\u001B[0m\n\u001B[0;32m    729\u001B[0m         mgr \u001B[38;5;241m=\u001B[39m arrays_to_mgr(\n\u001B[0;32m    730\u001B[0m             arrays,\n\u001B[0;32m    731\u001B[0m             columns,\n\u001B[1;32m   (...)\u001B[0m\n\u001B[0;32m    734\u001B[0m             typ\u001B[38;5;241m=\u001B[39mmanager,\n\u001B[0;32m    735\u001B[0m         )\n\u001B[0;32m    736\u001B[0m     \u001B[38;5;28;01melse\u001B[39;00m:\n\u001B[1;32m--> 737\u001B[0m         mgr \u001B[38;5;241m=\u001B[39m \u001B[43mndarray_to_mgr\u001B[49m\u001B[43m(\u001B[49m\n\u001B[0;32m    738\u001B[0m \u001B[43m            \u001B[49m\u001B[43mdata\u001B[49m\u001B[43m,\u001B[49m\n\u001B[0;32m    739\u001B[0m \u001B[43m            \u001B[49m\u001B[43mindex\u001B[49m\u001B[43m,\u001B[49m\n\u001B[0;32m    740\u001B[0m \u001B[43m            \u001B[49m\u001B[43mcolumns\u001B[49m\u001B[43m,\u001B[49m\n\u001B[0;32m    741\u001B[0m \u001B[43m            \u001B[49m\u001B[43mdtype\u001B[49m\u001B[38;5;241;43m=\u001B[39;49m\u001B[43mdtype\u001B[49m\u001B[43m,\u001B[49m\n\u001B[0;32m    742\u001B[0m \u001B[43m            \u001B[49m\u001B[43mcopy\u001B[49m\u001B[38;5;241;43m=\u001B[39;49m\u001B[43mcopy\u001B[49m\u001B[43m,\u001B[49m\n\u001B[0;32m    743\u001B[0m \u001B[43m            \u001B[49m\u001B[43mtyp\u001B[49m\u001B[38;5;241;43m=\u001B[39;49m\u001B[43mmanager\u001B[49m\u001B[43m,\u001B[49m\n\u001B[0;32m    744\u001B[0m \u001B[43m        \u001B[49m\u001B[43m)\u001B[49m\n\u001B[0;32m    745\u001B[0m \u001B[38;5;28;01melse\u001B[39;00m:\n\u001B[0;32m    746\u001B[0m     mgr \u001B[38;5;241m=\u001B[39m dict_to_mgr(\n\u001B[0;32m    747\u001B[0m         {},\n\u001B[0;32m    748\u001B[0m         index,\n\u001B[1;32m   (...)\u001B[0m\n\u001B[0;32m    751\u001B[0m         typ\u001B[38;5;241m=\u001B[39mmanager,\n\u001B[0;32m    752\u001B[0m     )\n",
      "File \u001B[1;32mc:\\users\\cwouw\\pycharmprojects\\pythonproject\\venv\\lib\\site-packages\\pandas\\core\\internals\\construction.py:347\u001B[0m, in \u001B[0;36mndarray_to_mgr\u001B[1;34m(values, index, columns, dtype, copy, typ)\u001B[0m\n\u001B[0;32m    344\u001B[0m     values \u001B[38;5;241m=\u001B[39m values\u001B[38;5;241m.\u001B[39mreshape(shape)\n\u001B[0;32m    346\u001B[0m \u001B[38;5;66;03m# _prep_ndarray ensures that values.ndim == 2 at this point\u001B[39;00m\n\u001B[1;32m--> 347\u001B[0m index, columns \u001B[38;5;241m=\u001B[39m \u001B[43m_get_axes\u001B[49m\u001B[43m(\u001B[49m\n\u001B[0;32m    348\u001B[0m \u001B[43m    \u001B[49m\u001B[43mvalues\u001B[49m\u001B[38;5;241;43m.\u001B[39;49m\u001B[43mshape\u001B[49m\u001B[43m[\u001B[49m\u001B[38;5;241;43m0\u001B[39;49m\u001B[43m]\u001B[49m\u001B[43m,\u001B[49m\u001B[43m \u001B[49m\u001B[43mvalues\u001B[49m\u001B[38;5;241;43m.\u001B[39;49m\u001B[43mshape\u001B[49m\u001B[43m[\u001B[49m\u001B[38;5;241;43m1\u001B[39;49m\u001B[43m]\u001B[49m\u001B[43m,\u001B[49m\u001B[43m \u001B[49m\u001B[43mindex\u001B[49m\u001B[38;5;241;43m=\u001B[39;49m\u001B[43mindex\u001B[49m\u001B[43m,\u001B[49m\u001B[43m \u001B[49m\u001B[43mcolumns\u001B[49m\u001B[38;5;241;43m=\u001B[39;49m\u001B[43mcolumns\u001B[49m\n\u001B[0;32m    349\u001B[0m \u001B[43m\u001B[49m\u001B[43m)\u001B[49m\n\u001B[0;32m    351\u001B[0m _check_values_indices_shape_match(values, index, columns)\n\u001B[0;32m    353\u001B[0m \u001B[38;5;28;01mif\u001B[39;00m typ \u001B[38;5;241m==\u001B[39m \u001B[38;5;124m\"\u001B[39m\u001B[38;5;124marray\u001B[39m\u001B[38;5;124m\"\u001B[39m:\n",
      "File \u001B[1;32mc:\\users\\cwouw\\pycharmprojects\\pythonproject\\venv\\lib\\site-packages\\pandas\\core\\internals\\construction.py:761\u001B[0m, in \u001B[0;36m_get_axes\u001B[1;34m(N, K, index, columns)\u001B[0m\n\u001B[0;32m    759\u001B[0m     columns \u001B[38;5;241m=\u001B[39m default_index(K)\n\u001B[0;32m    760\u001B[0m \u001B[38;5;28;01melse\u001B[39;00m:\n\u001B[1;32m--> 761\u001B[0m     columns \u001B[38;5;241m=\u001B[39m \u001B[43mensure_index\u001B[49m\u001B[43m(\u001B[49m\u001B[43mcolumns\u001B[49m\u001B[43m)\u001B[49m\n\u001B[0;32m    762\u001B[0m \u001B[38;5;28;01mreturn\u001B[39;00m index, columns\n",
      "File \u001B[1;32mc:\\users\\cwouw\\pycharmprojects\\pythonproject\\venv\\lib\\site-packages\\pandas\\core\\indexes\\base.py:7043\u001B[0m, in \u001B[0;36mensure_index\u001B[1;34m(index_like, copy)\u001B[0m\n\u001B[0;32m   7041\u001B[0m         \u001B[38;5;28;01mreturn\u001B[39;00m Index\u001B[38;5;241m.\u001B[39m_with_infer(index_like, copy\u001B[38;5;241m=\u001B[39mcopy, tupleize_cols\u001B[38;5;241m=\u001B[39m\u001B[38;5;28;01mFalse\u001B[39;00m)\n\u001B[0;32m   7042\u001B[0m \u001B[38;5;28;01melse\u001B[39;00m:\n\u001B[1;32m-> 7043\u001B[0m     \u001B[38;5;28;01mreturn\u001B[39;00m \u001B[43mIndex\u001B[49m\u001B[38;5;241;43m.\u001B[39;49m\u001B[43m_with_infer\u001B[49m\u001B[43m(\u001B[49m\u001B[43mindex_like\u001B[49m\u001B[43m,\u001B[49m\u001B[43m \u001B[49m\u001B[43mcopy\u001B[49m\u001B[38;5;241;43m=\u001B[39;49m\u001B[43mcopy\u001B[49m\u001B[43m)\u001B[49m\n",
      "File \u001B[1;32mc:\\users\\cwouw\\pycharmprojects\\pythonproject\\venv\\lib\\site-packages\\pandas\\core\\indexes\\base.py:680\u001B[0m, in \u001B[0;36mIndex._with_infer\u001B[1;34m(cls, *args, **kwargs)\u001B[0m\n\u001B[0;32m    678\u001B[0m \u001B[38;5;28;01mwith\u001B[39;00m warnings\u001B[38;5;241m.\u001B[39mcatch_warnings():\n\u001B[0;32m    679\u001B[0m     warnings\u001B[38;5;241m.\u001B[39mfilterwarnings(\u001B[38;5;124m\"\u001B[39m\u001B[38;5;124mignore\u001B[39m\u001B[38;5;124m\"\u001B[39m, \u001B[38;5;124m\"\u001B[39m\u001B[38;5;124m.*the Index constructor\u001B[39m\u001B[38;5;124m\"\u001B[39m, \u001B[38;5;167;01mFutureWarning\u001B[39;00m)\n\u001B[1;32m--> 680\u001B[0m     result \u001B[38;5;241m=\u001B[39m \u001B[38;5;28mcls\u001B[39m(\u001B[38;5;241m*\u001B[39margs, \u001B[38;5;241m*\u001B[39m\u001B[38;5;241m*\u001B[39mkwargs)\n\u001B[0;32m    682\u001B[0m \u001B[38;5;28;01mif\u001B[39;00m result\u001B[38;5;241m.\u001B[39mdtype \u001B[38;5;241m==\u001B[39m _dtype_obj \u001B[38;5;129;01mand\u001B[39;00m \u001B[38;5;129;01mnot\u001B[39;00m result\u001B[38;5;241m.\u001B[39m_is_multi:\n\u001B[0;32m    683\u001B[0m     \u001B[38;5;66;03m# error: Argument 1 to \"maybe_convert_objects\" has incompatible type\u001B[39;00m\n\u001B[0;32m    684\u001B[0m     \u001B[38;5;66;03m# \"Union[ExtensionArray, ndarray[Any, Any]]\"; expected\u001B[39;00m\n\u001B[0;32m    685\u001B[0m     \u001B[38;5;66;03m# \"ndarray[Any, Any]\"\u001B[39;00m\n\u001B[0;32m    686\u001B[0m     values \u001B[38;5;241m=\u001B[39m lib\u001B[38;5;241m.\u001B[39mmaybe_convert_objects(result\u001B[38;5;241m.\u001B[39m_values)  \u001B[38;5;66;03m# type: ignore[arg-type]\u001B[39;00m\n",
      "File \u001B[1;32mc:\\users\\cwouw\\pycharmprojects\\pythonproject\\venv\\lib\\site-packages\\pandas\\core\\indexes\\base.py:508\u001B[0m, in \u001B[0;36mIndex.__new__\u001B[1;34m(cls, data, dtype, copy, name, tupleize_cols, **kwargs)\u001B[0m\n\u001B[0;32m    505\u001B[0m     \u001B[38;5;28;01mreturn\u001B[39;00m klass\u001B[38;5;241m.\u001B[39m_simple_new(arr, name)\n\u001B[0;32m    507\u001B[0m \u001B[38;5;28;01melif\u001B[39;00m is_scalar(data):\n\u001B[1;32m--> 508\u001B[0m     \u001B[38;5;28;01mraise\u001B[39;00m \u001B[38;5;28mcls\u001B[39m\u001B[38;5;241m.\u001B[39m_scalar_data_error(data)\n\u001B[0;32m    509\u001B[0m \u001B[38;5;28;01melif\u001B[39;00m \u001B[38;5;28mhasattr\u001B[39m(data, \u001B[38;5;124m\"\u001B[39m\u001B[38;5;124m__array__\u001B[39m\u001B[38;5;124m\"\u001B[39m):\n\u001B[0;32m    510\u001B[0m     \u001B[38;5;28;01mreturn\u001B[39;00m Index(np\u001B[38;5;241m.\u001B[39masarray(data), dtype\u001B[38;5;241m=\u001B[39mdtype, copy\u001B[38;5;241m=\u001B[39mcopy, name\u001B[38;5;241m=\u001B[39mname, \u001B[38;5;241m*\u001B[39m\u001B[38;5;241m*\u001B[39mkwargs)\n",
      "\u001B[1;31mTypeError\u001B[0m: Index(...) must be called with a collection of some kind, 'model_type' was passed"
     ]
    }
   ],
   "source": [
    "for i in bridges_clean3['model_type']:\n",
    "    if i == 'bridge':\n",
    "# create a new row with model_type = link ; dist = dist - lenght/ 1000\n",
    "bridges_clean3"
   ],
   "metadata": {
    "collapsed": false,
    "pycharm": {
     "name": "#%%\n"
    }
   }
  },
  {
   "cell_type": "code",
   "execution_count": null,
   "outputs": [],
   "source": [],
   "metadata": {
    "collapsed": false,
    "pycharm": {
     "name": "#%%\n"
    }
   }
  }
 ],
 "metadata": {
  "kernelspec": {
   "display_name": "Python 3",
   "language": "python",
   "name": "python3"
  },
  "language_info": {
   "codemirror_mode": {
    "name": "ipython",
    "version": 3
   },
   "file_extension": ".py",
   "mimetype": "text/x-python",
   "name": "python",
   "nbconvert_exporter": "python",
   "pygments_lexer": "ipython3",
   "version": "3.8.8"
  }
 },
 "nbformat": 4,
 "nbformat_minor": 4
}