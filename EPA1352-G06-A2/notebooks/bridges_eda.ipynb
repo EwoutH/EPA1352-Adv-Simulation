{
 "cells": [
  {
   "cell_type": "markdown",
   "metadata": {
    "pycharm": {
     "name": "#%% md\n"
    }
   },
   "source": [
    "## Bridges EDA"
   ]
  },
  {
   "cell_type": "code",
   "execution_count": 5,
   "metadata": {
    "collapsed": false,
    "jupyter": {
     "outputs_hidden": false
    },
    "pycharm": {
     "name": "#%%\n"
    }
   },
   "outputs": [],
   "source": [
    "import pandas as pd\n",
    "import math"
   ]
  },
  {
   "cell_type": "code",
   "execution_count": 18,
   "metadata": {
    "collapsed": false,
    "jupyter": {
     "outputs_hidden": false
    },
    "pycharm": {
     "name": "#%%\n"
    }
   },
   "outputs": [],
   "source": [
    "# Read the Bridges file\n",
    "bridges = pd.read_excel(\"../data/BMMS_overview.xlsx\")"
   ]
  },
  {
   "cell_type": "code",
   "execution_count": 22,
   "metadata": {
    "collapsed": false,
    "jupyter": {
     "outputs_hidden": false
    },
    "pycharm": {
     "name": "#%%\n"
    }
   },
   "outputs": [
    {
     "data": {
      "text/plain": "            km               type  LRPName                  name  length  \\\n0        1.800        Box Culvert  LRP001a                     .   11.30   \n1        4.925        Box Culvert  LRP004b                     .    6.60   \n2        8.976   PC Girder Bridge  LRP008b     Kanch pur Bridge.  394.23   \n3       10.880        Box Culvert  LRP010b      NOYAPARA CULVERT    6.30   \n4       10.897        Box Culvert  LRP010c        ADUPUR CULVERT    6.30   \n...        ...                ...      ...                   ...     ...   \n19378  426.915  RCC Girder Bridge  LRP423b     Balu Khali Bridge    7.90   \n19379  427.622  RCC Girder Bridge  LRP424a     Wheke Kang Bridge    6.40   \n19380  429.081  RCC Girder Bridge  LRP425c          Tasse Bridge   12.80   \n19381  436.789  RCC Girder Bridge  LRP433b  Naya Bazar(2) Bridge    9.40   \n19382  453.372       Slab Culvert  LRP449f                DONMIA    2.70   \n\n      condition  chainage        lat        lon length_class  \n0             A     1.800  23.698739  90.458861            M  \n1             A     4.925  23.694664  90.487775            S  \n2             A     8.976  23.705060  90.523214           XL  \n3             A    10.880  23.694391  90.537574            S  \n4             A    10.897  23.694302  90.537707            S  \n...         ...       ...        ...        ...          ...  \n19378         D   426.915  21.129768  92.187047            S  \n19379         D   427.622  21.125104  92.191367            S  \n19380         D   429.081  21.114558  92.198021            M  \n19381         D   436.789  21.056294  92.226645            S  \n19382         D   453.372  20.925389  92.264945            S  \n\n[787 rows x 10 columns]",
      "text/html": "<div>\n<style scoped>\n    .dataframe tbody tr th:only-of-type {\n        vertical-align: middle;\n    }\n\n    .dataframe tbody tr th {\n        vertical-align: top;\n    }\n\n    .dataframe thead th {\n        text-align: right;\n    }\n</style>\n<table border=\"1\" class=\"dataframe\">\n  <thead>\n    <tr style=\"text-align: right;\">\n      <th></th>\n      <th>km</th>\n      <th>type</th>\n      <th>LRPName</th>\n      <th>name</th>\n      <th>length</th>\n      <th>condition</th>\n      <th>chainage</th>\n      <th>lat</th>\n      <th>lon</th>\n      <th>length_class</th>\n    </tr>\n  </thead>\n  <tbody>\n    <tr>\n      <th>0</th>\n      <td>1.800</td>\n      <td>Box Culvert</td>\n      <td>LRP001a</td>\n      <td>.</td>\n      <td>11.30</td>\n      <td>A</td>\n      <td>1.800</td>\n      <td>23.698739</td>\n      <td>90.458861</td>\n      <td>M</td>\n    </tr>\n    <tr>\n      <th>1</th>\n      <td>4.925</td>\n      <td>Box Culvert</td>\n      <td>LRP004b</td>\n      <td>.</td>\n      <td>6.60</td>\n      <td>A</td>\n      <td>4.925</td>\n      <td>23.694664</td>\n      <td>90.487775</td>\n      <td>S</td>\n    </tr>\n    <tr>\n      <th>2</th>\n      <td>8.976</td>\n      <td>PC Girder Bridge</td>\n      <td>LRP008b</td>\n      <td>Kanch pur Bridge.</td>\n      <td>394.23</td>\n      <td>A</td>\n      <td>8.976</td>\n      <td>23.705060</td>\n      <td>90.523214</td>\n      <td>XL</td>\n    </tr>\n    <tr>\n      <th>3</th>\n      <td>10.880</td>\n      <td>Box Culvert</td>\n      <td>LRP010b</td>\n      <td>NOYAPARA CULVERT</td>\n      <td>6.30</td>\n      <td>A</td>\n      <td>10.880</td>\n      <td>23.694391</td>\n      <td>90.537574</td>\n      <td>S</td>\n    </tr>\n    <tr>\n      <th>4</th>\n      <td>10.897</td>\n      <td>Box Culvert</td>\n      <td>LRP010c</td>\n      <td>ADUPUR CULVERT</td>\n      <td>6.30</td>\n      <td>A</td>\n      <td>10.897</td>\n      <td>23.694302</td>\n      <td>90.537707</td>\n      <td>S</td>\n    </tr>\n    <tr>\n      <th>...</th>\n      <td>...</td>\n      <td>...</td>\n      <td>...</td>\n      <td>...</td>\n      <td>...</td>\n      <td>...</td>\n      <td>...</td>\n      <td>...</td>\n      <td>...</td>\n      <td>...</td>\n    </tr>\n    <tr>\n      <th>19378</th>\n      <td>426.915</td>\n      <td>RCC Girder Bridge</td>\n      <td>LRP423b</td>\n      <td>Balu Khali Bridge</td>\n      <td>7.90</td>\n      <td>D</td>\n      <td>426.915</td>\n      <td>21.129768</td>\n      <td>92.187047</td>\n      <td>S</td>\n    </tr>\n    <tr>\n      <th>19379</th>\n      <td>427.622</td>\n      <td>RCC Girder Bridge</td>\n      <td>LRP424a</td>\n      <td>Wheke Kang Bridge</td>\n      <td>6.40</td>\n      <td>D</td>\n      <td>427.622</td>\n      <td>21.125104</td>\n      <td>92.191367</td>\n      <td>S</td>\n    </tr>\n    <tr>\n      <th>19380</th>\n      <td>429.081</td>\n      <td>RCC Girder Bridge</td>\n      <td>LRP425c</td>\n      <td>Tasse Bridge</td>\n      <td>12.80</td>\n      <td>D</td>\n      <td>429.081</td>\n      <td>21.114558</td>\n      <td>92.198021</td>\n      <td>M</td>\n    </tr>\n    <tr>\n      <th>19381</th>\n      <td>436.789</td>\n      <td>RCC Girder Bridge</td>\n      <td>LRP433b</td>\n      <td>Naya Bazar(2) Bridge</td>\n      <td>9.40</td>\n      <td>D</td>\n      <td>436.789</td>\n      <td>21.056294</td>\n      <td>92.226645</td>\n      <td>S</td>\n    </tr>\n    <tr>\n      <th>19382</th>\n      <td>453.372</td>\n      <td>Slab Culvert</td>\n      <td>LRP449f</td>\n      <td>DONMIA</td>\n      <td>2.70</td>\n      <td>D</td>\n      <td>453.372</td>\n      <td>20.925389</td>\n      <td>92.264945</td>\n      <td>S</td>\n    </tr>\n  </tbody>\n</table>\n<p>787 rows × 10 columns</p>\n</div>"
     },
     "execution_count": 22,
     "metadata": {},
     "output_type": "execute_result"
    }
   ],
   "source": [
    "# Keep only bridges on the N1 road\n",
    "bridges = bridges.loc[bridges[\"road\"] == \"N1\"]\n",
    "\n",
    "# Define bright length bins and labels\n",
    "length_bins = [0, 10, 50, 200, math.inf]\n",
    "length_labels = ['S', 'M', 'L', 'XL']\n",
    "\n",
    "# Categorize bridges per length class\n",
    "bridges[\"length_class\"] = pd.cut(bridges[\"length\"], bins=length_bins, include_lowest=False, right=False, labels=length_labels)\n",
    "\n",
    "# Keep only useful columns\n",
    "keep_columns = ['km', 'type', 'LRPName', 'name', 'length', 'condition', 'chainage', 'lat', 'lon', 'length_class']\n",
    "bridges_clean = bridges[keep_columns]\n",
    "bridges_clean"
   ]
  },
  {
   "cell_type": "code",
   "execution_count": 27,
   "metadata": {},
   "outputs": [
    {
     "name": "stderr",
     "output_type": "stream",
     "text": [
      "C:\\Users\\Ewout\\AppData\\Local\\Temp\\ipykernel_26336\\4079444570.py:2: UserWarning: This pattern is interpreted as a regular expression, and has match groups. To actually get the groups, use str.extract.\n",
      "  filter = bridges_clean['name'].str.contains(patternDel)\n"
     ]
    },
    {
     "data": {
      "text/plain": "            km               type  LRPName                             name  \\\n0        1.800        Box Culvert  LRP001a                                .   \n1        4.925        Box Culvert  LRP004b                                .   \n12706    8.976   PC Girder Bridge  LRP008b        KANCHPUR PC GIRDER BRIDGE   \n2        8.976   PC Girder Bridge  LRP008b                Kanch pur Bridge.   \n14585   10.543        Box Culvert  LRP010a             KATCHPUR BOX CULVERT   \n...        ...                ...      ...                              ...   \n14739  458.799  RCC Girder Bridge  LRP455a  TEKNAF NAITANG RCC GIDER BRIDGE   \n465    459.681        Box Culvert  LRP456a     BUS STAND TEKNAF BOX CULVERT   \n15733  459.866        Box Culvert  LRP456b     BUS STAND TEKNAF BOX CULVERT   \n15734  460.113  RCC Girder Bridge  LRP456c                    YAKNAT BRIDGE   \n15735  460.113  RCC Girder Bridge  LRP456c                    Yaknat Bridge   \n\n       length condition  chainage        lat        lon length_class   dist  \n0       11.30         A     1.800  23.698739  90.458861            M    NaN  \n1        6.60         A     4.925  23.694664  90.487775            S  3.125  \n12706  397.00         C     8.976  23.705060  90.523214           XL  4.051  \n2      394.23         A     8.976  23.705060  90.523214           XL  0.000  \n14585    8.00         B    10.543  23.696400  90.535099            S  1.567  \n...       ...       ...       ...        ...        ...          ...    ...  \n14739   37.30         B   458.799  20.890158  92.295718            M  0.000  \n465      1.50         A   459.681  20.884567  92.298716            S  0.882  \n15733    1.50         C   459.866  20.883070  92.298163            S  0.185  \n15734   35.90         C   460.113  20.880985  92.297777            M  0.247  \n15735   35.90         C   460.113  20.880985  92.297777            M  0.000  \n\n[750 rows x 11 columns]",
      "text/html": "<div>\n<style scoped>\n    .dataframe tbody tr th:only-of-type {\n        vertical-align: middle;\n    }\n\n    .dataframe tbody tr th {\n        vertical-align: top;\n    }\n\n    .dataframe thead th {\n        text-align: right;\n    }\n</style>\n<table border=\"1\" class=\"dataframe\">\n  <thead>\n    <tr style=\"text-align: right;\">\n      <th></th>\n      <th>km</th>\n      <th>type</th>\n      <th>LRPName</th>\n      <th>name</th>\n      <th>length</th>\n      <th>condition</th>\n      <th>chainage</th>\n      <th>lat</th>\n      <th>lon</th>\n      <th>length_class</th>\n      <th>dist</th>\n    </tr>\n  </thead>\n  <tbody>\n    <tr>\n      <th>0</th>\n      <td>1.800</td>\n      <td>Box Culvert</td>\n      <td>LRP001a</td>\n      <td>.</td>\n      <td>11.30</td>\n      <td>A</td>\n      <td>1.800</td>\n      <td>23.698739</td>\n      <td>90.458861</td>\n      <td>M</td>\n      <td>NaN</td>\n    </tr>\n    <tr>\n      <th>1</th>\n      <td>4.925</td>\n      <td>Box Culvert</td>\n      <td>LRP004b</td>\n      <td>.</td>\n      <td>6.60</td>\n      <td>A</td>\n      <td>4.925</td>\n      <td>23.694664</td>\n      <td>90.487775</td>\n      <td>S</td>\n      <td>3.125</td>\n    </tr>\n    <tr>\n      <th>12706</th>\n      <td>8.976</td>\n      <td>PC Girder Bridge</td>\n      <td>LRP008b</td>\n      <td>KANCHPUR PC GIRDER BRIDGE</td>\n      <td>397.00</td>\n      <td>C</td>\n      <td>8.976</td>\n      <td>23.705060</td>\n      <td>90.523214</td>\n      <td>XL</td>\n      <td>4.051</td>\n    </tr>\n    <tr>\n      <th>2</th>\n      <td>8.976</td>\n      <td>PC Girder Bridge</td>\n      <td>LRP008b</td>\n      <td>Kanch pur Bridge.</td>\n      <td>394.23</td>\n      <td>A</td>\n      <td>8.976</td>\n      <td>23.705060</td>\n      <td>90.523214</td>\n      <td>XL</td>\n      <td>0.000</td>\n    </tr>\n    <tr>\n      <th>14585</th>\n      <td>10.543</td>\n      <td>Box Culvert</td>\n      <td>LRP010a</td>\n      <td>KATCHPUR BOX CULVERT</td>\n      <td>8.00</td>\n      <td>B</td>\n      <td>10.543</td>\n      <td>23.696400</td>\n      <td>90.535099</td>\n      <td>S</td>\n      <td>1.567</td>\n    </tr>\n    <tr>\n      <th>...</th>\n      <td>...</td>\n      <td>...</td>\n      <td>...</td>\n      <td>...</td>\n      <td>...</td>\n      <td>...</td>\n      <td>...</td>\n      <td>...</td>\n      <td>...</td>\n      <td>...</td>\n      <td>...</td>\n    </tr>\n    <tr>\n      <th>14739</th>\n      <td>458.799</td>\n      <td>RCC Girder Bridge</td>\n      <td>LRP455a</td>\n      <td>TEKNAF NAITANG RCC GIDER BRIDGE</td>\n      <td>37.30</td>\n      <td>B</td>\n      <td>458.799</td>\n      <td>20.890158</td>\n      <td>92.295718</td>\n      <td>M</td>\n      <td>0.000</td>\n    </tr>\n    <tr>\n      <th>465</th>\n      <td>459.681</td>\n      <td>Box Culvert</td>\n      <td>LRP456a</td>\n      <td>BUS STAND TEKNAF BOX CULVERT</td>\n      <td>1.50</td>\n      <td>A</td>\n      <td>459.681</td>\n      <td>20.884567</td>\n      <td>92.298716</td>\n      <td>S</td>\n      <td>0.882</td>\n    </tr>\n    <tr>\n      <th>15733</th>\n      <td>459.866</td>\n      <td>Box Culvert</td>\n      <td>LRP456b</td>\n      <td>BUS STAND TEKNAF BOX CULVERT</td>\n      <td>1.50</td>\n      <td>C</td>\n      <td>459.866</td>\n      <td>20.883070</td>\n      <td>92.298163</td>\n      <td>S</td>\n      <td>0.185</td>\n    </tr>\n    <tr>\n      <th>15734</th>\n      <td>460.113</td>\n      <td>RCC Girder Bridge</td>\n      <td>LRP456c</td>\n      <td>YAKNAT BRIDGE</td>\n      <td>35.90</td>\n      <td>C</td>\n      <td>460.113</td>\n      <td>20.880985</td>\n      <td>92.297777</td>\n      <td>M</td>\n      <td>0.247</td>\n    </tr>\n    <tr>\n      <th>15735</th>\n      <td>460.113</td>\n      <td>RCC Girder Bridge</td>\n      <td>LRP456c</td>\n      <td>Yaknat Bridge</td>\n      <td>35.90</td>\n      <td>C</td>\n      <td>460.113</td>\n      <td>20.880985</td>\n      <td>92.297777</td>\n      <td>M</td>\n      <td>0.000</td>\n    </tr>\n  </tbody>\n</table>\n<p>750 rows × 11 columns</p>\n</div>"
     },
     "execution_count": 27,
     "metadata": {},
     "output_type": "execute_result"
    }
   ],
   "source": [
    "# Filters out all variations of (R), (Right), (  R  ), etc.\n",
    "patternDel = \"\\(\\s*[a-zA-Z]*(R|r)[a-zA-Z]*\\s*\\)\"\n",
    "filter = bridges_clean['name'].str.contains(patternDel)\n",
    "bridges_clean2 = bridges_clean[~filter]\n",
    "\n",
    "# Sort on name ascending, then condition descending (taking the worst) and km ascending\n",
    "bridges_clean2 = bridges_clean2.sort_values([\"km\", \"condition\", \"name\"], ascending=[True, False, True])\n",
    "\n",
    "# Calculate distance between bridges\n",
    "bridges_clean2[\"dist\"] = bridges_clean2[\"km\"].diff()\n",
    "bridges_clean2"
   ]
  },
  {
   "cell_type": "code",
   "execution_count": 29,
   "outputs": [
    {
     "data": {
      "text/plain": "            km               type  LRPName                          name  \\\n1        4.925        Box Culvert  LRP004b                             .   \n12706    8.976   PC Girder Bridge  LRP008b     KANCHPUR PC GIRDER BRIDGE   \n14585   10.543        Box Culvert  LRP010a          KATCHPUR BOX CULVERT   \n3       10.880        Box Culvert  LRP010b              NOYAPARA CULVERT   \n4       10.897        Box Culvert  LRP010c                ADUPUR CULVERT   \n...        ...                ...      ...                           ...   \n14738  458.213  RCC Girder Bridge  LRP454b  NAITOM PARA RCC GIDER BRIDGE   \n15732  458.799  RCC Girder Bridge  LRP455a                Eskahal Bridge   \n465    459.681        Box Culvert  LRP456a  BUS STAND TEKNAF BOX CULVERT   \n15733  459.866        Box Culvert  LRP456b  BUS STAND TEKNAF BOX CULVERT   \n15734  460.113  RCC Girder Bridge  LRP456c                 YAKNAT BRIDGE   \n\n       length condition  chainage        lat        lon length_class   dist  \n1         6.6         A     4.925  23.694664  90.487775            S  3.125  \n12706   397.0         C     8.976  23.705060  90.523214           XL  4.051  \n14585     8.0         B    10.543  23.696400  90.535099            S  1.567  \n3         6.3         A    10.880  23.694391  90.537574            S  0.337  \n4         6.3         A    10.897  23.694302  90.537707            S  0.017  \n...       ...       ...       ...        ...        ...          ...    ...  \n14738     9.0         B   458.213  20.892271  92.290984            S  0.462  \n15732    37.3         C   458.799  20.890158  92.295718            M  0.586  \n465       1.5         A   459.681  20.884567  92.298716            S  0.882  \n15733     1.5         C   459.866  20.883070  92.298163            S  0.185  \n15734    35.9         C   460.113  20.880985  92.297777            M  0.247  \n\n[617 rows x 11 columns]",
      "text/html": "<div>\n<style scoped>\n    .dataframe tbody tr th:only-of-type {\n        vertical-align: middle;\n    }\n\n    .dataframe tbody tr th {\n        vertical-align: top;\n    }\n\n    .dataframe thead th {\n        text-align: right;\n    }\n</style>\n<table border=\"1\" class=\"dataframe\">\n  <thead>\n    <tr style=\"text-align: right;\">\n      <th></th>\n      <th>km</th>\n      <th>type</th>\n      <th>LRPName</th>\n      <th>name</th>\n      <th>length</th>\n      <th>condition</th>\n      <th>chainage</th>\n      <th>lat</th>\n      <th>lon</th>\n      <th>length_class</th>\n      <th>dist</th>\n    </tr>\n  </thead>\n  <tbody>\n    <tr>\n      <th>1</th>\n      <td>4.925</td>\n      <td>Box Culvert</td>\n      <td>LRP004b</td>\n      <td>.</td>\n      <td>6.6</td>\n      <td>A</td>\n      <td>4.925</td>\n      <td>23.694664</td>\n      <td>90.487775</td>\n      <td>S</td>\n      <td>3.125</td>\n    </tr>\n    <tr>\n      <th>12706</th>\n      <td>8.976</td>\n      <td>PC Girder Bridge</td>\n      <td>LRP008b</td>\n      <td>KANCHPUR PC GIRDER BRIDGE</td>\n      <td>397.0</td>\n      <td>C</td>\n      <td>8.976</td>\n      <td>23.705060</td>\n      <td>90.523214</td>\n      <td>XL</td>\n      <td>4.051</td>\n    </tr>\n    <tr>\n      <th>14585</th>\n      <td>10.543</td>\n      <td>Box Culvert</td>\n      <td>LRP010a</td>\n      <td>KATCHPUR BOX CULVERT</td>\n      <td>8.0</td>\n      <td>B</td>\n      <td>10.543</td>\n      <td>23.696400</td>\n      <td>90.535099</td>\n      <td>S</td>\n      <td>1.567</td>\n    </tr>\n    <tr>\n      <th>3</th>\n      <td>10.880</td>\n      <td>Box Culvert</td>\n      <td>LRP010b</td>\n      <td>NOYAPARA CULVERT</td>\n      <td>6.3</td>\n      <td>A</td>\n      <td>10.880</td>\n      <td>23.694391</td>\n      <td>90.537574</td>\n      <td>S</td>\n      <td>0.337</td>\n    </tr>\n    <tr>\n      <th>4</th>\n      <td>10.897</td>\n      <td>Box Culvert</td>\n      <td>LRP010c</td>\n      <td>ADUPUR CULVERT</td>\n      <td>6.3</td>\n      <td>A</td>\n      <td>10.897</td>\n      <td>23.694302</td>\n      <td>90.537707</td>\n      <td>S</td>\n      <td>0.017</td>\n    </tr>\n    <tr>\n      <th>...</th>\n      <td>...</td>\n      <td>...</td>\n      <td>...</td>\n      <td>...</td>\n      <td>...</td>\n      <td>...</td>\n      <td>...</td>\n      <td>...</td>\n      <td>...</td>\n      <td>...</td>\n      <td>...</td>\n    </tr>\n    <tr>\n      <th>14738</th>\n      <td>458.213</td>\n      <td>RCC Girder Bridge</td>\n      <td>LRP454b</td>\n      <td>NAITOM PARA RCC GIDER BRIDGE</td>\n      <td>9.0</td>\n      <td>B</td>\n      <td>458.213</td>\n      <td>20.892271</td>\n      <td>92.290984</td>\n      <td>S</td>\n      <td>0.462</td>\n    </tr>\n    <tr>\n      <th>15732</th>\n      <td>458.799</td>\n      <td>RCC Girder Bridge</td>\n      <td>LRP455a</td>\n      <td>Eskahal Bridge</td>\n      <td>37.3</td>\n      <td>C</td>\n      <td>458.799</td>\n      <td>20.890158</td>\n      <td>92.295718</td>\n      <td>M</td>\n      <td>0.586</td>\n    </tr>\n    <tr>\n      <th>465</th>\n      <td>459.681</td>\n      <td>Box Culvert</td>\n      <td>LRP456a</td>\n      <td>BUS STAND TEKNAF BOX CULVERT</td>\n      <td>1.5</td>\n      <td>A</td>\n      <td>459.681</td>\n      <td>20.884567</td>\n      <td>92.298716</td>\n      <td>S</td>\n      <td>0.882</td>\n    </tr>\n    <tr>\n      <th>15733</th>\n      <td>459.866</td>\n      <td>Box Culvert</td>\n      <td>LRP456b</td>\n      <td>BUS STAND TEKNAF BOX CULVERT</td>\n      <td>1.5</td>\n      <td>C</td>\n      <td>459.866</td>\n      <td>20.883070</td>\n      <td>92.298163</td>\n      <td>S</td>\n      <td>0.185</td>\n    </tr>\n    <tr>\n      <th>15734</th>\n      <td>460.113</td>\n      <td>RCC Girder Bridge</td>\n      <td>LRP456c</td>\n      <td>YAKNAT BRIDGE</td>\n      <td>35.9</td>\n      <td>C</td>\n      <td>460.113</td>\n      <td>20.880985</td>\n      <td>92.297777</td>\n      <td>M</td>\n      <td>0.247</td>\n    </tr>\n  </tbody>\n</table>\n<p>617 rows × 11 columns</p>\n</div>"
     },
     "execution_count": 29,
     "metadata": {},
     "output_type": "execute_result"
    }
   ],
   "source": [
    "# TODO: Don't import first bridge!\n",
    "\n",
    "# Drop all bridges that are closer to the previous bridge then their own length\n",
    "bridges_clean3 = bridges_clean2.loc[bridges_clean2[\"dist\"]*1000 >= bridges_clean2[\"length\"]]\n",
    "bridges_clean3"
   ],
   "metadata": {
    "collapsed": false,
    "pycharm": {
     "name": "#%%\n"
    }
   }
  },
  {
   "cell_type": "markdown",
   "source": [
    "## Convert to example data format\n",
    "\n",
    "TODO:\n",
    " - Calculate length between each bridge (without the bridge length itself)\n",
    " - Convert column names to be identical to example data"
   ],
   "metadata": {
    "collapsed": false,
    "pycharm": {
     "name": "#%% md\n"
    }
   }
  },
  {
   "cell_type": "code",
   "execution_count": null,
   "outputs": [],
   "source": [],
   "metadata": {
    "collapsed": false,
    "pycharm": {
     "name": "#%%\n"
    }
   }
  }
 ],
 "metadata": {
  "kernelspec": {
   "display_name": "Python 3",
   "language": "python",
   "name": "python3"
  },
  "language_info": {
   "codemirror_mode": {
    "name": "ipython",
    "version": 3
   },
   "file_extension": ".py",
   "mimetype": "text/x-python",
   "name": "python",
   "nbconvert_exporter": "python",
   "pygments_lexer": "ipython3",
   "version": "3.8.8"
  }
 },
 "nbformat": 4,
 "nbformat_minor": 4
}