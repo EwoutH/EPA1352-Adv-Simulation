{
 "cells": [
  {
   "cell_type": "code",
   "execution_count": 1,
   "id": "732e1fe3",
   "metadata": {},
   "outputs": [],
   "source": [
    "import pandas as pd\n",
    "import seaborn as sns\n",
    "import os\n"
   ]
  },
  {
   "cell_type": "code",
   "execution_count": null,
   "id": "92ba2973",
   "metadata": {},
   "outputs": [],
   "source": []
  },
  {
   "cell_type": "code",
   "execution_count": 2,
   "id": "3984c560",
   "metadata": {},
   "outputs": [
    {
     "data": {
      "text/html": [
       "<div>\n",
       "<style scoped>\n",
       "    .dataframe tbody tr th:only-of-type {\n",
       "        vertical-align: middle;\n",
       "    }\n",
       "\n",
       "    .dataframe tbody tr th {\n",
       "        vertical-align: top;\n",
       "    }\n",
       "\n",
       "    .dataframe thead th {\n",
       "        text-align: right;\n",
       "    }\n",
       "</style>\n",
       "<table border=\"1\" class=\"dataframe\">\n",
       "  <thead>\n",
       "    <tr style=\"text-align: right;\">\n",
       "      <th></th>\n",
       "      <th>Number</th>\n",
       "      <th>StructureName</th>\n",
       "      <th>StructureType</th>\n",
       "      <th>Condition of Bridge</th>\n",
       "      <th>TotalWidth</th>\n",
       "      <th>TotalLength</th>\n",
       "      <th>ConstructionYear</th>\n",
       "      <th>NumberOfSpan</th>\n",
       "      <th>Zone</th>\n",
       "      <th>Circle</th>\n",
       "      <th>...</th>\n",
       "      <th>LocationLRPOffset</th>\n",
       "      <th>LocationChainage</th>\n",
       "      <th>LatitudeDegree</th>\n",
       "      <th>LatitudeMinute</th>\n",
       "      <th>LatitudeSecond</th>\n",
       "      <th>LongitudeDegree</th>\n",
       "      <th>LongitudeMinute</th>\n",
       "      <th>LongitudeSecond</th>\n",
       "      <th>Unnamed: 24</th>\n",
       "      <th>BCS1TotalScore</th>\n",
       "    </tr>\n",
       "  </thead>\n",
       "  <tbody>\n",
       "    <tr>\n",
       "      <th>0</th>\n",
       "      <td>1.0</td>\n",
       "      <td>Kanch pur Bridge.</td>\n",
       "      <td>PC Girder Bridge</td>\n",
       "      <td>A</td>\n",
       "      <td>14.55</td>\n",
       "      <td>394.23</td>\n",
       "      <td>1986.0</td>\n",
       "      <td>8.0</td>\n",
       "      <td>Dhaka</td>\n",
       "      <td>Dhaka</td>\n",
       "      <td>...</td>\n",
       "      <td>3976.0</td>\n",
       "      <td>8.976</td>\n",
       "      <td>23.0</td>\n",
       "      <td>42.0</td>\n",
       "      <td>7.5</td>\n",
       "      <td>90.0</td>\n",
       "      <td>30.0</td>\n",
       "      <td>57.3</td>\n",
       "      <td>NaN</td>\n",
       "      <td>0.0</td>\n",
       "    </tr>\n",
       "    <tr>\n",
       "      <th>1</th>\n",
       "      <td>2.0</td>\n",
       "      <td>Madanpur Bridge.(L)</td>\n",
       "      <td>PC Girder Bridge</td>\n",
       "      <td>A</td>\n",
       "      <td>9.20</td>\n",
       "      <td>27.50</td>\n",
       "      <td>2003.0</td>\n",
       "      <td>1.0</td>\n",
       "      <td>Dhaka</td>\n",
       "      <td>Dhaka</td>\n",
       "      <td>...</td>\n",
       "      <td>305.0</td>\n",
       "      <td>12.660</td>\n",
       "      <td>23.0</td>\n",
       "      <td>41.0</td>\n",
       "      <td>28.4</td>\n",
       "      <td>90.0</td>\n",
       "      <td>32.0</td>\n",
       "      <td>41.6</td>\n",
       "      <td>NaN</td>\n",
       "      <td>0.0</td>\n",
       "    </tr>\n",
       "    <tr>\n",
       "      <th>2</th>\n",
       "      <td>3.0</td>\n",
       "      <td>Madanpur Bridge(R)</td>\n",
       "      <td>PC Girder Bridge</td>\n",
       "      <td>A</td>\n",
       "      <td>9.12</td>\n",
       "      <td>27.50</td>\n",
       "      <td>2007.0</td>\n",
       "      <td>1.0</td>\n",
       "      <td>Dhaka</td>\n",
       "      <td>Dhaka</td>\n",
       "      <td>...</td>\n",
       "      <td>333.0</td>\n",
       "      <td>12.688</td>\n",
       "      <td>23.0</td>\n",
       "      <td>41.0</td>\n",
       "      <td>28.0</td>\n",
       "      <td>90.0</td>\n",
       "      <td>32.0</td>\n",
       "      <td>41.6</td>\n",
       "      <td>NaN</td>\n",
       "      <td>0.0</td>\n",
       "    </tr>\n",
       "    <tr>\n",
       "      <th>3</th>\n",
       "      <td>4.0</td>\n",
       "      <td>Langalbandh Bridge.</td>\n",
       "      <td>RCC Girder Bridge</td>\n",
       "      <td>B</td>\n",
       "      <td>17.80</td>\n",
       "      <td>159.52</td>\n",
       "      <td>1998.0</td>\n",
       "      <td>5.0</td>\n",
       "      <td>Dhaka</td>\n",
       "      <td>Dhaka</td>\n",
       "      <td>...</td>\n",
       "      <td>1672.0</td>\n",
       "      <td>17.134</td>\n",
       "      <td>23.0</td>\n",
       "      <td>39.0</td>\n",
       "      <td>33.9</td>\n",
       "      <td>90.0</td>\n",
       "      <td>34.0</td>\n",
       "      <td>10.9</td>\n",
       "      <td>NaN</td>\n",
       "      <td>31.0</td>\n",
       "    </tr>\n",
       "    <tr>\n",
       "      <th>4</th>\n",
       "      <td>5.0</td>\n",
       "      <td>Darikandi Bridge (L)</td>\n",
       "      <td>PC Girder Bridge</td>\n",
       "      <td>A</td>\n",
       "      <td>9.15</td>\n",
       "      <td>20.50</td>\n",
       "      <td>2002.0</td>\n",
       "      <td>1.0</td>\n",
       "      <td>Dhaka</td>\n",
       "      <td>Dhaka</td>\n",
       "      <td>...</td>\n",
       "      <td>2260.0</td>\n",
       "      <td>17.222</td>\n",
       "      <td>23.0</td>\n",
       "      <td>39.0</td>\n",
       "      <td>21.8</td>\n",
       "      <td>90.0</td>\n",
       "      <td>34.0</td>\n",
       "      <td>27.7</td>\n",
       "      <td>NaN</td>\n",
       "      <td>0.0</td>\n",
       "    </tr>\n",
       "  </tbody>\n",
       "</table>\n",
       "<p>5 rows × 26 columns</p>\n",
       "</div>"
      ],
      "text/plain": [
       "   Number         StructureName      StructureType Condition of Bridge  \\\n",
       "0     1.0     Kanch pur Bridge.   PC Girder Bridge                   A   \n",
       "1     2.0   Madanpur Bridge.(L)   PC Girder Bridge                   A   \n",
       "2     3.0    Madanpur Bridge(R)   PC Girder Bridge                   A   \n",
       "3     4.0   Langalbandh Bridge.  RCC Girder Bridge                   B   \n",
       "4     5.0  Darikandi Bridge (L)   PC Girder Bridge                   A   \n",
       "\n",
       "   TotalWidth  TotalLength  ConstructionYear  NumberOfSpan   Zone Circle  ...  \\\n",
       "0       14.55       394.23            1986.0           8.0  Dhaka  Dhaka  ...   \n",
       "1        9.20        27.50            2003.0           1.0  Dhaka  Dhaka  ...   \n",
       "2        9.12        27.50            2007.0           1.0  Dhaka  Dhaka  ...   \n",
       "3       17.80       159.52            1998.0           5.0  Dhaka  Dhaka  ...   \n",
       "4        9.15        20.50            2002.0           1.0  Dhaka  Dhaka  ...   \n",
       "\n",
       "  LocationLRPOffset LocationChainage LatitudeDegree  LatitudeMinute  \\\n",
       "0            3976.0            8.976           23.0            42.0   \n",
       "1             305.0           12.660           23.0            41.0   \n",
       "2             333.0           12.688           23.0            41.0   \n",
       "3            1672.0           17.134           23.0            39.0   \n",
       "4            2260.0           17.222           23.0            39.0   \n",
       "\n",
       "  LatitudeSecond LongitudeDegree  LongitudeMinute  LongitudeSecond  \\\n",
       "0            7.5            90.0             30.0             57.3   \n",
       "1           28.4            90.0             32.0             41.6   \n",
       "2           28.0            90.0             32.0             41.6   \n",
       "3           33.9            90.0             34.0             10.9   \n",
       "4           21.8            90.0             34.0             27.7   \n",
       "\n",
       "   Unnamed: 24  BCS1TotalScore  \n",
       "0          NaN             0.0  \n",
       "1          NaN             0.0  \n",
       "2          NaN             0.0  \n",
       "3          NaN            31.0  \n",
       "4          NaN             0.0  \n",
       "\n",
       "[5 rows x 26 columns]"
      ]
     },
     "execution_count": 2,
     "metadata": {},
     "output_type": "execute_result"
    }
   ],
   "source": [
    "B = '../data/raw/Bridges.xlsx'\n",
    "Bridge = pd.read_excel(B) \n",
    "Bridge.head()"
   ]
  },
  {
   "cell_type": "code",
   "execution_count": 3,
   "id": "f6a9fbdf",
   "metadata": {},
   "outputs": [],
   "source": [
    "#add a column that converts the latitude degree/minutes/seconds to decimals\n",
    "Bridge['LatitudeDecimal'] = Bridge['LatitudeDegree'] + (Bridge['LatitudeMinute']/60) + (Bridge['LatitudeSecond']/3600)"
   ]
  },
  {
   "cell_type": "code",
   "execution_count": 4,
   "id": "79ac8b32",
   "metadata": {},
   "outputs": [
    {
     "data": {
      "text/html": [
       "<div>\n",
       "<style scoped>\n",
       "    .dataframe tbody tr th:only-of-type {\n",
       "        vertical-align: middle;\n",
       "    }\n",
       "\n",
       "    .dataframe tbody tr th {\n",
       "        vertical-align: top;\n",
       "    }\n",
       "\n",
       "    .dataframe thead th {\n",
       "        text-align: right;\n",
       "    }\n",
       "</style>\n",
       "<table border=\"1\" class=\"dataframe\">\n",
       "  <thead>\n",
       "    <tr style=\"text-align: right;\">\n",
       "      <th></th>\n",
       "      <th>Number</th>\n",
       "      <th>StructureName</th>\n",
       "      <th>StructureType</th>\n",
       "      <th>Condition of Bridge</th>\n",
       "      <th>TotalWidth</th>\n",
       "      <th>TotalLength</th>\n",
       "      <th>ConstructionYear</th>\n",
       "      <th>NumberOfSpan</th>\n",
       "      <th>Zone</th>\n",
       "      <th>Circle</th>\n",
       "      <th>...</th>\n",
       "      <th>LatitudeDegree</th>\n",
       "      <th>LatitudeMinute</th>\n",
       "      <th>LatitudeSecond</th>\n",
       "      <th>LongitudeDegree</th>\n",
       "      <th>LongitudeMinute</th>\n",
       "      <th>LongitudeSecond</th>\n",
       "      <th>Unnamed: 24</th>\n",
       "      <th>BCS1TotalScore</th>\n",
       "      <th>LatitudeDecimal</th>\n",
       "      <th>LongitudeDecimal</th>\n",
       "    </tr>\n",
       "  </thead>\n",
       "  <tbody>\n",
       "    <tr>\n",
       "      <th>0</th>\n",
       "      <td>1.0</td>\n",
       "      <td>Kanch pur Bridge.</td>\n",
       "      <td>PC Girder Bridge</td>\n",
       "      <td>A</td>\n",
       "      <td>14.55</td>\n",
       "      <td>394.23</td>\n",
       "      <td>1986.0</td>\n",
       "      <td>8.0</td>\n",
       "      <td>Dhaka</td>\n",
       "      <td>Dhaka</td>\n",
       "      <td>...</td>\n",
       "      <td>23.0</td>\n",
       "      <td>42.0</td>\n",
       "      <td>7.5</td>\n",
       "      <td>90.0</td>\n",
       "      <td>30.0</td>\n",
       "      <td>57.3</td>\n",
       "      <td>NaN</td>\n",
       "      <td>0.0</td>\n",
       "      <td>23.702083</td>\n",
       "      <td>90.515917</td>\n",
       "    </tr>\n",
       "    <tr>\n",
       "      <th>1</th>\n",
       "      <td>2.0</td>\n",
       "      <td>Madanpur Bridge.(L)</td>\n",
       "      <td>PC Girder Bridge</td>\n",
       "      <td>A</td>\n",
       "      <td>9.20</td>\n",
       "      <td>27.50</td>\n",
       "      <td>2003.0</td>\n",
       "      <td>1.0</td>\n",
       "      <td>Dhaka</td>\n",
       "      <td>Dhaka</td>\n",
       "      <td>...</td>\n",
       "      <td>23.0</td>\n",
       "      <td>41.0</td>\n",
       "      <td>28.4</td>\n",
       "      <td>90.0</td>\n",
       "      <td>32.0</td>\n",
       "      <td>41.6</td>\n",
       "      <td>NaN</td>\n",
       "      <td>0.0</td>\n",
       "      <td>23.691222</td>\n",
       "      <td>90.544889</td>\n",
       "    </tr>\n",
       "    <tr>\n",
       "      <th>2</th>\n",
       "      <td>3.0</td>\n",
       "      <td>Madanpur Bridge(R)</td>\n",
       "      <td>PC Girder Bridge</td>\n",
       "      <td>A</td>\n",
       "      <td>9.12</td>\n",
       "      <td>27.50</td>\n",
       "      <td>2007.0</td>\n",
       "      <td>1.0</td>\n",
       "      <td>Dhaka</td>\n",
       "      <td>Dhaka</td>\n",
       "      <td>...</td>\n",
       "      <td>23.0</td>\n",
       "      <td>41.0</td>\n",
       "      <td>28.0</td>\n",
       "      <td>90.0</td>\n",
       "      <td>32.0</td>\n",
       "      <td>41.6</td>\n",
       "      <td>NaN</td>\n",
       "      <td>0.0</td>\n",
       "      <td>23.691111</td>\n",
       "      <td>90.544889</td>\n",
       "    </tr>\n",
       "    <tr>\n",
       "      <th>3</th>\n",
       "      <td>4.0</td>\n",
       "      <td>Langalbandh Bridge.</td>\n",
       "      <td>RCC Girder Bridge</td>\n",
       "      <td>B</td>\n",
       "      <td>17.80</td>\n",
       "      <td>159.52</td>\n",
       "      <td>1998.0</td>\n",
       "      <td>5.0</td>\n",
       "      <td>Dhaka</td>\n",
       "      <td>Dhaka</td>\n",
       "      <td>...</td>\n",
       "      <td>23.0</td>\n",
       "      <td>39.0</td>\n",
       "      <td>33.9</td>\n",
       "      <td>90.0</td>\n",
       "      <td>34.0</td>\n",
       "      <td>10.9</td>\n",
       "      <td>NaN</td>\n",
       "      <td>31.0</td>\n",
       "      <td>23.659417</td>\n",
       "      <td>90.569694</td>\n",
       "    </tr>\n",
       "    <tr>\n",
       "      <th>4</th>\n",
       "      <td>5.0</td>\n",
       "      <td>Darikandi Bridge (L)</td>\n",
       "      <td>PC Girder Bridge</td>\n",
       "      <td>A</td>\n",
       "      <td>9.15</td>\n",
       "      <td>20.50</td>\n",
       "      <td>2002.0</td>\n",
       "      <td>1.0</td>\n",
       "      <td>Dhaka</td>\n",
       "      <td>Dhaka</td>\n",
       "      <td>...</td>\n",
       "      <td>23.0</td>\n",
       "      <td>39.0</td>\n",
       "      <td>21.8</td>\n",
       "      <td>90.0</td>\n",
       "      <td>34.0</td>\n",
       "      <td>27.7</td>\n",
       "      <td>NaN</td>\n",
       "      <td>0.0</td>\n",
       "      <td>23.656056</td>\n",
       "      <td>90.574361</td>\n",
       "    </tr>\n",
       "  </tbody>\n",
       "</table>\n",
       "<p>5 rows × 28 columns</p>\n",
       "</div>"
      ],
      "text/plain": [
       "   Number         StructureName      StructureType Condition of Bridge  \\\n",
       "0     1.0     Kanch pur Bridge.   PC Girder Bridge                   A   \n",
       "1     2.0   Madanpur Bridge.(L)   PC Girder Bridge                   A   \n",
       "2     3.0    Madanpur Bridge(R)   PC Girder Bridge                   A   \n",
       "3     4.0   Langalbandh Bridge.  RCC Girder Bridge                   B   \n",
       "4     5.0  Darikandi Bridge (L)   PC Girder Bridge                   A   \n",
       "\n",
       "   TotalWidth  TotalLength  ConstructionYear  NumberOfSpan   Zone Circle  ...  \\\n",
       "0       14.55       394.23            1986.0           8.0  Dhaka  Dhaka  ...   \n",
       "1        9.20        27.50            2003.0           1.0  Dhaka  Dhaka  ...   \n",
       "2        9.12        27.50            2007.0           1.0  Dhaka  Dhaka  ...   \n",
       "3       17.80       159.52            1998.0           5.0  Dhaka  Dhaka  ...   \n",
       "4        9.15        20.50            2002.0           1.0  Dhaka  Dhaka  ...   \n",
       "\n",
       "  LatitudeDegree LatitudeMinute LatitudeSecond  LongitudeDegree  \\\n",
       "0           23.0           42.0            7.5             90.0   \n",
       "1           23.0           41.0           28.4             90.0   \n",
       "2           23.0           41.0           28.0             90.0   \n",
       "3           23.0           39.0           33.9             90.0   \n",
       "4           23.0           39.0           21.8             90.0   \n",
       "\n",
       "  LongitudeMinute LongitudeSecond  Unnamed: 24  BCS1TotalScore  \\\n",
       "0            30.0            57.3          NaN             0.0   \n",
       "1            32.0            41.6          NaN             0.0   \n",
       "2            32.0            41.6          NaN             0.0   \n",
       "3            34.0            10.9          NaN            31.0   \n",
       "4            34.0            27.7          NaN             0.0   \n",
       "\n",
       "   LatitudeDecimal  LongitudeDecimal  \n",
       "0        23.702083         90.515917  \n",
       "1        23.691222         90.544889  \n",
       "2        23.691111         90.544889  \n",
       "3        23.659417         90.569694  \n",
       "4        23.656056         90.574361  \n",
       "\n",
       "[5 rows x 28 columns]"
      ]
     },
     "execution_count": 4,
     "metadata": {},
     "output_type": "execute_result"
    }
   ],
   "source": [
    "#add a column that converts the longitude degree/minutes/seconds to decimals\n",
    "Bridge['LongitudeDecimal'] = Bridge['LongitudeDegree'] + (Bridge['LongitudeMinute']/60) + (Bridge['LongitudeSecond']/3600)\n",
    "Bridge.head()\n"
   ]
  },
  {
   "cell_type": "code",
   "execution_count": 5,
   "id": "f8d54c25",
   "metadata": {},
   "outputs": [],
   "source": [
    "# Delete the Unnamed:24 column\n",
    "\n",
    "Bridge.drop('Unnamed: 24', inplace=True, axis=1, )\n"
   ]
  },
  {
   "cell_type": "code",
   "execution_count": 6,
   "id": "77e25434",
   "metadata": {},
   "outputs": [],
   "source": [
    "# Delete the Unnamed:13 column\n",
    "Bridge.drop('Unnamed: 13', inplace=True, axis=1, )"
   ]
  },
  {
   "cell_type": "code",
   "execution_count": 7,
   "id": "a1e68bf2",
   "metadata": {},
   "outputs": [
    {
     "name": "stdout",
     "output_type": "stream",
     "text": [
      "Index(['Number', 'StructureName', 'StructureType', 'Condition of Bridge',\n",
      "       'TotalWidth', 'TotalLength', 'ConstructionYear', 'NumberOfSpan', 'Zone',\n",
      "       'Circle', 'Division', 'Sub-Division', 'RoadNo', 'StructureLRPName',\n",
      "       'ReferenceLRPNo', 'LocationLRPOffset', 'LocationChainage',\n",
      "       'LatitudeDegree', 'LatitudeMinute', 'LatitudeSecond', 'LongitudeDegree',\n",
      "       'LongitudeMinute', 'LongitudeSecond', 'BCS1TotalScore',\n",
      "       'LatitudeDecimal', 'LongitudeDecimal'],\n",
      "      dtype='object')\n"
     ]
    }
   ],
   "source": [
    "# Check if there are any NAN values\n",
    "\n",
    "print(Bridge.columns)\n"
   ]
  },
  {
   "cell_type": "code",
   "execution_count": 8,
   "id": "7227e1ae",
   "metadata": {},
   "outputs": [],
   "source": [
    "# Drop all rows where there is a value missing\n",
    "Bridge = Bridge.dropna()"
   ]
  },
  {
   "cell_type": "code",
   "execution_count": 9,
   "id": "720d440e",
   "metadata": {},
   "outputs": [
    {
     "data": {
      "text/plain": [
       "<AxesSubplot:xlabel='TotalWidth', ylabel='Count'>"
      ]
     },
     "execution_count": 9,
     "metadata": {},
     "output_type": "execute_result"
    },
    {
     "data": {
      "image/png": "[encoded data removed]",
      "text/plain": [
       "<Figure size 432x288 with 1 Axes>"
      ]
     },
     "metadata": {
      "needs_background": "light"
     },
     "output_type": "display_data"
    }
   ],
   "source": [
    "# plot a histogram of the total widths of the bridges in order to identify any strange outliers\n",
    "sns.histplot(data = Bridge, x= \"TotalWidth\")"
   ]
  },
  {
   "cell_type": "code",
   "execution_count": 10,
   "id": "339a4307",
   "metadata": {},
   "outputs": [
    {
     "data": {
      "text/html": [
       "<div>\n",
       "<style scoped>\n",
       "    .dataframe tbody tr th:only-of-type {\n",
       "        vertical-align: middle;\n",
       "    }\n",
       "\n",
       "    .dataframe tbody tr th {\n",
       "        vertical-align: top;\n",
       "    }\n",
       "\n",
       "    .dataframe thead th {\n",
       "        text-align: right;\n",
       "    }\n",
       "</style>\n",
       "<table border=\"1\" class=\"dataframe\">\n",
       "  <thead>\n",
       "    <tr style=\"text-align: right;\">\n",
       "      <th></th>\n",
       "      <th>Number</th>\n",
       "      <th>StructureName</th>\n",
       "      <th>StructureType</th>\n",
       "      <th>Condition of Bridge</th>\n",
       "      <th>TotalWidth</th>\n",
       "      <th>TotalLength</th>\n",
       "      <th>ConstructionYear</th>\n",
       "      <th>NumberOfSpan</th>\n",
       "      <th>Zone</th>\n",
       "      <th>Circle</th>\n",
       "      <th>...</th>\n",
       "      <th>LocationChainage</th>\n",
       "      <th>LatitudeDegree</th>\n",
       "      <th>LatitudeMinute</th>\n",
       "      <th>LatitudeSecond</th>\n",
       "      <th>LongitudeDegree</th>\n",
       "      <th>LongitudeMinute</th>\n",
       "      <th>LongitudeSecond</th>\n",
       "      <th>BCS1TotalScore</th>\n",
       "      <th>LatitudeDecimal</th>\n",
       "      <th>LongitudeDecimal</th>\n",
       "    </tr>\n",
       "  </thead>\n",
       "  <tbody>\n",
       "    <tr>\n",
       "      <th>56</th>\n",
       "      <td>57.0</td>\n",
       "      <td>Shikalbaha Bridge</td>\n",
       "      <td>PC Girder Bridge</td>\n",
       "      <td>A</td>\n",
       "      <td>31.2</td>\n",
       "      <td>17.30</td>\n",
       "      <td>2010.0</td>\n",
       "      <td>1.0</td>\n",
       "      <td>Chittagong</td>\n",
       "      <td>Chittagong</td>\n",
       "      <td>...</td>\n",
       "      <td>247.637</td>\n",
       "      <td>22.0</td>\n",
       "      <td>18.0</td>\n",
       "      <td>55.2</td>\n",
       "      <td>91.0</td>\n",
       "      <td>51.0</td>\n",
       "      <td>19.1</td>\n",
       "      <td>0.0</td>\n",
       "      <td>22.315333</td>\n",
       "      <td>91.855306</td>\n",
       "    </tr>\n",
       "    <tr>\n",
       "      <th>1309</th>\n",
       "      <td>1310.0</td>\n",
       "      <td>Bolloppur Bridge</td>\n",
       "      <td>RCC Girder Bridge</td>\n",
       "      <td>C</td>\n",
       "      <td>428.0</td>\n",
       "      <td>10.25</td>\n",
       "      <td>1997.0</td>\n",
       "      <td>1.0</td>\n",
       "      <td>Comilla</td>\n",
       "      <td>Comilla</td>\n",
       "      <td>...</td>\n",
       "      <td>9.950</td>\n",
       "      <td>23.0</td>\n",
       "      <td>34.0</td>\n",
       "      <td>17.2</td>\n",
       "      <td>90.0</td>\n",
       "      <td>56.0</td>\n",
       "      <td>56.3</td>\n",
       "      <td>31.0</td>\n",
       "      <td>23.571444</td>\n",
       "      <td>90.948972</td>\n",
       "    </tr>\n",
       "  </tbody>\n",
       "</table>\n",
       "<p>2 rows × 26 columns</p>\n",
       "</div>"
      ],
      "text/plain": [
       "      Number      StructureName      StructureType Condition of Bridge  \\\n",
       "56      57.0  Shikalbaha Bridge   PC Girder Bridge                   A   \n",
       "1309  1310.0   Bolloppur Bridge  RCC Girder Bridge                   C   \n",
       "\n",
       "      TotalWidth  TotalLength  ConstructionYear  NumberOfSpan        Zone  \\\n",
       "56          31.2        17.30            2010.0           1.0  Chittagong   \n",
       "1309       428.0        10.25            1997.0           1.0     Comilla   \n",
       "\n",
       "          Circle  ... LocationChainage LatitudeDegree LatitudeMinute  \\\n",
       "56    Chittagong  ...          247.637           22.0           18.0   \n",
       "1309     Comilla  ...            9.950           23.0           34.0   \n",
       "\n",
       "     LatitudeSecond LongitudeDegree  LongitudeMinute  LongitudeSecond  \\\n",
       "56             55.2            91.0             51.0             19.1   \n",
       "1309           17.2            90.0             56.0             56.3   \n",
       "\n",
       "      BCS1TotalScore  LatitudeDecimal  LongitudeDecimal  \n",
       "56               0.0        22.315333         91.855306  \n",
       "1309            31.0        23.571444         90.948972  \n",
       "\n",
       "[2 rows x 26 columns]"
      ]
     },
     "execution_count": 10,
     "metadata": {},
     "output_type": "execute_result"
    }
   ],
   "source": [
    "# check which bridges are wider than 30 meter\n",
    "Bridge_width = Bridge.loc[Bridge[\"TotalWidth\"]>30]\n",
    "Bridge_width"
   ]
  },
  {
   "cell_type": "markdown",
   "id": "3bf586ed",
   "metadata": {},
   "source": [
    "After checking on google these bridges, only Shikalbaha Bridge is correct, the other one are too large namely, 428 and 519 meters\n"
   ]
  },
  {
   "cell_type": "code",
   "execution_count": 11,
   "id": "22f093d0",
   "metadata": {},
   "outputs": [
    {
     "data": {
      "text/plain": [
       "<AxesSubplot:xlabel='TotalLength', ylabel='Count'>"
      ]
     },
     "execution_count": 11,
     "metadata": {},
     "output_type": "execute_result"
    },
    {
     "data": {
      "image/png": "[encoded data removed]",
      "text/plain": [
       "<Figure size 432x288 with 1 Axes>"
      ]
     },
     "metadata": {
      "needs_background": "light"
     },
     "output_type": "display_data"
    }
   ],
   "source": [
    "# plot a histogram of the total length of the bridges in order to identify any strange outliers\n",
    "sns.histplot(data = Bridge, x= \"TotalLength\")"
   ]
  },
  {
   "cell_type": "code",
   "execution_count": 12,
   "id": "12f427c9",
   "metadata": {},
   "outputs": [
    {
     "data": {
      "text/html": [
       "<div>\n",
       "<style scoped>\n",
       "    .dataframe tbody tr th:only-of-type {\n",
       "        vertical-align: middle;\n",
       "    }\n",
       "\n",
       "    .dataframe tbody tr th {\n",
       "        vertical-align: top;\n",
       "    }\n",
       "\n",
       "    .dataframe thead th {\n",
       "        text-align: right;\n",
       "    }\n",
       "</style>\n",
       "<table border=\"1\" class=\"dataframe\">\n",
       "  <thead>\n",
       "    <tr style=\"text-align: right;\">\n",
       "      <th></th>\n",
       "      <th>Number</th>\n",
       "      <th>StructureName</th>\n",
       "      <th>StructureType</th>\n",
       "      <th>Condition of Bridge</th>\n",
       "      <th>TotalWidth</th>\n",
       "      <th>TotalLength</th>\n",
       "      <th>ConstructionYear</th>\n",
       "      <th>NumberOfSpan</th>\n",
       "      <th>Zone</th>\n",
       "      <th>Circle</th>\n",
       "      <th>...</th>\n",
       "      <th>LocationChainage</th>\n",
       "      <th>LatitudeDegree</th>\n",
       "      <th>LatitudeMinute</th>\n",
       "      <th>LatitudeSecond</th>\n",
       "      <th>LongitudeDegree</th>\n",
       "      <th>LongitudeMinute</th>\n",
       "      <th>LongitudeSecond</th>\n",
       "      <th>BCS1TotalScore</th>\n",
       "      <th>LatitudeDecimal</th>\n",
       "      <th>LongitudeDecimal</th>\n",
       "    </tr>\n",
       "  </thead>\n",
       "  <tbody>\n",
       "    <tr>\n",
       "      <th>16</th>\n",
       "      <td>17.0</td>\n",
       "      <td>Meghna Bridge</td>\n",
       "      <td>PC Girder Bridge</td>\n",
       "      <td>A</td>\n",
       "      <td>9.14</td>\n",
       "      <td>924.85</td>\n",
       "      <td>1989.0</td>\n",
       "      <td>13.0</td>\n",
       "      <td>Dhaka</td>\n",
       "      <td>Dhaka</td>\n",
       "      <td>...</td>\n",
       "      <td>24.393</td>\n",
       "      <td>23.0</td>\n",
       "      <td>36.0</td>\n",
       "      <td>34.30</td>\n",
       "      <td>90.0</td>\n",
       "      <td>36.0</td>\n",
       "      <td>43.80</td>\n",
       "      <td>0.0</td>\n",
       "      <td>23.609528</td>\n",
       "      <td>90.612167</td>\n",
       "    </tr>\n",
       "    <tr>\n",
       "      <th>31</th>\n",
       "      <td>32.0</td>\n",
       "      <td>Daudkandi Bridge.</td>\n",
       "      <td>PC Box</td>\n",
       "      <td>A</td>\n",
       "      <td>9.13</td>\n",
       "      <td>1408.80</td>\n",
       "      <td>1995.0</td>\n",
       "      <td>17.0</td>\n",
       "      <td>Dhaka</td>\n",
       "      <td>Dhaka</td>\n",
       "      <td>...</td>\n",
       "      <td>37.010</td>\n",
       "      <td>23.0</td>\n",
       "      <td>31.0</td>\n",
       "      <td>47.50</td>\n",
       "      <td>90.0</td>\n",
       "      <td>41.0</td>\n",
       "      <td>42.50</td>\n",
       "      <td>0.0</td>\n",
       "      <td>23.529861</td>\n",
       "      <td>90.695139</td>\n",
       "    </tr>\n",
       "    <tr>\n",
       "      <th>55</th>\n",
       "      <td>56.0</td>\n",
       "      <td>Sha Amanot Bridge</td>\n",
       "      <td>PC Box</td>\n",
       "      <td>A</td>\n",
       "      <td>24.28</td>\n",
       "      <td>954.50</td>\n",
       "      <td>2009.0</td>\n",
       "      <td>11.0</td>\n",
       "      <td>Chittagong</td>\n",
       "      <td>Chittagong</td>\n",
       "      <td>...</td>\n",
       "      <td>246.020</td>\n",
       "      <td>22.0</td>\n",
       "      <td>19.0</td>\n",
       "      <td>44.90</td>\n",
       "      <td>91.0</td>\n",
       "      <td>51.0</td>\n",
       "      <td>6.00</td>\n",
       "      <td>0.0</td>\n",
       "      <td>22.329139</td>\n",
       "      <td>91.851667</td>\n",
       "    </tr>\n",
       "    <tr>\n",
       "      <th>227</th>\n",
       "      <td>228.0</td>\n",
       "      <td>Bhairab Bridge</td>\n",
       "      <td>PC Box</td>\n",
       "      <td>A</td>\n",
       "      <td>19.75</td>\n",
       "      <td>924.00</td>\n",
       "      <td>2002.0</td>\n",
       "      <td>9.0</td>\n",
       "      <td>Mymensingh</td>\n",
       "      <td>Mymensingh</td>\n",
       "      <td>...</td>\n",
       "      <td>71.834</td>\n",
       "      <td>24.0</td>\n",
       "      <td>2.0</td>\n",
       "      <td>55.84</td>\n",
       "      <td>90.0</td>\n",
       "      <td>59.0</td>\n",
       "      <td>30.15</td>\n",
       "      <td>0.0</td>\n",
       "      <td>24.048844</td>\n",
       "      <td>90.991708</td>\n",
       "    </tr>\n",
       "    <tr>\n",
       "      <th>439</th>\n",
       "      <td>440.0</td>\n",
       "      <td>Dhaleshwari Bridge</td>\n",
       "      <td>RCC Girder Bridge</td>\n",
       "      <td>A</td>\n",
       "      <td>7.90</td>\n",
       "      <td>506.59</td>\n",
       "      <td>1964.0</td>\n",
       "      <td>11.0</td>\n",
       "      <td>Dhaka</td>\n",
       "      <td>Dhaka</td>\n",
       "      <td>...</td>\n",
       "      <td>48.000</td>\n",
       "      <td>23.0</td>\n",
       "      <td>52.0</td>\n",
       "      <td>51.60</td>\n",
       "      <td>90.0</td>\n",
       "      <td>1.0</td>\n",
       "      <td>42.90</td>\n",
       "      <td>0.0</td>\n",
       "      <td>23.881000</td>\n",
       "      <td>90.028583</td>\n",
       "    </tr>\n",
       "  </tbody>\n",
       "</table>\n",
       "<p>5 rows × 26 columns</p>\n",
       "</div>"
      ],
      "text/plain": [
       "     Number       StructureName      StructureType Condition of Bridge  \\\n",
       "16     17.0       Meghna Bridge   PC Girder Bridge                   A   \n",
       "31     32.0   Daudkandi Bridge.             PC Box                   A   \n",
       "55     56.0   Sha Amanot Bridge             PC Box                   A   \n",
       "227   228.0      Bhairab Bridge             PC Box                   A   \n",
       "439   440.0  Dhaleshwari Bridge  RCC Girder Bridge                   A   \n",
       "\n",
       "     TotalWidth  TotalLength  ConstructionYear  NumberOfSpan        Zone  \\\n",
       "16         9.14       924.85            1989.0          13.0       Dhaka   \n",
       "31         9.13      1408.80            1995.0          17.0       Dhaka   \n",
       "55        24.28       954.50            2009.0          11.0  Chittagong   \n",
       "227       19.75       924.00            2002.0           9.0  Mymensingh   \n",
       "439        7.90       506.59            1964.0          11.0       Dhaka   \n",
       "\n",
       "         Circle  ... LocationChainage LatitudeDegree LatitudeMinute  \\\n",
       "16        Dhaka  ...           24.393           23.0           36.0   \n",
       "31        Dhaka  ...           37.010           23.0           31.0   \n",
       "55   Chittagong  ...          246.020           22.0           19.0   \n",
       "227  Mymensingh  ...           71.834           24.0            2.0   \n",
       "439       Dhaka  ...           48.000           23.0           52.0   \n",
       "\n",
       "    LatitudeSecond LongitudeDegree  LongitudeMinute  LongitudeSecond  \\\n",
       "16           34.30            90.0             36.0            43.80   \n",
       "31           47.50            90.0             41.0            42.50   \n",
       "55           44.90            91.0             51.0             6.00   \n",
       "227          55.84            90.0             59.0            30.15   \n",
       "439          51.60            90.0              1.0            42.90   \n",
       "\n",
       "     BCS1TotalScore  LatitudeDecimal  LongitudeDecimal  \n",
       "16              0.0        23.609528         90.612167  \n",
       "31              0.0        23.529861         90.695139  \n",
       "55              0.0        22.329139         91.851667  \n",
       "227             0.0        24.048844         90.991708  \n",
       "439             0.0        23.881000         90.028583  \n",
       "\n",
       "[5 rows x 26 columns]"
      ]
     },
     "execution_count": 12,
     "metadata": {},
     "output_type": "execute_result"
    }
   ],
   "source": [
    "Bridge_lenth = Bridge.loc[Bridge[\"TotalLength\"]>500]\n",
    "Bridge_lenth.head()"
   ]
  },
  {
   "cell_type": "markdown",
   "id": "b5e8b6f5",
   "metadata": {},
   "source": [
    "There is no strange outliers identiefied for the length of the bridges."
   ]
  },
  {
   "cell_type": "code",
   "execution_count": 13,
   "id": "bd07e3a2",
   "metadata": {},
   "outputs": [
    {
     "data": {
      "text/html": [
       "<div>\n",
       "<style scoped>\n",
       "    .dataframe tbody tr th:only-of-type {\n",
       "        vertical-align: middle;\n",
       "    }\n",
       "\n",
       "    .dataframe tbody tr th {\n",
       "        vertical-align: top;\n",
       "    }\n",
       "\n",
       "    .dataframe thead th {\n",
       "        text-align: right;\n",
       "    }\n",
       "</style>\n",
       "<table border=\"1\" class=\"dataframe\">\n",
       "  <thead>\n",
       "    <tr style=\"text-align: right;\">\n",
       "      <th></th>\n",
       "      <th>Number</th>\n",
       "      <th>StructureName</th>\n",
       "      <th>StructureType</th>\n",
       "      <th>Condition of Bridge</th>\n",
       "      <th>TotalWidth</th>\n",
       "      <th>TotalLength</th>\n",
       "      <th>ConstructionYear</th>\n",
       "      <th>NumberOfSpan</th>\n",
       "      <th>Zone</th>\n",
       "      <th>Circle</th>\n",
       "      <th>...</th>\n",
       "      <th>LocationChainage</th>\n",
       "      <th>LatitudeDegree</th>\n",
       "      <th>LatitudeMinute</th>\n",
       "      <th>LatitudeSecond</th>\n",
       "      <th>LongitudeDegree</th>\n",
       "      <th>LongitudeMinute</th>\n",
       "      <th>LongitudeSecond</th>\n",
       "      <th>BCS1TotalScore</th>\n",
       "      <th>LatitudeDecimal</th>\n",
       "      <th>LongitudeDecimal</th>\n",
       "    </tr>\n",
       "  </thead>\n",
       "  <tbody>\n",
       "    <tr>\n",
       "      <th>942</th>\n",
       "      <td>943.0</td>\n",
       "      <td>Saforpur Bridge</td>\n",
       "      <td>RCC Girder Bridge</td>\n",
       "      <td>B</td>\n",
       "      <td>4.0</td>\n",
       "      <td>24.3</td>\n",
       "      <td>2080.0</td>\n",
       "      <td>3.0</td>\n",
       "      <td>Sylhet</td>\n",
       "      <td>Moulavi Bazar</td>\n",
       "      <td>...</td>\n",
       "      <td>37.554</td>\n",
       "      <td>24.0</td>\n",
       "      <td>37.0</td>\n",
       "      <td>31.0</td>\n",
       "      <td>92.0</td>\n",
       "      <td>8.0</td>\n",
       "      <td>59.0</td>\n",
       "      <td>30.0</td>\n",
       "      <td>24.625278</td>\n",
       "      <td>92.149722</td>\n",
       "    </tr>\n",
       "  </tbody>\n",
       "</table>\n",
       "<p>1 rows × 26 columns</p>\n",
       "</div>"
      ],
      "text/plain": [
       "     Number    StructureName      StructureType Condition of Bridge  \\\n",
       "942   943.0  Saforpur Bridge  RCC Girder Bridge                   B   \n",
       "\n",
       "     TotalWidth  TotalLength  ConstructionYear  NumberOfSpan    Zone  \\\n",
       "942         4.0         24.3            2080.0           3.0  Sylhet   \n",
       "\n",
       "            Circle  ... LocationChainage LatitudeDegree LatitudeMinute  \\\n",
       "942  Moulavi Bazar  ...           37.554           24.0           37.0   \n",
       "\n",
       "    LatitudeSecond LongitudeDegree  LongitudeMinute  LongitudeSecond  \\\n",
       "942           31.0            92.0              8.0             59.0   \n",
       "\n",
       "     BCS1TotalScore  LatitudeDecimal  LongitudeDecimal  \n",
       "942            30.0        24.625278         92.149722  \n",
       "\n",
       "[1 rows x 26 columns]"
      ]
     },
     "execution_count": 13,
     "metadata": {},
     "output_type": "execute_result"
    },
    {
     "data": {
      "image/png": "[encoded data removed]",
      "text/plain": [
       "<Figure size 432x288 with 1 Axes>"
      ]
     },
     "metadata": {
      "needs_background": "light"
     },
     "output_type": "display_data"
    }
   ],
   "source": [
    "# plot a histogram of the construction year of the bridges in order to identify any strange outliers\n",
    "sns.histplot(data = Bridge, x = 'ConstructionYear')\n",
    "ConstructionYear = Bridge.loc[Bridge[\"ConstructionYear\"]>2021]\n",
    "ConstructionYear"
   ]
  },
  {
   "cell_type": "markdown",
   "id": "07e39914",
   "metadata": {},
   "source": [
    "This bridge is from 2080, need to be recoded to 1980 or deleted. "
   ]
  },
  {
   "cell_type": "code",
   "execution_count": 14,
   "id": "e8ccbcd4",
   "metadata": {},
   "outputs": [
    {
     "data": {
      "text/html": [
       "<div>\n",
       "<style scoped>\n",
       "    .dataframe tbody tr th:only-of-type {\n",
       "        vertical-align: middle;\n",
       "    }\n",
       "\n",
       "    .dataframe tbody tr th {\n",
       "        vertical-align: top;\n",
       "    }\n",
       "\n",
       "    .dataframe thead th {\n",
       "        text-align: right;\n",
       "    }\n",
       "</style>\n",
       "<table border=\"1\" class=\"dataframe\">\n",
       "  <thead>\n",
       "    <tr style=\"text-align: right;\">\n",
       "      <th></th>\n",
       "      <th>Number</th>\n",
       "      <th>StructureName</th>\n",
       "      <th>StructureType</th>\n",
       "      <th>Condition of Bridge</th>\n",
       "      <th>TotalWidth</th>\n",
       "      <th>TotalLength</th>\n",
       "      <th>ConstructionYear</th>\n",
       "      <th>NumberOfSpan</th>\n",
       "      <th>Zone</th>\n",
       "      <th>Circle</th>\n",
       "      <th>...</th>\n",
       "      <th>LocationChainage</th>\n",
       "      <th>LatitudeDegree</th>\n",
       "      <th>LatitudeMinute</th>\n",
       "      <th>LatitudeSecond</th>\n",
       "      <th>LongitudeDegree</th>\n",
       "      <th>LongitudeMinute</th>\n",
       "      <th>LongitudeSecond</th>\n",
       "      <th>BCS1TotalScore</th>\n",
       "      <th>LatitudeDecimal</th>\n",
       "      <th>LongitudeDecimal</th>\n",
       "    </tr>\n",
       "  </thead>\n",
       "  <tbody>\n",
       "    <tr>\n",
       "      <th>346</th>\n",
       "      <td>347.0</td>\n",
       "      <td>Keen Bridge</td>\n",
       "      <td>Steel Beam &amp; RCC Slab</td>\n",
       "      <td>C</td>\n",
       "      <td>5.80</td>\n",
       "      <td>358.00</td>\n",
       "      <td>1936.0</td>\n",
       "      <td>22.0</td>\n",
       "      <td>Sylhet</td>\n",
       "      <td>Sylhet</td>\n",
       "      <td>...</td>\n",
       "      <td>58.496</td>\n",
       "      <td>24.0</td>\n",
       "      <td>53.0</td>\n",
       "      <td>10.3</td>\n",
       "      <td>91.0</td>\n",
       "      <td>52.0</td>\n",
       "      <td>5.2</td>\n",
       "      <td>560.0</td>\n",
       "      <td>24.886194</td>\n",
       "      <td>91.868111</td>\n",
       "    </tr>\n",
       "    <tr>\n",
       "      <th>609</th>\n",
       "      <td>610.0</td>\n",
       "      <td>Postagola Bridge</td>\n",
       "      <td>PC Girder Bridge</td>\n",
       "      <td>A</td>\n",
       "      <td>17.60</td>\n",
       "      <td>847.90</td>\n",
       "      <td>1989.0</td>\n",
       "      <td>21.0</td>\n",
       "      <td>Dhaka</td>\n",
       "      <td>Dhaka</td>\n",
       "      <td>...</td>\n",
       "      <td>2.587</td>\n",
       "      <td>23.0</td>\n",
       "      <td>41.0</td>\n",
       "      <td>21.7</td>\n",
       "      <td>90.0</td>\n",
       "      <td>25.0</td>\n",
       "      <td>45.9</td>\n",
       "      <td>0.0</td>\n",
       "      <td>23.689361</td>\n",
       "      <td>90.429417</td>\n",
       "    </tr>\n",
       "    <tr>\n",
       "      <th>1188</th>\n",
       "      <td>1189.0</td>\n",
       "      <td>Babu Bazar Bridge</td>\n",
       "      <td>PC Girder Bridge</td>\n",
       "      <td>A</td>\n",
       "      <td>17.60</td>\n",
       "      <td>1018.00</td>\n",
       "      <td>2000.0</td>\n",
       "      <td>31.0</td>\n",
       "      <td>Dhaka</td>\n",
       "      <td>Dhaka</td>\n",
       "      <td>...</td>\n",
       "      <td>1.015</td>\n",
       "      <td>23.0</td>\n",
       "      <td>42.0</td>\n",
       "      <td>17.6</td>\n",
       "      <td>90.0</td>\n",
       "      <td>23.0</td>\n",
       "      <td>56.7</td>\n",
       "      <td>0.0</td>\n",
       "      <td>23.704889</td>\n",
       "      <td>90.399083</td>\n",
       "    </tr>\n",
       "    <tr>\n",
       "      <th>1242</th>\n",
       "      <td>1243.0</td>\n",
       "      <td>Gabkhan Bridge</td>\n",
       "      <td>PC Girder Bridge</td>\n",
       "      <td>B</td>\n",
       "      <td>9.75</td>\n",
       "      <td>910.60</td>\n",
       "      <td>2001.0</td>\n",
       "      <td>25.0</td>\n",
       "      <td>Barisal</td>\n",
       "      <td>Barisal</td>\n",
       "      <td>...</td>\n",
       "      <td>19.917</td>\n",
       "      <td>22.0</td>\n",
       "      <td>38.0</td>\n",
       "      <td>34.0</td>\n",
       "      <td>90.0</td>\n",
       "      <td>10.0</td>\n",
       "      <td>58.0</td>\n",
       "      <td>1.0</td>\n",
       "      <td>22.642778</td>\n",
       "      <td>90.182778</td>\n",
       "    </tr>\n",
       "    <tr>\n",
       "      <th>2208</th>\n",
       "      <td>2209.0</td>\n",
       "      <td>Atrai Bridge.</td>\n",
       "      <td>RCC Girder Bridge</td>\n",
       "      <td>A</td>\n",
       "      <td>7.87</td>\n",
       "      <td>492.58</td>\n",
       "      <td>2006.0</td>\n",
       "      <td>24.0</td>\n",
       "      <td>Rangpur</td>\n",
       "      <td>Dinajpur</td>\n",
       "      <td>...</td>\n",
       "      <td>10.730</td>\n",
       "      <td>25.0</td>\n",
       "      <td>55.0</td>\n",
       "      <td>50.4</td>\n",
       "      <td>88.0</td>\n",
       "      <td>43.0</td>\n",
       "      <td>14.7</td>\n",
       "      <td>0.0</td>\n",
       "      <td>25.930667</td>\n",
       "      <td>88.720750</td>\n",
       "    </tr>\n",
       "  </tbody>\n",
       "</table>\n",
       "<p>5 rows × 26 columns</p>\n",
       "</div>"
      ],
      "text/plain": [
       "      Number      StructureName          StructureType Condition of Bridge  \\\n",
       "346    347.0        Keen Bridge  Steel Beam & RCC Slab                   C   \n",
       "609    610.0   Postagola Bridge       PC Girder Bridge                   A   \n",
       "1188  1189.0  Babu Bazar Bridge       PC Girder Bridge                   A   \n",
       "1242  1243.0     Gabkhan Bridge       PC Girder Bridge                   B   \n",
       "2208  2209.0      Atrai Bridge.      RCC Girder Bridge                   A   \n",
       "\n",
       "      TotalWidth  TotalLength  ConstructionYear  NumberOfSpan     Zone  \\\n",
       "346         5.80       358.00            1936.0          22.0   Sylhet   \n",
       "609        17.60       847.90            1989.0          21.0    Dhaka   \n",
       "1188       17.60      1018.00            2000.0          31.0    Dhaka   \n",
       "1242        9.75       910.60            2001.0          25.0  Barisal   \n",
       "2208        7.87       492.58            2006.0          24.0  Rangpur   \n",
       "\n",
       "        Circle  ... LocationChainage LatitudeDegree LatitudeMinute  \\\n",
       "346     Sylhet  ...           58.496           24.0           53.0   \n",
       "609      Dhaka  ...            2.587           23.0           41.0   \n",
       "1188     Dhaka  ...            1.015           23.0           42.0   \n",
       "1242   Barisal  ...           19.917           22.0           38.0   \n",
       "2208  Dinajpur  ...           10.730           25.0           55.0   \n",
       "\n",
       "     LatitudeSecond LongitudeDegree  LongitudeMinute  LongitudeSecond  \\\n",
       "346            10.3            91.0             52.0              5.2   \n",
       "609            21.7            90.0             25.0             45.9   \n",
       "1188           17.6            90.0             23.0             56.7   \n",
       "1242           34.0            90.0             10.0             58.0   \n",
       "2208           50.4            88.0             43.0             14.7   \n",
       "\n",
       "      BCS1TotalScore  LatitudeDecimal  LongitudeDecimal  \n",
       "346            560.0        24.886194         91.868111  \n",
       "609              0.0        23.689361         90.429417  \n",
       "1188             0.0        23.704889         90.399083  \n",
       "1242             1.0        22.642778         90.182778  \n",
       "2208             0.0        25.930667         88.720750  \n",
       "\n",
       "[5 rows x 26 columns]"
      ]
     },
     "execution_count": 14,
     "metadata": {},
     "output_type": "execute_result"
    },
    {
     "data": {
      "image/png": "[encoded data removed]",
      "text/plain": [
       "<Figure size 432x288 with 1 Axes>"
      ]
     },
     "metadata": {
      "needs_background": "light"
     },
     "output_type": "display_data"
    }
   ],
   "source": [
    "sns.histplot(data = Bridge, x = 'NumberOfSpan')\n",
    "NumberOfSpan = Bridge.loc[Bridge[\"NumberOfSpan\"]>20]\n",
    "NumberOfSpan"
   ]
  },
  {
   "cell_type": "markdown",
   "id": "26be666f",
   "metadata": {},
   "source": [
    "All these bridges were checked with google and are correct. "
   ]
  },
  {
   "cell_type": "markdown",
   "id": "f38d6560",
   "metadata": {},
   "source": [
    "All bridges with a length superior to 500m are actualy existing and that large. "
   ]
  },
  {
   "cell_type": "markdown",
   "id": "20ff579d",
   "metadata": {},
   "source": [
    "### Compare geospatially"
   ]
  },
  {
   "cell_type": "code",
   "execution_count": 15,
   "id": "d08821f3",
   "metadata": {},
   "outputs": [],
   "source": [
    "import geopandas as gpd"
   ]
  },
  {
   "cell_type": "code",
   "execution_count": 16,
   "id": "baba754a",
   "metadata": {},
   "outputs": [],
   "source": [
    "land = gpd.read_file(\"../data/raw/BGD_adm0.shp\")"
   ]
  },
  {
   "cell_type": "code",
   "execution_count": 17,
   "id": "4c8c8b2a",
   "metadata": {},
   "outputs": [
    {
     "data": {
      "text/plain": [
       "geopandas.geodataframe.GeoDataFrame"
      ]
     },
     "execution_count": 17,
     "metadata": {},
     "output_type": "execute_result"
    }
   ],
   "source": [
    "type(land)"
   ]
  },
  {
   "cell_type": "code",
   "execution_count": 18,
   "id": "1549d553",
   "metadata": {},
   "outputs": [
    {
     "data": {
      "text/plain": [
       "geopandas.geodataframe.GeoDataFrame"
      ]
     },
     "execution_count": 18,
     "metadata": {},
     "output_type": "execute_result"
    },
    {
     "data": {
      "image/png": "[encoded data removed]",
      "text/plain": [
       "<Figure size 432x288 with 1 Axes>"
      ]
     },
     "metadata": {
      "needs_background": "light"
     },
     "output_type": "display_data"
    }
   ],
   "source": [
    "#land[\"geometry\"] = land\n",
    "land.plot()\n",
    "type(land)"
   ]
  },
  {
   "cell_type": "code",
   "execution_count": 24,
   "id": "21d08270",
   "metadata": {},
   "outputs": [
    {
     "data": {
      "text/plain": [
       "geopandas.geoseries.GeoSeries"
      ]
     },
     "execution_count": 24,
     "metadata": {},
     "output_type": "execute_result"
    }
   ],
   "source": [
    "landg = land[\"geometry\"]\n",
    "type(landg)"
   ]
  },
  {
   "cell_type": "code",
   "execution_count": 25,
   "id": "09c514c6",
   "metadata": {},
   "outputs": [
    {
     "data": {
      "text/plain": [
       "<AxesSubplot:>"
      ]
     },
     "execution_count": 25,
     "metadata": {},
     "output_type": "execute_result"
    },
    {
     "data": {
      "image/png": "[encoded data removed]",
      "text/plain": [
       "<Figure size 432x288 with 1 Axes>"
      ]
     },
     "metadata": {
      "needs_background": "light"
     },
     "output_type": "display_data"
    }
   ],
   "source": [
    "lands = landg.simplify(100)\n",
    "lands.plot()"
   ]
  },
  {
   "cell_type": "code",
   "execution_count": 21,
   "id": "36b03710",
   "metadata": {},
   "outputs": [
    {
     "data": {
      "text/plain": [
       "<AxesSubplot:>"
      ]
     },
     "execution_count": 21,
     "metadata": {},
     "output_type": "execute_result"
    },
    {
     "data": {
      "image/png": "[encoded data removed]",
      "text/plain": [
       "<Figure size 432x288 with 1 Axes>"
      ]
     },
     "metadata": {
      "needs_background": "light"
     },
     "output_type": "display_data"
    }
   ],
   "source": [
    "bridge_geo = gpd.GeoDataFrame(Bridge, geometry=gpd.points_from_xy(Bridge[\"LongitudeDecimal\"], Bridge[\"LatitudeDecimal\"]))\n",
    "bridge_geo.plot()"
   ]
  },
  {
   "cell_type": "code",
   "execution_count": 22,
   "id": "063591bd",
   "metadata": {},
   "outputs": [
    {
     "data": {
      "text/plain": [
       "geopandas.geodataframe.GeoDataFrame"
      ]
     },
     "execution_count": 22,
     "metadata": {},
     "output_type": "execute_result"
    }
   ],
   "source": [
    "bridge_geo = bridge_geo.buffer(500)\n",
    "bridge_geo = gpd.GeoDataFrame(geometry=gpd.GeoSeries(bridge_geo))\n",
    "type(bridge_geo)"
   ]
  },
  {
   "cell_type": "code",
   "execution_count": null,
   "id": "93c89f6a",
   "metadata": {},
   "outputs": [],
   "source": [
    "real_bridges = gpd.overlay(land, bridge_geo, how=\"intersection\")\n",
    "real_bridges.plot()"
   ]
  },
  {
   "cell_type": "markdown",
   "id": "42649126",
   "metadata": {},
   "source": [
    "### Other boundingbox stuff"
   ]
  },
  {
   "cell_type": "code",
   "execution_count": null,
   "id": "560f1b34",
   "metadata": {},
   "outputs": [],
   "source": [
    "sea_bridge = Bridge.loc[Bridge[\"LatitudeDecimal\"] < 21.834]\n",
    "sea_bridge1 = sea_bridge.loc[sea_bridge[\"LongitudeDecimal\"] > 90.121]\n",
    "sea_bridge2 = sea_bridge1.loc[sea_bridge1[\"LongitudeDecimal\"] < 91.85]\n",
    "sea_bridge2.head()"
   ]
  },
  {
   "cell_type": "code",
   "execution_count": null,
   "id": "3b97709d",
   "metadata": {},
   "outputs": [],
   "source": [
    "sea_bridge3 = Bridge.loc[Bridge[\"LatitudeDegree\"] < 20.794]\n",
    "sea_bridge3.head()"
   ]
  },
  {
   "cell_type": "code",
   "execution_count": null,
   "id": "77413dec",
   "metadata": {},
   "outputs": [],
   "source": [
    "sea_bridge4 = Bridge.loc[Bridge[\"LatitudeDegree\"] < 21.45]\n",
    "sea_bridge5 = sea_bridge4.loc[sea_bridge4[\"LongitudeDegree\"] < 91.89]\n",
    "sea_bridge5.head()"
   ]
  },
  {
   "cell_type": "code",
   "execution_count": null,
   "id": "791589ae",
   "metadata": {},
   "outputs": [],
   "source": [
    "sea_bridge6 = Bridge.loc[Bridge[\"LatitudeDegree\"] < 22.05]\n",
    "sea_bridge7 = sea_bridge6.loc[sea_bridge6[\"LongitudeDegree\"] > 90]\n",
    "sea_bridge8 = sea_bridge7.loc[sea_bridge7[\"LongitudeDegree\"] < 91.64]\n",
    "sea_bridge8.head()"
   ]
  },
  {
   "cell_type": "code",
   "execution_count": null,
   "id": "18e9488e",
   "metadata": {},
   "outputs": [],
   "source": [
    "sea_bridges_final = Bridge.subtract(sea_bridge2, axis= 0)\n",
    "sea_bridges_final"
   ]
  },
  {
   "cell_type": "code",
   "execution_count": null,
   "id": "573f1bd4",
   "metadata": {},
   "outputs": [],
   "source": [
    "new = df1.merge(df2,on=['Team','Year'],how='left')\n",
    "sea_bridge5.rows - sea_bridge3.rows - sea_bridge2.rows\n"
   ]
  },
  {
   "cell_type": "code",
   "execution_count": null,
   "id": "2bac60d8",
   "metadata": {},
   "outputs": [],
   "source": []
  }
 ],
 "metadata": {
  "kernelspec": {
   "display_name": "Python 3 (ipykernel)",
   "language": "python",
   "name": "python3"
  },
  "language_info": {
   "codemirror_mode": {
    "name": "ipython",
    "version": 3
   },
   "file_extension": ".py",
   "mimetype": "text/x-python",
   "name": "python",
   "nbconvert_exporter": "python",
   "pygments_lexer": "ipython3",
   "version": "3.8.12"
  }
 },
 "nbformat": 4,
 "nbformat_minor": 5
}
