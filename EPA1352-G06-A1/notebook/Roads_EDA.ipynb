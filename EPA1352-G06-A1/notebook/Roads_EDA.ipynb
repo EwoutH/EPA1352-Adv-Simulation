{
 "cells": [
  {
   "cell_type": "markdown",
   "id": "ab48ca0f",
   "metadata": {
    "pycharm": {
     "name": "#%% md\n"
    }
   },
   "source": [
    "# EDA of the roads network"
   ]
  },
  {
   "cell_type": "code",
   "execution_count": 107,
   "id": "4e631cd5-70ba-4eb4-9fa5-02dc8939e730",
   "metadata": {},
   "outputs": [],
   "source": [
    "# Imports\n",
    "import pandas as pd\n",
    "import pickle\n",
    "\n",
    "# Print dataframes compact by displaying max 7 rows\n",
    "pd.options.display.max_rows = 7"
   ]
  },
  {
   "cell_type": "markdown",
   "id": "6f611481",
   "metadata": {
    "pycharm": {
     "name": "#%% md\n"
    }
   },
   "source": [
    "## Read the CSV as dataframe"
   ]
  },
  {
   "cell_type": "code",
   "execution_count": 108,
   "id": "d4bfdea3-219f-4ed8-a131-99ad36e7ae9f",
   "metadata": {},
   "outputs": [],
   "source": [
    "roads = pd.read_csv('../data/interim/roads_file.csv', index_col=False, delimiter=';')"
   ]
  },
  {
   "cell_type": "code",
   "execution_count": 109,
   "id": "7ef76ecd-8a2a-4922-85c1-ee7454c4554b",
   "metadata": {},
   "outputs": [
    {
     "data": {
      "text/html": [
       "<div>\n",
       "<style scoped>\n",
       "    .dataframe tbody tr th:only-of-type {\n",
       "        vertical-align: middle;\n",
       "    }\n",
       "\n",
       "    .dataframe tbody tr th {\n",
       "        vertical-align: top;\n",
       "    }\n",
       "\n",
       "    .dataframe thead th {\n",
       "        text-align: right;\n",
       "    }\n",
       "</style>\n",
       "<table border=\"1\" class=\"dataframe\">\n",
       "  <thead>\n",
       "    <tr style=\"text-align: right;\">\n",
       "      <th></th>\n",
       "      <th>road</th>\n",
       "      <th>lrp1</th>\n",
       "      <th>lat1</th>\n",
       "      <th>lon1</th>\n",
       "      <th>lrp2</th>\n",
       "      <th>lat2</th>\n",
       "      <th>lon2</th>\n",
       "      <th>Unnamed: 7</th>\n",
       "      <th>Unnamed: 8</th>\n",
       "      <th>Unnamed: 9</th>\n",
       "      <th>...</th>\n",
       "      <th>Unnamed: 990</th>\n",
       "      <th>Unnamed: 991</th>\n",
       "      <th>Unnamed: 992</th>\n",
       "      <th>Unnamed: 993</th>\n",
       "      <th>Unnamed: 994</th>\n",
       "      <th>Unnamed: 995</th>\n",
       "      <th>Unnamed: 996</th>\n",
       "      <th>Unnamed: 997</th>\n",
       "      <th>Unnamed: 998</th>\n",
       "      <th>Unnamed: 999</th>\n",
       "    </tr>\n",
       "  </thead>\n",
       "  <tbody>\n",
       "    <tr>\n",
       "      <th>0</th>\n",
       "      <td>N1</td>\n",
       "      <td>LRPS</td>\n",
       "      <td>23.706028</td>\n",
       "      <td>90.443333</td>\n",
       "      <td>LRPSa</td>\n",
       "      <td>23.702917</td>\n",
       "      <td>90.450417</td>\n",
       "      <td>LRPSb</td>\n",
       "      <td>23.702778</td>\n",
       "      <td>90.450472</td>\n",
       "      <td>...</td>\n",
       "      <td>91.36575</td>\n",
       "      <td>LRP145a</td>\n",
       "      <td>23.029416</td>\n",
       "      <td>91.365639</td>\n",
       "      <td>LRP146</td>\n",
       "      <td>23.026972</td>\n",
       "      <td>91.3655</td>\n",
       "      <td>LRP146a</td>\n",
       "      <td>23.024833</td>\n",
       "      <td>91.365528</td>\n",
       "    </tr>\n",
       "    <tr>\n",
       "      <th>1</th>\n",
       "      <td>N101</td>\n",
       "      <td>LRPS</td>\n",
       "      <td>23.454139</td>\n",
       "      <td>91.212861</td>\n",
       "      <td>LRPSa</td>\n",
       "      <td>23.461889</td>\n",
       "      <td>91.212000</td>\n",
       "      <td>LRP001</td>\n",
       "      <td>23.462944</td>\n",
       "      <td>91.211806</td>\n",
       "      <td>...</td>\n",
       "      <td>NaN</td>\n",
       "      <td>NaN</td>\n",
       "      <td>NaN</td>\n",
       "      <td>NaN</td>\n",
       "      <td>NaN</td>\n",
       "      <td>NaN</td>\n",
       "      <td>NaN</td>\n",
       "      <td>NaN</td>\n",
       "      <td>NaN</td>\n",
       "      <td>NaN</td>\n",
       "    </tr>\n",
       "    <tr>\n",
       "      <th>2</th>\n",
       "      <td>N102</td>\n",
       "      <td>LRPS</td>\n",
       "      <td>23.478972</td>\n",
       "      <td>91.118194</td>\n",
       "      <td>LRPSa</td>\n",
       "      <td>23.481583</td>\n",
       "      <td>91.116777</td>\n",
       "      <td>LRPSb</td>\n",
       "      <td>23.486666</td>\n",
       "      <td>91.113361</td>\n",
       "      <td>...</td>\n",
       "      <td>NaN</td>\n",
       "      <td>NaN</td>\n",
       "      <td>NaN</td>\n",
       "      <td>NaN</td>\n",
       "      <td>NaN</td>\n",
       "      <td>NaN</td>\n",
       "      <td>NaN</td>\n",
       "      <td>NaN</td>\n",
       "      <td>NaN</td>\n",
       "      <td>NaN</td>\n",
       "    </tr>\n",
       "    <tr>\n",
       "      <th>...</th>\n",
       "      <td>...</td>\n",
       "      <td>...</td>\n",
       "      <td>...</td>\n",
       "      <td>...</td>\n",
       "      <td>...</td>\n",
       "      <td>...</td>\n",
       "      <td>...</td>\n",
       "      <td>...</td>\n",
       "      <td>...</td>\n",
       "      <td>...</td>\n",
       "      <td>...</td>\n",
       "      <td>...</td>\n",
       "      <td>...</td>\n",
       "      <td>...</td>\n",
       "      <td>...</td>\n",
       "      <td>...</td>\n",
       "      <td>...</td>\n",
       "      <td>...</td>\n",
       "      <td>...</td>\n",
       "      <td>...</td>\n",
       "      <td>...</td>\n",
       "    </tr>\n",
       "    <tr>\n",
       "      <th>882</th>\n",
       "      <td>Z8915</td>\n",
       "      <td>LRPS</td>\n",
       "      <td>22.589389</td>\n",
       "      <td>90.619472</td>\n",
       "      <td>LRP001</td>\n",
       "      <td>22.589694</td>\n",
       "      <td>90.623360</td>\n",
       "      <td>LRP001a</td>\n",
       "      <td>22.590027</td>\n",
       "      <td>90.631360</td>\n",
       "      <td>...</td>\n",
       "      <td>NaN</td>\n",
       "      <td>NaN</td>\n",
       "      <td>NaN</td>\n",
       "      <td>NaN</td>\n",
       "      <td>NaN</td>\n",
       "      <td>NaN</td>\n",
       "      <td>NaN</td>\n",
       "      <td>NaN</td>\n",
       "      <td>NaN</td>\n",
       "      <td>NaN</td>\n",
       "    </tr>\n",
       "    <tr>\n",
       "      <th>883</th>\n",
       "      <td>Z8916</td>\n",
       "      <td>LRPS</td>\n",
       "      <td>22.625499</td>\n",
       "      <td>90.661722</td>\n",
       "      <td>LRPSa</td>\n",
       "      <td>22.623888</td>\n",
       "      <td>90.664167</td>\n",
       "      <td>LRP001</td>\n",
       "      <td>22.620305</td>\n",
       "      <td>90.668999</td>\n",
       "      <td>...</td>\n",
       "      <td>NaN</td>\n",
       "      <td>NaN</td>\n",
       "      <td>NaN</td>\n",
       "      <td>NaN</td>\n",
       "      <td>NaN</td>\n",
       "      <td>NaN</td>\n",
       "      <td>NaN</td>\n",
       "      <td>NaN</td>\n",
       "      <td>NaN</td>\n",
       "      <td>NaN</td>\n",
       "    </tr>\n",
       "    <tr>\n",
       "      <th>884</th>\n",
       "      <td>Z8943</td>\n",
       "      <td>LRPS</td>\n",
       "      <td>22.426444</td>\n",
       "      <td>90.849472</td>\n",
       "      <td>LRPSa</td>\n",
       "      <td>22.426416</td>\n",
       "      <td>90.846833</td>\n",
       "      <td>LRP001</td>\n",
       "      <td>22.425444</td>\n",
       "      <td>90.839861</td>\n",
       "      <td>...</td>\n",
       "      <td>NaN</td>\n",
       "      <td>NaN</td>\n",
       "      <td>NaN</td>\n",
       "      <td>NaN</td>\n",
       "      <td>NaN</td>\n",
       "      <td>NaN</td>\n",
       "      <td>NaN</td>\n",
       "      <td>NaN</td>\n",
       "      <td>NaN</td>\n",
       "      <td>NaN</td>\n",
       "    </tr>\n",
       "  </tbody>\n",
       "</table>\n",
       "<p>885 rows × 1000 columns</p>\n",
       "</div>"
      ],
      "text/plain": [
       "      road  lrp1       lat1       lon1    lrp2       lat2       lon2  \\\n",
       "0       N1  LRPS  23.706028  90.443333   LRPSa  23.702917  90.450417   \n",
       "1     N101  LRPS  23.454139  91.212861   LRPSa  23.461889  91.212000   \n",
       "2     N102  LRPS  23.478972  91.118194   LRPSa  23.481583  91.116777   \n",
       "..     ...   ...        ...        ...     ...        ...        ...   \n",
       "882  Z8915  LRPS  22.589389  90.619472  LRP001  22.589694  90.623360   \n",
       "883  Z8916  LRPS  22.625499  90.661722   LRPSa  22.623888  90.664167   \n",
       "884  Z8943  LRPS  22.426444  90.849472   LRPSa  22.426416  90.846833   \n",
       "\n",
       "    Unnamed: 7  Unnamed: 8  Unnamed: 9  ... Unnamed: 990  Unnamed: 991  \\\n",
       "0        LRPSb   23.702778   90.450472  ...     91.36575       LRP145a   \n",
       "1       LRP001   23.462944   91.211806  ...          NaN           NaN   \n",
       "2        LRPSb   23.486666   91.113361  ...          NaN           NaN   \n",
       "..         ...         ...         ...  ...          ...           ...   \n",
       "882    LRP001a   22.590027   90.631360  ...          NaN           NaN   \n",
       "883     LRP001   22.620305   90.668999  ...          NaN           NaN   \n",
       "884     LRP001   22.425444   90.839861  ...          NaN           NaN   \n",
       "\n",
       "     Unnamed: 992 Unnamed: 993  Unnamed: 994  Unnamed: 995 Unnamed: 996  \\\n",
       "0       23.029416    91.365639        LRP146     23.026972      91.3655   \n",
       "1             NaN          NaN           NaN           NaN          NaN   \n",
       "2             NaN          NaN           NaN           NaN          NaN   \n",
       "..            ...          ...           ...           ...          ...   \n",
       "882           NaN          NaN           NaN           NaN          NaN   \n",
       "883           NaN          NaN           NaN           NaN          NaN   \n",
       "884           NaN          NaN           NaN           NaN          NaN   \n",
       "\n",
       "     Unnamed: 997  Unnamed: 998 Unnamed: 999  \n",
       "0         LRP146a     23.024833    91.365528  \n",
       "1             NaN           NaN          NaN  \n",
       "2             NaN           NaN          NaN  \n",
       "..            ...           ...          ...  \n",
       "882           NaN           NaN          NaN  \n",
       "883           NaN           NaN          NaN  \n",
       "884           NaN           NaN          NaN  \n",
       "\n",
       "[885 rows x 1000 columns]"
      ]
     },
     "execution_count": 109,
     "metadata": {},
     "output_type": "execute_result"
    }
   ],
   "source": [
    "roads"
   ]
  },
  {
   "cell_type": "markdown",
   "id": "ab634925",
   "metadata": {
    "pycharm": {
     "name": "#%% md\n"
    }
   },
   "source": [
    "## Create dataframe by road"
   ]
  },
  {
   "cell_type": "code",
   "execution_count": 110,
   "id": "c752d9a4",
   "metadata": {
    "collapsed": false,
    "jupyter": {
     "outputs_hidden": false
    },
    "pycharm": {
     "name": "#%%\n"
    }
   },
   "outputs": [],
   "source": [
    "road = {}"
   ]
  },
  {
   "cell_type": "code",
   "execution_count": 111,
   "id": "81f68fcb",
   "metadata": {
    "collapsed": false,
    "jupyter": {
     "outputs_hidden": false
    },
    "pycharm": {
     "name": "#%%\n"
    }
   },
   "outputs": [
    {
     "data": {
      "text/html": [
       "<div>\n",
       "<style scoped>\n",
       "    .dataframe tbody tr th:only-of-type {\n",
       "        vertical-align: middle;\n",
       "    }\n",
       "\n",
       "    .dataframe tbody tr th {\n",
       "        vertical-align: top;\n",
       "    }\n",
       "\n",
       "    .dataframe thead th {\n",
       "        text-align: right;\n",
       "    }\n",
       "</style>\n",
       "<table border=\"1\" class=\"dataframe\">\n",
       "  <thead>\n",
       "    <tr style=\"text-align: right;\">\n",
       "      <th></th>\n",
       "      <th>road</th>\n",
       "      <th>lrp1</th>\n",
       "      <th>lat1</th>\n",
       "      <th>lon1</th>\n",
       "      <th>lrp2</th>\n",
       "      <th>lat2</th>\n",
       "      <th>lon2</th>\n",
       "      <th>Unnamed: 7</th>\n",
       "      <th>Unnamed: 8</th>\n",
       "      <th>Unnamed: 9</th>\n",
       "      <th>...</th>\n",
       "      <th>Unnamed: 990</th>\n",
       "      <th>Unnamed: 991</th>\n",
       "      <th>Unnamed: 992</th>\n",
       "      <th>Unnamed: 993</th>\n",
       "      <th>Unnamed: 994</th>\n",
       "      <th>Unnamed: 995</th>\n",
       "      <th>Unnamed: 996</th>\n",
       "      <th>Unnamed: 997</th>\n",
       "      <th>Unnamed: 998</th>\n",
       "      <th>Unnamed: 999</th>\n",
       "    </tr>\n",
       "  </thead>\n",
       "  <tbody>\n",
       "    <tr>\n",
       "      <th>0</th>\n",
       "      <td>N1</td>\n",
       "      <td>LRPS</td>\n",
       "      <td>23.706028</td>\n",
       "      <td>90.443333</td>\n",
       "      <td>LRPSa</td>\n",
       "      <td>23.702917</td>\n",
       "      <td>90.450417</td>\n",
       "      <td>LRPSb</td>\n",
       "      <td>23.702778</td>\n",
       "      <td>90.450472</td>\n",
       "      <td>...</td>\n",
       "      <td>91.36575</td>\n",
       "      <td>LRP145a</td>\n",
       "      <td>23.029416</td>\n",
       "      <td>91.365639</td>\n",
       "      <td>LRP146</td>\n",
       "      <td>23.026972</td>\n",
       "      <td>91.3655</td>\n",
       "      <td>LRP146a</td>\n",
       "      <td>23.024833</td>\n",
       "      <td>91.365528</td>\n",
       "    </tr>\n",
       "  </tbody>\n",
       "</table>\n",
       "<p>1 rows × 1000 columns</p>\n",
       "</div>"
      ],
      "text/plain": [
       "  road  lrp1       lat1       lon1   lrp2       lat2       lon2 Unnamed: 7  \\\n",
       "0   N1  LRPS  23.706028  90.443333  LRPSa  23.702917  90.450417      LRPSb   \n",
       "\n",
       "   Unnamed: 8  Unnamed: 9  ... Unnamed: 990  Unnamed: 991  Unnamed: 992  \\\n",
       "0   23.702778   90.450472  ...     91.36575       LRP145a     23.029416   \n",
       "\n",
       "  Unnamed: 993  Unnamed: 994  Unnamed: 995 Unnamed: 996  Unnamed: 997  \\\n",
       "0    91.365639        LRP146     23.026972      91.3655       LRP146a   \n",
       "\n",
       "   Unnamed: 998 Unnamed: 999  \n",
       "0     23.024833    91.365528  \n",
       "\n",
       "[1 rows x 1000 columns]"
      ]
     },
     "execution_count": 111,
     "metadata": {},
     "output_type": "execute_result"
    }
   ],
   "source": [
    "sel_road = 'N1'\n",
    "road[sel_road] = roads.loc[roads['road'] == sel_road]\n",
    "road[sel_road]"
   ]
  },
  {
   "cell_type": "code",
   "execution_count": 112,
   "id": "07d205fb",
   "metadata": {
    "collapsed": false,
    "jupyter": {
     "outputs_hidden": false
    },
    "pycharm": {
     "name": "#%%\n"
    }
   },
   "outputs": [],
   "source": [
    "def dataframe_per_road(single_row_df):\n",
    "    # Create a series from the single-row dataframe\n",
    "    series = single_row_df.iloc[0 , 1:]\n",
    "\n",
    "    # Create an empty dataframe with 3 columns\n",
    "    new_df = pd.DataFrame(columns=[\"name\", \"lat\", \"long\"])\n",
    "\n",
    "    # Fill that dataframe by splitting the series in sections of\n",
    "    for i in range(len(series)//3):\n",
    "        start = i*3\n",
    "        end = (i+1)*3\n",
    "        new_df.loc[i] = series.iloc[start:end].tolist()\n",
    "    return new_df"
   ]
  },
  {
   "cell_type": "code",
   "execution_count": 113,
   "id": "1e461727",
   "metadata": {
    "collapsed": false,
    "jupyter": {
     "outputs_hidden": false
    },
    "pycharm": {
     "name": "#%%\n"
    }
   },
   "outputs": [
    {
     "data": {
      "text/html": [
       "<div>\n",
       "<style scoped>\n",
       "    .dataframe tbody tr th:only-of-type {\n",
       "        vertical-align: middle;\n",
       "    }\n",
       "\n",
       "    .dataframe tbody tr th {\n",
       "        vertical-align: top;\n",
       "    }\n",
       "\n",
       "    .dataframe thead th {\n",
       "        text-align: right;\n",
       "    }\n",
       "</style>\n",
       "<table border=\"1\" class=\"dataframe\">\n",
       "  <thead>\n",
       "    <tr style=\"text-align: right;\">\n",
       "      <th></th>\n",
       "      <th>name</th>\n",
       "      <th>lat</th>\n",
       "      <th>long</th>\n",
       "    </tr>\n",
       "  </thead>\n",
       "  <tbody>\n",
       "    <tr>\n",
       "      <th>0</th>\n",
       "      <td>LRPS</td>\n",
       "      <td>23.706028</td>\n",
       "      <td>90.443333</td>\n",
       "    </tr>\n",
       "    <tr>\n",
       "      <th>1</th>\n",
       "      <td>LRPSa</td>\n",
       "      <td>23.702917</td>\n",
       "      <td>90.450417</td>\n",
       "    </tr>\n",
       "    <tr>\n",
       "      <th>2</th>\n",
       "      <td>LRPSb</td>\n",
       "      <td>23.702778</td>\n",
       "      <td>90.450472</td>\n",
       "    </tr>\n",
       "    <tr>\n",
       "      <th>...</th>\n",
       "      <td>...</td>\n",
       "      <td>...</td>\n",
       "      <td>...</td>\n",
       "    </tr>\n",
       "    <tr>\n",
       "      <th>330</th>\n",
       "      <td>LRP145a</td>\n",
       "      <td>23.029416</td>\n",
       "      <td>91.365639</td>\n",
       "    </tr>\n",
       "    <tr>\n",
       "      <th>331</th>\n",
       "      <td>LRP146</td>\n",
       "      <td>23.026972</td>\n",
       "      <td>91.365500</td>\n",
       "    </tr>\n",
       "    <tr>\n",
       "      <th>332</th>\n",
       "      <td>LRP146a</td>\n",
       "      <td>23.024833</td>\n",
       "      <td>91.365528</td>\n",
       "    </tr>\n",
       "  </tbody>\n",
       "</table>\n",
       "<p>333 rows × 3 columns</p>\n",
       "</div>"
      ],
      "text/plain": [
       "        name        lat       long\n",
       "0       LRPS  23.706028  90.443333\n",
       "1      LRPSa  23.702917  90.450417\n",
       "2      LRPSb  23.702778  90.450472\n",
       "..       ...        ...        ...\n",
       "330  LRP145a  23.029416  91.365639\n",
       "331   LRP146  23.026972  91.365500\n",
       "332  LRP146a  23.024833  91.365528\n",
       "\n",
       "[333 rows x 3 columns]"
      ]
     },
     "execution_count": 113,
     "metadata": {},
     "output_type": "execute_result"
    }
   ],
   "source": [
    "dataframe_per_road(road[sel_road])"
   ]
  },
  {
   "cell_type": "markdown",
   "id": "d61f9ca0",
   "metadata": {
    "pycharm": {
     "name": "#%% md\n"
    }
   },
   "source": [
    "## Create dictionary of dataframes for all roads"
   ]
  },
  {
   "cell_type": "code",
   "execution_count": 114,
   "id": "a6e758b7",
   "metadata": {
    "collapsed": false,
    "jupyter": {
     "outputs_hidden": false
    },
    "pycharm": {
     "name": "#%%\n"
    }
   },
   "outputs": [],
   "source": [
    "# Create an empty dictionary for all roads\n",
    "#road_df_dict = {}\n",
    "\n",
    "# For each road, add a dataframe with the road segments to the dictionary\n",
    "#for road in roads['road']:\n",
    "#    single_row_df = roads.loc[roads['road'] == road]\n",
    "#    road_df_dict[road] = dataframe_per_road(single_row_df)"
   ]
  },
  {
   "cell_type": "code",
   "execution_count": 115,
   "id": "94f00d1e-e9a8-4f7c-801b-022733a28cc9",
   "metadata": {},
   "outputs": [],
   "source": [
    "# To save the dictionary for easier accesing later this code was run.\n",
    "\n",
    "# with open('road_df_dict_pickle.pickle', 'wb') as handle:\n",
    "#     pickle.dump(road_df_dict, handle, protocol=pickle.HIGHEST_PROTOCOL)"
   ]
  },
  {
   "cell_type": "code",
   "execution_count": 116,
   "id": "a9326df8-963a-4252-9827-3d7c20545092",
   "metadata": {},
   "outputs": [],
   "source": [
    "# To open the pickle file to open the saved dictionary run this file.\n",
    "\n",
    "with open('road_df_dict_pickle.pickle', 'rb') as handle:\n",
    "    road_df_dict = pickle.load(handle)"
   ]
  },
  {
   "cell_type": "code",
   "execution_count": 117,
   "id": "3386aa30",
   "metadata": {
    "collapsed": false,
    "jupyter": {
     "outputs_hidden": false
    },
    "pycharm": {
     "name": "#%%\n"
    }
   },
   "outputs": [
    {
     "data": {
      "text/html": [
       "<div>\n",
       "<style scoped>\n",
       "    .dataframe tbody tr th:only-of-type {\n",
       "        vertical-align: middle;\n",
       "    }\n",
       "\n",
       "    .dataframe tbody tr th {\n",
       "        vertical-align: top;\n",
       "    }\n",
       "\n",
       "    .dataframe thead th {\n",
       "        text-align: right;\n",
       "    }\n",
       "</style>\n",
       "<table border=\"1\" class=\"dataframe\">\n",
       "  <thead>\n",
       "    <tr style=\"text-align: right;\">\n",
       "      <th></th>\n",
       "      <th>name</th>\n",
       "      <th>long</th>\n",
       "      <th>lat</th>\n",
       "    </tr>\n",
       "  </thead>\n",
       "  <tbody>\n",
       "    <tr>\n",
       "      <th>0</th>\n",
       "      <td>LRPS</td>\n",
       "      <td>23.706028</td>\n",
       "      <td>90.443333</td>\n",
       "    </tr>\n",
       "    <tr>\n",
       "      <th>1</th>\n",
       "      <td>LRPSa</td>\n",
       "      <td>23.702917</td>\n",
       "      <td>90.450417</td>\n",
       "    </tr>\n",
       "    <tr>\n",
       "      <th>2</th>\n",
       "      <td>LRPSb</td>\n",
       "      <td>23.702778</td>\n",
       "      <td>90.450472</td>\n",
       "    </tr>\n",
       "    <tr>\n",
       "      <th>...</th>\n",
       "      <td>...</td>\n",
       "      <td>...</td>\n",
       "      <td>...</td>\n",
       "    </tr>\n",
       "    <tr>\n",
       "      <th>330</th>\n",
       "      <td>LRP145a</td>\n",
       "      <td>23.029416</td>\n",
       "      <td>91.365639</td>\n",
       "    </tr>\n",
       "    <tr>\n",
       "      <th>331</th>\n",
       "      <td>LRP146</td>\n",
       "      <td>23.026972</td>\n",
       "      <td>91.365500</td>\n",
       "    </tr>\n",
       "    <tr>\n",
       "      <th>332</th>\n",
       "      <td>LRP146a</td>\n",
       "      <td>23.024833</td>\n",
       "      <td>91.365528</td>\n",
       "    </tr>\n",
       "  </tbody>\n",
       "</table>\n",
       "<p>333 rows × 3 columns</p>\n",
       "</div>"
      ],
      "text/plain": [
       "        name       long        lat\n",
       "0       LRPS  23.706028  90.443333\n",
       "1      LRPSa  23.702917  90.450417\n",
       "2      LRPSb  23.702778  90.450472\n",
       "..       ...        ...        ...\n",
       "330  LRP145a  23.029416  91.365639\n",
       "331   LRP146  23.026972  91.365500\n",
       "332  LRP146a  23.024833  91.365528\n",
       "\n",
       "[333 rows x 3 columns]"
      ]
     },
     "execution_count": 117,
     "metadata": {},
     "output_type": "execute_result"
    }
   ],
   "source": [
    "road_df_dict['N1']"
   ]
  },
  {
   "cell_type": "markdown",
   "id": "96130e33",
   "metadata": {
    "pycharm": {
     "name": "#%% md\n"
    }
   },
   "source": [
    "## Detect and replace outliers"
   ]
  },
  {
   "cell_type": "markdown",
   "id": "10330508",
   "metadata": {
    "pycharm": {
     "name": "#%% md\n"
    }
   },
   "source": [
    "### Ideas\n",
    " - Using a moving average [link](https://stackoverflow.com/questions/46964363/filtering-out-outliers-in-pandas-dataframe-with-rolling-median)\n",
    " - Classification and Regression Trees (Isolation Forest) in scikit-learn\n",
    " - Isolation Forest in PyCaret [link](https://towardsdatascience.com/time-series-anomaly-detection-with-pycaret-706a6e2b2427)\n",
    " - TODS: Automated Time-series Outlier Detection System [link](https://github.com/datamllab/tods)\n",
    " - Using Facebook Prophet [link](https://www.analyticsvidhya.com/blog/2021/12/anomaly-detection-model-using-facebook-prophet/)\n",
    "\n",
    "Other ideas: [Anomaly Detection in Time Series](https://neptune.ai/blog/anomaly-detection-in-time-series)"
   ]
  },
  {
   "cell_type": "code",
   "execution_count": 118,
   "id": "bc8456c6",
   "metadata": {
    "collapsed": false,
    "jupyter": {
     "outputs_hidden": false
    },
    "pycharm": {
     "name": "#%%\n"
    }
   },
   "outputs": [],
   "source": [
    "window = 7 # Rolling windows length, 7 means looking 3 back and 3 forth\n",
    "test_df = road_df_dict['N1']"
   ]
  },
  {
   "cell_type": "code",
   "execution_count": 119,
   "id": "df11a0fe",
   "metadata": {
    "collapsed": false,
    "jupyter": {
     "outputs_hidden": false
    },
    "pycharm": {
     "name": "#%%\n"
    }
   },
   "outputs": [
    {
     "data": {
      "text/html": [
       "<div>\n",
       "<style scoped>\n",
       "    .dataframe tbody tr th:only-of-type {\n",
       "        vertical-align: middle;\n",
       "    }\n",
       "\n",
       "    .dataframe tbody tr th {\n",
       "        vertical-align: top;\n",
       "    }\n",
       "\n",
       "    .dataframe thead th {\n",
       "        text-align: right;\n",
       "    }\n",
       "</style>\n",
       "<table border=\"1\" class=\"dataframe\">\n",
       "  <thead>\n",
       "    <tr style=\"text-align: right;\">\n",
       "      <th></th>\n",
       "      <th>name</th>\n",
       "      <th>long</th>\n",
       "      <th>lat</th>\n",
       "      <th>median_lat</th>\n",
       "      <th>std_lat</th>\n",
       "      <th>median_long</th>\n",
       "      <th>std_long</th>\n",
       "    </tr>\n",
       "  </thead>\n",
       "  <tbody>\n",
       "    <tr>\n",
       "      <th>0</th>\n",
       "      <td>LRPS</td>\n",
       "      <td>23.706028</td>\n",
       "      <td>90.443333</td>\n",
       "      <td>90.450444</td>\n",
       "      <td>0.003878</td>\n",
       "      <td>23.702847</td>\n",
       "      <td>0.001742</td>\n",
       "    </tr>\n",
       "    <tr>\n",
       "      <th>1</th>\n",
       "      <td>LRPSa</td>\n",
       "      <td>23.702917</td>\n",
       "      <td>90.450417</td>\n",
       "      <td>90.450472</td>\n",
       "      <td>0.006155</td>\n",
       "      <td>23.702778</td>\n",
       "      <td>0.002915</td>\n",
       "    </tr>\n",
       "    <tr>\n",
       "      <th>2</th>\n",
       "      <td>LRPSb</td>\n",
       "      <td>23.702778</td>\n",
       "      <td>90.450472</td>\n",
       "      <td>90.451222</td>\n",
       "      <td>0.006930</td>\n",
       "      <td>23.702458</td>\n",
       "      <td>0.003308</td>\n",
       "    </tr>\n",
       "    <tr>\n",
       "      <th>...</th>\n",
       "      <td>...</td>\n",
       "      <td>...</td>\n",
       "      <td>...</td>\n",
       "      <td>...</td>\n",
       "      <td>...</td>\n",
       "      <td>...</td>\n",
       "      <td>...</td>\n",
       "    </tr>\n",
       "    <tr>\n",
       "      <th>330</th>\n",
       "      <td>LRP145a</td>\n",
       "      <td>23.029416</td>\n",
       "      <td>91.365639</td>\n",
       "      <td>91.365569</td>\n",
       "      <td>0.000110</td>\n",
       "      <td>23.032722</td>\n",
       "      <td>0.007299</td>\n",
       "    </tr>\n",
       "    <tr>\n",
       "      <th>331</th>\n",
       "      <td>LRP146</td>\n",
       "      <td>23.026972</td>\n",
       "      <td>91.365500</td>\n",
       "      <td>91.365611</td>\n",
       "      <td>0.000099</td>\n",
       "      <td>23.029416</td>\n",
       "      <td>0.006300</td>\n",
       "    </tr>\n",
       "    <tr>\n",
       "      <th>332</th>\n",
       "      <td>LRP146a</td>\n",
       "      <td>23.024833</td>\n",
       "      <td>91.365528</td>\n",
       "      <td>91.365583</td>\n",
       "      <td>0.000114</td>\n",
       "      <td>23.028194</td>\n",
       "      <td>0.004853</td>\n",
       "    </tr>\n",
       "  </tbody>\n",
       "</table>\n",
       "<p>333 rows × 7 columns</p>\n",
       "</div>"
      ],
      "text/plain": [
       "        name       long        lat  median_lat   std_lat  median_long  \\\n",
       "0       LRPS  23.706028  90.443333   90.450444  0.003878    23.702847   \n",
       "1      LRPSa  23.702917  90.450417   90.450472  0.006155    23.702778   \n",
       "2      LRPSb  23.702778  90.450472   90.451222  0.006930    23.702458   \n",
       "..       ...        ...        ...         ...       ...          ...   \n",
       "330  LRP145a  23.029416  91.365639   91.365569  0.000110    23.032722   \n",
       "331   LRP146  23.026972  91.365500   91.365611  0.000099    23.029416   \n",
       "332  LRP146a  23.024833  91.365528   91.365583  0.000114    23.028194   \n",
       "\n",
       "     std_long  \n",
       "0    0.001742  \n",
       "1    0.002915  \n",
       "2    0.003308  \n",
       "..        ...  \n",
       "330  0.007299  \n",
       "331  0.006300  \n",
       "332  0.004853  \n",
       "\n",
       "[333 rows x 7 columns]"
      ]
     },
     "execution_count": 119,
     "metadata": {},
     "output_type": "execute_result"
    }
   ],
   "source": [
    "# Add median and std values to datafr\n",
    "for a in ['lat', 'long']:\n",
    "    test_df[f'median_{a}']= test_df[a].rolling(window, center=True, min_periods=3).median()\n",
    "    test_df[f'std_{a}'] = test_df[a].rolling(window, center=True, min_periods=3).std()\n",
    "test_df"
   ]
  },
  {
   "cell_type": "code",
   "execution_count": 120,
   "id": "d422e0e0",
   "metadata": {
    "collapsed": false,
    "jupyter": {
     "outputs_hidden": false
    },
    "pycharm": {
     "name": "#%%\n"
    }
   },
   "outputs": [
    {
     "data": {
      "text/plain": [
       "<AxesSubplot:>"
      ]
     },
     "execution_count": 120,
     "metadata": {},
     "output_type": "execute_result"
    },
    {
     "data": {
      "image/png": "[encoded data removed]",
      "text/plain": [
       "<Figure size 432x288 with 1 Axes>"
      ]
     },
     "metadata": {
      "needs_background": "light"
     },
     "output_type": "display_data"
    }
   ],
   "source": [
    "test_df[[\"long\", \"median_long\"]].plot()"
   ]
  },
  {
   "cell_type": "code",
   "execution_count": 121,
   "id": "297a6b98",
   "metadata": {
    "collapsed": false,
    "jupyter": {
     "outputs_hidden": false
    },
    "pycharm": {
     "name": "#%%\n"
    }
   },
   "outputs": [
    {
     "name": "stdout",
     "output_type": "stream",
     "text": [
      "Values outlier values removed: 10\n"
     ]
    },
    {
     "data": {
      "text/plain": [
       "<AxesSubplot:>"
      ]
     },
     "execution_count": 121,
     "metadata": {},
     "output_type": "execute_result"
    },
    {
     "data": {
      "image/png": "[encoded data removed]",
      "text/plain": [
       "<Figure size 432x288 with 1 Axes>"
      ]
     },
     "metadata": {
      "needs_background": "light"
     },
     "output_type": "display_data"
    },
    {
     "data": {
      "image/png": "[encoded data removed]",
      "text/plain": [
       "<Figure size 432x288 with 1 Axes>"
      ]
     },
     "metadata": {
      "needs_background": "light"
     },
     "output_type": "display_data"
    }
   ],
   "source": [
    "# Create a copy\n",
    "test_df2 = test_df.copy()\n",
    "\n",
    "# Set allowed standard deviation\n",
    "max_std = 1.5\n",
    "\n",
    "# Keep only the values that are withing the specified standard deviations of the rolling median\n",
    "for a in ['lat', 'long']:\n",
    "    test_df2 = test_df2[\n",
    "        (test_df2[a] < test_df2[f'median_{a}']+max_std*test_df2[f'std_{a}']) &\n",
    "        (test_df2[a] > test_df2[f'median_{a}']-max_std*test_df2[f'std_{a}'])\n",
    "    ]\n",
    "\n",
    "print(f'Values outlier values removed: {len(test_df.index)-len(test_df2.index)}')\n",
    "test_df2[[\"long\"]].plot()\n",
    "test_df2[[\"lat\"]].plot()"
   ]
  },
  {
   "cell_type": "markdown",
   "id": "aca04ee0",
   "metadata": {
    "pycharm": {
     "name": "#%% md\n"
    }
   },
   "source": [
    "**TODO**\n",
    " - Write function to filter all roads\n",
    " - Write all roads back to a single `_roads.tcv` file\n",
    " - Test in Java application\n",
    " - Document"
   ]
  },
  {
   "cell_type": "code",
   "execution_count": 131,
   "id": "837f75c7-af18-4251-b73b-d565de25748b",
   "metadata": {},
   "outputs": [],
   "source": [
    "def filter_all(df_dict, window=7, max_std=2):\n",
    "    ''' This function takes as input a dictionary containing dataframes, a window for the rolling median\n",
    "        and a max std. deviation to select the road pieces.'''\n",
    "    result = {}\n",
    "    for r in roads['road']:\n",
    "        road_df = df_dict[r]\n",
    "        for a in ['lat', 'long']:\n",
    "            # Add median and std values to dataframe\n",
    "            road_df[f'median_{a}']= road_df[a].rolling(window, center=True, min_periods=2).median()\n",
    "            road_df[f'std_{a}'] = road_df[a].rolling(window, center=True, min_periods=2).std()\n",
    "        road_df2 = road_df.copy()\n",
    "\n",
    "        # Keep only the values that are withing the specified standard deviations of the rolling median\n",
    "        for a in ['lat', 'long']:\n",
    "            road_df2 = road_df2[\n",
    "                (road_df2[a] < road_df2[f'median_{a}']+max_std*road_df2[f'std_{a}']) &\n",
    "                (road_df2[a] > road_df2[f'median_{a}']-max_std*road_df2[f'std_{a}'])\n",
    "            ]\n",
    "\n",
    "        # Replace the last value of each road to \"LPRE\"\n",
    "        if len(road_df2.index) > 0:\n",
    "            road_df2.loc[road_df2.index[0], 'name'] = \"LPRS\"\n",
    "            road_df2.loc[road_df2.index[-1], 'name'] = \"LPRE\"\n",
    "\n",
    "        result[r] = road_df2\n",
    "    return result"
   ]
  },
  {
   "cell_type": "code",
   "execution_count": 132,
   "id": "10107bca-9d77-4704-8772-6f97d4b2cc2e",
   "metadata": {},
   "outputs": [
    {
     "data": {
      "text/html": [
       "<div>\n",
       "<style scoped>\n",
       "    .dataframe tbody tr th:only-of-type {\n",
       "        vertical-align: middle;\n",
       "    }\n",
       "\n",
       "    .dataframe tbody tr th {\n",
       "        vertical-align: top;\n",
       "    }\n",
       "\n",
       "    .dataframe thead th {\n",
       "        text-align: right;\n",
       "    }\n",
       "</style>\n",
       "<table border=\"1\" class=\"dataframe\">\n",
       "  <thead>\n",
       "    <tr style=\"text-align: right;\">\n",
       "      <th></th>\n",
       "      <th>name</th>\n",
       "      <th>long</th>\n",
       "      <th>lat</th>\n",
       "      <th>median_lat</th>\n",
       "      <th>std_lat</th>\n",
       "      <th>median_long</th>\n",
       "      <th>std_long</th>\n",
       "    </tr>\n",
       "  </thead>\n",
       "  <tbody>\n",
       "    <tr>\n",
       "      <th>0</th>\n",
       "      <td>LPRS</td>\n",
       "      <td>23.706028</td>\n",
       "      <td>90.443333</td>\n",
       "      <td>90.450444</td>\n",
       "      <td>0.003878</td>\n",
       "      <td>23.702847</td>\n",
       "      <td>0.001742</td>\n",
       "    </tr>\n",
       "    <tr>\n",
       "      <th>1</th>\n",
       "      <td>LRPSa</td>\n",
       "      <td>23.702917</td>\n",
       "      <td>90.450417</td>\n",
       "      <td>90.450472</td>\n",
       "      <td>0.006155</td>\n",
       "      <td>23.702778</td>\n",
       "      <td>0.002915</td>\n",
       "    </tr>\n",
       "    <tr>\n",
       "      <th>2</th>\n",
       "      <td>LRPSb</td>\n",
       "      <td>23.702778</td>\n",
       "      <td>90.450472</td>\n",
       "      <td>90.451222</td>\n",
       "      <td>0.006930</td>\n",
       "      <td>23.702458</td>\n",
       "      <td>0.003308</td>\n",
       "    </tr>\n",
       "    <tr>\n",
       "      <th>...</th>\n",
       "      <td>...</td>\n",
       "      <td>...</td>\n",
       "      <td>...</td>\n",
       "      <td>...</td>\n",
       "      <td>...</td>\n",
       "      <td>...</td>\n",
       "      <td>...</td>\n",
       "    </tr>\n",
       "    <tr>\n",
       "      <th>330</th>\n",
       "      <td>LRP145a</td>\n",
       "      <td>23.029416</td>\n",
       "      <td>91.365639</td>\n",
       "      <td>91.365569</td>\n",
       "      <td>0.000110</td>\n",
       "      <td>23.032722</td>\n",
       "      <td>0.007299</td>\n",
       "    </tr>\n",
       "    <tr>\n",
       "      <th>331</th>\n",
       "      <td>LRP146</td>\n",
       "      <td>23.026972</td>\n",
       "      <td>91.365500</td>\n",
       "      <td>91.365611</td>\n",
       "      <td>0.000099</td>\n",
       "      <td>23.029416</td>\n",
       "      <td>0.006300</td>\n",
       "    </tr>\n",
       "    <tr>\n",
       "      <th>332</th>\n",
       "      <td>LPRE</td>\n",
       "      <td>23.024833</td>\n",
       "      <td>91.365528</td>\n",
       "      <td>91.365583</td>\n",
       "      <td>0.000114</td>\n",
       "      <td>23.028194</td>\n",
       "      <td>0.004853</td>\n",
       "    </tr>\n",
       "  </tbody>\n",
       "</table>\n",
       "<p>327 rows × 7 columns</p>\n",
       "</div>"
      ],
      "text/plain": [
       "        name       long        lat  median_lat   std_lat  median_long  \\\n",
       "0       LPRS  23.706028  90.443333   90.450444  0.003878    23.702847   \n",
       "1      LRPSa  23.702917  90.450417   90.450472  0.006155    23.702778   \n",
       "2      LRPSb  23.702778  90.450472   90.451222  0.006930    23.702458   \n",
       "..       ...        ...        ...         ...       ...          ...   \n",
       "330  LRP145a  23.029416  91.365639   91.365569  0.000110    23.032722   \n",
       "331   LRP146  23.026972  91.365500   91.365611  0.000099    23.029416   \n",
       "332     LPRE  23.024833  91.365528   91.365583  0.000114    23.028194   \n",
       "\n",
       "     std_long  \n",
       "0    0.001742  \n",
       "1    0.002915  \n",
       "2    0.003308  \n",
       "..        ...  \n",
       "330  0.007299  \n",
       "331  0.006300  \n",
       "332  0.004853  \n",
       "\n",
       "[327 rows x 7 columns]"
      ]
     },
     "execution_count": 132,
     "metadata": {},
     "output_type": "execute_result"
    }
   ],
   "source": [
    "check = filter_all(road_df_dict)\n",
    "check['N1']"
   ]
  },
  {
   "cell_type": "code",
   "execution_count": 133,
   "id": "f0c4c96c-80f8-4b5e-b19f-4e14115afc8d",
   "metadata": {},
   "outputs": [],
   "source": [
    "def strip_dict(dic, cols=['median_long', 'median_lat', 'std_long', 'std_lat']):\n",
    "    '''This function strips the dataframnes in the dictionaries of unnecessary columns.'''\n",
    "    result = {}\n",
    "    for r in dic:\n",
    "        df = dic[r]\n",
    "        df1 = df.drop(columns=cols)\n",
    "        result[r] = df1\n",
    "    return result"
   ]
  },
  {
   "cell_type": "code",
   "execution_count": 135,
   "id": "0027b4ce-2c04-4121-8315-fce805b2cc79",
   "metadata": {},
   "outputs": [
    {
     "data": {
      "text/html": [
       "<div>\n",
       "<style scoped>\n",
       "    .dataframe tbody tr th:only-of-type {\n",
       "        vertical-align: middle;\n",
       "    }\n",
       "\n",
       "    .dataframe tbody tr th {\n",
       "        vertical-align: top;\n",
       "    }\n",
       "\n",
       "    .dataframe thead th {\n",
       "        text-align: right;\n",
       "    }\n",
       "</style>\n",
       "<table border=\"1\" class=\"dataframe\">\n",
       "  <thead>\n",
       "    <tr style=\"text-align: right;\">\n",
       "      <th></th>\n",
       "      <th>name</th>\n",
       "      <th>long</th>\n",
       "      <th>lat</th>\n",
       "    </tr>\n",
       "  </thead>\n",
       "  <tbody>\n",
       "    <tr>\n",
       "      <th>0</th>\n",
       "      <td>LPRS</td>\n",
       "      <td>23.706028</td>\n",
       "      <td>90.443333</td>\n",
       "    </tr>\n",
       "    <tr>\n",
       "      <th>1</th>\n",
       "      <td>LRPSa</td>\n",
       "      <td>23.702917</td>\n",
       "      <td>90.450417</td>\n",
       "    </tr>\n",
       "    <tr>\n",
       "      <th>2</th>\n",
       "      <td>LRPSb</td>\n",
       "      <td>23.702778</td>\n",
       "      <td>90.450472</td>\n",
       "    </tr>\n",
       "    <tr>\n",
       "      <th>...</th>\n",
       "      <td>...</td>\n",
       "      <td>...</td>\n",
       "      <td>...</td>\n",
       "    </tr>\n",
       "    <tr>\n",
       "      <th>330</th>\n",
       "      <td>LRP145a</td>\n",
       "      <td>23.029416</td>\n",
       "      <td>91.365639</td>\n",
       "    </tr>\n",
       "    <tr>\n",
       "      <th>331</th>\n",
       "      <td>LRP146</td>\n",
       "      <td>23.026972</td>\n",
       "      <td>91.365500</td>\n",
       "    </tr>\n",
       "    <tr>\n",
       "      <th>332</th>\n",
       "      <td>LPRE</td>\n",
       "      <td>23.024833</td>\n",
       "      <td>91.365528</td>\n",
       "    </tr>\n",
       "  </tbody>\n",
       "</table>\n",
       "<p>327 rows × 3 columns</p>\n",
       "</div>"
      ],
      "text/plain": [
       "        name       long        lat\n",
       "0       LPRS  23.706028  90.443333\n",
       "1      LRPSa  23.702917  90.450417\n",
       "2      LRPSb  23.702778  90.450472\n",
       "..       ...        ...        ...\n",
       "330  LRP145a  23.029416  91.365639\n",
       "331   LRP146  23.026972  91.365500\n",
       "332     LPRE  23.024833  91.365528\n",
       "\n",
       "[327 rows x 3 columns]"
      ]
     },
     "execution_count": 135,
     "metadata": {},
     "output_type": "execute_result"
    }
   ],
   "source": [
    "stripped = strip_dict(check)\n",
    "stripped['N1']"
   ]
  },
  {
   "cell_type": "markdown",
   "id": "7efb4519",
   "metadata": {
    "pycharm": {
     "name": "#%% md\n"
    }
   },
   "source": [
    "## Fuse dataframes and export to TCV file"
   ]
  },
  {
   "cell_type": "code",
   "execution_count": 1,
   "id": "9bd08b50",
   "metadata": {
    "collapsed": false,
    "jupyter": {
     "outputs_hidden": false
    },
    "pycharm": {
     "name": "#%%\n"
    }
   },
   "outputs": [],
   "source": [
    "# stripped.items()"
   ]
  },
  {
   "cell_type": "code",
   "execution_count": 137,
   "id": "aaeafb83",
   "metadata": {
    "collapsed": false,
    "jupyter": {
     "outputs_hidden": false
    },
    "pycharm": {
     "name": "#%%\n"
    }
   },
   "outputs": [
    {
     "data": {
      "text/html": [
       "<div>\n",
       "<style scoped>\n",
       "    .dataframe tbody tr th:only-of-type {\n",
       "        vertical-align: middle;\n",
       "    }\n",
       "\n",
       "    .dataframe tbody tr th {\n",
       "        vertical-align: top;\n",
       "    }\n",
       "\n",
       "    .dataframe thead th {\n",
       "        text-align: right;\n",
       "    }\n",
       "</style>\n",
       "<table border=\"1\" class=\"dataframe\">\n",
       "  <thead>\n",
       "    <tr style=\"text-align: right;\">\n",
       "      <th></th>\n",
       "      <th>name</th>\n",
       "      <th>long</th>\n",
       "      <th>lat</th>\n",
       "      <th>name</th>\n",
       "      <th>long</th>\n",
       "      <th>lat</th>\n",
       "      <th>name</th>\n",
       "      <th>long</th>\n",
       "      <th>lat</th>\n",
       "      <th>name</th>\n",
       "      <th>...</th>\n",
       "      <th>lat</th>\n",
       "      <th>name</th>\n",
       "      <th>long</th>\n",
       "      <th>lat</th>\n",
       "      <th>name</th>\n",
       "      <th>long</th>\n",
       "      <th>lat</th>\n",
       "      <th>name</th>\n",
       "      <th>long</th>\n",
       "      <th>lat</th>\n",
       "    </tr>\n",
       "  </thead>\n",
       "  <tbody>\n",
       "    <tr>\n",
       "      <th>N1</th>\n",
       "      <td>LPRS</td>\n",
       "      <td>23.706028</td>\n",
       "      <td>90.443333</td>\n",
       "      <td>LRPSa</td>\n",
       "      <td>23.702917</td>\n",
       "      <td>90.450417</td>\n",
       "      <td>LRPSb</td>\n",
       "      <td>23.702778</td>\n",
       "      <td>90.450472</td>\n",
       "      <td>LRP001</td>\n",
       "      <td>...</td>\n",
       "      <td>NaN</td>\n",
       "      <td>NaN</td>\n",
       "      <td>NaN</td>\n",
       "      <td>NaN</td>\n",
       "      <td>NaN</td>\n",
       "      <td>NaN</td>\n",
       "      <td>NaN</td>\n",
       "      <td>NaN</td>\n",
       "      <td>NaN</td>\n",
       "      <td>NaN</td>\n",
       "    </tr>\n",
       "    <tr>\n",
       "      <th>N101</th>\n",
       "      <td>LPRS</td>\n",
       "      <td>23.454139</td>\n",
       "      <td>91.212861</td>\n",
       "      <td>LRPSa</td>\n",
       "      <td>23.461889</td>\n",
       "      <td>91.212000</td>\n",
       "      <td>LRP001</td>\n",
       "      <td>23.462944</td>\n",
       "      <td>91.211806</td>\n",
       "      <td>LRP001a</td>\n",
       "      <td>...</td>\n",
       "      <td>NaN</td>\n",
       "      <td>NaN</td>\n",
       "      <td>NaN</td>\n",
       "      <td>NaN</td>\n",
       "      <td>NaN</td>\n",
       "      <td>NaN</td>\n",
       "      <td>NaN</td>\n",
       "      <td>NaN</td>\n",
       "      <td>NaN</td>\n",
       "      <td>NaN</td>\n",
       "    </tr>\n",
       "    <tr>\n",
       "      <th>N102</th>\n",
       "      <td>LPRS</td>\n",
       "      <td>23.478972</td>\n",
       "      <td>91.118194</td>\n",
       "      <td>LRPSa</td>\n",
       "      <td>23.481583</td>\n",
       "      <td>91.116777</td>\n",
       "      <td>LRPSb</td>\n",
       "      <td>23.486666</td>\n",
       "      <td>91.113361</td>\n",
       "      <td>LRP001</td>\n",
       "      <td>...</td>\n",
       "      <td>91.151306</td>\n",
       "      <td>LRP055c</td>\n",
       "      <td>23.832333</td>\n",
       "      <td>91.155528</td>\n",
       "      <td>NaN</td>\n",
       "      <td>NaN</td>\n",
       "      <td>NaN</td>\n",
       "      <td>NaN</td>\n",
       "      <td>NaN</td>\n",
       "      <td>NaN</td>\n",
       "    </tr>\n",
       "    <tr>\n",
       "      <th>...</th>\n",
       "      <td>...</td>\n",
       "      <td>...</td>\n",
       "      <td>...</td>\n",
       "      <td>...</td>\n",
       "      <td>...</td>\n",
       "      <td>...</td>\n",
       "      <td>...</td>\n",
       "      <td>...</td>\n",
       "      <td>...</td>\n",
       "      <td>...</td>\n",
       "      <td>...</td>\n",
       "      <td>...</td>\n",
       "      <td>...</td>\n",
       "      <td>...</td>\n",
       "      <td>...</td>\n",
       "      <td>...</td>\n",
       "      <td>...</td>\n",
       "      <td>...</td>\n",
       "      <td>...</td>\n",
       "      <td>...</td>\n",
       "      <td>...</td>\n",
       "    </tr>\n",
       "    <tr>\n",
       "      <th>R602</th>\n",
       "      <td>NaN</td>\n",
       "      <td>NaN</td>\n",
       "      <td>NaN</td>\n",
       "      <td>LPRS</td>\n",
       "      <td>23.840000</td>\n",
       "      <td>89.530277</td>\n",
       "      <td>LRPSb</td>\n",
       "      <td>23.839722</td>\n",
       "      <td>89.530277</td>\n",
       "      <td>LRPSc</td>\n",
       "      <td>...</td>\n",
       "      <td>NaN</td>\n",
       "      <td>NaN</td>\n",
       "      <td>NaN</td>\n",
       "      <td>NaN</td>\n",
       "      <td>NaN</td>\n",
       "      <td>NaN</td>\n",
       "      <td>NaN</td>\n",
       "      <td>NaN</td>\n",
       "      <td>NaN</td>\n",
       "      <td>NaN</td>\n",
       "    </tr>\n",
       "    <tr>\n",
       "      <th>R603</th>\n",
       "      <td>NaN</td>\n",
       "      <td>NaN</td>\n",
       "      <td>NaN</td>\n",
       "      <td>LPRS</td>\n",
       "      <td>24.006667</td>\n",
       "      <td>89.226388</td>\n",
       "      <td>LRP001a</td>\n",
       "      <td>24.006667</td>\n",
       "      <td>89.224249</td>\n",
       "      <td>LRP002</td>\n",
       "      <td>...</td>\n",
       "      <td>NaN</td>\n",
       "      <td>NaN</td>\n",
       "      <td>NaN</td>\n",
       "      <td>NaN</td>\n",
       "      <td>NaN</td>\n",
       "      <td>NaN</td>\n",
       "      <td>NaN</td>\n",
       "      <td>NaN</td>\n",
       "      <td>NaN</td>\n",
       "      <td>NaN</td>\n",
       "    </tr>\n",
       "    <tr>\n",
       "      <th>R765</th>\n",
       "      <td>NaN</td>\n",
       "      <td>NaN</td>\n",
       "      <td>NaN</td>\n",
       "      <td>LPRS</td>\n",
       "      <td>23.058083</td>\n",
       "      <td>88.999444</td>\n",
       "      <td>LRP001a</td>\n",
       "      <td>23.058028</td>\n",
       "      <td>88.999444</td>\n",
       "      <td>LRP001b</td>\n",
       "      <td>...</td>\n",
       "      <td>NaN</td>\n",
       "      <td>NaN</td>\n",
       "      <td>NaN</td>\n",
       "      <td>NaN</td>\n",
       "      <td>NaN</td>\n",
       "      <td>NaN</td>\n",
       "      <td>NaN</td>\n",
       "      <td>NaN</td>\n",
       "      <td>NaN</td>\n",
       "      <td>NaN</td>\n",
       "    </tr>\n",
       "  </tbody>\n",
       "</table>\n",
       "<p>876 rows × 999 columns</p>\n",
       "</div>"
      ],
      "text/plain": [
       "      name       long        lat   name       long        lat     name  \\\n",
       "N1    LPRS  23.706028  90.443333  LRPSa  23.702917  90.450417    LRPSb   \n",
       "N101  LPRS  23.454139  91.212861  LRPSa  23.461889  91.212000   LRP001   \n",
       "N102  LPRS  23.478972  91.118194  LRPSa  23.481583  91.116777    LRPSb   \n",
       "...    ...        ...        ...    ...        ...        ...      ...   \n",
       "R602   NaN        NaN        NaN   LPRS  23.840000  89.530277    LRPSb   \n",
       "R603   NaN        NaN        NaN   LPRS  24.006667  89.226388  LRP001a   \n",
       "R765   NaN        NaN        NaN   LPRS  23.058083  88.999444  LRP001a   \n",
       "\n",
       "           long        lat     name  ...        lat     name       long  \\\n",
       "N1    23.702778  90.450472   LRP001  ...        NaN      NaN        NaN   \n",
       "N101  23.462944  91.211806  LRP001a  ...        NaN      NaN        NaN   \n",
       "N102  23.486666  91.113361   LRP001  ...  91.151306  LRP055c  23.832333   \n",
       "...         ...        ...      ...  ...        ...      ...        ...   \n",
       "R602  23.839722  89.530277    LRPSc  ...        NaN      NaN        NaN   \n",
       "R603  24.006667  89.224249   LRP002  ...        NaN      NaN        NaN   \n",
       "R765  23.058028  88.999444  LRP001b  ...        NaN      NaN        NaN   \n",
       "\n",
       "            lat  name long  lat  name long  lat  \n",
       "N1          NaN   NaN  NaN  NaN   NaN  NaN  NaN  \n",
       "N101        NaN   NaN  NaN  NaN   NaN  NaN  NaN  \n",
       "N102  91.155528   NaN  NaN  NaN   NaN  NaN  NaN  \n",
       "...         ...   ...  ...  ...   ...  ...  ...  \n",
       "R602        NaN   NaN  NaN  NaN   NaN  NaN  NaN  \n",
       "R603        NaN   NaN  NaN  NaN   NaN  NaN  NaN  \n",
       "R765        NaN   NaN  NaN  NaN   NaN  NaN  NaN  \n",
       "\n",
       "[876 rows x 999 columns]"
      ]
     },
     "execution_count": 137,
     "metadata": {},
     "output_type": "execute_result"
    }
   ],
   "source": [
    "# Create empty dictionary\n",
    "series_to_add = {}\n",
    "\n",
    "# Add a item to the dictionary for each road\n",
    "for road, df in stripped.items():\n",
    "    series_to_add[road] = df.stack()\n",
    "\n",
    "# Create dataframe from dictionary, with each road being a column\n",
    "new_df = pd.DataFrame.from_dict(series_to_add, orient=\"index\")\n",
    "\n",
    "# Drop multi-index level and transpose to get a row for each road\n",
    "new_df = new_df.droplevel(level=0, axis=1)\n",
    "new_df"
   ]
  },
  {
   "cell_type": "markdown",
   "id": "27b305e2",
   "metadata": {
    "pycharm": {
     "name": "#%% md\n"
    }
   },
   "source": [
    "**Important note:** To finish the TCV file, open it in your text editor, and replace double tabs `\t\t` with a single tab `\t` until there aren't any places with more than 1 tab left."
   ]
  },
  {
   "cell_type": "code",
   "execution_count": 138,
   "id": "60add983",
   "metadata": {
    "collapsed": false,
    "jupyter": {
     "outputs_hidden": false
    },
    "pycharm": {
     "name": "#%%\n"
    }
   },
   "outputs": [],
   "source": [
    "# Export to TCV file\n",
    "#df_T2 = df_T.fillna('')\n",
    "#df_T2 = pd.DataFrame(df_T2, dtype='str')\n",
    "#df_T2.apply(lambda x: x.str.rstrip('\\t')).to_csv(\"../data/processed/_roads.tcv\", sep=\"\\t\", index=True, line_terminator=\"\\n\")\n",
    "\n",
    "new_df.to_csv(\"../data/processed/_roads.tcv\", sep=\"\\t\", index=True, line_terminator=\"\\n\")"
   ]
  },
  {
   "cell_type": "code",
   "execution_count": 128,
   "id": "0fd7acfe",
   "metadata": {
    "collapsed": false,
    "jupyter": {
     "outputs_hidden": false
    },
    "pycharm": {
     "name": "#%%"
    }
   },
   "outputs": [],
   "source": []
  }
 ],
 "metadata": {
  "kernelspec": {
   "display_name": "Python 3",
   "language": "python",
   "name": "python3"
  },
  "language_info": {
   "codemirror_mode": {
    "name": "ipython",
    "version": 3
   },
   "file_extension": ".py",
   "mimetype": "text/x-python",
   "name": "python",
   "nbconvert_exporter": "python",
   "pygments_lexer": "ipython3",
   "version": "3.8.8"
  }
 },
 "nbformat": 4,
 "nbformat_minor": 5
}
