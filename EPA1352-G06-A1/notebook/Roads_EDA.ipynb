{
 "cells": [
  {
   "cell_type": "code",
   "execution_count": 1,
   "id": "4e631cd5-70ba-4eb4-9fa5-02dc8939e730",
   "metadata": {},
   "outputs": [],
   "source": [
    "import pandas as pd"
   ]
  },
  {
   "cell_type": "code",
   "execution_count": null,
   "id": "d4bfdea3-219f-4ed8-a131-99ad36e7ae9f",
   "metadata": {
    "pycharm": {
     "is_executing": true
    }
   },
   "outputs": [],
   "source": [
    "# roads = pd.read_csv('WBSIM/infrastructure/_roads.tcv', sep='\\t', skiprows=1)\n",
    "roads = pd.read_csv('../data/interim/roads_file.csv', index_col=False, delimiter=';')"
   ]
  },
  {
   "cell_type": "code",
   "execution_count": null,
   "id": "7ef76ecd-8a2a-4922-85c1-ee7454c4554b",
   "metadata": {
    "pycharm": {
     "name": "#%%\n",
     "is_executing": true
    }
   },
   "outputs": [],
   "source": [
    "roads"
   ]
  }
 ],
 "metadata": {
  "kernelspec": {
   "display_name": "Python 3",
   "language": "python",
   "name": "python3"
  },
  "language_info": {
   "codemirror_mode": {
    "name": "ipython",
    "version": 3
   },
   "file_extension": ".py",
   "mimetype": "text/x-python",
   "name": "python",
   "nbconvert_exporter": "python",
   "pygments_lexer": "ipython3",
   "version": "3.8.8"
  }
 },
 "nbformat": 4,
 "nbformat_minor": 5
}