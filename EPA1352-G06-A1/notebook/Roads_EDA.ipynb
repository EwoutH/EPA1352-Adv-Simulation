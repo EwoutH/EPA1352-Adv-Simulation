{
 "cells": [
  {
   "cell_type": "markdown",
   "source": [
    "# EDA of the roads network"
   ],
   "metadata": {
    "collapsed": false,
    "pycharm": {
     "name": "#%% md\n"
    }
   }
  },
  {
   "cell_type": "code",
   "execution_count": 1,
   "id": "4e631cd5-70ba-4eb4-9fa5-02dc8939e730",
   "metadata": {},
   "outputs": [],
   "source": [
    "# Imports\n",
    "import pandas as pd\n",
    "\n",
    "# Print dataframes compact by displaying max 7 rows\n",
    "pd.options.display.max_rows = 7"
   ]
  },
  {
   "cell_type": "markdown",
   "source": [
    "## Read the CSV as dataframe"
   ],
   "metadata": {
    "collapsed": false,
    "pycharm": {
     "name": "#%% md\n"
    }
   }
  },
  {
   "cell_type": "code",
   "execution_count": 2,
   "id": "d4bfdea3-219f-4ed8-a131-99ad36e7ae9f",
   "metadata": {},
   "outputs": [],
   "source": [
    "roads = pd.read_csv('../data/interim/roads_file.csv', index_col=False, delimiter=';')"
   ]
  },
  {
   "cell_type": "code",
   "execution_count": 3,
   "id": "7ef76ecd-8a2a-4922-85c1-ee7454c4554b",
   "metadata": {},
   "outputs": [
    {
     "data": {
      "text/plain": "      road  lrp1       lat1       lon1    lrp2       lat2       lon2  \\\n0       N1  LRPS  23.706028  90.443333   LRPSa  23.702917  90.450417   \n1     N101  LRPS  23.454139  91.212861   LRPSa  23.461889  91.212000   \n2     N102  LRPS  23.478972  91.118194   LRPSa  23.481583  91.116777   \n..     ...   ...        ...        ...     ...        ...        ...   \n882  Z8915  LRPS  22.589389  90.619472  LRP001  22.589694  90.623360   \n883  Z8916  LRPS  22.625499  90.661722   LRPSa  22.623888  90.664167   \n884  Z8943  LRPS  22.426444  90.849472   LRPSa  22.426416  90.846833   \n\n    Unnamed: 7  Unnamed: 8  Unnamed: 9  ... Unnamed: 990  Unnamed: 991  \\\n0        LRPSb   23.702778   90.450472  ...     91.36575       LRP145a   \n1       LRP001   23.462944   91.211806  ...          NaN           NaN   \n2        LRPSb   23.486666   91.113361  ...          NaN           NaN   \n..         ...         ...         ...  ...          ...           ...   \n882    LRP001a   22.590027   90.631360  ...          NaN           NaN   \n883     LRP001   22.620305   90.668999  ...          NaN           NaN   \n884     LRP001   22.425444   90.839861  ...          NaN           NaN   \n\n     Unnamed: 992 Unnamed: 993  Unnamed: 994  Unnamed: 995 Unnamed: 996  \\\n0       23.029416    91.365639        LRP146     23.026972      91.3655   \n1             NaN          NaN           NaN           NaN          NaN   \n2             NaN          NaN           NaN           NaN          NaN   \n..            ...          ...           ...           ...          ...   \n882           NaN          NaN           NaN           NaN          NaN   \n883           NaN          NaN           NaN           NaN          NaN   \n884           NaN          NaN           NaN           NaN          NaN   \n\n     Unnamed: 997  Unnamed: 998 Unnamed: 999  \n0         LRP146a     23.024833    91.365528  \n1             NaN           NaN          NaN  \n2             NaN           NaN          NaN  \n..            ...           ...          ...  \n882           NaN           NaN          NaN  \n883           NaN           NaN          NaN  \n884           NaN           NaN          NaN  \n\n[885 rows x 1000 columns]",
      "text/html": "<div>\n<style scoped>\n    .dataframe tbody tr th:only-of-type {\n        vertical-align: middle;\n    }\n\n    .dataframe tbody tr th {\n        vertical-align: top;\n    }\n\n    .dataframe thead th {\n        text-align: right;\n    }\n</style>\n<table border=\"1\" class=\"dataframe\">\n  <thead>\n    <tr style=\"text-align: right;\">\n      <th></th>\n      <th>road</th>\n      <th>lrp1</th>\n      <th>lat1</th>\n      <th>lon1</th>\n      <th>lrp2</th>\n      <th>lat2</th>\n      <th>lon2</th>\n      <th>Unnamed: 7</th>\n      <th>Unnamed: 8</th>\n      <th>Unnamed: 9</th>\n      <th>...</th>\n      <th>Unnamed: 990</th>\n      <th>Unnamed: 991</th>\n      <th>Unnamed: 992</th>\n      <th>Unnamed: 993</th>\n      <th>Unnamed: 994</th>\n      <th>Unnamed: 995</th>\n      <th>Unnamed: 996</th>\n      <th>Unnamed: 997</th>\n      <th>Unnamed: 998</th>\n      <th>Unnamed: 999</th>\n    </tr>\n  </thead>\n  <tbody>\n    <tr>\n      <th>0</th>\n      <td>N1</td>\n      <td>LRPS</td>\n      <td>23.706028</td>\n      <td>90.443333</td>\n      <td>LRPSa</td>\n      <td>23.702917</td>\n      <td>90.450417</td>\n      <td>LRPSb</td>\n      <td>23.702778</td>\n      <td>90.450472</td>\n      <td>...</td>\n      <td>91.36575</td>\n      <td>LRP145a</td>\n      <td>23.029416</td>\n      <td>91.365639</td>\n      <td>LRP146</td>\n      <td>23.026972</td>\n      <td>91.3655</td>\n      <td>LRP146a</td>\n      <td>23.024833</td>\n      <td>91.365528</td>\n    </tr>\n    <tr>\n      <th>1</th>\n      <td>N101</td>\n      <td>LRPS</td>\n      <td>23.454139</td>\n      <td>91.212861</td>\n      <td>LRPSa</td>\n      <td>23.461889</td>\n      <td>91.212000</td>\n      <td>LRP001</td>\n      <td>23.462944</td>\n      <td>91.211806</td>\n      <td>...</td>\n      <td>NaN</td>\n      <td>NaN</td>\n      <td>NaN</td>\n      <td>NaN</td>\n      <td>NaN</td>\n      <td>NaN</td>\n      <td>NaN</td>\n      <td>NaN</td>\n      <td>NaN</td>\n      <td>NaN</td>\n    </tr>\n    <tr>\n      <th>2</th>\n      <td>N102</td>\n      <td>LRPS</td>\n      <td>23.478972</td>\n      <td>91.118194</td>\n      <td>LRPSa</td>\n      <td>23.481583</td>\n      <td>91.116777</td>\n      <td>LRPSb</td>\n      <td>23.486666</td>\n      <td>91.113361</td>\n      <td>...</td>\n      <td>NaN</td>\n      <td>NaN</td>\n      <td>NaN</td>\n      <td>NaN</td>\n      <td>NaN</td>\n      <td>NaN</td>\n      <td>NaN</td>\n      <td>NaN</td>\n      <td>NaN</td>\n      <td>NaN</td>\n    </tr>\n    <tr>\n      <th>...</th>\n      <td>...</td>\n      <td>...</td>\n      <td>...</td>\n      <td>...</td>\n      <td>...</td>\n      <td>...</td>\n      <td>...</td>\n      <td>...</td>\n      <td>...</td>\n      <td>...</td>\n      <td>...</td>\n      <td>...</td>\n      <td>...</td>\n      <td>...</td>\n      <td>...</td>\n      <td>...</td>\n      <td>...</td>\n      <td>...</td>\n      <td>...</td>\n      <td>...</td>\n      <td>...</td>\n    </tr>\n    <tr>\n      <th>882</th>\n      <td>Z8915</td>\n      <td>LRPS</td>\n      <td>22.589389</td>\n      <td>90.619472</td>\n      <td>LRP001</td>\n      <td>22.589694</td>\n      <td>90.623360</td>\n      <td>LRP001a</td>\n      <td>22.590027</td>\n      <td>90.631360</td>\n      <td>...</td>\n      <td>NaN</td>\n      <td>NaN</td>\n      <td>NaN</td>\n      <td>NaN</td>\n      <td>NaN</td>\n      <td>NaN</td>\n      <td>NaN</td>\n      <td>NaN</td>\n      <td>NaN</td>\n      <td>NaN</td>\n    </tr>\n    <tr>\n      <th>883</th>\n      <td>Z8916</td>\n      <td>LRPS</td>\n      <td>22.625499</td>\n      <td>90.661722</td>\n      <td>LRPSa</td>\n      <td>22.623888</td>\n      <td>90.664167</td>\n      <td>LRP001</td>\n      <td>22.620305</td>\n      <td>90.668999</td>\n      <td>...</td>\n      <td>NaN</td>\n      <td>NaN</td>\n      <td>NaN</td>\n      <td>NaN</td>\n      <td>NaN</td>\n      <td>NaN</td>\n      <td>NaN</td>\n      <td>NaN</td>\n      <td>NaN</td>\n      <td>NaN</td>\n    </tr>\n    <tr>\n      <th>884</th>\n      <td>Z8943</td>\n      <td>LRPS</td>\n      <td>22.426444</td>\n      <td>90.849472</td>\n      <td>LRPSa</td>\n      <td>22.426416</td>\n      <td>90.846833</td>\n      <td>LRP001</td>\n      <td>22.425444</td>\n      <td>90.839861</td>\n      <td>...</td>\n      <td>NaN</td>\n      <td>NaN</td>\n      <td>NaN</td>\n      <td>NaN</td>\n      <td>NaN</td>\n      <td>NaN</td>\n      <td>NaN</td>\n      <td>NaN</td>\n      <td>NaN</td>\n      <td>NaN</td>\n    </tr>\n  </tbody>\n</table>\n<p>885 rows × 1000 columns</p>\n</div>"
     },
     "execution_count": 3,
     "metadata": {},
     "output_type": "execute_result"
    }
   ],
   "source": [
    "roads"
   ]
  },
  {
   "cell_type": "markdown",
   "source": [
    "## Create dataframe by road"
   ],
   "metadata": {
    "collapsed": false,
    "pycharm": {
     "name": "#%% md\n"
    }
   }
  },
  {
   "cell_type": "code",
   "execution_count": 4,
   "outputs": [],
   "source": [
    "road = {}"
   ],
   "metadata": {
    "collapsed": false,
    "pycharm": {
     "name": "#%%\n"
    }
   }
  },
  {
   "cell_type": "code",
   "execution_count": 5,
   "outputs": [
    {
     "data": {
      "text/plain": "  road  lrp1       lat1       lon1   lrp2       lat2       lon2 Unnamed: 7  \\\n0   N1  LRPS  23.706028  90.443333  LRPSa  23.702917  90.450417      LRPSb   \n\n   Unnamed: 8  Unnamed: 9  ... Unnamed: 990  Unnamed: 991  Unnamed: 992  \\\n0   23.702778   90.450472  ...     91.36575       LRP145a     23.029416   \n\n  Unnamed: 993  Unnamed: 994  Unnamed: 995 Unnamed: 996  Unnamed: 997  \\\n0    91.365639        LRP146     23.026972      91.3655       LRP146a   \n\n   Unnamed: 998 Unnamed: 999  \n0     23.024833    91.365528  \n\n[1 rows x 1000 columns]",
      "text/html": "<div>\n<style scoped>\n    .dataframe tbody tr th:only-of-type {\n        vertical-align: middle;\n    }\n\n    .dataframe tbody tr th {\n        vertical-align: top;\n    }\n\n    .dataframe thead th {\n        text-align: right;\n    }\n</style>\n<table border=\"1\" class=\"dataframe\">\n  <thead>\n    <tr style=\"text-align: right;\">\n      <th></th>\n      <th>road</th>\n      <th>lrp1</th>\n      <th>lat1</th>\n      <th>lon1</th>\n      <th>lrp2</th>\n      <th>lat2</th>\n      <th>lon2</th>\n      <th>Unnamed: 7</th>\n      <th>Unnamed: 8</th>\n      <th>Unnamed: 9</th>\n      <th>...</th>\n      <th>Unnamed: 990</th>\n      <th>Unnamed: 991</th>\n      <th>Unnamed: 992</th>\n      <th>Unnamed: 993</th>\n      <th>Unnamed: 994</th>\n      <th>Unnamed: 995</th>\n      <th>Unnamed: 996</th>\n      <th>Unnamed: 997</th>\n      <th>Unnamed: 998</th>\n      <th>Unnamed: 999</th>\n    </tr>\n  </thead>\n  <tbody>\n    <tr>\n      <th>0</th>\n      <td>N1</td>\n      <td>LRPS</td>\n      <td>23.706028</td>\n      <td>90.443333</td>\n      <td>LRPSa</td>\n      <td>23.702917</td>\n      <td>90.450417</td>\n      <td>LRPSb</td>\n      <td>23.702778</td>\n      <td>90.450472</td>\n      <td>...</td>\n      <td>91.36575</td>\n      <td>LRP145a</td>\n      <td>23.029416</td>\n      <td>91.365639</td>\n      <td>LRP146</td>\n      <td>23.026972</td>\n      <td>91.3655</td>\n      <td>LRP146a</td>\n      <td>23.024833</td>\n      <td>91.365528</td>\n    </tr>\n  </tbody>\n</table>\n<p>1 rows × 1000 columns</p>\n</div>"
     },
     "execution_count": 5,
     "metadata": {},
     "output_type": "execute_result"
    }
   ],
   "source": [
    "sel_road = 'N1'\n",
    "road[sel_road] = roads.loc[roads['road'] == sel_road]\n",
    "road[sel_road]"
   ],
   "metadata": {
    "collapsed": false,
    "pycharm": {
     "name": "#%%\n"
    }
   }
  },
  {
   "cell_type": "code",
   "execution_count": 6,
   "outputs": [],
   "source": [
    "def dataframe_per_road(single_row_df):\n",
    "    # Create a series from the single-row dataframe\n",
    "    series = single_row_df.iloc[0 , 1:]\n",
    "\n",
    "    # Create an empty dataframe with 3 columns\n",
    "    new_df = pd.DataFrame(columns=[\"name\", \"long\", \"lat\"])\n",
    "\n",
    "    # Fill that dataframe by splitting the series in sections of\n",
    "    for i in range(len(series)//3):\n",
    "        start = i*3\n",
    "        end = (i+1)*3\n",
    "        new_df.loc[i] = series.iloc[start:end].tolist()\n",
    "    return new_df"
   ],
   "metadata": {
    "collapsed": false,
    "pycharm": {
     "name": "#%%\n"
    }
   }
  },
  {
   "cell_type": "code",
   "execution_count": 7,
   "outputs": [
    {
     "data": {
      "text/plain": "        name       long        lat\n0       LRPS  23.706028  90.443333\n1      LRPSa  23.702917  90.450417\n2      LRPSb  23.702778  90.450472\n..       ...        ...        ...\n330  LRP145a  23.029416  91.365639\n331   LRP146  23.026972  91.365500\n332  LRP146a  23.024833  91.365528\n\n[333 rows x 3 columns]",
      "text/html": "<div>\n<style scoped>\n    .dataframe tbody tr th:only-of-type {\n        vertical-align: middle;\n    }\n\n    .dataframe tbody tr th {\n        vertical-align: top;\n    }\n\n    .dataframe thead th {\n        text-align: right;\n    }\n</style>\n<table border=\"1\" class=\"dataframe\">\n  <thead>\n    <tr style=\"text-align: right;\">\n      <th></th>\n      <th>name</th>\n      <th>long</th>\n      <th>lat</th>\n    </tr>\n  </thead>\n  <tbody>\n    <tr>\n      <th>0</th>\n      <td>LRPS</td>\n      <td>23.706028</td>\n      <td>90.443333</td>\n    </tr>\n    <tr>\n      <th>1</th>\n      <td>LRPSa</td>\n      <td>23.702917</td>\n      <td>90.450417</td>\n    </tr>\n    <tr>\n      <th>2</th>\n      <td>LRPSb</td>\n      <td>23.702778</td>\n      <td>90.450472</td>\n    </tr>\n    <tr>\n      <th>...</th>\n      <td>...</td>\n      <td>...</td>\n      <td>...</td>\n    </tr>\n    <tr>\n      <th>330</th>\n      <td>LRP145a</td>\n      <td>23.029416</td>\n      <td>91.365639</td>\n    </tr>\n    <tr>\n      <th>331</th>\n      <td>LRP146</td>\n      <td>23.026972</td>\n      <td>91.365500</td>\n    </tr>\n    <tr>\n      <th>332</th>\n      <td>LRP146a</td>\n      <td>23.024833</td>\n      <td>91.365528</td>\n    </tr>\n  </tbody>\n</table>\n<p>333 rows × 3 columns</p>\n</div>"
     },
     "execution_count": 7,
     "metadata": {},
     "output_type": "execute_result"
    }
   ],
   "source": [
    "dataframe_per_road(road[sel_road])"
   ],
   "metadata": {
    "collapsed": false,
    "pycharm": {
     "name": "#%%\n"
    }
   }
  },
  {
   "cell_type": "markdown",
   "source": [
    "## Create dictionary of dataframes for all roads"
   ],
   "metadata": {
    "collapsed": false,
    "pycharm": {
     "name": "#%% md\n"
    }
   }
  },
  {
   "cell_type": "code",
   "source": [
    "# Create an empty dictionary for all roads\n",
    "road_df_dict = {}\n",
    "\n",
    "# For each road, add a dataframe with the road segments to the dictionary\n",
    "for road in roads['road'].tolist()[:20]:\n",
    "    single_row_df = roads.loc[roads['road'] == road]\n",
    "    road_df_dict[road] = dataframe_per_road(single_row_df)"
   ],
   "metadata": {
    "collapsed": false,
    "pycharm": {
     "name": "#%%\n"
    }
   },
   "execution_count": 8,
   "outputs": []
  },
  {
   "cell_type": "code",
   "execution_count": 9,
   "outputs": [
    {
     "data": {
      "text/plain": "        name       long        lat\n0       LRPS  23.706028  90.443333\n1      LRPSa  23.702917  90.450417\n2      LRPSb  23.702778  90.450472\n..       ...        ...        ...\n330  LRP145a  23.029416  91.365639\n331   LRP146  23.026972  91.365500\n332  LRP146a  23.024833  91.365528\n\n[333 rows x 3 columns]",
      "text/html": "<div>\n<style scoped>\n    .dataframe tbody tr th:only-of-type {\n        vertical-align: middle;\n    }\n\n    .dataframe tbody tr th {\n        vertical-align: top;\n    }\n\n    .dataframe thead th {\n        text-align: right;\n    }\n</style>\n<table border=\"1\" class=\"dataframe\">\n  <thead>\n    <tr style=\"text-align: right;\">\n      <th></th>\n      <th>name</th>\n      <th>long</th>\n      <th>lat</th>\n    </tr>\n  </thead>\n  <tbody>\n    <tr>\n      <th>0</th>\n      <td>LRPS</td>\n      <td>23.706028</td>\n      <td>90.443333</td>\n    </tr>\n    <tr>\n      <th>1</th>\n      <td>LRPSa</td>\n      <td>23.702917</td>\n      <td>90.450417</td>\n    </tr>\n    <tr>\n      <th>2</th>\n      <td>LRPSb</td>\n      <td>23.702778</td>\n      <td>90.450472</td>\n    </tr>\n    <tr>\n      <th>...</th>\n      <td>...</td>\n      <td>...</td>\n      <td>...</td>\n    </tr>\n    <tr>\n      <th>330</th>\n      <td>LRP145a</td>\n      <td>23.029416</td>\n      <td>91.365639</td>\n    </tr>\n    <tr>\n      <th>331</th>\n      <td>LRP146</td>\n      <td>23.026972</td>\n      <td>91.365500</td>\n    </tr>\n    <tr>\n      <th>332</th>\n      <td>LRP146a</td>\n      <td>23.024833</td>\n      <td>91.365528</td>\n    </tr>\n  </tbody>\n</table>\n<p>333 rows × 3 columns</p>\n</div>"
     },
     "execution_count": 9,
     "metadata": {},
     "output_type": "execute_result"
    }
   ],
   "source": [
    "road_df_dict['N1']"
   ],
   "metadata": {
    "collapsed": false,
    "pycharm": {
     "name": "#%%\n"
    }
   }
  },
  {
   "cell_type": "markdown",
   "source": [
    "## Detect and replace outliers"
   ],
   "metadata": {
    "collapsed": false,
    "pycharm": {
     "name": "#%% md\n"
    }
   }
  },
  {
   "cell_type": "markdown",
   "source": [
    "### Ideas\n",
    " - Using a moving average [link](https://stackoverflow.com/questions/46964363/filtering-out-outliers-in-pandas-dataframe-with-rolling-median)\n",
    " - Classification and Regression Trees (Isolation Forest) in scikit-learn\n",
    " - Isolation Forest in PyCaret [link](https://towardsdatascience.com/time-series-anomaly-detection-with-pycaret-706a6e2b2427)\n",
    " - TODS: Automated Time-series Outlier Detection System [link](https://github.com/datamllab/tods)\n",
    " - Using Facebook Prophet [link](https://www.analyticsvidhya.com/blog/2021/12/anomaly-detection-model-using-facebook-prophet/)\n",
    "\n",
    "Other ideas: [Anomaly Detection in Time Series](https://neptune.ai/blog/anomaly-detection-in-time-series)"
   ],
   "metadata": {
    "collapsed": false,
    "pycharm": {
     "name": "#%% md\n"
    }
   }
  },
  {
   "cell_type": "code",
   "execution_count": 10,
   "outputs": [],
   "source": [
    "window = 7 # Rolling windows length, 7 means looking 3 back and 3 forth\n",
    "test_df = road_df_dict['N1']"
   ],
   "metadata": {
    "collapsed": false,
    "pycharm": {
     "name": "#%%\n"
    }
   }
  },
  {
   "cell_type": "code",
   "execution_count": 11,
   "outputs": [
    {
     "data": {
      "text/plain": "        name       long        lat  median_long  std_long  median_lat  \\\n0       LRPS  23.706028  90.443333    23.702847  0.001742   90.450444   \n1      LRPSa  23.702917  90.450417    23.702778  0.002915   90.450472   \n2      LRPSb  23.702778  90.450472    23.702458  0.003308   90.451222   \n..       ...        ...        ...          ...       ...         ...   \n330  LRP145a  23.029416  91.365639    23.032722  0.007299   91.365569   \n331   LRP146  23.026972  91.365500    23.029416  0.006300   91.365611   \n332  LRP146a  23.024833  91.365528    23.028194  0.004853   91.365583   \n\n      std_lat  \n0    0.003878  \n1    0.006155  \n2    0.006930  \n..        ...  \n330  0.000110  \n331  0.000099  \n332  0.000114  \n\n[333 rows x 7 columns]",
      "text/html": "<div>\n<style scoped>\n    .dataframe tbody tr th:only-of-type {\n        vertical-align: middle;\n    }\n\n    .dataframe tbody tr th {\n        vertical-align: top;\n    }\n\n    .dataframe thead th {\n        text-align: right;\n    }\n</style>\n<table border=\"1\" class=\"dataframe\">\n  <thead>\n    <tr style=\"text-align: right;\">\n      <th></th>\n      <th>name</th>\n      <th>long</th>\n      <th>lat</th>\n      <th>median_long</th>\n      <th>std_long</th>\n      <th>median_lat</th>\n      <th>std_lat</th>\n    </tr>\n  </thead>\n  <tbody>\n    <tr>\n      <th>0</th>\n      <td>LRPS</td>\n      <td>23.706028</td>\n      <td>90.443333</td>\n      <td>23.702847</td>\n      <td>0.001742</td>\n      <td>90.450444</td>\n      <td>0.003878</td>\n    </tr>\n    <tr>\n      <th>1</th>\n      <td>LRPSa</td>\n      <td>23.702917</td>\n      <td>90.450417</td>\n      <td>23.702778</td>\n      <td>0.002915</td>\n      <td>90.450472</td>\n      <td>0.006155</td>\n    </tr>\n    <tr>\n      <th>2</th>\n      <td>LRPSb</td>\n      <td>23.702778</td>\n      <td>90.450472</td>\n      <td>23.702458</td>\n      <td>0.003308</td>\n      <td>90.451222</td>\n      <td>0.006930</td>\n    </tr>\n    <tr>\n      <th>...</th>\n      <td>...</td>\n      <td>...</td>\n      <td>...</td>\n      <td>...</td>\n      <td>...</td>\n      <td>...</td>\n      <td>...</td>\n    </tr>\n    <tr>\n      <th>330</th>\n      <td>LRP145a</td>\n      <td>23.029416</td>\n      <td>91.365639</td>\n      <td>23.032722</td>\n      <td>0.007299</td>\n      <td>91.365569</td>\n      <td>0.000110</td>\n    </tr>\n    <tr>\n      <th>331</th>\n      <td>LRP146</td>\n      <td>23.026972</td>\n      <td>91.365500</td>\n      <td>23.029416</td>\n      <td>0.006300</td>\n      <td>91.365611</td>\n      <td>0.000099</td>\n    </tr>\n    <tr>\n      <th>332</th>\n      <td>LRP146a</td>\n      <td>23.024833</td>\n      <td>91.365528</td>\n      <td>23.028194</td>\n      <td>0.004853</td>\n      <td>91.365583</td>\n      <td>0.000114</td>\n    </tr>\n  </tbody>\n</table>\n<p>333 rows × 7 columns</p>\n</div>"
     },
     "execution_count": 11,
     "metadata": {},
     "output_type": "execute_result"
    }
   ],
   "source": [
    "# Add median and std values to dataframe\n",
    "for a in ['long', 'lat']:\n",
    "    test_df[f'median_{a}']= test_df[a].rolling(window, center=True, min_periods=3).median()\n",
    "    test_df[f'std_{a}'] = test_df[a].rolling(window, center=True, min_periods=3).std()\n",
    "test_df"
   ],
   "metadata": {
    "collapsed": false,
    "pycharm": {
     "name": "#%%\n"
    }
   }
  },
  {
   "cell_type": "code",
   "execution_count": 12,
   "outputs": [
    {
     "data": {
      "text/plain": "<AxesSubplot:>"
     },
     "execution_count": 12,
     "metadata": {},
     "output_type": "execute_result"
    },
    {
     "data": {
      "text/plain": "<Figure size 432x288 with 1 Axes>",
      "image/png": "[encoded data removed]"
     },
     "metadata": {
      "needs_background": "light"
     },
     "output_type": "display_data"
    }
   ],
   "source": [
    "test_df[[\"long\", \"median_long\"]].plot()"
   ],
   "metadata": {
    "collapsed": false,
    "pycharm": {
     "name": "#%%\n"
    }
   }
  },
  {
   "cell_type": "markdown",
   "source": [],
   "metadata": {
    "collapsed": false,
    "pycharm": {
     "name": "#%% md\n"
    }
   }
  }
 ],
 "metadata": {
  "kernelspec": {
   "display_name": "Python 3",
   "language": "python",
   "name": "python3"
  },
  "language_info": {
   "codemirror_mode": {
    "name": "ipython",
    "version": 3
   },
   "file_extension": ".py",
   "mimetype": "text/x-python",
   "name": "python",
   "nbconvert_exporter": "python",
   "pygments_lexer": "ipython3",
   "version": "3.8.8"
  }
 },
 "nbformat": 4,
 "nbformat_minor": 5
}