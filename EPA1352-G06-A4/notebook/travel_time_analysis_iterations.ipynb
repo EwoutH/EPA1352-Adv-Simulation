{
 "cells": [
  {
   "cell_type": "markdown",
   "metadata": {
    "collapsed": true,
    "pycharm": {
     "name": "#%% md\n"
    }
   },
   "source": [
    "## Travel time analysis iterations"
   ]
  },
  {
   "cell_type": "markdown",
   "source": [
    "Notebook to analyse how much replications, run length and cooldown time are required."
   ],
   "metadata": {
    "collapsed": false,
    "pycharm": {
     "name": "#%% md\n"
    }
   }
  },
  {
   "cell_type": "code",
   "execution_count": 48,
   "outputs": [],
   "source": [
    "import pandas as pd\n",
    "import seaborn as sns\n",
    "import matplotlib.pyplot as plt\n",
    "import scipy.stats as st\n",
    "import numpy as np"
   ],
   "metadata": {
    "collapsed": false,
    "pycharm": {
     "name": "#%%\n"
    }
   }
  },
  {
   "cell_type": "markdown",
   "source": [
    "### The importance of cooldowns"
   ],
   "metadata": {
    "collapsed": false,
    "pycharm": {
     "name": "#%% md\n"
    }
   }
  },
  {
   "cell_type": "markdown",
   "source": [
    "Cooldown (or warmup) is an essential part of agent-based and discrete-event modelling. A model should have either:\n",
    " - Time to come to a steady state (with a warmup), if (aggegrated) model variables are measured\n",
    " - Time to get all entities out of the system (with a cooldown), if agent/entity variables are measured\n",
    "\n",
    "In this case, we're measuring agent-based variable, so we should be using a cooldown to get all agents out of the system, and in that process, report their data."
   ],
   "metadata": {
    "collapsed": false
   }
  },
  {
   "cell_type": "code",
   "execution_count": 49,
   "outputs": [],
   "source": [
    "# Read in travel time results and SourceSink data\n",
    "cooldown = [0, 6]\n",
    "results_1 = {}\n",
    "for c in cooldown:\n",
    "    results_1[c] = pd.read_csv(f\"../experiments/iteration/scen_4_12_hours_5_reps_{c}h_cooldown.csv\", index_col=0)\n",
    "    results_1[c].drop(\"VehicleID\", axis=\"columns\", inplace=True)\n",
    "source_sinks = pd.read_csv(f\"../experiments/source_data.csv\", index_col=0)"
   ],
   "metadata": {
    "collapsed": false,
    "pycharm": {
     "name": "#%%\n"
    }
   }
  },
  {
   "cell_type": "code",
   "execution_count": 50,
   "outputs": [],
   "source": [
    "def proces_results(results, do_print=False, do_export=False):\n",
    "    #calculating 95% confidence intervals of the economic losses\n",
    "    confidence = 0.95\n",
    "\n",
    "    average = {}\n",
    "    low_bound = {}\n",
    "    high_bound = {}\n",
    "    interval_range = {}\n",
    "    economic_interval = {}\n",
    "\n",
    "    for i in results.keys():\n",
    "        results_list = results[i][\"Travel_Time\"].tolist()\n",
    "        average[i] = np.mean(results_list)\n",
    "        low_bound[i], high_bound[i] = st.norm.interval(alpha=confidence, loc=average[i], scale=st.sem(results_list))\n",
    "        interval_range[i] = high_bound[i] - low_bound[i]\n",
    "        economic_interval[i] = interval_range[i] / average[i] * 100\n",
    "\n",
    "        if do_print:\n",
    "            print(f'Average travel time (95% confidence interval) for scenario {i}: {average[i]:.3f} ({low_bound[i]:.3f}, {high_bound[i]:.3f}), economic interval: {economic_interval[i]:.3f}%')\n",
    "\n",
    "    df = pd.DataFrame({\n",
    "        \"Average (min)\": average,\n",
    "        \"Low bound (min)\": low_bound,\n",
    "        \"High bound (min)\": high_bound,\n",
    "        \"Interval range (min)\": interval_range,\n",
    "        \"Economic interval (%)\": economic_interval})\n",
    "    if do_print:\n",
    "        df.to_csv(\"../results/travel_times.csv\", index_label=\"Scenario\")\n",
    "    return df"
   ],
   "metadata": {
    "collapsed": false,
    "pycharm": {
     "name": "#%%\n"
    }
   }
  },
  {
   "cell_type": "code",
   "execution_count": 51,
   "outputs": [
    {
     "data": {
      "text/plain": "   Average (min)  Low bound (min)  High bound (min)  Interval range (min)  \\\n0     200.917212       195.700219        206.134206             10.433987   \n6     343.374288       337.449867        349.298708             11.848842   \n\n   Economic interval (%)  \n0               5.193177  \n6               3.450707  ",
      "text/html": "<div>\n<style scoped>\n    .dataframe tbody tr th:only-of-type {\n        vertical-align: middle;\n    }\n\n    .dataframe tbody tr th {\n        vertical-align: top;\n    }\n\n    .dataframe thead th {\n        text-align: right;\n    }\n</style>\n<table border=\"1\" class=\"dataframe\">\n  <thead>\n    <tr style=\"text-align: right;\">\n      <th></th>\n      <th>Average (min)</th>\n      <th>Low bound (min)</th>\n      <th>High bound (min)</th>\n      <th>Interval range (min)</th>\n      <th>Economic interval (%)</th>\n    </tr>\n  </thead>\n  <tbody>\n    <tr>\n      <th>0</th>\n      <td>200.917212</td>\n      <td>195.700219</td>\n      <td>206.134206</td>\n      <td>10.433987</td>\n      <td>5.193177</td>\n    </tr>\n    <tr>\n      <th>6</th>\n      <td>343.374288</td>\n      <td>337.449867</td>\n      <td>349.298708</td>\n      <td>11.848842</td>\n      <td>3.450707</td>\n    </tr>\n  </tbody>\n</table>\n</div>"
     },
     "execution_count": 51,
     "metadata": {},
     "output_type": "execute_result"
    }
   ],
   "source": [
    "df1 = proces_results(results_1)\n",
    "df1"
   ],
   "metadata": {
    "collapsed": false,
    "pycharm": {
     "name": "#%%\n"
    }
   }
  },
  {
   "cell_type": "markdown",
   "source": [
    "With 0 cooldown the average travel time is 201 minutes, while with 6 hours of cooldown it's 343.\n",
    "\n",
    "So lets do some more runs to see how much cooldown we need. This time, we use a bit longer run time of 48 hours, and will test cooldowns from 0 to 48 hours in 6-hour increments."
   ],
   "metadata": {
    "collapsed": false
   }
  },
  {
   "cell_type": "code",
   "execution_count": 52,
   "outputs": [
    {
     "data": {
      "text/plain": "    Average (min)  Low bound (min)  High bound (min)  Interval range (min)  \\\n0      780.000939       775.246798        784.755081              9.508283   \n6      858.374349       853.661335        863.087363              9.426028   \n12     874.604985       870.158428        879.051543              8.893115   \n18     953.234349       948.575589        957.893108              9.317519   \n24    1030.740568      1026.227075       1035.254061              9.026986   \n30    1037.395833      1032.732421       1042.059245              9.326823   \n36    1011.840216      1007.365071       1016.315362              8.950291   \n42    1101.747450      1096.806066       1106.688835              9.882769   \n48    1111.363581      1106.495641       1116.231521              9.735879   \n\n    Economic interval (%)  \n0                1.219009  \n6                1.098126  \n12               1.016815  \n18               0.977464  \n24               0.875777  \n30               0.899061  \n36               0.884556  \n42               0.897009  \n48               0.876030  ",
      "text/html": "<div>\n<style scoped>\n    .dataframe tbody tr th:only-of-type {\n        vertical-align: middle;\n    }\n\n    .dataframe tbody tr th {\n        vertical-align: top;\n    }\n\n    .dataframe thead th {\n        text-align: right;\n    }\n</style>\n<table border=\"1\" class=\"dataframe\">\n  <thead>\n    <tr style=\"text-align: right;\">\n      <th></th>\n      <th>Average (min)</th>\n      <th>Low bound (min)</th>\n      <th>High bound (min)</th>\n      <th>Interval range (min)</th>\n      <th>Economic interval (%)</th>\n    </tr>\n  </thead>\n  <tbody>\n    <tr>\n      <th>0</th>\n      <td>780.000939</td>\n      <td>775.246798</td>\n      <td>784.755081</td>\n      <td>9.508283</td>\n      <td>1.219009</td>\n    </tr>\n    <tr>\n      <th>6</th>\n      <td>858.374349</td>\n      <td>853.661335</td>\n      <td>863.087363</td>\n      <td>9.426028</td>\n      <td>1.098126</td>\n    </tr>\n    <tr>\n      <th>12</th>\n      <td>874.604985</td>\n      <td>870.158428</td>\n      <td>879.051543</td>\n      <td>8.893115</td>\n      <td>1.016815</td>\n    </tr>\n    <tr>\n      <th>18</th>\n      <td>953.234349</td>\n      <td>948.575589</td>\n      <td>957.893108</td>\n      <td>9.317519</td>\n      <td>0.977464</td>\n    </tr>\n    <tr>\n      <th>24</th>\n      <td>1030.740568</td>\n      <td>1026.227075</td>\n      <td>1035.254061</td>\n      <td>9.026986</td>\n      <td>0.875777</td>\n    </tr>\n    <tr>\n      <th>30</th>\n      <td>1037.395833</td>\n      <td>1032.732421</td>\n      <td>1042.059245</td>\n      <td>9.326823</td>\n      <td>0.899061</td>\n    </tr>\n    <tr>\n      <th>36</th>\n      <td>1011.840216</td>\n      <td>1007.365071</td>\n      <td>1016.315362</td>\n      <td>8.950291</td>\n      <td>0.884556</td>\n    </tr>\n    <tr>\n      <th>42</th>\n      <td>1101.747450</td>\n      <td>1096.806066</td>\n      <td>1106.688835</td>\n      <td>9.882769</td>\n      <td>0.897009</td>\n    </tr>\n    <tr>\n      <th>48</th>\n      <td>1111.363581</td>\n      <td>1106.495641</td>\n      <td>1116.231521</td>\n      <td>9.735879</td>\n      <td>0.876030</td>\n    </tr>\n  </tbody>\n</table>\n</div>"
     },
     "execution_count": 52,
     "metadata": {},
     "output_type": "execute_result"
    }
   ],
   "source": [
    "cooldown = list(range(0,54,6))\n",
    "results_2 = {}\n",
    "for c in cooldown:\n",
    "    results_2[c] = pd.read_csv(f\"../experiments/iteration/scen_4_48_hours_5_reps_{c}h_cooldown.csv\", index_col=0)\n",
    "    results_2[c].drop(\"VehicleID\", axis=\"columns\", inplace=True)\n",
    "\n",
    "df2 = proces_results(results_2)\n",
    "df2"
   ],
   "metadata": {
    "collapsed": false,
    "pycharm": {
     "name": "#%%\n"
    }
   }
  },
  {
   "cell_type": "markdown",
   "source": [
    "From the results above, the travel time has largely stabalized after a cooldown of 24 hours. Due to the low number of replications there is some noise in there.\n",
    "\n",
    "We will continue with a cooldown of 24 hours (24 * 60 = 1440 steps) for our further iteration on the model run parameters."
   ],
   "metadata": {
    "collapsed": false,
    "pycharm": {
     "name": "#%% md\n"
    }
   }
  },
  {
   "cell_type": "markdown",
   "source": [
    "## Run length"
   ],
   "metadata": {
    "collapsed": false,
    "pycharm": {
     "name": "#%% md\n"
    }
   }
  },
  {
   "cell_type": "markdown",
   "source": [
    "Now that we have a proper cooldown period, the run length should introduce a lot less bias towards faster arriving vehicles. Still, it has to be a certain length to allow for a high enough number of vehicles (samples) to get statically representative averages and other statistics.\n",
    "\n",
    "We will try run lengths of 12 to 84 hours (3.5 days) with 12 hour increments. Again with 5 replications (this will introduce some noise) and 24 hour cooldown."
   ],
   "metadata": {
    "collapsed": false,
    "pycharm": {
     "name": "#%% md\n"
    }
   }
  },
  {
   "cell_type": "code",
   "execution_count": 53,
   "outputs": [
    {
     "data": {
      "text/plain": "    Average (min)  Low bound (min)  High bound (min)  Interval range (min)  \\\n12     859.030599       851.201972        866.859225             15.657253   \n24     937.314113       931.326449        943.301778             11.975329   \n36     941.747066       936.844918        946.649215              9.804297   \n48    1030.740568      1026.227075       1035.254061              9.026986   \n60     991.876010       987.970952        995.781067              7.810115   \n72     987.811795       984.160696        991.462893              7.302198   \n84    1040.204411      1036.681689       1043.727132              7.045443   \n\n    Economic interval (%)  \n12               1.822665  \n24               1.277622  \n36               1.041075  \n48               0.875777  \n60               0.787408  \n72               0.739230  \n84               0.677313  ",
      "text/html": "<div>\n<style scoped>\n    .dataframe tbody tr th:only-of-type {\n        vertical-align: middle;\n    }\n\n    .dataframe tbody tr th {\n        vertical-align: top;\n    }\n\n    .dataframe thead th {\n        text-align: right;\n    }\n</style>\n<table border=\"1\" class=\"dataframe\">\n  <thead>\n    <tr style=\"text-align: right;\">\n      <th></th>\n      <th>Average (min)</th>\n      <th>Low bound (min)</th>\n      <th>High bound (min)</th>\n      <th>Interval range (min)</th>\n      <th>Economic interval (%)</th>\n    </tr>\n  </thead>\n  <tbody>\n    <tr>\n      <th>12</th>\n      <td>859.030599</td>\n      <td>851.201972</td>\n      <td>866.859225</td>\n      <td>15.657253</td>\n      <td>1.822665</td>\n    </tr>\n    <tr>\n      <th>24</th>\n      <td>937.314113</td>\n      <td>931.326449</td>\n      <td>943.301778</td>\n      <td>11.975329</td>\n      <td>1.277622</td>\n    </tr>\n    <tr>\n      <th>36</th>\n      <td>941.747066</td>\n      <td>936.844918</td>\n      <td>946.649215</td>\n      <td>9.804297</td>\n      <td>1.041075</td>\n    </tr>\n    <tr>\n      <th>48</th>\n      <td>1030.740568</td>\n      <td>1026.227075</td>\n      <td>1035.254061</td>\n      <td>9.026986</td>\n      <td>0.875777</td>\n    </tr>\n    <tr>\n      <th>60</th>\n      <td>991.876010</td>\n      <td>987.970952</td>\n      <td>995.781067</td>\n      <td>7.810115</td>\n      <td>0.787408</td>\n    </tr>\n    <tr>\n      <th>72</th>\n      <td>987.811795</td>\n      <td>984.160696</td>\n      <td>991.462893</td>\n      <td>7.302198</td>\n      <td>0.739230</td>\n    </tr>\n    <tr>\n      <th>84</th>\n      <td>1040.204411</td>\n      <td>1036.681689</td>\n      <td>1043.727132</td>\n      <td>7.045443</td>\n      <td>0.677313</td>\n    </tr>\n  </tbody>\n</table>\n</div>"
     },
     "execution_count": 53,
     "metadata": {},
     "output_type": "execute_result"
    }
   ],
   "source": [
    "run_length = list(range(12,96,12))\n",
    "results_3 = {}\n",
    "for r in run_length:\n",
    "    results_3[r] = pd.read_csv(f\"../experiments/iteration/scen_4_{r}_hours_5_reps_24h_cooldown.csv\", index_col=0)\n",
    "    results_3[r].drop(\"VehicleID\", axis=\"columns\", inplace=True)\n",
    "\n",
    "df3 = proces_results(results_3)\n",
    "df3"
   ],
   "metadata": {
    "collapsed": false,
    "pycharm": {
     "name": "#%%\n"
    }
   }
  },
  {
   "cell_type": "markdown",
   "source": [
    "From the results above, the confidence interval decreases as the run length increases. From 48 hours, the 95% confidence interval is smaller than one percent of the average, which we will accept as small enough for this research.\n",
    "\n",
    "However, while the confidence interval for each set of runs decreases, the average travel time doesn't converge yet between experiments. For that we need more replications in each experiment."
   ],
   "metadata": {
    "collapsed": false,
    "pycharm": {
     "name": "#%% md\n"
    }
   }
  },
  {
   "cell_type": "markdown",
   "source": [
    "### Replications\n"
   ],
   "metadata": {
    "collapsed": false,
    "pycharm": {
     "name": "#%% md\n"
    }
   }
  },
  {
   "cell_type": "markdown",
   "source": [
    "Because in each replication other bridges break, all replications will have different average travel times. Using only 5 replications leaves a lot of variability. Because of that, we will vary the number of replications from 5 to 25 in increments of 5.\n",
    "\n",
    "As determined above, we use a run length of 48 hours with 24 hour cooldown."
   ],
   "metadata": {
    "collapsed": false,
    "pycharm": {
     "name": "#%% md\n"
    }
   }
  },
  {
   "cell_type": "code",
   "execution_count": 73,
   "outputs": [
    {
     "data": {
      "text/plain": "    Average (min)  Low bound (min)  High bound (min)  Interval range (min)  \\\n5     1030.740568      1026.227075       1035.254061              9.026986   \n10    1002.225594       999.069477       1005.381711              6.312234   \n15     992.153112       989.587302        994.718922              5.131621   \n20     991.532514       989.306867        993.758162              4.451295   \n25     996.268943       994.261127        998.276759              4.015632   \n\n    Economic interval (%)  \n5                0.875777  \n10               0.629822  \n15               0.517221  \n20               0.448931  \n25               0.403067  ",
      "text/html": "<div>\n<style scoped>\n    .dataframe tbody tr th:only-of-type {\n        vertical-align: middle;\n    }\n\n    .dataframe tbody tr th {\n        vertical-align: top;\n    }\n\n    .dataframe thead th {\n        text-align: right;\n    }\n</style>\n<table border=\"1\" class=\"dataframe\">\n  <thead>\n    <tr style=\"text-align: right;\">\n      <th></th>\n      <th>Average (min)</th>\n      <th>Low bound (min)</th>\n      <th>High bound (min)</th>\n      <th>Interval range (min)</th>\n      <th>Economic interval (%)</th>\n    </tr>\n  </thead>\n  <tbody>\n    <tr>\n      <th>5</th>\n      <td>1030.740568</td>\n      <td>1026.227075</td>\n      <td>1035.254061</td>\n      <td>9.026986</td>\n      <td>0.875777</td>\n    </tr>\n    <tr>\n      <th>10</th>\n      <td>1002.225594</td>\n      <td>999.069477</td>\n      <td>1005.381711</td>\n      <td>6.312234</td>\n      <td>0.629822</td>\n    </tr>\n    <tr>\n      <th>15</th>\n      <td>992.153112</td>\n      <td>989.587302</td>\n      <td>994.718922</td>\n      <td>5.131621</td>\n      <td>0.517221</td>\n    </tr>\n    <tr>\n      <th>20</th>\n      <td>991.532514</td>\n      <td>989.306867</td>\n      <td>993.758162</td>\n      <td>4.451295</td>\n      <td>0.448931</td>\n    </tr>\n    <tr>\n      <th>25</th>\n      <td>996.268943</td>\n      <td>994.261127</td>\n      <td>998.276759</td>\n      <td>4.015632</td>\n      <td>0.403067</td>\n    </tr>\n  </tbody>\n</table>\n</div>"
     },
     "execution_count": 73,
     "metadata": {},
     "output_type": "execute_result"
    }
   ],
   "source": [
    "replications_suffix = ['', '_1', '_2', '_3', '_4']\n",
    "results_4 = {}\n",
    "for e, rs in enumerate(replications_suffix):\n",
    "    df = pd.read_csv(f\"../experiments/iteration/scen_4_48_hours_5_reps_24h_cooldown{rs}.csv\", index_col=0)\n",
    "    df.drop(\"VehicleID\", axis=\"columns\", inplace=True)\n",
    "    if rs != '':\n",
    "        r = (int(rs.replace('_', ''))+1)*5\n",
    "        results_4[r] = pd.concat([results_4[r-5], df])\n",
    "    else:\n",
    "        results_4[5] = df\n",
    "df4 = proces_results(results_4)\n",
    "df4"
   ],
   "metadata": {
    "collapsed": false,
    "pycharm": {
     "name": "#%%\n"
    }
   }
  },
  {
   "cell_type": "markdown",
   "source": [
    "As can be seen, from 15 replications and upwards, the 95% confidence interval is around 0.5% of the average or lower.\n",
    "\n",
    "Since replications can be run overnight, double the replications will be run for each scenario, 30 each."
   ],
   "metadata": {
    "collapsed": false,
    "pycharm": {
     "name": "#%% md\n"
    }
   }
  }
 ],
 "metadata": {
  "kernelspec": {
   "display_name": "Python 3",
   "language": "python",
   "name": "python3"
  },
  "language_info": {
   "codemirror_mode": {
    "name": "ipython",
    "version": 2
   },
   "file_extension": ".py",
   "mimetype": "text/x-python",
   "name": "python",
   "nbconvert_exporter": "python",
   "pygments_lexer": "ipython2",
   "version": "2.7.6"
  }
 },
 "nbformat": 4,
 "nbformat_minor": 0
}