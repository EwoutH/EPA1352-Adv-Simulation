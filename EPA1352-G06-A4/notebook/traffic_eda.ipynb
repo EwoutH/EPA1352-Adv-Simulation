{
 "cells": [
  {
   "cell_type": "markdown",
   "metadata": {
    "collapsed": true,
    "pycharm": {
     "name": "#%% md\n"
    }
   },
   "source": [
    "## Traffic data EDA"
   ]
  },
  {
   "cell_type": "code",
   "execution_count": 1,
   "outputs": [],
   "source": [
    "import requests\n",
    "import pandas as pd"
   ],
   "metadata": {
    "collapsed": false,
    "pycharm": {
     "name": "#%%\n"
    }
   }
  },
  {
   "cell_type": "code",
   "execution_count": 2,
   "outputs": [
    {
     "name": "stdout",
     "output_type": "stream",
     "text": [
      "['N1', 'N2', 'N105', 'N102', 'N104', 'N111', 'N107', 'N108', 'N109', 'N110', 'N204', 'N207', 'N209', 'N206', 'N210']\n"
     ]
    }
   ],
   "source": [
    "network_df = pd.read_csv(\"../data/df_road_N1andN2.csv\")\n",
    "road_list = network_df[\"road\"].unique().tolist()\n",
    "print(road_list)"
   ],
   "metadata": {
    "collapsed": false,
    "pycharm": {
     "name": "#%%\n"
    }
   }
  },
  {
   "cell_type": "code",
   "execution_count": 3,
   "outputs": [],
   "source": [
    "traffic_dfs = {}\n",
    "for road in road_list:\n",
    "    file_location = f'../data/RMMS/{road}.traffic.htm'\n",
    "    df_list = pd.read_html(file_location)\n",
    "    df = df_list[-1].iloc[1:] # take the last table available, and drop first row\n",
    "    #df.columns = df.iloc[1]\n",
    "    traffic_dfs[road] = df\n",
    "\n",
    "# TODO: Clean up dataframes by setting the first two rows as column names"
   ],
   "metadata": {
    "collapsed": false,
    "pycharm": {
     "name": "#%%\n"
    }
   }
  },
  {
   "cell_type": "code",
   "execution_count": 4,
   "outputs": [
    {
     "data": {
      "text/plain": "        0                                                  1               2   \\\n1  Link no                                               Name  Start location   \n2      NaN                                                NaN             LRP   \n3   N105-1  Madanpur (13th km of N1)-Nayapur, Bostail (Int...            LRPS   \n4   N105-2  Nayapur, Bostail(Int.with R114)-Bhulta (Int.wi...          LRP006   \n5   N105-3                Bhulta (Int.with N2)-Purbachal Road          LRP012   \n6   N105-4          Purbachal Road- Ulukhola (Int.with Z3010)         LRP020d   \n7   N105-5  Ulukhola (Int.with Z3010)-Mirer Bazar (Int.wit...          LRP028   \n8   N105-6  Mirer Bazar (Int.with R301)-Vogra Bypass(Int.w...          LRP035   \n9   N105-7  Vogra Bypass(Int.with N3)-End of Road (Int.wit...          LRP045   \n\n               3               4             5             6             7   \\\n1  Start location  Start location  End location  End location  End location   \n2          Offset        Chainage           LRP        Offset      Chainage   \n3               0               0        LRP006           181         6.309   \n4             181           6.309        LRP012           546        12.803   \n5             546          12.803       LRP020d             0        21.221   \n6               0          21.221        LRP028           895         28.61   \n7             895           28.61        LRP035          1289        36.158   \n8            1289          36.158        LRP045          1118        45.998   \n9            1118          45.998          LRPE             0        48.881   \n\n       8             9   ...            16             17            18  \\\n1  Length  Traffic Data  ...  Traffic Data   Traffic Data  Traffic Data   \n2    (Km)   Heavy Truck  ...           Car  Auto Rickshaw   Motor Cycle   \n3   6.309         338.0  ...         619.0         5625.0         552.0   \n4   6.494         245.0  ...         954.0         2332.0         659.0   \n5   8.418         223.0  ...        1275.0         2563.0         484.0   \n6   7.389         320.0  ...         804.0         1144.0         622.0   \n7   7.548         320.0  ...         804.0         1144.0         622.0   \n8   9.840         320.0  ...         804.0         1144.0         622.0   \n9   2.883         328.0  ...        1240.0         1243.0         452.0   \n\n             19              20            21         22             23  \\\n1  Traffic Data    Traffic Data  Traffic Data      Total          Total   \n2      Bi-Cycle  Cycle Rickshaw          Cart  Motorized  Non Motorized   \n3         145.0          1648.0           0.0    13111.0         1793.0   \n4         180.0          1011.0           0.0    10396.0         1191.0   \n5          64.0           249.0           0.0    11521.0          313.0   \n6         102.0           363.0           0.0     8791.0          465.0   \n7         102.0           363.0           0.0     8791.0          465.0   \n8         102.0           363.0           0.0     8791.0          465.0   \n9         149.0          1353.0           0.0    10373.0         1502.0   \n\n           24       25  \n1       Total  Traffic  \n2  Total AADT   (AADT)  \n3     14904.0  14904.0  \n4     11587.0  11587.0  \n5     11834.0  11834.0  \n6      9256.0   9256.0  \n7      9256.0   9256.0  \n8      9256.0   9256.0  \n9     11875.0  11875.0  \n\n[9 rows x 26 columns]",
      "text/html": "<div>\n<style scoped>\n    .dataframe tbody tr th:only-of-type {\n        vertical-align: middle;\n    }\n\n    .dataframe tbody tr th {\n        vertical-align: top;\n    }\n\n    .dataframe thead th {\n        text-align: right;\n    }\n</style>\n<table border=\"1\" class=\"dataframe\">\n  <thead>\n    <tr style=\"text-align: right;\">\n      <th></th>\n      <th>0</th>\n      <th>1</th>\n      <th>2</th>\n      <th>3</th>\n      <th>4</th>\n      <th>5</th>\n      <th>6</th>\n      <th>7</th>\n      <th>8</th>\n      <th>9</th>\n      <th>...</th>\n      <th>16</th>\n      <th>17</th>\n      <th>18</th>\n      <th>19</th>\n      <th>20</th>\n      <th>21</th>\n      <th>22</th>\n      <th>23</th>\n      <th>24</th>\n      <th>25</th>\n    </tr>\n  </thead>\n  <tbody>\n    <tr>\n      <th>1</th>\n      <td>Link no</td>\n      <td>Name</td>\n      <td>Start location</td>\n      <td>Start location</td>\n      <td>Start location</td>\n      <td>End location</td>\n      <td>End location</td>\n      <td>End location</td>\n      <td>Length</td>\n      <td>Traffic Data</td>\n      <td>...</td>\n      <td>Traffic Data</td>\n      <td>Traffic Data</td>\n      <td>Traffic Data</td>\n      <td>Traffic Data</td>\n      <td>Traffic Data</td>\n      <td>Traffic Data</td>\n      <td>Total</td>\n      <td>Total</td>\n      <td>Total</td>\n      <td>Traffic</td>\n    </tr>\n    <tr>\n      <th>2</th>\n      <td>NaN</td>\n      <td>NaN</td>\n      <td>LRP</td>\n      <td>Offset</td>\n      <td>Chainage</td>\n      <td>LRP</td>\n      <td>Offset</td>\n      <td>Chainage</td>\n      <td>(Km)</td>\n      <td>Heavy Truck</td>\n      <td>...</td>\n      <td>Car</td>\n      <td>Auto Rickshaw</td>\n      <td>Motor Cycle</td>\n      <td>Bi-Cycle</td>\n      <td>Cycle Rickshaw</td>\n      <td>Cart</td>\n      <td>Motorized</td>\n      <td>Non Motorized</td>\n      <td>Total AADT</td>\n      <td>(AADT)</td>\n    </tr>\n    <tr>\n      <th>3</th>\n      <td>N105-1</td>\n      <td>Madanpur (13th km of N1)-Nayapur, Bostail (Int...</td>\n      <td>LRPS</td>\n      <td>0</td>\n      <td>0</td>\n      <td>LRP006</td>\n      <td>181</td>\n      <td>6.309</td>\n      <td>6.309</td>\n      <td>338.0</td>\n      <td>...</td>\n      <td>619.0</td>\n      <td>5625.0</td>\n      <td>552.0</td>\n      <td>145.0</td>\n      <td>1648.0</td>\n      <td>0.0</td>\n      <td>13111.0</td>\n      <td>1793.0</td>\n      <td>14904.0</td>\n      <td>14904.0</td>\n    </tr>\n    <tr>\n      <th>4</th>\n      <td>N105-2</td>\n      <td>Nayapur, Bostail(Int.with R114)-Bhulta (Int.wi...</td>\n      <td>LRP006</td>\n      <td>181</td>\n      <td>6.309</td>\n      <td>LRP012</td>\n      <td>546</td>\n      <td>12.803</td>\n      <td>6.494</td>\n      <td>245.0</td>\n      <td>...</td>\n      <td>954.0</td>\n      <td>2332.0</td>\n      <td>659.0</td>\n      <td>180.0</td>\n      <td>1011.0</td>\n      <td>0.0</td>\n      <td>10396.0</td>\n      <td>1191.0</td>\n      <td>11587.0</td>\n      <td>11587.0</td>\n    </tr>\n    <tr>\n      <th>5</th>\n      <td>N105-3</td>\n      <td>Bhulta (Int.with N2)-Purbachal Road</td>\n      <td>LRP012</td>\n      <td>546</td>\n      <td>12.803</td>\n      <td>LRP020d</td>\n      <td>0</td>\n      <td>21.221</td>\n      <td>8.418</td>\n      <td>223.0</td>\n      <td>...</td>\n      <td>1275.0</td>\n      <td>2563.0</td>\n      <td>484.0</td>\n      <td>64.0</td>\n      <td>249.0</td>\n      <td>0.0</td>\n      <td>11521.0</td>\n      <td>313.0</td>\n      <td>11834.0</td>\n      <td>11834.0</td>\n    </tr>\n    <tr>\n      <th>6</th>\n      <td>N105-4</td>\n      <td>Purbachal Road- Ulukhola (Int.with Z3010)</td>\n      <td>LRP020d</td>\n      <td>0</td>\n      <td>21.221</td>\n      <td>LRP028</td>\n      <td>895</td>\n      <td>28.61</td>\n      <td>7.389</td>\n      <td>320.0</td>\n      <td>...</td>\n      <td>804.0</td>\n      <td>1144.0</td>\n      <td>622.0</td>\n      <td>102.0</td>\n      <td>363.0</td>\n      <td>0.0</td>\n      <td>8791.0</td>\n      <td>465.0</td>\n      <td>9256.0</td>\n      <td>9256.0</td>\n    </tr>\n    <tr>\n      <th>7</th>\n      <td>N105-5</td>\n      <td>Ulukhola (Int.with Z3010)-Mirer Bazar (Int.wit...</td>\n      <td>LRP028</td>\n      <td>895</td>\n      <td>28.61</td>\n      <td>LRP035</td>\n      <td>1289</td>\n      <td>36.158</td>\n      <td>7.548</td>\n      <td>320.0</td>\n      <td>...</td>\n      <td>804.0</td>\n      <td>1144.0</td>\n      <td>622.0</td>\n      <td>102.0</td>\n      <td>363.0</td>\n      <td>0.0</td>\n      <td>8791.0</td>\n      <td>465.0</td>\n      <td>9256.0</td>\n      <td>9256.0</td>\n    </tr>\n    <tr>\n      <th>8</th>\n      <td>N105-6</td>\n      <td>Mirer Bazar (Int.with R301)-Vogra Bypass(Int.w...</td>\n      <td>LRP035</td>\n      <td>1289</td>\n      <td>36.158</td>\n      <td>LRP045</td>\n      <td>1118</td>\n      <td>45.998</td>\n      <td>9.840</td>\n      <td>320.0</td>\n      <td>...</td>\n      <td>804.0</td>\n      <td>1144.0</td>\n      <td>622.0</td>\n      <td>102.0</td>\n      <td>363.0</td>\n      <td>0.0</td>\n      <td>8791.0</td>\n      <td>465.0</td>\n      <td>9256.0</td>\n      <td>9256.0</td>\n    </tr>\n    <tr>\n      <th>9</th>\n      <td>N105-7</td>\n      <td>Vogra Bypass(Int.with N3)-End of Road (Int.wit...</td>\n      <td>LRP045</td>\n      <td>1118</td>\n      <td>45.998</td>\n      <td>LRPE</td>\n      <td>0</td>\n      <td>48.881</td>\n      <td>2.883</td>\n      <td>328.0</td>\n      <td>...</td>\n      <td>1240.0</td>\n      <td>1243.0</td>\n      <td>452.0</td>\n      <td>149.0</td>\n      <td>1353.0</td>\n      <td>0.0</td>\n      <td>10373.0</td>\n      <td>1502.0</td>\n      <td>11875.0</td>\n      <td>11875.0</td>\n    </tr>\n  </tbody>\n</table>\n<p>9 rows × 26 columns</p>\n</div>"
     },
     "execution_count": 4,
     "metadata": {},
     "output_type": "execute_result"
    }
   ],
   "source": [
    "traffic_dfs[\"N105\"]"
   ],
   "metadata": {
    "collapsed": false,
    "pycharm": {
     "name": "#%%\n"
    }
   }
  }
 ],
 "metadata": {
  "kernelspec": {
   "display_name": "Python 3",
   "language": "python",
   "name": "python3"
  },
  "language_info": {
   "codemirror_mode": {
    "name": "ipython",
    "version": 2
   },
   "file_extension": ".py",
   "mimetype": "text/x-python",
   "name": "python",
   "nbconvert_exporter": "python",
   "pygments_lexer": "ipython2",
   "version": "2.7.6"
  }
 },
 "nbformat": 4,
 "nbformat_minor": 0
}