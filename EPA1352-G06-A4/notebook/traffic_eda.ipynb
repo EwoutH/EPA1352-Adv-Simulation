{
 "cells": [
  {
   "cell_type": "markdown",
   "metadata": {
    "collapsed": true,
    "pycharm": {
     "name": "#%% md\n"
    }
   },
   "source": [
    "## Trafic EDA\n",
    "Read out and process the traffic data for each road"
   ]
  },
  {
   "cell_type": "code",
   "execution_count": 1,
   "outputs": [],
   "source": [
    "import pandas as pd"
   ],
   "metadata": {
    "collapsed": false,
    "pycharm": {
     "name": "#%%\n"
    }
   }
  },
  {
   "cell_type": "code",
   "execution_count": 2,
   "outputs": [
    {
     "name": "stdout",
     "output_type": "stream",
     "text": [
      "['N1', 'N2', 'N105', 'N102', 'N104', 'N111', 'N107', 'N108', 'N109', 'N110', 'N204', 'N207', 'N209', 'N206', 'N210']\n"
     ]
    }
   ],
   "source": [
    "# Read road CSV to dataframe and create list of roads\n",
    "network_df = pd.read_csv(\"../data/df_road_N1andN2.csv\")\n",
    "road_list = network_df[\"road\"].unique().tolist()\n",
    "print(road_list)"
   ],
   "metadata": {
    "collapsed": false,
    "pycharm": {
     "name": "#%%\n"
    }
   }
  },
  {
   "cell_type": "code",
   "execution_count": 3,
   "outputs": [],
   "source": [
    "# Read traffic data from htm files\n",
    "traffic_dfs = {}\n",
    "for road in road_list:\n",
    "    file_location = f'../data/RMMS/{road}.traffic.htm'\n",
    "    df_list = pd.read_html(file_location)\n",
    "    df = df_list[-1].iloc[1:] # take the last table available, and drop first row\n",
    "    \n",
    "    # Combine the first two rows, set them as column names, and drop\n",
    "    columns = df.iloc[0:2].T\n",
    "    columns = columns[1] + ' ' + columns[2].astype(str)\n",
    "    df.columns = columns.T\n",
    "    df = df.drop([1,2], axis='index')\n",
    "    \n",
    "    traffic_dfs[road] = df"
   ],
   "metadata": {
    "collapsed": false,
    "pycharm": {
     "name": "#%%\n"
    }
   }
  },
  {
   "cell_type": "markdown",
   "source": [
    "Note: Some roads contains bridges in both directions. We assume that if the bridge breaks, it affects traffic in both directions, so we can take the average of it."
   ],
   "metadata": {
    "collapsed": false
   }
  },
  {
   "cell_type": "code",
   "execution_count": 4,
   "outputs": [],
   "source": [
    "# Make list with the columns with traffic values\n",
    "traffic_cols = traffic_dfs[\"N1\"].columns.tolist()[9:]"
   ],
   "metadata": {
    "collapsed": false,
    "pycharm": {
     "name": "#%%\n"
    }
   }
  },
  {
   "cell_type": "code",
   "execution_count": 5,
   "outputs": [],
   "source": [
    "# Create dictionary with traffic per road per type\n",
    "traffic_dict = {}\n",
    "for road, df in traffic_dfs.items():\n",
    "    traffic_dict[road] = df[traffic_cols].astype(float).mean().tolist()"
   ],
   "metadata": {
    "collapsed": false,
    "pycharm": {
     "name": "#%%\n"
    }
   }
  },
  {
   "cell_type": "code",
   "execution_count": 6,
   "outputs": [
    {
     "data": {
      "text/plain": "      Traffic Data Heavy Truck  Traffic Data Medium Truck  \\\nN1                  275.009524                3684.485714   \nN2                  270.965517                1919.137931   \nN105                299.142857                3761.428571   \nN102                237.100000                1092.600000   \nN104                 67.181818                 834.636364   \nN111                  0.000000                 254.000000   \nN107                  0.000000                 338.000000   \nN108                  0.000000                 180.000000   \nN109                  0.000000                 180.000000   \nN110                  0.000000                 254.000000   \nN204                  0.000000                 176.000000   \nN207                 31.000000                 423.000000   \nN209                  1.000000                 499.000000   \nN206                  1.000000                  83.000000   \nN210                  1.000000                 499.000000   \n\n      Traffic Data Small Truck  Traffic Data Large Bus  \\\nN1                 1056.628571             1461.685714   \nN2                  843.137931             1223.034483   \nN105               1229.428571               76.000000   \nN102                676.400000              483.700000   \nN104                461.272727              418.909091   \nN111                410.000000              452.000000   \nN107                475.000000              132.000000   \nN108                130.000000              133.000000   \nN109                130.000000              133.000000   \nN110                410.000000              452.000000   \nN204                190.000000               31.000000   \nN207                312.000000              198.000000   \nN209               1030.000000             1134.000000   \nN206                144.000000                0.000000   \nN210               1030.000000             1134.000000   \n\n      Traffic Data Medium Bus  Traffic Data Micro Bus  Traffic Data Utility  \\\nN1                 643.495238             1120.895238            284.180952   \nN2                 369.896552             1198.793103            248.689655   \nN105                65.571429             1008.714286            140.571429   \nN102               134.200000              503.800000            222.200000   \nN104               360.181818              471.000000             76.909091   \nN111               199.000000              517.000000            419.000000   \nN107                 0.000000              265.000000             27.000000   \nN108                64.000000              402.000000             56.000000   \nN109                64.000000              402.000000             56.000000   \nN110               199.000000              517.000000            419.000000   \nN204                38.000000              204.000000             43.000000   \nN207               142.000000              323.000000            162.000000   \nN209              1805.000000             1694.000000            225.000000   \nN206                28.000000              208.000000             26.000000   \nN210              1805.000000             1694.000000            225.000000   \n\n      Traffic Data Car  Traffic Data Auto Rickshaw  Traffic Data Motor Cycle  \\\nN1         1020.285714                 2083.838095                510.657143   \nN2          882.103448                 2742.931034                624.517241   \nN105        928.571429                 2170.714286                573.285714   \nN102        295.200000                 4322.300000                636.900000   \nN104        196.636364                 4103.000000                783.363636   \nN111        233.000000                 2812.000000                821.000000   \nN107        258.000000                 2685.000000                815.000000   \nN108        507.000000                 2196.000000                621.000000   \nN109        507.000000                 2196.000000                621.000000   \nN110        233.000000                 2812.000000                821.000000   \nN204         92.000000                 1119.000000                378.000000   \nN207        386.000000                 2594.000000                467.000000   \nN209        936.000000                 4844.000000               1243.000000   \nN206        174.000000                 3356.000000               1113.000000   \nN210        936.000000                 4844.000000               1243.000000   \n\n      Traffic Data Bi-Cycle  Traffic Data Cycle Rickshaw  Traffic Data Cart  \\\nN1               173.695238                   555.638095           0.133333   \nN2               228.206897                   663.931034           2.689655   \nN105             120.571429                   764.285714           0.000000   \nN102             171.100000                   639.000000           0.000000   \nN104             304.181818                  1060.000000           2.909091   \nN111              46.000000                   112.000000           0.000000   \nN107             306.000000                   365.000000           0.000000   \nN108             222.000000                  1022.000000           0.000000   \nN109             222.000000                  1022.000000           0.000000   \nN110              46.000000                   112.000000           0.000000   \nN204             127.000000                   230.000000           0.000000   \nN207             141.000000                   150.000000           0.000000   \nN209             369.000000                  5282.000000          74.000000   \nN206             391.000000                  2168.000000           0.000000   \nN210             369.000000                  5282.000000          74.000000   \n\n      Total Motorized  Total Non Motorized  Total Total AADT  Traffic (AADT)  \nN1       12141.161905           729.466667      12870.628571    12870.628571  \nN2       10323.206897           894.827586      11218.034483    11218.034483  \nN105     10253.428571           884.857143      11138.285714    11138.285714  \nN102      8604.400000           810.100000       9414.500000     9414.500000  \nN104      7773.090909          1367.090909       9140.181818     9140.181818  \nN111      6117.000000           158.000000       6275.000000     6275.000000  \nN107      4995.000000           671.000000       5666.000000     5666.000000  \nN108      4289.000000          1244.000000       5533.000000     5533.000000  \nN109      4289.000000          1244.000000       5533.000000     5533.000000  \nN110      6117.000000           158.000000       6275.000000     6275.000000  \nN204      2271.000000           357.000000       2628.000000     2628.000000  \nN207      5038.000000           291.000000       5329.000000     5329.000000  \nN209     13411.000000          5725.000000      19136.000000    19136.000000  \nN206      5133.000000          2559.000000       7692.000000     7692.000000  \nN210     13411.000000          5725.000000      19136.000000    19136.000000  ",
      "text/html": "<div>\n<style scoped>\n    .dataframe tbody tr th:only-of-type {\n        vertical-align: middle;\n    }\n\n    .dataframe tbody tr th {\n        vertical-align: top;\n    }\n\n    .dataframe thead th {\n        text-align: right;\n    }\n</style>\n<table border=\"1\" class=\"dataframe\">\n  <thead>\n    <tr style=\"text-align: right;\">\n      <th></th>\n      <th>Traffic Data Heavy Truck</th>\n      <th>Traffic Data Medium Truck</th>\n      <th>Traffic Data Small Truck</th>\n      <th>Traffic Data Large Bus</th>\n      <th>Traffic Data Medium Bus</th>\n      <th>Traffic Data Micro Bus</th>\n      <th>Traffic Data Utility</th>\n      <th>Traffic Data Car</th>\n      <th>Traffic Data Auto Rickshaw</th>\n      <th>Traffic Data Motor Cycle</th>\n      <th>Traffic Data Bi-Cycle</th>\n      <th>Traffic Data Cycle Rickshaw</th>\n      <th>Traffic Data Cart</th>\n      <th>Total Motorized</th>\n      <th>Total Non Motorized</th>\n      <th>Total Total AADT</th>\n      <th>Traffic (AADT)</th>\n    </tr>\n  </thead>\n  <tbody>\n    <tr>\n      <th>N1</th>\n      <td>275.009524</td>\n      <td>3684.485714</td>\n      <td>1056.628571</td>\n      <td>1461.685714</td>\n      <td>643.495238</td>\n      <td>1120.895238</td>\n      <td>284.180952</td>\n      <td>1020.285714</td>\n      <td>2083.838095</td>\n      <td>510.657143</td>\n      <td>173.695238</td>\n      <td>555.638095</td>\n      <td>0.133333</td>\n      <td>12141.161905</td>\n      <td>729.466667</td>\n      <td>12870.628571</td>\n      <td>12870.628571</td>\n    </tr>\n    <tr>\n      <th>N2</th>\n      <td>270.965517</td>\n      <td>1919.137931</td>\n      <td>843.137931</td>\n      <td>1223.034483</td>\n      <td>369.896552</td>\n      <td>1198.793103</td>\n      <td>248.689655</td>\n      <td>882.103448</td>\n      <td>2742.931034</td>\n      <td>624.517241</td>\n      <td>228.206897</td>\n      <td>663.931034</td>\n      <td>2.689655</td>\n      <td>10323.206897</td>\n      <td>894.827586</td>\n      <td>11218.034483</td>\n      <td>11218.034483</td>\n    </tr>\n    <tr>\n      <th>N105</th>\n      <td>299.142857</td>\n      <td>3761.428571</td>\n      <td>1229.428571</td>\n      <td>76.000000</td>\n      <td>65.571429</td>\n      <td>1008.714286</td>\n      <td>140.571429</td>\n      <td>928.571429</td>\n      <td>2170.714286</td>\n      <td>573.285714</td>\n      <td>120.571429</td>\n      <td>764.285714</td>\n      <td>0.000000</td>\n      <td>10253.428571</td>\n      <td>884.857143</td>\n      <td>11138.285714</td>\n      <td>11138.285714</td>\n    </tr>\n    <tr>\n      <th>N102</th>\n      <td>237.100000</td>\n      <td>1092.600000</td>\n      <td>676.400000</td>\n      <td>483.700000</td>\n      <td>134.200000</td>\n      <td>503.800000</td>\n      <td>222.200000</td>\n      <td>295.200000</td>\n      <td>4322.300000</td>\n      <td>636.900000</td>\n      <td>171.100000</td>\n      <td>639.000000</td>\n      <td>0.000000</td>\n      <td>8604.400000</td>\n      <td>810.100000</td>\n      <td>9414.500000</td>\n      <td>9414.500000</td>\n    </tr>\n    <tr>\n      <th>N104</th>\n      <td>67.181818</td>\n      <td>834.636364</td>\n      <td>461.272727</td>\n      <td>418.909091</td>\n      <td>360.181818</td>\n      <td>471.000000</td>\n      <td>76.909091</td>\n      <td>196.636364</td>\n      <td>4103.000000</td>\n      <td>783.363636</td>\n      <td>304.181818</td>\n      <td>1060.000000</td>\n      <td>2.909091</td>\n      <td>7773.090909</td>\n      <td>1367.090909</td>\n      <td>9140.181818</td>\n      <td>9140.181818</td>\n    </tr>\n    <tr>\n      <th>N111</th>\n      <td>0.000000</td>\n      <td>254.000000</td>\n      <td>410.000000</td>\n      <td>452.000000</td>\n      <td>199.000000</td>\n      <td>517.000000</td>\n      <td>419.000000</td>\n      <td>233.000000</td>\n      <td>2812.000000</td>\n      <td>821.000000</td>\n      <td>46.000000</td>\n      <td>112.000000</td>\n      <td>0.000000</td>\n      <td>6117.000000</td>\n      <td>158.000000</td>\n      <td>6275.000000</td>\n      <td>6275.000000</td>\n    </tr>\n    <tr>\n      <th>N107</th>\n      <td>0.000000</td>\n      <td>338.000000</td>\n      <td>475.000000</td>\n      <td>132.000000</td>\n      <td>0.000000</td>\n      <td>265.000000</td>\n      <td>27.000000</td>\n      <td>258.000000</td>\n      <td>2685.000000</td>\n      <td>815.000000</td>\n      <td>306.000000</td>\n      <td>365.000000</td>\n      <td>0.000000</td>\n      <td>4995.000000</td>\n      <td>671.000000</td>\n      <td>5666.000000</td>\n      <td>5666.000000</td>\n    </tr>\n    <tr>\n      <th>N108</th>\n      <td>0.000000</td>\n      <td>180.000000</td>\n      <td>130.000000</td>\n      <td>133.000000</td>\n      <td>64.000000</td>\n      <td>402.000000</td>\n      <td>56.000000</td>\n      <td>507.000000</td>\n      <td>2196.000000</td>\n      <td>621.000000</td>\n      <td>222.000000</td>\n      <td>1022.000000</td>\n      <td>0.000000</td>\n      <td>4289.000000</td>\n      <td>1244.000000</td>\n      <td>5533.000000</td>\n      <td>5533.000000</td>\n    </tr>\n    <tr>\n      <th>N109</th>\n      <td>0.000000</td>\n      <td>180.000000</td>\n      <td>130.000000</td>\n      <td>133.000000</td>\n      <td>64.000000</td>\n      <td>402.000000</td>\n      <td>56.000000</td>\n      <td>507.000000</td>\n      <td>2196.000000</td>\n      <td>621.000000</td>\n      <td>222.000000</td>\n      <td>1022.000000</td>\n      <td>0.000000</td>\n      <td>4289.000000</td>\n      <td>1244.000000</td>\n      <td>5533.000000</td>\n      <td>5533.000000</td>\n    </tr>\n    <tr>\n      <th>N110</th>\n      <td>0.000000</td>\n      <td>254.000000</td>\n      <td>410.000000</td>\n      <td>452.000000</td>\n      <td>199.000000</td>\n      <td>517.000000</td>\n      <td>419.000000</td>\n      <td>233.000000</td>\n      <td>2812.000000</td>\n      <td>821.000000</td>\n      <td>46.000000</td>\n      <td>112.000000</td>\n      <td>0.000000</td>\n      <td>6117.000000</td>\n      <td>158.000000</td>\n      <td>6275.000000</td>\n      <td>6275.000000</td>\n    </tr>\n    <tr>\n      <th>N204</th>\n      <td>0.000000</td>\n      <td>176.000000</td>\n      <td>190.000000</td>\n      <td>31.000000</td>\n      <td>38.000000</td>\n      <td>204.000000</td>\n      <td>43.000000</td>\n      <td>92.000000</td>\n      <td>1119.000000</td>\n      <td>378.000000</td>\n      <td>127.000000</td>\n      <td>230.000000</td>\n      <td>0.000000</td>\n      <td>2271.000000</td>\n      <td>357.000000</td>\n      <td>2628.000000</td>\n      <td>2628.000000</td>\n    </tr>\n    <tr>\n      <th>N207</th>\n      <td>31.000000</td>\n      <td>423.000000</td>\n      <td>312.000000</td>\n      <td>198.000000</td>\n      <td>142.000000</td>\n      <td>323.000000</td>\n      <td>162.000000</td>\n      <td>386.000000</td>\n      <td>2594.000000</td>\n      <td>467.000000</td>\n      <td>141.000000</td>\n      <td>150.000000</td>\n      <td>0.000000</td>\n      <td>5038.000000</td>\n      <td>291.000000</td>\n      <td>5329.000000</td>\n      <td>5329.000000</td>\n    </tr>\n    <tr>\n      <th>N209</th>\n      <td>1.000000</td>\n      <td>499.000000</td>\n      <td>1030.000000</td>\n      <td>1134.000000</td>\n      <td>1805.000000</td>\n      <td>1694.000000</td>\n      <td>225.000000</td>\n      <td>936.000000</td>\n      <td>4844.000000</td>\n      <td>1243.000000</td>\n      <td>369.000000</td>\n      <td>5282.000000</td>\n      <td>74.000000</td>\n      <td>13411.000000</td>\n      <td>5725.000000</td>\n      <td>19136.000000</td>\n      <td>19136.000000</td>\n    </tr>\n    <tr>\n      <th>N206</th>\n      <td>1.000000</td>\n      <td>83.000000</td>\n      <td>144.000000</td>\n      <td>0.000000</td>\n      <td>28.000000</td>\n      <td>208.000000</td>\n      <td>26.000000</td>\n      <td>174.000000</td>\n      <td>3356.000000</td>\n      <td>1113.000000</td>\n      <td>391.000000</td>\n      <td>2168.000000</td>\n      <td>0.000000</td>\n      <td>5133.000000</td>\n      <td>2559.000000</td>\n      <td>7692.000000</td>\n      <td>7692.000000</td>\n    </tr>\n    <tr>\n      <th>N210</th>\n      <td>1.000000</td>\n      <td>499.000000</td>\n      <td>1030.000000</td>\n      <td>1134.000000</td>\n      <td>1805.000000</td>\n      <td>1694.000000</td>\n      <td>225.000000</td>\n      <td>936.000000</td>\n      <td>4844.000000</td>\n      <td>1243.000000</td>\n      <td>369.000000</td>\n      <td>5282.000000</td>\n      <td>74.000000</td>\n      <td>13411.000000</td>\n      <td>5725.000000</td>\n      <td>19136.000000</td>\n      <td>19136.000000</td>\n    </tr>\n  </tbody>\n</table>\n</div>"
     },
     "execution_count": 6,
     "metadata": {},
     "output_type": "execute_result"
    }
   ],
   "source": [
    "# Create dataframe from traffic dict\n",
    "traffic_per_road = pd.DataFrame.from_dict(traffic_dict, orient='index', columns=traffic_cols)\n",
    "traffic_per_road"
   ],
   "metadata": {
    "collapsed": false,
    "pycharm": {
     "name": "#%%\n"
    }
   }
  },
  {
   "cell_type": "code",
   "execution_count": 7,
   "outputs": [],
   "source": [],
   "metadata": {
    "collapsed": false,
    "pycharm": {
     "name": "#%%\n"
    }
   }
  },
  {
   "cell_type": "code",
   "execution_count": 10,
   "outputs": [
    {
     "data": {
      "text/plain": "      Traffic Data Heavy Truck  Traffic Data Medium Truck  \\\nN1                  275.009524                3684.485714   \nN2                  270.965517                1919.137931   \nN105                299.142857                3761.428571   \nN102                237.100000                1092.600000   \nN104                 67.181818                 834.636364   \nN111                  0.000000                 254.000000   \nN107                  0.000000                 338.000000   \nN108                  0.000000                 180.000000   \nN109                  0.000000                 180.000000   \nN110                  0.000000                 254.000000   \nN204                  0.000000                 176.000000   \nN207                 31.000000                 423.000000   \nN209                  1.000000                 499.000000   \nN206                  1.000000                  83.000000   \nN210                  1.000000                 499.000000   \n\n      Traffic Data Small Truck  Traffic Data Large Bus  \\\nN1                 1056.628571             1461.685714   \nN2                  843.137931             1223.034483   \nN105               1229.428571               76.000000   \nN102                676.400000              483.700000   \nN104                461.272727              418.909091   \nN111                410.000000              452.000000   \nN107                475.000000              132.000000   \nN108                130.000000              133.000000   \nN109                130.000000              133.000000   \nN110                410.000000              452.000000   \nN204                190.000000               31.000000   \nN207                312.000000              198.000000   \nN209               1030.000000             1134.000000   \nN206                144.000000                0.000000   \nN210               1030.000000             1134.000000   \n\n      Traffic Data Medium Bus  Traffic Data Micro Bus  Traffic Data Utility  \\\nN1                 643.495238             1120.895238            284.180952   \nN2                 369.896552             1198.793103            248.689655   \nN105                65.571429             1008.714286            140.571429   \nN102               134.200000              503.800000            222.200000   \nN104               360.181818              471.000000             76.909091   \nN111               199.000000              517.000000            419.000000   \nN107                 0.000000              265.000000             27.000000   \nN108                64.000000              402.000000             56.000000   \nN109                64.000000              402.000000             56.000000   \nN110               199.000000              517.000000            419.000000   \nN204                38.000000              204.000000             43.000000   \nN207               142.000000              323.000000            162.000000   \nN209              1805.000000             1694.000000            225.000000   \nN206                28.000000              208.000000             26.000000   \nN210              1805.000000             1694.000000            225.000000   \n\n      Traffic Data Car  Traffic Data Auto Rickshaw  Traffic Data Motor Cycle  \\\nN1         1020.285714                 2083.838095                510.657143   \nN2          882.103448                 2742.931034                624.517241   \nN105        928.571429                 2170.714286                573.285714   \nN102        295.200000                 4322.300000                636.900000   \nN104        196.636364                 4103.000000                783.363636   \nN111        233.000000                 2812.000000                821.000000   \nN107        258.000000                 2685.000000                815.000000   \nN108        507.000000                 2196.000000                621.000000   \nN109        507.000000                 2196.000000                621.000000   \nN110        233.000000                 2812.000000                821.000000   \nN204         92.000000                 1119.000000                378.000000   \nN207        386.000000                 2594.000000                467.000000   \nN209        936.000000                 4844.000000               1243.000000   \nN206        174.000000                 3356.000000               1113.000000   \nN210        936.000000                 4844.000000               1243.000000   \n\n      Traffic Data Bi-Cycle  Traffic Data Cycle Rickshaw  Traffic Data Cart  \\\nN1               173.695238                   555.638095           0.133333   \nN2               228.206897                   663.931034           2.689655   \nN105             120.571429                   764.285714           0.000000   \nN102             171.100000                   639.000000           0.000000   \nN104             304.181818                  1060.000000           2.909091   \nN111              46.000000                   112.000000           0.000000   \nN107             306.000000                   365.000000           0.000000   \nN108             222.000000                  1022.000000           0.000000   \nN109             222.000000                  1022.000000           0.000000   \nN110              46.000000                   112.000000           0.000000   \nN204             127.000000                   230.000000           0.000000   \nN207             141.000000                   150.000000           0.000000   \nN209             369.000000                  5282.000000          74.000000   \nN206             391.000000                  2168.000000           0.000000   \nN210             369.000000                  5282.000000          74.000000   \n\n      Total Motorized  Total Non Motorized  Total Total AADT  Traffic (AADT)  \\\nN1       12141.161905           729.466667      12870.628571    12870.628571   \nN2       10323.206897           894.827586      11218.034483    11218.034483   \nN105     10253.428571           884.857143      11138.285714    11138.285714   \nN102      8604.400000           810.100000       9414.500000     9414.500000   \nN104      7773.090909          1367.090909       9140.181818     9140.181818   \nN111      6117.000000           158.000000       6275.000000     6275.000000   \nN107      4995.000000           671.000000       5666.000000     5666.000000   \nN108      4289.000000          1244.000000       5533.000000     5533.000000   \nN109      4289.000000          1244.000000       5533.000000     5533.000000   \nN110      6117.000000           158.000000       6275.000000     6275.000000   \nN204      2271.000000           357.000000       2628.000000     2628.000000   \nN207      5038.000000           291.000000       5329.000000     5329.000000   \nN209     13411.000000          5725.000000      19136.000000    19136.000000   \nN206      5133.000000          2559.000000       7692.000000     7692.000000   \nN210     13411.000000          5725.000000      19136.000000    19136.000000   \n\n      Percentage of traffic  \nN1                 9.395673  \nN2                 8.189265  \nN105               8.131048  \nN102               6.872669  \nN104               6.672414  \nN111               4.580806  \nN107               4.136230  \nN108               4.039139  \nN109               4.039139  \nN110               4.580806  \nN204               1.918463  \nN207               3.890217  \nN209              13.969450  \nN206               5.615228  \nN210              13.969450  ",
      "text/html": "<div>\n<style scoped>\n    .dataframe tbody tr th:only-of-type {\n        vertical-align: middle;\n    }\n\n    .dataframe tbody tr th {\n        vertical-align: top;\n    }\n\n    .dataframe thead th {\n        text-align: right;\n    }\n</style>\n<table border=\"1\" class=\"dataframe\">\n  <thead>\n    <tr style=\"text-align: right;\">\n      <th></th>\n      <th>Traffic Data Heavy Truck</th>\n      <th>Traffic Data Medium Truck</th>\n      <th>Traffic Data Small Truck</th>\n      <th>Traffic Data Large Bus</th>\n      <th>Traffic Data Medium Bus</th>\n      <th>Traffic Data Micro Bus</th>\n      <th>Traffic Data Utility</th>\n      <th>Traffic Data Car</th>\n      <th>Traffic Data Auto Rickshaw</th>\n      <th>Traffic Data Motor Cycle</th>\n      <th>Traffic Data Bi-Cycle</th>\n      <th>Traffic Data Cycle Rickshaw</th>\n      <th>Traffic Data Cart</th>\n      <th>Total Motorized</th>\n      <th>Total Non Motorized</th>\n      <th>Total Total AADT</th>\n      <th>Traffic (AADT)</th>\n      <th>Percentage of traffic</th>\n    </tr>\n  </thead>\n  <tbody>\n    <tr>\n      <th>N1</th>\n      <td>275.009524</td>\n      <td>3684.485714</td>\n      <td>1056.628571</td>\n      <td>1461.685714</td>\n      <td>643.495238</td>\n      <td>1120.895238</td>\n      <td>284.180952</td>\n      <td>1020.285714</td>\n      <td>2083.838095</td>\n      <td>510.657143</td>\n      <td>173.695238</td>\n      <td>555.638095</td>\n      <td>0.133333</td>\n      <td>12141.161905</td>\n      <td>729.466667</td>\n      <td>12870.628571</td>\n      <td>12870.628571</td>\n      <td>9.395673</td>\n    </tr>\n    <tr>\n      <th>N2</th>\n      <td>270.965517</td>\n      <td>1919.137931</td>\n      <td>843.137931</td>\n      <td>1223.034483</td>\n      <td>369.896552</td>\n      <td>1198.793103</td>\n      <td>248.689655</td>\n      <td>882.103448</td>\n      <td>2742.931034</td>\n      <td>624.517241</td>\n      <td>228.206897</td>\n      <td>663.931034</td>\n      <td>2.689655</td>\n      <td>10323.206897</td>\n      <td>894.827586</td>\n      <td>11218.034483</td>\n      <td>11218.034483</td>\n      <td>8.189265</td>\n    </tr>\n    <tr>\n      <th>N105</th>\n      <td>299.142857</td>\n      <td>3761.428571</td>\n      <td>1229.428571</td>\n      <td>76.000000</td>\n      <td>65.571429</td>\n      <td>1008.714286</td>\n      <td>140.571429</td>\n      <td>928.571429</td>\n      <td>2170.714286</td>\n      <td>573.285714</td>\n      <td>120.571429</td>\n      <td>764.285714</td>\n      <td>0.000000</td>\n      <td>10253.428571</td>\n      <td>884.857143</td>\n      <td>11138.285714</td>\n      <td>11138.285714</td>\n      <td>8.131048</td>\n    </tr>\n    <tr>\n      <th>N102</th>\n      <td>237.100000</td>\n      <td>1092.600000</td>\n      <td>676.400000</td>\n      <td>483.700000</td>\n      <td>134.200000</td>\n      <td>503.800000</td>\n      <td>222.200000</td>\n      <td>295.200000</td>\n      <td>4322.300000</td>\n      <td>636.900000</td>\n      <td>171.100000</td>\n      <td>639.000000</td>\n      <td>0.000000</td>\n      <td>8604.400000</td>\n      <td>810.100000</td>\n      <td>9414.500000</td>\n      <td>9414.500000</td>\n      <td>6.872669</td>\n    </tr>\n    <tr>\n      <th>N104</th>\n      <td>67.181818</td>\n      <td>834.636364</td>\n      <td>461.272727</td>\n      <td>418.909091</td>\n      <td>360.181818</td>\n      <td>471.000000</td>\n      <td>76.909091</td>\n      <td>196.636364</td>\n      <td>4103.000000</td>\n      <td>783.363636</td>\n      <td>304.181818</td>\n      <td>1060.000000</td>\n      <td>2.909091</td>\n      <td>7773.090909</td>\n      <td>1367.090909</td>\n      <td>9140.181818</td>\n      <td>9140.181818</td>\n      <td>6.672414</td>\n    </tr>\n    <tr>\n      <th>N111</th>\n      <td>0.000000</td>\n      <td>254.000000</td>\n      <td>410.000000</td>\n      <td>452.000000</td>\n      <td>199.000000</td>\n      <td>517.000000</td>\n      <td>419.000000</td>\n      <td>233.000000</td>\n      <td>2812.000000</td>\n      <td>821.000000</td>\n      <td>46.000000</td>\n      <td>112.000000</td>\n      <td>0.000000</td>\n      <td>6117.000000</td>\n      <td>158.000000</td>\n      <td>6275.000000</td>\n      <td>6275.000000</td>\n      <td>4.580806</td>\n    </tr>\n    <tr>\n      <th>N107</th>\n      <td>0.000000</td>\n      <td>338.000000</td>\n      <td>475.000000</td>\n      <td>132.000000</td>\n      <td>0.000000</td>\n      <td>265.000000</td>\n      <td>27.000000</td>\n      <td>258.000000</td>\n      <td>2685.000000</td>\n      <td>815.000000</td>\n      <td>306.000000</td>\n      <td>365.000000</td>\n      <td>0.000000</td>\n      <td>4995.000000</td>\n      <td>671.000000</td>\n      <td>5666.000000</td>\n      <td>5666.000000</td>\n      <td>4.136230</td>\n    </tr>\n    <tr>\n      <th>N108</th>\n      <td>0.000000</td>\n      <td>180.000000</td>\n      <td>130.000000</td>\n      <td>133.000000</td>\n      <td>64.000000</td>\n      <td>402.000000</td>\n      <td>56.000000</td>\n      <td>507.000000</td>\n      <td>2196.000000</td>\n      <td>621.000000</td>\n      <td>222.000000</td>\n      <td>1022.000000</td>\n      <td>0.000000</td>\n      <td>4289.000000</td>\n      <td>1244.000000</td>\n      <td>5533.000000</td>\n      <td>5533.000000</td>\n      <td>4.039139</td>\n    </tr>\n    <tr>\n      <th>N109</th>\n      <td>0.000000</td>\n      <td>180.000000</td>\n      <td>130.000000</td>\n      <td>133.000000</td>\n      <td>64.000000</td>\n      <td>402.000000</td>\n      <td>56.000000</td>\n      <td>507.000000</td>\n      <td>2196.000000</td>\n      <td>621.000000</td>\n      <td>222.000000</td>\n      <td>1022.000000</td>\n      <td>0.000000</td>\n      <td>4289.000000</td>\n      <td>1244.000000</td>\n      <td>5533.000000</td>\n      <td>5533.000000</td>\n      <td>4.039139</td>\n    </tr>\n    <tr>\n      <th>N110</th>\n      <td>0.000000</td>\n      <td>254.000000</td>\n      <td>410.000000</td>\n      <td>452.000000</td>\n      <td>199.000000</td>\n      <td>517.000000</td>\n      <td>419.000000</td>\n      <td>233.000000</td>\n      <td>2812.000000</td>\n      <td>821.000000</td>\n      <td>46.000000</td>\n      <td>112.000000</td>\n      <td>0.000000</td>\n      <td>6117.000000</td>\n      <td>158.000000</td>\n      <td>6275.000000</td>\n      <td>6275.000000</td>\n      <td>4.580806</td>\n    </tr>\n    <tr>\n      <th>N204</th>\n      <td>0.000000</td>\n      <td>176.000000</td>\n      <td>190.000000</td>\n      <td>31.000000</td>\n      <td>38.000000</td>\n      <td>204.000000</td>\n      <td>43.000000</td>\n      <td>92.000000</td>\n      <td>1119.000000</td>\n      <td>378.000000</td>\n      <td>127.000000</td>\n      <td>230.000000</td>\n      <td>0.000000</td>\n      <td>2271.000000</td>\n      <td>357.000000</td>\n      <td>2628.000000</td>\n      <td>2628.000000</td>\n      <td>1.918463</td>\n    </tr>\n    <tr>\n      <th>N207</th>\n      <td>31.000000</td>\n      <td>423.000000</td>\n      <td>312.000000</td>\n      <td>198.000000</td>\n      <td>142.000000</td>\n      <td>323.000000</td>\n      <td>162.000000</td>\n      <td>386.000000</td>\n      <td>2594.000000</td>\n      <td>467.000000</td>\n      <td>141.000000</td>\n      <td>150.000000</td>\n      <td>0.000000</td>\n      <td>5038.000000</td>\n      <td>291.000000</td>\n      <td>5329.000000</td>\n      <td>5329.000000</td>\n      <td>3.890217</td>\n    </tr>\n    <tr>\n      <th>N209</th>\n      <td>1.000000</td>\n      <td>499.000000</td>\n      <td>1030.000000</td>\n      <td>1134.000000</td>\n      <td>1805.000000</td>\n      <td>1694.000000</td>\n      <td>225.000000</td>\n      <td>936.000000</td>\n      <td>4844.000000</td>\n      <td>1243.000000</td>\n      <td>369.000000</td>\n      <td>5282.000000</td>\n      <td>74.000000</td>\n      <td>13411.000000</td>\n      <td>5725.000000</td>\n      <td>19136.000000</td>\n      <td>19136.000000</td>\n      <td>13.969450</td>\n    </tr>\n    <tr>\n      <th>N206</th>\n      <td>1.000000</td>\n      <td>83.000000</td>\n      <td>144.000000</td>\n      <td>0.000000</td>\n      <td>28.000000</td>\n      <td>208.000000</td>\n      <td>26.000000</td>\n      <td>174.000000</td>\n      <td>3356.000000</td>\n      <td>1113.000000</td>\n      <td>391.000000</td>\n      <td>2168.000000</td>\n      <td>0.000000</td>\n      <td>5133.000000</td>\n      <td>2559.000000</td>\n      <td>7692.000000</td>\n      <td>7692.000000</td>\n      <td>5.615228</td>\n    </tr>\n    <tr>\n      <th>N210</th>\n      <td>1.000000</td>\n      <td>499.000000</td>\n      <td>1030.000000</td>\n      <td>1134.000000</td>\n      <td>1805.000000</td>\n      <td>1694.000000</td>\n      <td>225.000000</td>\n      <td>936.000000</td>\n      <td>4844.000000</td>\n      <td>1243.000000</td>\n      <td>369.000000</td>\n      <td>5282.000000</td>\n      <td>74.000000</td>\n      <td>13411.000000</td>\n      <td>5725.000000</td>\n      <td>19136.000000</td>\n      <td>19136.000000</td>\n      <td>13.969450</td>\n    </tr>\n  </tbody>\n</table>\n</div>"
     },
     "execution_count": 10,
     "metadata": {},
     "output_type": "execute_result"
    }
   ],
   "source": [
    "#percentage of traffic per road\n",
    "traffic_per_road['Percentage of traffic'] = traffic_per_road['Traffic (AADT)'] / sum(traffic_per_road['Traffic (AADT)']) * 100\n",
    "traffic_per_road"
   ],
   "metadata": {
    "collapsed": false,
    "pycharm": {
     "name": "#%%\n"
    }
   }
  },
  {
   "cell_type": "code",
   "execution_count": 11,
   "outputs": [],
   "source": [
    "# Write to CSV\n",
    "traffic_per_road.to_csv(\"../data/traffic_per_road.csv\", index_label=\"Road\")"
   ],
   "metadata": {
    "collapsed": false,
    "pycharm": {
     "name": "#%%\n"
    }
   }
  },
  {
   "cell_type": "code",
   "execution_count": null,
   "outputs": [],
   "source": [],
   "metadata": {
    "collapsed": false,
    "pycharm": {
     "name": "#%%\n"
    }
   }
  }
 ],
 "metadata": {
  "kernelspec": {
   "display_name": "Python 3",
   "language": "python",
   "name": "python3"
  },
  "language_info": {
   "codemirror_mode": {
    "name": "ipython",
    "version": 2
   },
   "file_extension": ".py",
   "mimetype": "text/x-python",
   "name": "python",
   "nbconvert_exporter": "python",
   "pygments_lexer": "ipython2",
   "version": "2.7.6"
  }
 },
 "nbformat": 4,
 "nbformat_minor": 0
}