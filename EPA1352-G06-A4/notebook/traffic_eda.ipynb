{
 "cells": [
  {
   "cell_type": "markdown",
   "metadata": {
    "collapsed": true,
    "pycharm": {
     "name": "#%% md\n"
    }
   },
   "source": [
    "## Traffic data EDA"
   ]
  },
  {
   "cell_type": "code",
   "execution_count": 1,
   "outputs": [],
   "source": [
    "import pandas as pd"
   ],
   "metadata": {
    "collapsed": false,
    "pycharm": {
     "name": "#%%\n"
    }
   }
  },
  {
   "cell_type": "code",
   "execution_count": 2,
   "outputs": [
    {
     "name": "stdout",
     "output_type": "stream",
     "text": [
      "['N1', 'N2', 'N105', 'N102', 'N104', 'N111', 'N107', 'N108', 'N109', 'N110', 'N204', 'N207', 'N209', 'N206', 'N210']\n"
     ]
    }
   ],
   "source": [
    "network_df = pd.read_csv(\"../data/df_road_N1andN2.csv\")\n",
    "road_list = network_df[\"road\"].unique().tolist()\n",
    "print(road_list)"
   ],
   "metadata": {
    "collapsed": false,
    "pycharm": {
     "name": "#%%\n"
    }
   }
  },
  {
   "cell_type": "code",
   "execution_count": 3,
   "outputs": [],
   "source": [
    "traffic_dfs = {}\n",
    "for road in road_list:\n",
    "    file_location = f'../data/RMMS/{road}.traffic.htm'\n",
    "    df_list = pd.read_html(file_location)\n",
    "    df = df_list[-1].iloc[1:] # take the last table available, and drop first row\n",
    "    \n",
    "    # Combine the first two rows, set them as column names, and drop\n",
    "    columns = df.iloc[0:2].T\n",
    "    columns = columns[1] + ' ' + columns[2].astype(str)\n",
    "    df.columns = columns.T\n",
    "    df = df.drop([1,2], axis='index')\n",
    "    \n",
    "    traffic_dfs[road] = df"
   ],
   "metadata": {
    "collapsed": false,
    "pycharm": {
     "name": "#%%\n"
    }
   }
  },
  {
   "cell_type": "code",
   "execution_count": 4,
   "outputs": [
    {
     "data": {
      "text/plain": "  Link no nan                                           Name nan  \\\n3      N105-1  Madanpur (13th km of N1)-Nayapur, Bostail (Int...   \n4      N105-2  Nayapur, Bostail(Int.with R114)-Bhulta (Int.wi...   \n5      N105-3                Bhulta (Int.with N2)-Purbachal Road   \n6      N105-4          Purbachal Road- Ulukhola (Int.with Z3010)   \n7      N105-5  Ulukhola (Int.with Z3010)-Mirer Bazar (Int.wit...   \n8      N105-6  Mirer Bazar (Int.with R301)-Vogra Bypass(Int.w...   \n9      N105-7  Vogra Bypass(Int.with N3)-End of Road (Int.wit...   \n\n  Start location LRP Start location Offset Start location Chainage  \\\n3               LRPS                     0                       0   \n4             LRP006                   181                   6.309   \n5             LRP012                   546                  12.803   \n6            LRP020d                     0                  21.221   \n7             LRP028                   895                   28.61   \n8             LRP035                  1289                  36.158   \n9             LRP045                  1118                  45.998   \n\n  End location LRP End location Offset End location Chainage Length (Km)  \\\n3           LRP006                 181                 6.309       6.309   \n4           LRP012                 546                12.803       6.494   \n5          LRP020d                   0                21.221       8.418   \n6           LRP028                 895                 28.61       7.389   \n7           LRP035                1289                36.158       7.548   \n8           LRP045                1118                45.998       9.840   \n9             LRPE                   0                48.881       2.883   \n\n  Traffic Data Heavy Truck  ... Traffic Data Car Traffic Data Auto Rickshaw  \\\n3                    338.0  ...            619.0                     5625.0   \n4                    245.0  ...            954.0                     2332.0   \n5                    223.0  ...           1275.0                     2563.0   \n6                    320.0  ...            804.0                     1144.0   \n7                    320.0  ...            804.0                     1144.0   \n8                    320.0  ...            804.0                     1144.0   \n9                    328.0  ...           1240.0                     1243.0   \n\n  Traffic Data Motor Cycle Traffic Data Bi-Cycle Traffic Data Cycle Rickshaw  \\\n3                    552.0                 145.0                      1648.0   \n4                    659.0                 180.0                      1011.0   \n5                    484.0                  64.0                       249.0   \n6                    622.0                 102.0                       363.0   \n7                    622.0                 102.0                       363.0   \n8                    622.0                 102.0                       363.0   \n9                    452.0                 149.0                      1353.0   \n\n  Traffic Data Cart Total Motorized Total Non Motorized Total Total AADT  \\\n3               0.0         13111.0              1793.0          14904.0   \n4               0.0         10396.0              1191.0          11587.0   \n5               0.0         11521.0               313.0          11834.0   \n6               0.0          8791.0               465.0           9256.0   \n7               0.0          8791.0               465.0           9256.0   \n8               0.0          8791.0               465.0           9256.0   \n9               0.0         10373.0              1502.0          11875.0   \n\n  Traffic (AADT)  \n3        14904.0  \n4        11587.0  \n5        11834.0  \n6         9256.0  \n7         9256.0  \n8         9256.0  \n9        11875.0  \n\n[7 rows x 26 columns]",
      "text/html": "<div>\n<style scoped>\n    .dataframe tbody tr th:only-of-type {\n        vertical-align: middle;\n    }\n\n    .dataframe tbody tr th {\n        vertical-align: top;\n    }\n\n    .dataframe thead th {\n        text-align: right;\n    }\n</style>\n<table border=\"1\" class=\"dataframe\">\n  <thead>\n    <tr style=\"text-align: right;\">\n      <th></th>\n      <th>Link no nan</th>\n      <th>Name nan</th>\n      <th>Start location LRP</th>\n      <th>Start location Offset</th>\n      <th>Start location Chainage</th>\n      <th>End location LRP</th>\n      <th>End location Offset</th>\n      <th>End location Chainage</th>\n      <th>Length (Km)</th>\n      <th>Traffic Data Heavy Truck</th>\n      <th>...</th>\n      <th>Traffic Data Car</th>\n      <th>Traffic Data Auto Rickshaw</th>\n      <th>Traffic Data Motor Cycle</th>\n      <th>Traffic Data Bi-Cycle</th>\n      <th>Traffic Data Cycle Rickshaw</th>\n      <th>Traffic Data Cart</th>\n      <th>Total Motorized</th>\n      <th>Total Non Motorized</th>\n      <th>Total Total AADT</th>\n      <th>Traffic (AADT)</th>\n    </tr>\n  </thead>\n  <tbody>\n    <tr>\n      <th>3</th>\n      <td>N105-1</td>\n      <td>Madanpur (13th km of N1)-Nayapur, Bostail (Int...</td>\n      <td>LRPS</td>\n      <td>0</td>\n      <td>0</td>\n      <td>LRP006</td>\n      <td>181</td>\n      <td>6.309</td>\n      <td>6.309</td>\n      <td>338.0</td>\n      <td>...</td>\n      <td>619.0</td>\n      <td>5625.0</td>\n      <td>552.0</td>\n      <td>145.0</td>\n      <td>1648.0</td>\n      <td>0.0</td>\n      <td>13111.0</td>\n      <td>1793.0</td>\n      <td>14904.0</td>\n      <td>14904.0</td>\n    </tr>\n    <tr>\n      <th>4</th>\n      <td>N105-2</td>\n      <td>Nayapur, Bostail(Int.with R114)-Bhulta (Int.wi...</td>\n      <td>LRP006</td>\n      <td>181</td>\n      <td>6.309</td>\n      <td>LRP012</td>\n      <td>546</td>\n      <td>12.803</td>\n      <td>6.494</td>\n      <td>245.0</td>\n      <td>...</td>\n      <td>954.0</td>\n      <td>2332.0</td>\n      <td>659.0</td>\n      <td>180.0</td>\n      <td>1011.0</td>\n      <td>0.0</td>\n      <td>10396.0</td>\n      <td>1191.0</td>\n      <td>11587.0</td>\n      <td>11587.0</td>\n    </tr>\n    <tr>\n      <th>5</th>\n      <td>N105-3</td>\n      <td>Bhulta (Int.with N2)-Purbachal Road</td>\n      <td>LRP012</td>\n      <td>546</td>\n      <td>12.803</td>\n      <td>LRP020d</td>\n      <td>0</td>\n      <td>21.221</td>\n      <td>8.418</td>\n      <td>223.0</td>\n      <td>...</td>\n      <td>1275.0</td>\n      <td>2563.0</td>\n      <td>484.0</td>\n      <td>64.0</td>\n      <td>249.0</td>\n      <td>0.0</td>\n      <td>11521.0</td>\n      <td>313.0</td>\n      <td>11834.0</td>\n      <td>11834.0</td>\n    </tr>\n    <tr>\n      <th>6</th>\n      <td>N105-4</td>\n      <td>Purbachal Road- Ulukhola (Int.with Z3010)</td>\n      <td>LRP020d</td>\n      <td>0</td>\n      <td>21.221</td>\n      <td>LRP028</td>\n      <td>895</td>\n      <td>28.61</td>\n      <td>7.389</td>\n      <td>320.0</td>\n      <td>...</td>\n      <td>804.0</td>\n      <td>1144.0</td>\n      <td>622.0</td>\n      <td>102.0</td>\n      <td>363.0</td>\n      <td>0.0</td>\n      <td>8791.0</td>\n      <td>465.0</td>\n      <td>9256.0</td>\n      <td>9256.0</td>\n    </tr>\n    <tr>\n      <th>7</th>\n      <td>N105-5</td>\n      <td>Ulukhola (Int.with Z3010)-Mirer Bazar (Int.wit...</td>\n      <td>LRP028</td>\n      <td>895</td>\n      <td>28.61</td>\n      <td>LRP035</td>\n      <td>1289</td>\n      <td>36.158</td>\n      <td>7.548</td>\n      <td>320.0</td>\n      <td>...</td>\n      <td>804.0</td>\n      <td>1144.0</td>\n      <td>622.0</td>\n      <td>102.0</td>\n      <td>363.0</td>\n      <td>0.0</td>\n      <td>8791.0</td>\n      <td>465.0</td>\n      <td>9256.0</td>\n      <td>9256.0</td>\n    </tr>\n    <tr>\n      <th>8</th>\n      <td>N105-6</td>\n      <td>Mirer Bazar (Int.with R301)-Vogra Bypass(Int.w...</td>\n      <td>LRP035</td>\n      <td>1289</td>\n      <td>36.158</td>\n      <td>LRP045</td>\n      <td>1118</td>\n      <td>45.998</td>\n      <td>9.840</td>\n      <td>320.0</td>\n      <td>...</td>\n      <td>804.0</td>\n      <td>1144.0</td>\n      <td>622.0</td>\n      <td>102.0</td>\n      <td>363.0</td>\n      <td>0.0</td>\n      <td>8791.0</td>\n      <td>465.0</td>\n      <td>9256.0</td>\n      <td>9256.0</td>\n    </tr>\n    <tr>\n      <th>9</th>\n      <td>N105-7</td>\n      <td>Vogra Bypass(Int.with N3)-End of Road (Int.wit...</td>\n      <td>LRP045</td>\n      <td>1118</td>\n      <td>45.998</td>\n      <td>LRPE</td>\n      <td>0</td>\n      <td>48.881</td>\n      <td>2.883</td>\n      <td>328.0</td>\n      <td>...</td>\n      <td>1240.0</td>\n      <td>1243.0</td>\n      <td>452.0</td>\n      <td>149.0</td>\n      <td>1353.0</td>\n      <td>0.0</td>\n      <td>10373.0</td>\n      <td>1502.0</td>\n      <td>11875.0</td>\n      <td>11875.0</td>\n    </tr>\n  </tbody>\n</table>\n<p>7 rows × 26 columns</p>\n</div>"
     },
     "execution_count": 4,
     "metadata": {},
     "output_type": "execute_result"
    }
   ],
   "source": [
    "traffic_dfs[\"N105\"]"
   ],
   "metadata": {
    "collapsed": false,
    "pycharm": {
     "name": "#%%\n"
    }
   }
  }
 ],
 "metadata": {
  "kernelspec": {
   "display_name": "Python 3",
   "language": "python",
   "name": "python3"
  },
  "language_info": {
   "codemirror_mode": {
    "name": "ipython",
    "version": 2
   },
   "file_extension": ".py",
   "mimetype": "text/x-python",
   "name": "python",
   "nbconvert_exporter": "python",
   "pygments_lexer": "ipython2",
   "version": "2.7.6"
  }
 },
 "nbformat": 4,
 "nbformat_minor": 0
}