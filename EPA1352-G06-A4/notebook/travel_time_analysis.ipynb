{
 "cells": [
  {
   "cell_type": "markdown",
   "metadata": {
    "collapsed": true,
    "pycharm": {
     "name": "#%% md\n"
    }
   },
   "source": [
    "## Travel time analysis"
   ]
  },
  {
   "cell_type": "code",
   "execution_count": 21,
   "outputs": [],
   "source": [
    "import pandas as pd\n",
    "import seaborn as sns\n",
    "import matplotlib.pyplot as plt\n",
    "import scipy.stats as st\n",
    "import numpy as np"
   ],
   "metadata": {
    "collapsed": false,
    "pycharm": {
     "name": "#%%\n"
    }
   }
  },
  {
   "cell_type": "markdown",
   "source": [
    "### Data reading"
   ],
   "metadata": {
    "collapsed": false,
    "pycharm": {
     "name": "#%% md\n"
    }
   }
  },
  {
   "cell_type": "code",
   "execution_count": 23,
   "outputs": [],
   "source": [
    "# Read in travel time results and SourceSink data\n",
    "scenarios = range(0,5)\n",
    "results = {}\n",
    "for s in scenarios:\n",
    "    results[s] = pd.read_csv(f\"../experiments/results_scenario_{s}.csv\", index_col=0)\n",
    "    results[s].drop(\"VehicleID\", axis=\"columns\", inplace=True)\n",
    "source_sinks = pd.read_csv(f\"../experiments/source_data.csv\", index_col=0)"
   ],
   "metadata": {
    "collapsed": false,
    "pycharm": {
     "name": "#%%\n"
    }
   }
  },
  {
   "cell_type": "code",
   "execution_count": 24,
   "outputs": [
    {
     "data": {
      "text/plain": "   Travel_Time       Startpoint  Endpoint\n0            9  SourceSink13022     13012\n1           14  SourceSink13033     13022\n2            6  SourceSink13034     13040\n3           17  SourceSink13012     13023\n4            6  SourceSink10000     11303",
      "text/html": "<div>\n<style scoped>\n    .dataframe tbody tr th:only-of-type {\n        vertical-align: middle;\n    }\n\n    .dataframe tbody tr th {\n        vertical-align: top;\n    }\n\n    .dataframe thead th {\n        text-align: right;\n    }\n</style>\n<table border=\"1\" class=\"dataframe\">\n  <thead>\n    <tr style=\"text-align: right;\">\n      <th></th>\n      <th>Travel_Time</th>\n      <th>Startpoint</th>\n      <th>Endpoint</th>\n    </tr>\n  </thead>\n  <tbody>\n    <tr>\n      <th>0</th>\n      <td>9</td>\n      <td>SourceSink13022</td>\n      <td>13012</td>\n    </tr>\n    <tr>\n      <th>1</th>\n      <td>14</td>\n      <td>SourceSink13033</td>\n      <td>13022</td>\n    </tr>\n    <tr>\n      <th>2</th>\n      <td>6</td>\n      <td>SourceSink13034</td>\n      <td>13040</td>\n    </tr>\n    <tr>\n      <th>3</th>\n      <td>17</td>\n      <td>SourceSink13012</td>\n      <td>13023</td>\n    </tr>\n    <tr>\n      <th>4</th>\n      <td>6</td>\n      <td>SourceSink10000</td>\n      <td>11303</td>\n    </tr>\n  </tbody>\n</table>\n</div>"
     },
     "metadata": {},
     "output_type": "display_data"
    },
    {
     "data": {
      "text/plain": "       Road               Coordinates\n10000    N1   (90.443333, 23.7060278)\n11302    N1   (92.298083, 20.8629167)\n11303    N2  (90.5214438, 23.7059167)\n12253    N2  (92.0176382, 25.1570556)\n12254  N105  (90.5466108, 23.6904163)",
      "text/html": "<div>\n<style scoped>\n    .dataframe tbody tr th:only-of-type {\n        vertical-align: middle;\n    }\n\n    .dataframe tbody tr th {\n        vertical-align: top;\n    }\n\n    .dataframe thead th {\n        text-align: right;\n    }\n</style>\n<table border=\"1\" class=\"dataframe\">\n  <thead>\n    <tr style=\"text-align: right;\">\n      <th></th>\n      <th>Road</th>\n      <th>Coordinates</th>\n    </tr>\n  </thead>\n  <tbody>\n    <tr>\n      <th>10000</th>\n      <td>N1</td>\n      <td>(90.443333, 23.7060278)</td>\n    </tr>\n    <tr>\n      <th>11302</th>\n      <td>N1</td>\n      <td>(92.298083, 20.8629167)</td>\n    </tr>\n    <tr>\n      <th>11303</th>\n      <td>N2</td>\n      <td>(90.5214438, 23.7059167)</td>\n    </tr>\n    <tr>\n      <th>12253</th>\n      <td>N2</td>\n      <td>(92.0176382, 25.1570556)</td>\n    </tr>\n    <tr>\n      <th>12254</th>\n      <td>N105</td>\n      <td>(90.5466108, 23.6904163)</td>\n    </tr>\n  </tbody>\n</table>\n</div>"
     },
     "metadata": {},
     "output_type": "display_data"
    }
   ],
   "source": [
    "display(results[2].head(5))\n",
    "display(source_sinks.head(5))"
   ],
   "metadata": {
    "collapsed": false,
    "pycharm": {
     "name": "#%%\n"
    }
   }
  },
  {
   "cell_type": "markdown",
   "source": [
    "### Global average travel time"
   ],
   "metadata": {
    "collapsed": false,
    "pycharm": {
     "name": "#%% md\n"
    }
   }
  },
  {
   "cell_type": "code",
   "execution_count": 27,
   "outputs": [
    {
     "name": "stdout",
     "output_type": "stream",
     "text": [
      "Average travel time (95% confidence interval) for scenario 0: 322.674 (318.753, 326.596), economic interval: 2.430%\n",
      "Average travel time (95% confidence interval) for scenario 1: 322.323 (318.401, 326.245), economic interval: 2.434%\n",
      "Average travel time (95% confidence interval) for scenario 2: 322.337 (318.451, 326.224), economic interval: 2.411%\n",
      "Average travel time (95% confidence interval) for scenario 3: 322.884 (318.974, 326.795), economic interval: 2.422%\n",
      "Average travel time (95% confidence interval) for scenario 4: 321.595 (317.701, 325.489), economic interval: 2.422%\n"
     ]
    },
    {
     "data": {
      "text/plain": "   Average (min)  Low bound (min)  High bound (min)  Interval range (min)  \\\n0     322.674444       318.753155        326.595733              7.842577   \n1     322.322671       318.400677        326.244666              7.843989   \n2     322.337481       318.451440        326.223521              7.772082   \n3     322.884494       318.973688        326.795301              7.821613   \n4     321.594588       317.700647        325.488529              7.787882   \n\n   Economic interval (%)  \n0               2.430492  \n1               2.433583  \n2               2.411163  \n3               2.422418  \n4               2.421646  ",
      "text/html": "<div>\n<style scoped>\n    .dataframe tbody tr th:only-of-type {\n        vertical-align: middle;\n    }\n\n    .dataframe tbody tr th {\n        vertical-align: top;\n    }\n\n    .dataframe thead th {\n        text-align: right;\n    }\n</style>\n<table border=\"1\" class=\"dataframe\">\n  <thead>\n    <tr style=\"text-align: right;\">\n      <th></th>\n      <th>Average (min)</th>\n      <th>Low bound (min)</th>\n      <th>High bound (min)</th>\n      <th>Interval range (min)</th>\n      <th>Economic interval (%)</th>\n    </tr>\n  </thead>\n  <tbody>\n    <tr>\n      <th>0</th>\n      <td>322.674444</td>\n      <td>318.753155</td>\n      <td>326.595733</td>\n      <td>7.842577</td>\n      <td>2.430492</td>\n    </tr>\n    <tr>\n      <th>1</th>\n      <td>322.322671</td>\n      <td>318.400677</td>\n      <td>326.244666</td>\n      <td>7.843989</td>\n      <td>2.433583</td>\n    </tr>\n    <tr>\n      <th>2</th>\n      <td>322.337481</td>\n      <td>318.451440</td>\n      <td>326.223521</td>\n      <td>7.772082</td>\n      <td>2.411163</td>\n    </tr>\n    <tr>\n      <th>3</th>\n      <td>322.884494</td>\n      <td>318.973688</td>\n      <td>326.795301</td>\n      <td>7.821613</td>\n      <td>2.422418</td>\n    </tr>\n    <tr>\n      <th>4</th>\n      <td>321.594588</td>\n      <td>317.700647</td>\n      <td>325.488529</td>\n      <td>7.787882</td>\n      <td>2.421646</td>\n    </tr>\n  </tbody>\n</table>\n</div>"
     },
     "execution_count": 27,
     "metadata": {},
     "output_type": "execute_result"
    }
   ],
   "source": [
    "#calculating 95% confidence intervals of the economic losses\n",
    "confidence = 0.95\n",
    "\n",
    "average = {}\n",
    "low_bound = {}\n",
    "high_bound = {}\n",
    "interval_range = {}\n",
    "economic_interval = {}\n",
    "\n",
    "for i in scenarios:\n",
    "    results_list = results[i][\"Travel_Time\"].tolist()\n",
    "    average[i] = np.mean(results_list)\n",
    "    low_bound[i], high_bound[i] = st.norm.interval(alpha=confidence, loc=average[i], scale=st.sem(results_list))\n",
    "    interval_range[i] = high_bound[i] - low_bound[i]\n",
    "    economic_interval[i] = interval_range[i] / average[i] * 100\n",
    "\n",
    "    print(f'Average travel time (95% confidence interval) for scenario {i}: {average[i]:.3f} ({low_bound[i]:.3f}, {high_bound[i]:.3f}), economic interval: {economic_interval[i]:.3f}%')\n",
    "\n",
    "df = pd.DataFrame({\n",
    "    \"Average (min)\": average,\n",
    "    \"Low bound (min)\": low_bound,\n",
    "    \"High bound (min)\": high_bound,\n",
    "    \"Interval range (min)\": interval_range,\n",
    "    \"Economic interval (%)\": economic_interval})\n",
    "df.to_csv(\"../results/travel_times.csv\", index_label=\"Scenario\")\n",
    "df"
   ],
   "metadata": {
    "collapsed": false,
    "pycharm": {
     "name": "#%%\n"
    }
   }
  },
  {
   "cell_type": "markdown",
   "source": [
    "### Average travel time per route"
   ],
   "metadata": {
    "collapsed": false,
    "pycharm": {
     "name": "#%% md\n"
    }
   }
  },
  {
   "cell_type": "code",
   "execution_count": null,
   "outputs": [],
   "source": [],
   "metadata": {
    "collapsed": false,
    "pycharm": {
     "name": "#%%\n"
    }
   }
  }
 ],
 "metadata": {
  "kernelspec": {
   "display_name": "Python 3",
   "language": "python",
   "name": "python3"
  },
  "language_info": {
   "codemirror_mode": {
    "name": "ipython",
    "version": 2
   },
   "file_extension": ".py",
   "mimetype": "text/x-python",
   "name": "python",
   "nbconvert_exporter": "python",
   "pygments_lexer": "ipython2",
   "version": "2.7.6"
  }
 },
 "nbformat": 4,
 "nbformat_minor": 0
}