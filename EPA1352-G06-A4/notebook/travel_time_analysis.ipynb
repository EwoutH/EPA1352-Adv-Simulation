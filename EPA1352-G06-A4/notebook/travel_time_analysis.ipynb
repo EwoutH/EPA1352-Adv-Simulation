{
 "cells": [
  {
   "cell_type": "markdown",
   "metadata": {
    "collapsed": true,
    "pycharm": {
     "name": "#%% md\n"
    }
   },
   "source": [
    "## Travel time analysis"
   ]
  },
  {
   "cell_type": "code",
   "execution_count": 1,
   "outputs": [],
   "source": [
    "import pandas as pd\n",
    "import seaborn as sns\n",
    "import matplotlib.pyplot as plt\n",
    "import scipy.stats as st\n",
    "import numpy as np"
   ],
   "metadata": {
    "collapsed": false,
    "pycharm": {
     "name": "#%%\n"
    }
   }
  },
  {
   "cell_type": "markdown",
   "source": [
    "### Data reading"
   ],
   "metadata": {
    "collapsed": false,
    "pycharm": {
     "name": "#%% md\n"
    }
   }
  },
  {
   "cell_type": "code",
   "execution_count": 2,
   "outputs": [],
   "source": [
    "# Read in travel time results and SourceSink data\n",
    "scenarios = range(0,5)\n",
    "results = {}\n",
    "for s in scenarios:\n",
    "    results[s] = pd.read_csv(f\"../experiments/results_scenario_{s}.csv\", index_col=0)\n",
    "    results[s].drop(\"VehicleID\", axis=\"columns\", inplace=True)\n",
    "source_sinks = pd.read_csv(f\"../experiments/source_data.csv\", index_col=0)"
   ],
   "metadata": {
    "collapsed": false,
    "pycharm": {
     "name": "#%%\n"
    }
   }
  },
  {
   "cell_type": "code",
   "execution_count": 3,
   "outputs": [
    {
     "data": {
      "text/plain": "   Travel_Time       Startpoint  Endpoint\n0            4  SourceSink12629     12625\n1            6  SourceSink13040     13034\n2           17  SourceSink13023     13012\n3            6  SourceSink13034     13040\n4           18  SourceSink13022     13023",
      "text/html": "<div>\n<style scoped>\n    .dataframe tbody tr th:only-of-type {\n        vertical-align: middle;\n    }\n\n    .dataframe tbody tr th {\n        vertical-align: top;\n    }\n\n    .dataframe thead th {\n        text-align: right;\n    }\n</style>\n<table border=\"1\" class=\"dataframe\">\n  <thead>\n    <tr style=\"text-align: right;\">\n      <th></th>\n      <th>Travel_Time</th>\n      <th>Startpoint</th>\n      <th>Endpoint</th>\n    </tr>\n  </thead>\n  <tbody>\n    <tr>\n      <th>0</th>\n      <td>4</td>\n      <td>SourceSink12629</td>\n      <td>12625</td>\n    </tr>\n    <tr>\n      <th>1</th>\n      <td>6</td>\n      <td>SourceSink13040</td>\n      <td>13034</td>\n    </tr>\n    <tr>\n      <th>2</th>\n      <td>17</td>\n      <td>SourceSink13023</td>\n      <td>13012</td>\n    </tr>\n    <tr>\n      <th>3</th>\n      <td>6</td>\n      <td>SourceSink13034</td>\n      <td>13040</td>\n    </tr>\n    <tr>\n      <th>4</th>\n      <td>18</td>\n      <td>SourceSink13022</td>\n      <td>13023</td>\n    </tr>\n  </tbody>\n</table>\n</div>"
     },
     "metadata": {},
     "output_type": "display_data"
    },
    {
     "data": {
      "text/plain": "       Road               Coordinates\n10000    N1   (90.443333, 23.7060278)\n11302    N1   (92.298083, 20.8629167)\n11303    N2  (90.5214438, 23.7059167)\n12253    N2  (92.0176382, 25.1570556)\n12254  N105  (90.5466108, 23.6904163)",
      "text/html": "<div>\n<style scoped>\n    .dataframe tbody tr th:only-of-type {\n        vertical-align: middle;\n    }\n\n    .dataframe tbody tr th {\n        vertical-align: top;\n    }\n\n    .dataframe thead th {\n        text-align: right;\n    }\n</style>\n<table border=\"1\" class=\"dataframe\">\n  <thead>\n    <tr style=\"text-align: right;\">\n      <th></th>\n      <th>Road</th>\n      <th>Coordinates</th>\n    </tr>\n  </thead>\n  <tbody>\n    <tr>\n      <th>10000</th>\n      <td>N1</td>\n      <td>(90.443333, 23.7060278)</td>\n    </tr>\n    <tr>\n      <th>11302</th>\n      <td>N1</td>\n      <td>(92.298083, 20.8629167)</td>\n    </tr>\n    <tr>\n      <th>11303</th>\n      <td>N2</td>\n      <td>(90.5214438, 23.7059167)</td>\n    </tr>\n    <tr>\n      <th>12253</th>\n      <td>N2</td>\n      <td>(92.0176382, 25.1570556)</td>\n    </tr>\n    <tr>\n      <th>12254</th>\n      <td>N105</td>\n      <td>(90.5466108, 23.6904163)</td>\n    </tr>\n  </tbody>\n</table>\n</div>"
     },
     "metadata": {},
     "output_type": "display_data"
    }
   ],
   "source": [
    "display(results[2].head(5))\n",
    "display(source_sinks.head(5))"
   ],
   "metadata": {
    "collapsed": false,
    "pycharm": {
     "name": "#%%\n"
    }
   }
  },
  {
   "cell_type": "markdown",
   "source": [
    "### Global average travel time"
   ],
   "metadata": {
    "collapsed": false,
    "pycharm": {
     "name": "#%% md\n"
    }
   }
  },
  {
   "cell_type": "code",
   "execution_count": 4,
   "outputs": [
    {
     "name": "stdout",
     "output_type": "stream",
     "text": [
      "Average travel time (95% confidence interval) for scenario 0: 322.690 (318.780, 326.600), economic interval: 2.424%\n",
      "Average travel time (95% confidence interval) for scenario 1: 325.522 (321.554, 329.490), economic interval: 2.438%\n",
      "Average travel time (95% confidence interval) for scenario 2: 357.762 (353.048, 362.475), economic interval: 2.635%\n",
      "Average travel time (95% confidence interval) for scenario 3: 392.587 (387.434, 397.740), economic interval: 2.625%\n",
      "Average travel time (95% confidence interval) for scenario 4: 438.301 (429.359, 447.243), economic interval: 4.080%\n"
     ]
    },
    {
     "data": {
      "text/plain": "   Average (min)  Low bound (min)  High bound (min)  Interval range (min)  \\\n0     322.690026       318.779610        326.600442              7.820832   \n1     325.521909       321.553621        329.490197              7.936576   \n2     357.761645       353.048441        362.474850              9.426409   \n3     392.586686       387.433747        397.739624             10.305877   \n4     438.301127       429.359157        447.243098             17.883942   \n\n   Economic interval (%)  \n0               2.423636  \n1               2.438108  \n2               2.634829  \n3               2.625121  \n4               4.080287  ",
      "text/html": "<div>\n<style scoped>\n    .dataframe tbody tr th:only-of-type {\n        vertical-align: middle;\n    }\n\n    .dataframe tbody tr th {\n        vertical-align: top;\n    }\n\n    .dataframe thead th {\n        text-align: right;\n    }\n</style>\n<table border=\"1\" class=\"dataframe\">\n  <thead>\n    <tr style=\"text-align: right;\">\n      <th></th>\n      <th>Average (min)</th>\n      <th>Low bound (min)</th>\n      <th>High bound (min)</th>\n      <th>Interval range (min)</th>\n      <th>Economic interval (%)</th>\n    </tr>\n  </thead>\n  <tbody>\n    <tr>\n      <th>0</th>\n      <td>322.690026</td>\n      <td>318.779610</td>\n      <td>326.600442</td>\n      <td>7.820832</td>\n      <td>2.423636</td>\n    </tr>\n    <tr>\n      <th>1</th>\n      <td>325.521909</td>\n      <td>321.553621</td>\n      <td>329.490197</td>\n      <td>7.936576</td>\n      <td>2.438108</td>\n    </tr>\n    <tr>\n      <th>2</th>\n      <td>357.761645</td>\n      <td>353.048441</td>\n      <td>362.474850</td>\n      <td>9.426409</td>\n      <td>2.634829</td>\n    </tr>\n    <tr>\n      <th>3</th>\n      <td>392.586686</td>\n      <td>387.433747</td>\n      <td>397.739624</td>\n      <td>10.305877</td>\n      <td>2.625121</td>\n    </tr>\n    <tr>\n      <th>4</th>\n      <td>438.301127</td>\n      <td>429.359157</td>\n      <td>447.243098</td>\n      <td>17.883942</td>\n      <td>4.080287</td>\n    </tr>\n  </tbody>\n</table>\n</div>"
     },
     "execution_count": 4,
     "metadata": {},
     "output_type": "execute_result"
    }
   ],
   "source": [
    "#calculating 95% confidence intervals of the economic losses\n",
    "confidence = 0.95\n",
    "\n",
    "average = {}\n",
    "low_bound = {}\n",
    "high_bound = {}\n",
    "interval_range = {}\n",
    "economic_interval = {}\n",
    "\n",
    "for i in scenarios:\n",
    "    results_list = results[i][\"Travel_Time\"].tolist()\n",
    "    average[i] = np.mean(results_list)\n",
    "    low_bound[i], high_bound[i] = st.norm.interval(alpha=confidence, loc=average[i], scale=st.sem(results_list))\n",
    "    interval_range[i] = high_bound[i] - low_bound[i]\n",
    "    economic_interval[i] = interval_range[i] / average[i] * 100\n",
    "\n",
    "    print(f'Average travel time (95% confidence interval) for scenario {i}: {average[i]:.3f} ({low_bound[i]:.3f}, {high_bound[i]:.3f}), economic interval: {economic_interval[i]:.3f}%')\n",
    "\n",
    "df = pd.DataFrame({\n",
    "    \"Average (min)\": average,\n",
    "    \"Low bound (min)\": low_bound,\n",
    "    \"High bound (min)\": high_bound,\n",
    "    \"Interval range (min)\": interval_range,\n",
    "    \"Economic interval (%)\": economic_interval})\n",
    "df.to_csv(\"../results/travel_times.csv\", index_label=\"Scenario\")\n",
    "df"
   ],
   "metadata": {
    "collapsed": false,
    "pycharm": {
     "name": "#%%\n"
    }
   }
  },
  {
   "cell_type": "markdown",
   "source": [
    "### Average travel time per route"
   ],
   "metadata": {
    "collapsed": false,
    "pycharm": {
     "name": "#%% md\n"
    }
   }
  },
  {
   "cell_type": "code",
   "execution_count": 4,
   "outputs": [],
   "source": [],
   "metadata": {
    "collapsed": false,
    "pycharm": {
     "name": "#%%\n"
    }
   }
  }
 ],
 "metadata": {
  "kernelspec": {
   "display_name": "Python 3",
   "language": "python",
   "name": "python3"
  },
  "language_info": {
   "codemirror_mode": {
    "name": "ipython",
    "version": 2
   },
   "file_extension": ".py",
   "mimetype": "text/x-python",
   "name": "python",
   "nbconvert_exporter": "python",
   "pygments_lexer": "ipython2",
   "version": "2.7.6"
  }
 },
 "nbformat": 4,
 "nbformat_minor": 0
}