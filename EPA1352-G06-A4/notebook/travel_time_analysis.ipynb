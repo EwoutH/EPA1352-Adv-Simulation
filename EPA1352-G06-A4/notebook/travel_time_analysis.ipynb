{
 "cells": [
  {
   "cell_type": "markdown",
   "metadata": {
    "collapsed": true,
    "pycharm": {
     "name": "#%% md\n"
    }
   },
   "source": [
    "## Travel time analysis"
   ]
  },
  {
   "cell_type": "code",
   "execution_count": 4,
   "outputs": [],
   "source": [
    "import pandas as pd\n",
    "import seaborn as sns\n",
    "import matplotlib.pyplot as plt\n",
    "import scipy.stats as st\n",
    "import numpy as np"
   ],
   "metadata": {
    "collapsed": false,
    "pycharm": {
     "name": "#%%\n"
    }
   }
  },
  {
   "cell_type": "markdown",
   "source": [
    "### Data reading"
   ],
   "metadata": {
    "collapsed": false,
    "pycharm": {
     "name": "#%% md\n"
    }
   }
  },
  {
   "cell_type": "code",
   "execution_count": 55,
   "outputs": [],
   "source": [
    "# Read in travel time results and SourceSink data\n",
    "scenarios = range(0,5)\n",
    "results = {}\n",
    "for s in scenarios:\n",
    "    results[s] = pd.read_csv(f\"../experiments/results_scenario_{s}.csv\", index_col=0)\n",
    "    results[s].drop(\"VehicleID\", axis=\"columns\", inplace=True)\n",
    "source_sinks = pd.read_csv(f\"../experiments/source_data.csv\", index_col=0)"
   ],
   "metadata": {
    "collapsed": false,
    "pycharm": {
     "name": "#%%\n"
    }
   }
  },
  {
   "cell_type": "code",
   "execution_count": 58,
   "outputs": [
    {
     "data": {
      "text/plain": "   Travel_Time       Startpoint  Endpoint\n0           14  SourceSink13033     13022\n1           18  SourceSink13022     13023\n2           14  SourceSink10000     12254\n3            6  SourceSink13034     13040\n4           14  SourceSink13022     13033\n5            6  SourceSink13034     13040\n6            6  SourceSink12750     12756\n7           20  SourceSink13034     13033",
      "text/html": "<div>\n<style scoped>\n    .dataframe tbody tr th:only-of-type {\n        vertical-align: middle;\n    }\n\n    .dataframe tbody tr th {\n        vertical-align: top;\n    }\n\n    .dataframe thead th {\n        text-align: right;\n    }\n</style>\n<table border=\"1\" class=\"dataframe\">\n  <thead>\n    <tr style=\"text-align: right;\">\n      <th></th>\n      <th>Travel_Time</th>\n      <th>Startpoint</th>\n      <th>Endpoint</th>\n    </tr>\n  </thead>\n  <tbody>\n    <tr>\n      <th>0</th>\n      <td>14</td>\n      <td>SourceSink13033</td>\n      <td>13022</td>\n    </tr>\n    <tr>\n      <th>1</th>\n      <td>18</td>\n      <td>SourceSink13022</td>\n      <td>13023</td>\n    </tr>\n    <tr>\n      <th>2</th>\n      <td>14</td>\n      <td>SourceSink10000</td>\n      <td>12254</td>\n    </tr>\n    <tr>\n      <th>3</th>\n      <td>6</td>\n      <td>SourceSink13034</td>\n      <td>13040</td>\n    </tr>\n    <tr>\n      <th>4</th>\n      <td>14</td>\n      <td>SourceSink13022</td>\n      <td>13033</td>\n    </tr>\n    <tr>\n      <th>5</th>\n      <td>6</td>\n      <td>SourceSink13034</td>\n      <td>13040</td>\n    </tr>\n    <tr>\n      <th>6</th>\n      <td>6</td>\n      <td>SourceSink12750</td>\n      <td>12756</td>\n    </tr>\n    <tr>\n      <th>7</th>\n      <td>20</td>\n      <td>SourceSink13034</td>\n      <td>13033</td>\n    </tr>\n  </tbody>\n</table>\n</div>"
     },
     "metadata": {},
     "output_type": "display_data"
    },
    {
     "data": {
      "text/plain": "       Road               Coordinates  Startpoint  Endpoint\n10000    N1   (90.443333, 23.7060278)       10000     10000\n11302    N1   (92.298083, 20.8629167)       11302     11302\n11303    N2  (90.5214438, 23.7059167)       11303     11303\n12253    N2  (92.0176382, 25.1570556)       12253     12253\n12254  N105  (90.5466108, 23.6904163)       12254     12254\n12354  N105  (90.3582222, 23.9895274)       12354     12354\n12355  N102  (91.1181938, 23.4789716)       12355     12355\n12541  N102  (91.1146667, 24.0506111)       12541     12541",
      "text/html": "<div>\n<style scoped>\n    .dataframe tbody tr th:only-of-type {\n        vertical-align: middle;\n    }\n\n    .dataframe tbody tr th {\n        vertical-align: top;\n    }\n\n    .dataframe thead th {\n        text-align: right;\n    }\n</style>\n<table border=\"1\" class=\"dataframe\">\n  <thead>\n    <tr style=\"text-align: right;\">\n      <th></th>\n      <th>Road</th>\n      <th>Coordinates</th>\n      <th>Startpoint</th>\n      <th>Endpoint</th>\n    </tr>\n  </thead>\n  <tbody>\n    <tr>\n      <th>10000</th>\n      <td>N1</td>\n      <td>(90.443333, 23.7060278)</td>\n      <td>10000</td>\n      <td>10000</td>\n    </tr>\n    <tr>\n      <th>11302</th>\n      <td>N1</td>\n      <td>(92.298083, 20.8629167)</td>\n      <td>11302</td>\n      <td>11302</td>\n    </tr>\n    <tr>\n      <th>11303</th>\n      <td>N2</td>\n      <td>(90.5214438, 23.7059167)</td>\n      <td>11303</td>\n      <td>11303</td>\n    </tr>\n    <tr>\n      <th>12253</th>\n      <td>N2</td>\n      <td>(92.0176382, 25.1570556)</td>\n      <td>12253</td>\n      <td>12253</td>\n    </tr>\n    <tr>\n      <th>12254</th>\n      <td>N105</td>\n      <td>(90.5466108, 23.6904163)</td>\n      <td>12254</td>\n      <td>12254</td>\n    </tr>\n    <tr>\n      <th>12354</th>\n      <td>N105</td>\n      <td>(90.3582222, 23.9895274)</td>\n      <td>12354</td>\n      <td>12354</td>\n    </tr>\n    <tr>\n      <th>12355</th>\n      <td>N102</td>\n      <td>(91.1181938, 23.4789716)</td>\n      <td>12355</td>\n      <td>12355</td>\n    </tr>\n    <tr>\n      <th>12541</th>\n      <td>N102</td>\n      <td>(91.1146667, 24.0506111)</td>\n      <td>12541</td>\n      <td>12541</td>\n    </tr>\n  </tbody>\n</table>\n</div>"
     },
     "metadata": {},
     "output_type": "display_data"
    }
   ],
   "source": [
    "display(results[4].head(8))\n",
    "display(source_sinks.head(8))"
   ],
   "metadata": {
    "collapsed": false,
    "pycharm": {
     "name": "#%%\n"
    }
   }
  },
  {
   "cell_type": "code",
   "execution_count": 57,
   "outputs": [],
   "source": [
    "source_sinks['Startpoint']= source_sinks.index\n",
    "source_sinks['Endpoint']= source_sinks.index"
   ],
   "metadata": {
    "collapsed": false,
    "pycharm": {
     "name": "#%%\n"
    }
   }
  },
  {
   "cell_type": "code",
   "execution_count": 59,
   "outputs": [],
   "source": [
    "scenario0data = results[0]\n",
    "scenario1data = results[1]\n",
    "scenario2data = results[2]\n",
    "scenario3data = results[3]\n",
    "scenario4data = results[4]"
   ],
   "metadata": {
    "collapsed": false,
    "pycharm": {
     "name": "#%%\n"
    }
   }
  },
  {
   "cell_type": "code",
   "execution_count": 73,
   "outputs": [
    {
     "data": {
      "text/plain": "   Travel_Time Startpoint  Endpoint\n0            9      13022     13012\n1            6      13040     13034\n2           13      13033     13012\n3            6      12756     12750\n4            6      12750     12756",
      "text/html": "<div>\n<style scoped>\n    .dataframe tbody tr th:only-of-type {\n        vertical-align: middle;\n    }\n\n    .dataframe tbody tr th {\n        vertical-align: top;\n    }\n\n    .dataframe thead th {\n        text-align: right;\n    }\n</style>\n<table border=\"1\" class=\"dataframe\">\n  <thead>\n    <tr style=\"text-align: right;\">\n      <th></th>\n      <th>Travel_Time</th>\n      <th>Startpoint</th>\n      <th>Endpoint</th>\n    </tr>\n  </thead>\n  <tbody>\n    <tr>\n      <th>0</th>\n      <td>9</td>\n      <td>13022</td>\n      <td>13012</td>\n    </tr>\n    <tr>\n      <th>1</th>\n      <td>6</td>\n      <td>13040</td>\n      <td>13034</td>\n    </tr>\n    <tr>\n      <th>2</th>\n      <td>13</td>\n      <td>13033</td>\n      <td>13012</td>\n    </tr>\n    <tr>\n      <th>3</th>\n      <td>6</td>\n      <td>12756</td>\n      <td>12750</td>\n    </tr>\n    <tr>\n      <th>4</th>\n      <td>6</td>\n      <td>12750</td>\n      <td>12756</td>\n    </tr>\n  </tbody>\n</table>\n</div>"
     },
     "execution_count": 73,
     "metadata": {},
     "output_type": "execute_result"
    }
   ],
   "source": [
    "scenario1data.head()"
   ],
   "metadata": {
    "collapsed": false,
    "pycharm": {
     "name": "#%%\n"
    }
   }
  },
  {
   "cell_type": "code",
   "execution_count": 74,
   "outputs": [
    {
     "data": {
      "text/plain": "       Road               Coordinates  Startpoint  Endpoint\n10000    N1   (90.443333, 23.7060278)       10000     10000\n11302    N1   (92.298083, 20.8629167)       11302     11302\n11303    N2  (90.5214438, 23.7059167)       11303     11303\n12253    N2  (92.0176382, 25.1570556)       12253     12253\n12254  N105  (90.5466108, 23.6904163)       12254     12254",
      "text/html": "<div>\n<style scoped>\n    .dataframe tbody tr th:only-of-type {\n        vertical-align: middle;\n    }\n\n    .dataframe tbody tr th {\n        vertical-align: top;\n    }\n\n    .dataframe thead th {\n        text-align: right;\n    }\n</style>\n<table border=\"1\" class=\"dataframe\">\n  <thead>\n    <tr style=\"text-align: right;\">\n      <th></th>\n      <th>Road</th>\n      <th>Coordinates</th>\n      <th>Startpoint</th>\n      <th>Endpoint</th>\n    </tr>\n  </thead>\n  <tbody>\n    <tr>\n      <th>10000</th>\n      <td>N1</td>\n      <td>(90.443333, 23.7060278)</td>\n      <td>10000</td>\n      <td>10000</td>\n    </tr>\n    <tr>\n      <th>11302</th>\n      <td>N1</td>\n      <td>(92.298083, 20.8629167)</td>\n      <td>11302</td>\n      <td>11302</td>\n    </tr>\n    <tr>\n      <th>11303</th>\n      <td>N2</td>\n      <td>(90.5214438, 23.7059167)</td>\n      <td>11303</td>\n      <td>11303</td>\n    </tr>\n    <tr>\n      <th>12253</th>\n      <td>N2</td>\n      <td>(92.0176382, 25.1570556)</td>\n      <td>12253</td>\n      <td>12253</td>\n    </tr>\n    <tr>\n      <th>12254</th>\n      <td>N105</td>\n      <td>(90.5466108, 23.6904163)</td>\n      <td>12254</td>\n      <td>12254</td>\n    </tr>\n  </tbody>\n</table>\n</div>"
     },
     "execution_count": 74,
     "metadata": {},
     "output_type": "execute_result"
    }
   ],
   "source": [
    "source_sinks.head()"
   ],
   "metadata": {
    "collapsed": false,
    "pycharm": {
     "name": "#%%\n"
    }
   }
  },
  {
   "cell_type": "code",
   "execution_count": 104,
   "outputs": [],
   "source": [
    "hoi = pd.merge(scenario1data, source_sinks, on = ['Startpoint'])"
   ],
   "metadata": {
    "collapsed": false,
    "pycharm": {
     "name": "#%%\n"
    }
   }
  },
  {
   "cell_type": "code",
   "execution_count": 105,
   "outputs": [
    {
     "data": {
      "text/plain": "   Travel_Time  Startpoint  Endpoint_x  Road              Coordinates  \\\n0            9       13022       13012  N209  (91.868166, 24.8859441)   \n1           18       13022       13023  N209  (91.868166, 24.8859441)   \n2            9       13022       13012  N209  (91.868166, 24.8859441)   \n3           55       13022       12871  N209  (91.868166, 24.8859441)   \n4           14       13022       13033  N209  (91.868166, 24.8859441)   \n\n   Endpoint_y  \n0       13022  \n1       13022  \n2       13022  \n3       13022  \n4       13022  ",
      "text/html": "<div>\n<style scoped>\n    .dataframe tbody tr th:only-of-type {\n        vertical-align: middle;\n    }\n\n    .dataframe tbody tr th {\n        vertical-align: top;\n    }\n\n    .dataframe thead th {\n        text-align: right;\n    }\n</style>\n<table border=\"1\" class=\"dataframe\">\n  <thead>\n    <tr style=\"text-align: right;\">\n      <th></th>\n      <th>Travel_Time</th>\n      <th>Startpoint</th>\n      <th>Endpoint_x</th>\n      <th>Road</th>\n      <th>Coordinates</th>\n      <th>Endpoint_y</th>\n    </tr>\n  </thead>\n  <tbody>\n    <tr>\n      <th>0</th>\n      <td>9</td>\n      <td>13022</td>\n      <td>13012</td>\n      <td>N209</td>\n      <td>(91.868166, 24.8859441)</td>\n      <td>13022</td>\n    </tr>\n    <tr>\n      <th>1</th>\n      <td>18</td>\n      <td>13022</td>\n      <td>13023</td>\n      <td>N209</td>\n      <td>(91.868166, 24.8859441)</td>\n      <td>13022</td>\n    </tr>\n    <tr>\n      <th>2</th>\n      <td>9</td>\n      <td>13022</td>\n      <td>13012</td>\n      <td>N209</td>\n      <td>(91.868166, 24.8859441)</td>\n      <td>13022</td>\n    </tr>\n    <tr>\n      <th>3</th>\n      <td>55</td>\n      <td>13022</td>\n      <td>12871</td>\n      <td>N209</td>\n      <td>(91.868166, 24.8859441)</td>\n      <td>13022</td>\n    </tr>\n    <tr>\n      <th>4</th>\n      <td>14</td>\n      <td>13022</td>\n      <td>13033</td>\n      <td>N209</td>\n      <td>(91.868166, 24.8859441)</td>\n      <td>13022</td>\n    </tr>\n  </tbody>\n</table>\n</div>"
     },
     "execution_count": 105,
     "metadata": {},
     "output_type": "execute_result"
    }
   ],
   "source": [
    "hoi.head()"
   ],
   "metadata": {
    "collapsed": false,
    "pycharm": {
     "name": "#%%\n"
    }
   }
  },
  {
   "cell_type": "code",
   "execution_count": 107,
   "outputs": [],
   "source": [
    "hoi =hoi.rename(columns={'Road':'StartRoad', 'Endpoint_x':'Endpoint'})"
   ],
   "metadata": {
    "collapsed": false,
    "pycharm": {
     "name": "#%%\n"
    }
   }
  },
  {
   "cell_type": "code",
   "execution_count": 102,
   "outputs": [],
   "source": [
    "hoi.head()\n",
    "hoi = pd.merge(scenario1data, source_sinks, on = ['Endpoint'])"
   ],
   "metadata": {
    "collapsed": false,
    "pycharm": {
     "name": "#%%\n"
    }
   }
  },
  {
   "cell_type": "code",
   "execution_count": 103,
   "outputs": [
    {
     "data": {
      "text/plain": "   Travel_Time  Startpoint_x  Endpoint  Road               Coordinates  \\\n0            9         13022     13012  N209  (91.8753604, 24.8775549)   \n1           13         13033     13012  N209  (91.8753604, 24.8775549)   \n2           31         13040     13012  N209  (91.8753604, 24.8775549)   \n3            9         13022     13012  N209  (91.8753604, 24.8775549)   \n4           54         12871     13012  N209  (91.8753604, 24.8775549)   \n\n   Startpoint_y  \n0         13012  \n1         13012  \n2         13012  \n3         13012  \n4         13012  ",
      "text/html": "<div>\n<style scoped>\n    .dataframe tbody tr th:only-of-type {\n        vertical-align: middle;\n    }\n\n    .dataframe tbody tr th {\n        vertical-align: top;\n    }\n\n    .dataframe thead th {\n        text-align: right;\n    }\n</style>\n<table border=\"1\" class=\"dataframe\">\n  <thead>\n    <tr style=\"text-align: right;\">\n      <th></th>\n      <th>Travel_Time</th>\n      <th>Startpoint_x</th>\n      <th>Endpoint</th>\n      <th>Road</th>\n      <th>Coordinates</th>\n      <th>Startpoint_y</th>\n    </tr>\n  </thead>\n  <tbody>\n    <tr>\n      <th>0</th>\n      <td>9</td>\n      <td>13022</td>\n      <td>13012</td>\n      <td>N209</td>\n      <td>(91.8753604, 24.8775549)</td>\n      <td>13012</td>\n    </tr>\n    <tr>\n      <th>1</th>\n      <td>13</td>\n      <td>13033</td>\n      <td>13012</td>\n      <td>N209</td>\n      <td>(91.8753604, 24.8775549)</td>\n      <td>13012</td>\n    </tr>\n    <tr>\n      <th>2</th>\n      <td>31</td>\n      <td>13040</td>\n      <td>13012</td>\n      <td>N209</td>\n      <td>(91.8753604, 24.8775549)</td>\n      <td>13012</td>\n    </tr>\n    <tr>\n      <th>3</th>\n      <td>9</td>\n      <td>13022</td>\n      <td>13012</td>\n      <td>N209</td>\n      <td>(91.8753604, 24.8775549)</td>\n      <td>13012</td>\n    </tr>\n    <tr>\n      <th>4</th>\n      <td>54</td>\n      <td>12871</td>\n      <td>13012</td>\n      <td>N209</td>\n      <td>(91.8753604, 24.8775549)</td>\n      <td>13012</td>\n    </tr>\n  </tbody>\n</table>\n</div>"
     },
     "execution_count": 103,
     "metadata": {},
     "output_type": "execute_result"
    }
   ],
   "source": [],
   "metadata": {
    "collapsed": false,
    "pycharm": {
     "name": "#%%\n"
    }
   }
  },
  {
   "cell_type": "code",
   "execution_count": 89,
   "outputs": [],
   "source": [
    "scenario1data['Startpoint'] = scenario1data['Startpoint'].str.replace('SourceSink','')\n",
    "scenario1data['Startpoint'] = scenario1data['Startpoint'].fillna(0).astype(int)"
   ],
   "metadata": {
    "collapsed": false,
    "pycharm": {
     "name": "#%%\n"
    }
   }
  },
  {
   "cell_type": "code",
   "execution_count": null,
   "outputs": [],
   "source": [],
   "metadata": {
    "collapsed": false,
    "pycharm": {
     "name": "#%%\n"
    }
   }
  },
  {
   "cell_type": "code",
   "execution_count": 64,
   "outputs": [
    {
     "ename": "KeyError",
     "evalue": "('Startroad', 'Endroad')",
     "output_type": "error",
     "traceback": [
      "\u001B[1;31m---------------------------------------------------------------------------\u001B[0m",
      "\u001B[1;31mKeyError\u001B[0m                                  Traceback (most recent call last)",
      "File \u001B[1;32mc:\\users\\zoefh\\documents\\github\\epa1352-adv-simulation\\epa1352-g06-a2\\venv\\lib\\site-packages\\pandas\\core\\indexes\\base.py:3621\u001B[0m, in \u001B[0;36mIndex.get_loc\u001B[1;34m(self, key, method, tolerance)\u001B[0m\n\u001B[0;32m   3620\u001B[0m \u001B[38;5;28;01mtry\u001B[39;00m:\n\u001B[1;32m-> 3621\u001B[0m     \u001B[38;5;28;01mreturn\u001B[39;00m \u001B[38;5;28;43mself\u001B[39;49m\u001B[38;5;241;43m.\u001B[39;49m\u001B[43m_engine\u001B[49m\u001B[38;5;241;43m.\u001B[39;49m\u001B[43mget_loc\u001B[49m\u001B[43m(\u001B[49m\u001B[43mcasted_key\u001B[49m\u001B[43m)\u001B[49m\n\u001B[0;32m   3622\u001B[0m \u001B[38;5;28;01mexcept\u001B[39;00m \u001B[38;5;167;01mKeyError\u001B[39;00m \u001B[38;5;28;01mas\u001B[39;00m err:\n",
      "File \u001B[1;32mc:\\users\\zoefh\\documents\\github\\epa1352-adv-simulation\\epa1352-g06-a2\\venv\\lib\\site-packages\\pandas\\_libs\\index.pyx:136\u001B[0m, in \u001B[0;36mpandas._libs.index.IndexEngine.get_loc\u001B[1;34m()\u001B[0m\n",
      "File \u001B[1;32mc:\\users\\zoefh\\documents\\github\\epa1352-adv-simulation\\epa1352-g06-a2\\venv\\lib\\site-packages\\pandas\\_libs\\index.pyx:163\u001B[0m, in \u001B[0;36mpandas._libs.index.IndexEngine.get_loc\u001B[1;34m()\u001B[0m\n",
      "File \u001B[1;32mpandas\\_libs\\hashtable_class_helper.pxi:5198\u001B[0m, in \u001B[0;36mpandas._libs.hashtable.PyObjectHashTable.get_item\u001B[1;34m()\u001B[0m\n",
      "File \u001B[1;32mpandas\\_libs\\hashtable_class_helper.pxi:5206\u001B[0m, in \u001B[0;36mpandas._libs.hashtable.PyObjectHashTable.get_item\u001B[1;34m()\u001B[0m\n",
      "\u001B[1;31mKeyError\u001B[0m: ('Startroad', 'Endroad')",
      "\nThe above exception was the direct cause of the following exception:\n",
      "\u001B[1;31mKeyError\u001B[0m                                  Traceback (most recent call last)",
      "Input \u001B[1;32mIn [64]\u001B[0m, in \u001B[0;36m<module>\u001B[1;34m\u001B[0m\n\u001B[1;32m----> 1\u001B[0m \u001B[43mscenario1data\u001B[49m\u001B[43m[\u001B[49m\u001B[38;5;124;43m'\u001B[39;49m\u001B[38;5;124;43mStartroad\u001B[39;49m\u001B[38;5;124;43m'\u001B[39;49m\u001B[43m,\u001B[49m\u001B[38;5;124;43m'\u001B[39;49m\u001B[38;5;124;43mEndroad\u001B[39;49m\u001B[38;5;124;43m'\u001B[39;49m\u001B[43m]\u001B[49m\n",
      "File \u001B[1;32mc:\\users\\zoefh\\documents\\github\\epa1352-adv-simulation\\epa1352-g06-a2\\venv\\lib\\site-packages\\pandas\\core\\frame.py:3505\u001B[0m, in \u001B[0;36mDataFrame.__getitem__\u001B[1;34m(self, key)\u001B[0m\n\u001B[0;32m   3503\u001B[0m \u001B[38;5;28;01mif\u001B[39;00m \u001B[38;5;28mself\u001B[39m\u001B[38;5;241m.\u001B[39mcolumns\u001B[38;5;241m.\u001B[39mnlevels \u001B[38;5;241m>\u001B[39m \u001B[38;5;241m1\u001B[39m:\n\u001B[0;32m   3504\u001B[0m     \u001B[38;5;28;01mreturn\u001B[39;00m \u001B[38;5;28mself\u001B[39m\u001B[38;5;241m.\u001B[39m_getitem_multilevel(key)\n\u001B[1;32m-> 3505\u001B[0m indexer \u001B[38;5;241m=\u001B[39m \u001B[38;5;28;43mself\u001B[39;49m\u001B[38;5;241;43m.\u001B[39;49m\u001B[43mcolumns\u001B[49m\u001B[38;5;241;43m.\u001B[39;49m\u001B[43mget_loc\u001B[49m\u001B[43m(\u001B[49m\u001B[43mkey\u001B[49m\u001B[43m)\u001B[49m\n\u001B[0;32m   3506\u001B[0m \u001B[38;5;28;01mif\u001B[39;00m is_integer(indexer):\n\u001B[0;32m   3507\u001B[0m     indexer \u001B[38;5;241m=\u001B[39m [indexer]\n",
      "File \u001B[1;32mc:\\users\\zoefh\\documents\\github\\epa1352-adv-simulation\\epa1352-g06-a2\\venv\\lib\\site-packages\\pandas\\core\\indexes\\base.py:3623\u001B[0m, in \u001B[0;36mIndex.get_loc\u001B[1;34m(self, key, method, tolerance)\u001B[0m\n\u001B[0;32m   3621\u001B[0m     \u001B[38;5;28;01mreturn\u001B[39;00m \u001B[38;5;28mself\u001B[39m\u001B[38;5;241m.\u001B[39m_engine\u001B[38;5;241m.\u001B[39mget_loc(casted_key)\n\u001B[0;32m   3622\u001B[0m \u001B[38;5;28;01mexcept\u001B[39;00m \u001B[38;5;167;01mKeyError\u001B[39;00m \u001B[38;5;28;01mas\u001B[39;00m err:\n\u001B[1;32m-> 3623\u001B[0m     \u001B[38;5;28;01mraise\u001B[39;00m \u001B[38;5;167;01mKeyError\u001B[39;00m(key) \u001B[38;5;28;01mfrom\u001B[39;00m \u001B[38;5;21;01merr\u001B[39;00m\n\u001B[0;32m   3624\u001B[0m \u001B[38;5;28;01mexcept\u001B[39;00m \u001B[38;5;167;01mTypeError\u001B[39;00m:\n\u001B[0;32m   3625\u001B[0m     \u001B[38;5;66;03m# If we have a listlike key, _check_indexing_error will raise\u001B[39;00m\n\u001B[0;32m   3626\u001B[0m     \u001B[38;5;66;03m#  InvalidIndexError. Otherwise we fall through and re-raise\u001B[39;00m\n\u001B[0;32m   3627\u001B[0m     \u001B[38;5;66;03m#  the TypeError.\u001B[39;00m\n\u001B[0;32m   3628\u001B[0m     \u001B[38;5;28mself\u001B[39m\u001B[38;5;241m.\u001B[39m_check_indexing_error(key)\n",
      "\u001B[1;31mKeyError\u001B[0m: ('Startroad', 'Endroad')"
     ]
    }
   ],
   "source": [
    "scenario1data['Startroad','Endroad']"
   ],
   "metadata": {
    "collapsed": false,
    "pycharm": {
     "name": "#%%\n"
    }
   }
  },
  {
   "cell_type": "markdown",
   "source": [
    "### Global average travel time"
   ],
   "metadata": {
    "collapsed": false,
    "pycharm": {
     "name": "#%% md\n"
    }
   }
  },
  {
   "cell_type": "code",
   "execution_count": 4,
   "outputs": [
    {
     "name": "stdout",
     "output_type": "stream",
     "text": [
      "Average travel time (95% confidence interval) for scenario 0: 322.690 (318.780, 326.600), economic interval: 2.424%\n",
      "Average travel time (95% confidence interval) for scenario 1: 325.522 (321.554, 329.490), economic interval: 2.438%\n",
      "Average travel time (95% confidence interval) for scenario 2: 357.762 (353.048, 362.475), economic interval: 2.635%\n",
      "Average travel time (95% confidence interval) for scenario 3: 392.587 (387.434, 397.740), economic interval: 2.625%\n",
      "Average travel time (95% confidence interval) for scenario 4: 438.301 (429.359, 447.243), economic interval: 4.080%\n"
     ]
    },
    {
     "data": {
      "text/plain": "   Average (min)  Low bound (min)  High bound (min)  Interval range (min)  \\\n0     322.690026       318.779610        326.600442              7.820832   \n1     325.521909       321.553621        329.490197              7.936576   \n2     357.761645       353.048441        362.474850              9.426409   \n3     392.586686       387.433747        397.739624             10.305877   \n4     438.301127       429.359157        447.243098             17.883942   \n\n   Economic interval (%)  \n0               2.423636  \n1               2.438108  \n2               2.634829  \n3               2.625121  \n4               4.080287  ",
      "text/html": "<div>\n<style scoped>\n    .dataframe tbody tr th:only-of-type {\n        vertical-align: middle;\n    }\n\n    .dataframe tbody tr th {\n        vertical-align: top;\n    }\n\n    .dataframe thead th {\n        text-align: right;\n    }\n</style>\n<table border=\"1\" class=\"dataframe\">\n  <thead>\n    <tr style=\"text-align: right;\">\n      <th></th>\n      <th>Average (min)</th>\n      <th>Low bound (min)</th>\n      <th>High bound (min)</th>\n      <th>Interval range (min)</th>\n      <th>Economic interval (%)</th>\n    </tr>\n  </thead>\n  <tbody>\n    <tr>\n      <th>0</th>\n      <td>322.690026</td>\n      <td>318.779610</td>\n      <td>326.600442</td>\n      <td>7.820832</td>\n      <td>2.423636</td>\n    </tr>\n    <tr>\n      <th>1</th>\n      <td>325.521909</td>\n      <td>321.553621</td>\n      <td>329.490197</td>\n      <td>7.936576</td>\n      <td>2.438108</td>\n    </tr>\n    <tr>\n      <th>2</th>\n      <td>357.761645</td>\n      <td>353.048441</td>\n      <td>362.474850</td>\n      <td>9.426409</td>\n      <td>2.634829</td>\n    </tr>\n    <tr>\n      <th>3</th>\n      <td>392.586686</td>\n      <td>387.433747</td>\n      <td>397.739624</td>\n      <td>10.305877</td>\n      <td>2.625121</td>\n    </tr>\n    <tr>\n      <th>4</th>\n      <td>438.301127</td>\n      <td>429.359157</td>\n      <td>447.243098</td>\n      <td>17.883942</td>\n      <td>4.080287</td>\n    </tr>\n  </tbody>\n</table>\n</div>"
     },
     "execution_count": 4,
     "metadata": {},
     "output_type": "execute_result"
    }
   ],
   "source": [
    "#calculating 95% confidence intervals of the economic losses\n",
    "confidence = 0.95\n",
    "\n",
    "average = {}\n",
    "low_bound = {}\n",
    "high_bound = {}\n",
    "interval_range = {}\n",
    "economic_interval = {}\n",
    "\n",
    "for i in scenarios:\n",
    "    results_list = results[i][\"Travel_Time\"].tolist()\n",
    "    average[i] = np.mean(results_list)\n",
    "    low_bound[i], high_bound[i] = st.norm.interval(alpha=confidence, loc=average[i], scale=st.sem(results_list))\n",
    "    interval_range[i] = high_bound[i] - low_bound[i]\n",
    "    economic_interval[i] = interval_range[i] / average[i] * 100\n",
    "\n",
    "    print(f'Average travel time (95% confidence interval) for scenario {i}: {average[i]:.3f} ({low_bound[i]:.3f}, {high_bound[i]:.3f}), economic interval: {economic_interval[i]:.3f}%')\n",
    "\n",
    "df = pd.DataFrame({\n",
    "    \"Average (min)\": average,\n",
    "    \"Low bound (min)\": low_bound,\n",
    "    \"High bound (min)\": high_bound,\n",
    "    \"Interval range (min)\": interval_range,\n",
    "    \"Economic interval (%)\": economic_interval})\n",
    "df.to_csv(\"../results/travel_times.csv\", index_label=\"Scenario\")\n",
    "df"
   ],
   "metadata": {
    "collapsed": false,
    "pycharm": {
     "name": "#%%\n"
    }
   }
  },
  {
   "cell_type": "markdown",
   "source": [
    "### Average travel time per route"
   ],
   "metadata": {
    "collapsed": false,
    "pycharm": {
     "name": "#%% md\n"
    }
   }
  },
  {
   "cell_type": "code",
   "execution_count": 4,
   "outputs": [],
   "source": [],
   "metadata": {
    "collapsed": false,
    "pycharm": {
     "name": "#%%\n"
    }
   }
  }
 ],
 "metadata": {
  "kernelspec": {
   "display_name": "Python 3",
   "language": "python",
   "name": "python3"
  },
  "language_info": {
   "codemirror_mode": {
    "name": "ipython",
    "version": 2
   },
   "file_extension": ".py",
   "mimetype": "text/x-python",
   "name": "python",
   "nbconvert_exporter": "python",
   "pygments_lexer": "ipython2",
   "version": "2.7.6"
  }
 },
 "nbformat": 4,
 "nbformat_minor": 0
}