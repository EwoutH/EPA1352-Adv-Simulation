{
 "cells": [
  {
   "cell_type": "markdown",
   "metadata": {
    "collapsed": true,
    "pycharm": {
     "name": "#%% md\n"
    }
   },
   "source": [
    "## Travel time analysis"
   ]
  },
  {
   "cell_type": "code",
   "execution_count": 1,
   "outputs": [],
   "source": [
    "import pandas as pd\n",
    "import seaborn as sns\n",
    "import matplotlib.pyplot as plt\n",
    "import scipy.stats as st\n",
    "import numpy as np"
   ],
   "metadata": {
    "collapsed": false,
    "pycharm": {
     "name": "#%%\n"
    }
   }
  },
  {
   "cell_type": "markdown",
   "source": [
    "### Data reading"
   ],
   "metadata": {
    "collapsed": false,
    "pycharm": {
     "name": "#%% md\n"
    }
   }
  },
  {
   "cell_type": "code",
   "execution_count": 2,
   "outputs": [],
   "source": [
    "# Read in travel time results and SourceSink data\n",
    "scenarios = range(0,5)\n",
    "results = {}\n",
    "for s in scenarios:\n",
    "    results[s] = pd.read_csv(f\"../experiments/results_scenario_{s}.csv\", index_col=0)\n",
    "    results[s].drop(\"VehicleID\", axis=\"columns\", inplace=True)\n",
    "source_sinks = pd.read_csv(f\"../experiments/source_data.csv\", index_col=0)"
   ],
   "metadata": {
    "collapsed": false,
    "pycharm": {
     "name": "#%%\n"
    }
   }
  },
  {
   "cell_type": "code",
   "execution_count": 3,
   "outputs": [
    {
     "data": {
      "text/plain": "   Travel_Time       Startpoint  Endpoint\n0           31  SourceSink13012     13040\n1            9  SourceSink13012     13022\n2           31  SourceSink13040     13012\n3           24  SourceSink13023     13034\n4           13  SourceSink13012     13033",
      "text/html": "<div>\n<style scoped>\n    .dataframe tbody tr th:only-of-type {\n        vertical-align: middle;\n    }\n\n    .dataframe tbody tr th {\n        vertical-align: top;\n    }\n\n    .dataframe thead th {\n        text-align: right;\n    }\n</style>\n<table border=\"1\" class=\"dataframe\">\n  <thead>\n    <tr style=\"text-align: right;\">\n      <th></th>\n      <th>Travel_Time</th>\n      <th>Startpoint</th>\n      <th>Endpoint</th>\n    </tr>\n  </thead>\n  <tbody>\n    <tr>\n      <th>0</th>\n      <td>31</td>\n      <td>SourceSink13012</td>\n      <td>13040</td>\n    </tr>\n    <tr>\n      <th>1</th>\n      <td>9</td>\n      <td>SourceSink13012</td>\n      <td>13022</td>\n    </tr>\n    <tr>\n      <th>2</th>\n      <td>31</td>\n      <td>SourceSink13040</td>\n      <td>13012</td>\n    </tr>\n    <tr>\n      <th>3</th>\n      <td>24</td>\n      <td>SourceSink13023</td>\n      <td>13034</td>\n    </tr>\n    <tr>\n      <th>4</th>\n      <td>13</td>\n      <td>SourceSink13012</td>\n      <td>13033</td>\n    </tr>\n  </tbody>\n</table>\n</div>"
     },
     "execution_count": 3,
     "metadata": {},
     "output_type": "execute_result"
    }
   ],
   "source": [
    "results[2].head()"
   ],
   "metadata": {
    "collapsed": false,
    "pycharm": {
     "name": "#%%\n"
    }
   }
  },
  {
   "cell_type": "markdown",
   "source": [
    "#### Create human readable labels for sourcesinks"
   ],
   "metadata": {
    "collapsed": false
   }
  },
  {
   "cell_type": "code",
   "execution_count": 4,
   "outputs": [
    {
     "data": {
      "text/plain": "       Road               Coordinates        lat        lon     NS    WE  \\\n10000    N1   (90.443333, 23.7060278)  23.706028  90.443333  North  West   \n11302    N1   (92.298083, 20.8629167)  20.862917  92.298083  South  East   \n11303    N2  (90.5214438, 23.7059167)  23.705917  90.521444  South  West   \n12253    N2  (92.0176382, 25.1570556)  25.157056  92.017638  North  East   \n12254  N105  (90.5466108, 23.6904163)  23.690416  90.546611  South  East   \n\n                Label  \n10000    N1_NorthWest  \n11302    N1_SouthEast  \n11303    N2_SouthWest  \n12253    N2_NorthEast  \n12254  N105_SouthEast  ",
      "text/html": "<div>\n<style scoped>\n    .dataframe tbody tr th:only-of-type {\n        vertical-align: middle;\n    }\n\n    .dataframe tbody tr th {\n        vertical-align: top;\n    }\n\n    .dataframe thead th {\n        text-align: right;\n    }\n</style>\n<table border=\"1\" class=\"dataframe\">\n  <thead>\n    <tr style=\"text-align: right;\">\n      <th></th>\n      <th>Road</th>\n      <th>Coordinates</th>\n      <th>lat</th>\n      <th>lon</th>\n      <th>NS</th>\n      <th>WE</th>\n      <th>Label</th>\n    </tr>\n  </thead>\n  <tbody>\n    <tr>\n      <th>10000</th>\n      <td>N1</td>\n      <td>(90.443333, 23.7060278)</td>\n      <td>23.706028</td>\n      <td>90.443333</td>\n      <td>North</td>\n      <td>West</td>\n      <td>N1_NorthWest</td>\n    </tr>\n    <tr>\n      <th>11302</th>\n      <td>N1</td>\n      <td>(92.298083, 20.8629167)</td>\n      <td>20.862917</td>\n      <td>92.298083</td>\n      <td>South</td>\n      <td>East</td>\n      <td>N1_SouthEast</td>\n    </tr>\n    <tr>\n      <th>11303</th>\n      <td>N2</td>\n      <td>(90.5214438, 23.7059167)</td>\n      <td>23.705917</td>\n      <td>90.521444</td>\n      <td>South</td>\n      <td>West</td>\n      <td>N2_SouthWest</td>\n    </tr>\n    <tr>\n      <th>12253</th>\n      <td>N2</td>\n      <td>(92.0176382, 25.1570556)</td>\n      <td>25.157056</td>\n      <td>92.017638</td>\n      <td>North</td>\n      <td>East</td>\n      <td>N2_NorthEast</td>\n    </tr>\n    <tr>\n      <th>12254</th>\n      <td>N105</td>\n      <td>(90.5466108, 23.6904163)</td>\n      <td>23.690416</td>\n      <td>90.546611</td>\n      <td>South</td>\n      <td>East</td>\n      <td>N105_SouthEast</td>\n    </tr>\n  </tbody>\n</table>\n</div>"
     },
     "execution_count": 4,
     "metadata": {},
     "output_type": "execute_result"
    }
   ],
   "source": [
    "# Split the coordinates in latitude and longitude\n",
    "source_sinks[\"lat\"] = source_sinks[\"Coordinates\"].apply(lambda x: float(x.split(',')[1].replace(')', '')))\n",
    "source_sinks[\"lon\"] = source_sinks[\"Coordinates\"].apply(lambda x: float(x.split(',')[0].replace('(', '')))\n",
    "\n",
    "# Create lists of roads, dictionary for north south and east west\n",
    "road_list = source_sinks[\"Road\"].unique().tolist()\n",
    "sources_NS = {}\n",
    "sources_WE = {}\n",
    "\n",
    "# Check which sourcesink the the northmost etc. for each road\n",
    "for road in road_list:\n",
    "    df = source_sinks.loc[source_sinks[\"Road\"] == road]\n",
    "    sources_NS[df.loc[df['lat'].idxmax()].name]  = \"North\"\n",
    "    sources_NS[df.loc[df['lat'].idxmin()].name]  = \"South\"\n",
    "    sources_WE[df.loc[df['lon'].idxmax()].name]  = \"East\"\n",
    "    sources_WE[df.loc[df['lon'].idxmin()].name]  = \"West\"\n",
    "\n",
    "# Add values to dataframe and create labels\n",
    "source_sinks[\"NS\"] = pd.Series(sources_NS)\n",
    "source_sinks[\"WE\"] = pd.Series(sources_WE)\n",
    "source_sinks[\"Label\"] = source_sinks[\"Road\"] + '_' + source_sinks[\"NS\"] + source_sinks[\"WE\"]\n",
    "\n",
    "# Create dictionary with labels and print dataframe head\n",
    "s_name_dict = source_sinks[\"Label\"].to_dict()\n",
    "source_sinks.head(5)"
   ],
   "metadata": {
    "collapsed": false,
    "pycharm": {
     "name": "#%%\n"
    }
   }
  },
  {
   "cell_type": "markdown",
   "source": [
    "### Global average travel time"
   ],
   "metadata": {
    "collapsed": false
   }
  },
  {
   "cell_type": "code",
   "execution_count": 5,
   "outputs": [
    {
     "name": "stdout",
     "output_type": "stream",
     "text": [
      "Average travel time (95% confidence interval) for scenario 0: 378.247 (377.586, 378.909), economic interval: 0.350%\n",
      "Average travel time (95% confidence interval) for scenario 1: 380.893 (380.225, 381.560), economic interval: 0.351%\n",
      "Average travel time (95% confidence interval) for scenario 2: 426.062 (425.300, 426.823), economic interval: 0.357%\n",
      "Average travel time (95% confidence interval) for scenario 3: 558.409 (557.393, 559.425), economic interval: 0.364%\n",
      "Average travel time (95% confidence interval) for scenario 4: 992.122 (990.269, 993.975), economic interval: 0.373%\n"
     ]
    },
    {
     "data": {
      "text/plain": "   Average (min)  Low bound (min)  High bound (min)  Interval range (min)  \\\n0     378.247130       377.585546        378.908714              1.323168   \n1     380.892805       380.225254        381.560357              1.335103   \n2     426.061629       425.300354        426.822903              1.522549   \n3     558.408991       557.392545        559.425438              2.032893   \n4     992.122083       990.269402        993.974764              3.705362   \n\n   Economic interval (%)  \n0               0.349816  \n1               0.350519  \n2               0.357354  \n3               0.364051  \n4               0.373478  ",
      "text/html": "<div>\n<style scoped>\n    .dataframe tbody tr th:only-of-type {\n        vertical-align: middle;\n    }\n\n    .dataframe tbody tr th {\n        vertical-align: top;\n    }\n\n    .dataframe thead th {\n        text-align: right;\n    }\n</style>\n<table border=\"1\" class=\"dataframe\">\n  <thead>\n    <tr style=\"text-align: right;\">\n      <th></th>\n      <th>Average (min)</th>\n      <th>Low bound (min)</th>\n      <th>High bound (min)</th>\n      <th>Interval range (min)</th>\n      <th>Economic interval (%)</th>\n    </tr>\n  </thead>\n  <tbody>\n    <tr>\n      <th>0</th>\n      <td>378.247130</td>\n      <td>377.585546</td>\n      <td>378.908714</td>\n      <td>1.323168</td>\n      <td>0.349816</td>\n    </tr>\n    <tr>\n      <th>1</th>\n      <td>380.892805</td>\n      <td>380.225254</td>\n      <td>381.560357</td>\n      <td>1.335103</td>\n      <td>0.350519</td>\n    </tr>\n    <tr>\n      <th>2</th>\n      <td>426.061629</td>\n      <td>425.300354</td>\n      <td>426.822903</td>\n      <td>1.522549</td>\n      <td>0.357354</td>\n    </tr>\n    <tr>\n      <th>3</th>\n      <td>558.408991</td>\n      <td>557.392545</td>\n      <td>559.425438</td>\n      <td>2.032893</td>\n      <td>0.364051</td>\n    </tr>\n    <tr>\n      <th>4</th>\n      <td>992.122083</td>\n      <td>990.269402</td>\n      <td>993.974764</td>\n      <td>3.705362</td>\n      <td>0.373478</td>\n    </tr>\n  </tbody>\n</table>\n</div>"
     },
     "execution_count": 5,
     "metadata": {},
     "output_type": "execute_result"
    }
   ],
   "source": [
    "#calculating 95% confidence intervals of the economic losses\n",
    "confidence = 0.95\n",
    "\n",
    "average = {}\n",
    "low_bound = {}\n",
    "high_bound = {}\n",
    "interval_range = {}\n",
    "economic_interval = {}\n",
    "\n",
    "for i in scenarios:\n",
    "    results_list = results[i][\"Travel_Time\"].tolist()\n",
    "    average[i] = np.mean(results_list)\n",
    "    low_bound[i], high_bound[i] = st.norm.interval(alpha=confidence, loc=average[i], scale=st.sem(results_list))\n",
    "    interval_range[i] = high_bound[i] - low_bound[i]\n",
    "    economic_interval[i] = interval_range[i] / average[i] * 100\n",
    "\n",
    "    print(f'Average travel time (95% confidence interval) for scenario {i}: {average[i]:.3f} ({low_bound[i]:.3f}, {high_bound[i]:.3f}), economic interval: {economic_interval[i]:.3f}%')\n",
    "\n",
    "df = pd.DataFrame({\n",
    "    \"Average (min)\": average,\n",
    "    \"Low bound (min)\": low_bound,\n",
    "    \"High bound (min)\": high_bound,\n",
    "    \"Interval range (min)\": interval_range,\n",
    "    \"Economic interval (%)\": economic_interval})\n",
    "df.to_csv(\"../results/travel_times.csv\", index_label=\"Scenario\")\n",
    "df"
   ],
   "metadata": {
    "collapsed": false,
    "pycharm": {
     "name": "#%%\n"
    }
   }
  },
  {
   "cell_type": "markdown",
   "source": [
    "### Average travel time per route"
   ],
   "metadata": {
    "collapsed": false
   }
  },
  {
   "cell_type": "code",
   "execution_count": 6,
   "outputs": [
    {
     "data": {
      "text/plain": "325.59864864864863"
     },
     "execution_count": 6,
     "metadata": {},
     "output_type": "execute_result"
    }
   ],
   "source": [
    "# Test for getting average travel time between two points\n",
    "df = results[3]\n",
    "dfi = df.loc[df['Startpoint'] == f'SourceSink{11303}']\n",
    "dfi2 = dfi.loc[dfi['Endpoint'] == 12800]\n",
    "dfi2[\"Travel_Time\"].mean()"
   ],
   "metadata": {
    "collapsed": false,
    "pycharm": {
     "name": "#%%\n"
    }
   }
  },
  {
   "cell_type": "code",
   "execution_count": 7,
   "outputs": [],
   "source": [
    "# Create lists of start and end points\n",
    "start_points = set([int(i.replace('SourceSink', '')) for i in results[2][\"Startpoint\"].tolist()])\n",
    "end_points = set(results[2][\"Endpoint\"].tolist())"
   ],
   "metadata": {
    "collapsed": false,
    "pycharm": {
     "name": "#%%\n"
    }
   }
  },
  {
   "cell_type": "code",
   "execution_count": 8,
   "outputs": [],
   "source": [
    "# For all scenarios, for all startpoints (sources) and for all endpoints (sinks), report the average travel time.\n",
    "tt_roads = {}\n",
    "for s, df in results.items():\n",
    "    tt_roads[s] = {}\n",
    "    for sp in start_points:\n",
    "        dfi = df.loc[df['Startpoint'] == f'SourceSink{sp}']\n",
    "        sp_name = s_name_dict[sp]\n",
    "        for ep in end_points:\n",
    "            dfi2 = dfi.loc[dfi['Endpoint'] == ep]\n",
    "            tt_roads[s][(sp_name,s_name_dict[ep])] = dfi2[\"Travel_Time\"].mean()"
   ],
   "metadata": {
    "collapsed": false,
    "pycharm": {
     "name": "#%%\n"
    }
   }
  },
  {
   "cell_type": "code",
   "execution_count": 9,
   "outputs": [
    {
     "data": {
      "text/plain": "                                   0           1           2            3  \\\nN204_SouthWest N204_SouthWest    NaN         NaN         NaN          NaN   \n               N1_NorthWest    223.0  223.000000  253.281609   325.339744   \n               N1_SouthEast    781.0  798.721893  949.264706  1277.264706   \n               N2_SouthWest    221.0  221.000000  250.584211   326.767956   \n               N105_NorthWest  261.0  261.000000  287.258065   362.274725   \n...                              ...         ...         ...          ...   \nN110_NorthWest N108_SouthWest  158.0  158.000000  176.204663   196.366667   \n               N107_SouthEast  191.0  191.000000  218.421308   256.979695   \n               N102_NorthWest  460.0  463.440181  520.698598   689.305556   \n               N104_NorthEast  313.0  313.000000  352.556391   438.481108   \n               N110_NorthWest    NaN         NaN         NaN          NaN   \n\n                                         4  \nN204_SouthWest N204_SouthWest          NaN  \n               N1_NorthWest     643.069519  \n               N1_SouthEast    2462.522124  \n               N2_SouthWest     640.137255  \n               N105_NorthWest   705.956790  \n...                                    ...  \nN110_NorthWest N108_SouthWest   411.198992  \n               N107_SouthEast   529.359712  \n               N102_NorthWest  1332.827982  \n               N104_NorthEast   850.087282  \n               N110_NorthWest          NaN  \n\n[900 rows x 5 columns]",
      "text/html": "<div>\n<style scoped>\n    .dataframe tbody tr th:only-of-type {\n        vertical-align: middle;\n    }\n\n    .dataframe tbody tr th {\n        vertical-align: top;\n    }\n\n    .dataframe thead th {\n        text-align: right;\n    }\n</style>\n<table border=\"1\" class=\"dataframe\">\n  <thead>\n    <tr style=\"text-align: right;\">\n      <th></th>\n      <th></th>\n      <th>0</th>\n      <th>1</th>\n      <th>2</th>\n      <th>3</th>\n      <th>4</th>\n    </tr>\n  </thead>\n  <tbody>\n    <tr>\n      <th rowspan=\"5\" valign=\"top\">N204_SouthWest</th>\n      <th>N204_SouthWest</th>\n      <td>NaN</td>\n      <td>NaN</td>\n      <td>NaN</td>\n      <td>NaN</td>\n      <td>NaN</td>\n    </tr>\n    <tr>\n      <th>N1_NorthWest</th>\n      <td>223.0</td>\n      <td>223.000000</td>\n      <td>253.281609</td>\n      <td>325.339744</td>\n      <td>643.069519</td>\n    </tr>\n    <tr>\n      <th>N1_SouthEast</th>\n      <td>781.0</td>\n      <td>798.721893</td>\n      <td>949.264706</td>\n      <td>1277.264706</td>\n      <td>2462.522124</td>\n    </tr>\n    <tr>\n      <th>N2_SouthWest</th>\n      <td>221.0</td>\n      <td>221.000000</td>\n      <td>250.584211</td>\n      <td>326.767956</td>\n      <td>640.137255</td>\n    </tr>\n    <tr>\n      <th>N105_NorthWest</th>\n      <td>261.0</td>\n      <td>261.000000</td>\n      <td>287.258065</td>\n      <td>362.274725</td>\n      <td>705.956790</td>\n    </tr>\n    <tr>\n      <th>...</th>\n      <th>...</th>\n      <td>...</td>\n      <td>...</td>\n      <td>...</td>\n      <td>...</td>\n      <td>...</td>\n    </tr>\n    <tr>\n      <th rowspan=\"5\" valign=\"top\">N110_NorthWest</th>\n      <th>N108_SouthWest</th>\n      <td>158.0</td>\n      <td>158.000000</td>\n      <td>176.204663</td>\n      <td>196.366667</td>\n      <td>411.198992</td>\n    </tr>\n    <tr>\n      <th>N107_SouthEast</th>\n      <td>191.0</td>\n      <td>191.000000</td>\n      <td>218.421308</td>\n      <td>256.979695</td>\n      <td>529.359712</td>\n    </tr>\n    <tr>\n      <th>N102_NorthWest</th>\n      <td>460.0</td>\n      <td>463.440181</td>\n      <td>520.698598</td>\n      <td>689.305556</td>\n      <td>1332.827982</td>\n    </tr>\n    <tr>\n      <th>N104_NorthEast</th>\n      <td>313.0</td>\n      <td>313.000000</td>\n      <td>352.556391</td>\n      <td>438.481108</td>\n      <td>850.087282</td>\n    </tr>\n    <tr>\n      <th>N110_NorthWest</th>\n      <td>NaN</td>\n      <td>NaN</td>\n      <td>NaN</td>\n      <td>NaN</td>\n      <td>NaN</td>\n    </tr>\n  </tbody>\n</table>\n<p>900 rows × 5 columns</p>\n</div>"
     },
     "execution_count": 9,
     "metadata": {},
     "output_type": "execute_result"
    }
   ],
   "source": [
    "# Create dataframe and export to CSV\n",
    "df_tt_roads = pd.DataFrame.from_dict(tt_roads)\n",
    "df_tt_roads.to_csv(\"../results/travel_time_per_route.csv\")\n",
    "df_tt_roads"
   ],
   "metadata": {
    "collapsed": false,
    "pycharm": {
     "name": "#%%\n"
    }
   }
  },
  {
   "cell_type": "code",
   "execution_count": 10,
   "outputs": [
    {
     "data": {
      "text/plain": "                                 0         1         2         3         4\nN107_SouthEast N107_NorthWest  1.0  1.247841  1.689016  2.942283  4.634306\nN107_NorthWest N107_SouthEast  1.0  1.290537  1.689282  2.812285  4.141019\n               N108_SouthWest  1.0  1.061428  1.312734  2.054614  4.094919\nN108_SouthWest N107_NorthWest  1.0  1.071847  1.314370  2.050868  4.057692\nN1_SouthEast   N110_SouthEast  1.0  1.049956  1.416983  1.969317  3.724178\n...                            ...       ...       ...       ...       ...\nN108_SouthWest N108_SouthWest  NaN       NaN       NaN       NaN       NaN\nN107_SouthEast N107_SouthEast  NaN       NaN       NaN       NaN       NaN\nN102_NorthWest N102_NorthWest  NaN       NaN       NaN       NaN       NaN\nN104_NorthEast N104_NorthEast  NaN       NaN       NaN       NaN       NaN\nN110_NorthWest N110_NorthWest  NaN       NaN       NaN       NaN       NaN\n\n[900 rows x 5 columns]",
      "text/html": "<div>\n<style scoped>\n    .dataframe tbody tr th:only-of-type {\n        vertical-align: middle;\n    }\n\n    .dataframe tbody tr th {\n        vertical-align: top;\n    }\n\n    .dataframe thead th {\n        text-align: right;\n    }\n</style>\n<table border=\"1\" class=\"dataframe\">\n  <thead>\n    <tr style=\"text-align: right;\">\n      <th></th>\n      <th></th>\n      <th>0</th>\n      <th>1</th>\n      <th>2</th>\n      <th>3</th>\n      <th>4</th>\n    </tr>\n  </thead>\n  <tbody>\n    <tr>\n      <th>N107_SouthEast</th>\n      <th>N107_NorthWest</th>\n      <td>1.0</td>\n      <td>1.247841</td>\n      <td>1.689016</td>\n      <td>2.942283</td>\n      <td>4.634306</td>\n    </tr>\n    <tr>\n      <th rowspan=\"2\" valign=\"top\">N107_NorthWest</th>\n      <th>N107_SouthEast</th>\n      <td>1.0</td>\n      <td>1.290537</td>\n      <td>1.689282</td>\n      <td>2.812285</td>\n      <td>4.141019</td>\n    </tr>\n    <tr>\n      <th>N108_SouthWest</th>\n      <td>1.0</td>\n      <td>1.061428</td>\n      <td>1.312734</td>\n      <td>2.054614</td>\n      <td>4.094919</td>\n    </tr>\n    <tr>\n      <th>N108_SouthWest</th>\n      <th>N107_NorthWest</th>\n      <td>1.0</td>\n      <td>1.071847</td>\n      <td>1.314370</td>\n      <td>2.050868</td>\n      <td>4.057692</td>\n    </tr>\n    <tr>\n      <th>N1_SouthEast</th>\n      <th>N110_SouthEast</th>\n      <td>1.0</td>\n      <td>1.049956</td>\n      <td>1.416983</td>\n      <td>1.969317</td>\n      <td>3.724178</td>\n    </tr>\n    <tr>\n      <th>...</th>\n      <th>...</th>\n      <td>...</td>\n      <td>...</td>\n      <td>...</td>\n      <td>...</td>\n      <td>...</td>\n    </tr>\n    <tr>\n      <th>N108_SouthWest</th>\n      <th>N108_SouthWest</th>\n      <td>NaN</td>\n      <td>NaN</td>\n      <td>NaN</td>\n      <td>NaN</td>\n      <td>NaN</td>\n    </tr>\n    <tr>\n      <th>N107_SouthEast</th>\n      <th>N107_SouthEast</th>\n      <td>NaN</td>\n      <td>NaN</td>\n      <td>NaN</td>\n      <td>NaN</td>\n      <td>NaN</td>\n    </tr>\n    <tr>\n      <th>N102_NorthWest</th>\n      <th>N102_NorthWest</th>\n      <td>NaN</td>\n      <td>NaN</td>\n      <td>NaN</td>\n      <td>NaN</td>\n      <td>NaN</td>\n    </tr>\n    <tr>\n      <th>N104_NorthEast</th>\n      <th>N104_NorthEast</th>\n      <td>NaN</td>\n      <td>NaN</td>\n      <td>NaN</td>\n      <td>NaN</td>\n      <td>NaN</td>\n    </tr>\n    <tr>\n      <th>N110_NorthWest</th>\n      <th>N110_NorthWest</th>\n      <td>NaN</td>\n      <td>NaN</td>\n      <td>NaN</td>\n      <td>NaN</td>\n      <td>NaN</td>\n    </tr>\n  </tbody>\n</table>\n<p>900 rows × 5 columns</p>\n</div>"
     },
     "execution_count": 10,
     "metadata": {},
     "output_type": "execute_result"
    }
   ],
   "source": [
    "# Create a dataframe with the travel time delays\n",
    "tt_delays = df_tt_roads.div(df_tt_roads[0].values, axis=0)\n",
    "tt_delays.sort_values(4, ascending=False)"
   ],
   "metadata": {
    "collapsed": false,
    "pycharm": {
     "name": "#%%\n"
    }
   }
  },
  {
   "cell_type": "code",
   "execution_count": 11,
   "outputs": [
    {
     "data": {
      "text/plain": "                N102_NorthWest  N102_SouthEast  N104_NorthEast  \\\nN102_NorthWest             NaN        3.494685        3.259997   \nN102_SouthEast        3.526453             NaN        2.647338   \nN104_NorthEast        3.249455        2.641814             NaN   \nN104_SouthWest        3.202593        2.792597        2.877006   \nN105_NorthWest        2.792970        2.829020        2.802554   \nN105_SouthEast        3.110737        3.443986        3.150030   \nN107_NorthWest        3.099423        2.813721        2.729828   \nN107_SouthEast        2.975105        2.623393        2.615370   \nN108_NorthEast        3.013760        2.799473        2.827784   \nN108_SouthWest        2.997092        2.836411        2.780951   \nN109_NorthEast        2.970070        2.799827        2.741108   \nN109_SouthWest        2.946620        2.755564        2.800772   \nN110_NorthWest        2.897452        2.695903        2.715934   \nN110_SouthEast        2.961620        2.784295        2.759942   \nN111_NorthWest        2.903689        2.535971        2.514659   \nN111_SouthEast        2.992115        2.587089        2.387396   \nN1_NorthWest          3.073969        3.330456        3.070807   \nN1_SouthEast          3.205110        3.133373        3.180877   \nN204_NorthEast        2.842045        3.137571        3.053960   \nN204_SouthWest        2.629937        3.097448        3.013664   \nN206_NorthEast        2.465246        2.756232        2.736610   \nN206_SouthWest        2.514518        2.736866        2.730795   \nN207_NorthEast        2.615021        2.831716        2.761731   \nN207_SouthWest        2.372660        2.699547        2.736159   \nN209_NorthWest        2.477686        2.750684        2.738629   \nN209_SouthEast        2.487122        2.734962        2.760918   \nN210_NorthEast        2.477257        2.733080        2.723459   \nN210_SouthWest        2.464034        2.718197        2.731049   \nN2_NorthEast          2.525935        2.755126        2.719911   \nN2_SouthWest          3.068054        3.296324        3.064762   \n\n                N104_SouthWest  N105_NorthWest  N105_SouthEast  \\\nN102_NorthWest        3.214390        2.738664        3.053182   \nN102_SouthEast        2.861637        2.739888        3.357569   \nN104_NorthEast        2.870999        2.777264        3.109597   \nN104_SouthWest             NaN        2.828275        3.151327   \nN105_NorthWest        2.860374             NaN        1.789081   \nN105_SouthEast        3.142566        1.805807             NaN   \nN107_NorthWest        2.842763        2.788829        3.016474   \nN107_SouthEast        2.698749        2.688873        2.871622   \nN108_NorthEast        2.827507        2.836859        2.978428   \nN108_SouthWest        2.845604        2.779548        3.009065   \nN109_NorthEast        2.849359        2.759499        2.938259   \nN109_SouthWest        2.801302        2.754166        2.910548   \nN110_NorthWest        2.793446        2.699480        2.833851   \nN110_SouthEast        2.819389        2.776861        2.852305   \nN111_NorthWest        2.645501        2.695971        2.872459   \nN111_SouthEast        2.656951        2.678485        2.866053   \nN1_NorthWest          3.117345        1.677350        1.723569   \nN1_SouthEast          3.178468        3.069560        3.158010   \nN204_NorthEast        3.093983        2.863352        3.083566   \nN204_SouthWest        3.078534        2.704815        2.920084   \nN206_NorthEast        2.774028        2.593173        2.674091   \nN206_SouthWest        2.787287        2.581687        2.662777   \nN207_NorthEast        2.802051        2.699278        2.770607   \nN207_SouthWest        2.783843        2.575509        2.599740   \nN209_NorthWest        2.761841        2.578953        2.664684   \nN209_SouthEast        2.784816        2.604844        2.679046   \nN210_NorthEast        2.748739        2.585314        2.673140   \nN210_SouthWest        2.739485        2.586281        2.645165   \nN2_NorthEast          2.759946        2.607528        2.680376   \nN2_SouthWest          3.074094        1.738708        1.688031   \n\n                N107_NorthWest  N107_SouthEast  N108_NorthEast  \\\nN102_NorthWest        3.064475        2.934428        2.950718   \nN102_SouthEast        2.814891        2.618617        2.772728   \nN104_NorthEast        2.759199        2.521369        2.803038   \nN104_SouthWest        2.836157        2.663646        2.860455   \nN105_NorthWest        2.810607        2.694622        2.813933   \nN105_SouthEast        2.995506        2.894375        2.957601   \nN107_NorthWest             NaN        4.141019        3.450892   \nN107_SouthEast        4.634306             NaN        3.121138   \nN108_NorthEast        3.419458        3.122484             NaN   \nN108_SouthWest        4.057692        3.370425        2.733784   \nN109_NorthEast        3.139139        2.953540        2.741738   \nN109_SouthWest        3.103312        2.956624        2.774024   \nN110_NorthWest        2.935993        2.771517        2.619046   \nN110_SouthEast        3.026464        2.887831        2.682589   \nN111_NorthWest        3.343918        2.602072        3.166600   \nN111_SouthEast        3.384084        2.694006        3.013818   \nN1_NorthWest          2.936470        2.819398        2.927564   \nN1_SouthEast          3.447972        3.391424        3.295723   \nN204_NorthEast        3.034792        2.931735        2.962329   \nN204_SouthWest        2.949915        2.939472        2.937083   \nN206_NorthEast        2.700005        2.672530        2.749389   \nN206_SouthWest        2.747433        2.704059        2.742688   \nN207_NorthEast        2.819566        2.733045        2.789852   \nN207_SouthWest        2.770065        2.708975        2.690928   \nN209_NorthWest        2.744232        2.696971        2.745179   \nN209_SouthEast        2.770063        2.697562        2.738379   \nN210_NorthEast        2.724247        2.691028        2.722752   \nN210_SouthWest        2.743400        2.675656        2.717897   \nN2_NorthEast          2.744044        2.692450        2.716867   \nN2_SouthWest          2.950882        2.843617        2.939252   \n\n                N108_SouthWest  ...  N206_NorthEast  N206_SouthWest  \\\nN102_NorthWest        3.051276  ...        2.479684        2.464778   \nN102_SouthEast        2.811410  ...        2.752090        2.730305   \nN104_NorthEast        2.794768  ...        2.754007        2.730678   \nN104_SouthWest        2.856783  ...        2.759269        2.739628   \nN105_NorthWest        2.806104  ...        2.569178        2.600277   \nN105_SouthEast        2.976988  ...        2.672170        2.688653   \nN107_NorthWest        4.094919  ...        2.735918        2.741504   \nN107_SouthEast        3.550298  ...        2.704267        2.683942   \nN108_NorthEast        2.561762  ...        2.710036        2.741120   \nN108_SouthWest             NaN  ...        2.747727        2.752129   \nN109_NorthEast        2.778078  ...        2.758601        2.736637   \nN109_SouthWest        2.815479  ...        2.800926        2.718812   \nN110_NorthWest        2.602525  ...        2.714617        2.728418   \nN110_SouthEast        2.693864  ...        2.732169        2.725183   \nN111_NorthWest        3.155700  ...        2.698417        2.700843   \nN111_SouthEast        3.183181  ...        2.716940        2.686041   \nN1_NorthWest          2.925707  ...        2.694115        2.654135   \nN1_SouthEast          3.376110  ...        2.927214        2.967477   \nN204_NorthEast        2.997472  ...        2.569058        2.457574   \nN204_SouthWest        2.943999  ...        2.358937        2.415345   \nN206_NorthEast        2.732839  ...             NaN        1.258929   \nN206_SouthWest        2.709019  ...        1.279605             NaN   \nN207_NorthEast        2.807410  ...        3.077472        3.051072   \nN207_SouthWest        2.756425  ...        2.671972        2.684389   \nN209_NorthWest        2.750226  ...        1.452694        1.565388   \nN209_SouthEast        2.757378  ...        1.443559        1.461338   \nN210_NorthEast        2.724287  ...        2.027745        1.912238   \nN210_SouthWest        2.719357  ...        1.863411        1.858651   \nN2_NorthEast          2.746286  ...        2.679834        2.724786   \nN2_SouthWest          2.980142  ...        2.671994        2.671168   \n\n                N207_NorthEast  N207_SouthWest  N209_NorthWest  \\\nN102_NorthWest        2.634708        2.410055        2.535805   \nN102_SouthEast        2.865556        2.730642        2.763958   \nN104_NorthEast        2.832111        2.718654        2.744247   \nN104_SouthWest        2.836285        2.735393        2.761436   \nN105_NorthWest        2.667669        2.562602        2.584750   \nN105_SouthEast        2.743959        2.642622        2.687246   \nN107_NorthWest        2.765192        2.763627        2.745488   \nN107_SouthEast        2.784239        2.683445        2.705689   \nN108_NorthEast        2.816742        2.747285        2.729496   \nN108_SouthWest        2.821542        2.735767        2.741301   \nN109_NorthEast        2.772508        2.754891        2.759320   \nN109_SouthWest        2.793328        2.753818        2.734100   \nN110_NorthWest        2.750162        2.698786        2.727653   \nN110_SouthEast        2.760371        2.736716        2.739399   \nN111_NorthWest        2.718105        2.686875        2.684011   \nN111_SouthEast        2.747150        2.702076        2.696745   \nN1_NorthWest          2.750179        2.659414        2.669473   \nN1_SouthEast          2.973579        2.966740        2.962573   \nN204_NorthEast        2.714783        2.470259        2.581412   \nN204_SouthWest        2.520509        2.202509        2.373319   \nN206_NorthEast        2.906625        2.676090        1.596187   \nN206_SouthWest        3.000305        2.561489        1.465637   \nN207_NorthEast             NaN        3.228040        3.110984   \nN207_SouthWest        3.145500             NaN        2.640857   \nN209_NorthWest        3.050974        2.773447             NaN   \nN209_SouthEast        3.003099        2.743747        1.042012   \nN210_NorthEast        2.934506        2.611872        1.909567   \nN210_SouthWest        2.875567        2.559104        1.819856   \nN2_NorthEast          2.916357        2.738419        2.631912   \nN2_SouthWest          2.749545        2.667389        2.675703   \n\n                N209_SouthEast  N210_NorthEast  N210_SouthWest  N2_NorthEast  \\\nN102_NorthWest        2.527185        2.496570        2.469015      2.507974   \nN102_SouthEast        2.768557        2.731413        2.716643      2.716069   \nN104_NorthEast        2.733733        2.715607        2.689393      2.733504   \nN104_SouthWest        2.803493        2.750556        2.745863      2.760362   \nN105_NorthWest        2.615603        2.582410        2.582025      2.595167   \nN105_SouthEast        2.651487        2.667833        2.619903      2.704565   \nN107_NorthWest        2.748655        2.751058        2.744015      2.749297   \nN107_SouthEast        2.682757        2.711380        2.693970      2.672181   \nN108_NorthEast        2.740852        2.739319        2.710057      2.714062   \nN108_SouthWest        2.744624        2.715458        2.716765      2.738141   \nN109_NorthEast        2.752067        2.765585        2.724387      2.738775   \nN109_SouthWest        2.743079        2.759041        2.736692      2.736885   \nN110_NorthWest        2.717545        2.732754        2.727503      2.734940   \nN110_SouthEast        2.724813        2.710229        2.706508      2.724814   \nN111_NorthWest        2.693452        2.660353        2.682086      2.697151   \nN111_SouthEast        2.687969        2.659791        2.690854      2.683844   \nN1_NorthWest          2.683319        2.656712        2.622241      2.680062   \nN1_SouthEast          2.959437        2.949092        2.953063      2.945641   \nN204_NorthEast        2.562877        2.554683        2.519107      2.562739   \nN204_SouthWest        2.376603        2.310643        2.370898      2.567593   \nN206_NorthEast        1.388244        2.070060        1.823336      2.702577   \nN206_SouthWest        1.456373        1.929940        1.835831      2.707681   \nN207_NorthEast        3.070552        2.903705        2.895488      2.880263   \nN207_SouthWest        2.679467        2.592329        2.576555      2.812701   \nN209_NorthWest        1.070684        1.858294        1.820569      2.602996   \nN209_SouthEast             NaN        1.940180        1.804806      2.611111   \nN210_NorthEast        1.874330             NaN        1.000000      2.844070   \nN210_SouthWest        1.832683        1.000000             NaN      2.803827   \nN2_NorthEast          2.625592        2.897521        2.770274           NaN   \nN2_SouthWest          2.675678        2.680071        2.657667      2.689097   \n\n                N2_SouthWest  \nN102_NorthWest      3.263621  \nN102_SouthEast      3.350637  \nN104_NorthEast      3.095552  \nN104_SouthWest      3.103168  \nN105_NorthWest      1.726322  \nN105_SouthEast      1.782865  \nN107_NorthWest      2.963695  \nN107_SouthEast      2.855430  \nN108_NorthEast      2.938916  \nN108_SouthWest      2.958088  \nN109_NorthEast      2.906596  \nN109_SouthWest      2.922474  \nN110_NorthWest      2.818280  \nN110_SouthEast      2.885799  \nN111_NorthWest      2.852539  \nN111_SouthEast      2.891948  \nN1_NorthWest        1.000000  \nN1_SouthEast        3.175724  \nN204_NorthEast      3.021250  \nN204_SouthWest      2.896549  \nN206_NorthEast      2.709276  \nN206_SouthWest      2.655001  \nN207_NorthEast      2.774460  \nN207_SouthWest      2.653567  \nN209_NorthWest      2.694426  \nN209_SouthEast      2.668827  \nN210_NorthEast      2.680005  \nN210_SouthWest      2.638386  \nN2_NorthEast        2.712638  \nN2_SouthWest             NaN  \n\n[30 rows x 30 columns]",
      "text/html": "<div>\n<style scoped>\n    .dataframe tbody tr th:only-of-type {\n        vertical-align: middle;\n    }\n\n    .dataframe tbody tr th {\n        vertical-align: top;\n    }\n\n    .dataframe thead th {\n        text-align: right;\n    }\n</style>\n<table border=\"1\" class=\"dataframe\">\n  <thead>\n    <tr style=\"text-align: right;\">\n      <th></th>\n      <th>N102_NorthWest</th>\n      <th>N102_SouthEast</th>\n      <th>N104_NorthEast</th>\n      <th>N104_SouthWest</th>\n      <th>N105_NorthWest</th>\n      <th>N105_SouthEast</th>\n      <th>N107_NorthWest</th>\n      <th>N107_SouthEast</th>\n      <th>N108_NorthEast</th>\n      <th>N108_SouthWest</th>\n      <th>...</th>\n      <th>N206_NorthEast</th>\n      <th>N206_SouthWest</th>\n      <th>N207_NorthEast</th>\n      <th>N207_SouthWest</th>\n      <th>N209_NorthWest</th>\n      <th>N209_SouthEast</th>\n      <th>N210_NorthEast</th>\n      <th>N210_SouthWest</th>\n      <th>N2_NorthEast</th>\n      <th>N2_SouthWest</th>\n    </tr>\n  </thead>\n  <tbody>\n    <tr>\n      <th>N102_NorthWest</th>\n      <td>NaN</td>\n      <td>3.494685</td>\n      <td>3.259997</td>\n      <td>3.214390</td>\n      <td>2.738664</td>\n      <td>3.053182</td>\n      <td>3.064475</td>\n      <td>2.934428</td>\n      <td>2.950718</td>\n      <td>3.051276</td>\n      <td>...</td>\n      <td>2.479684</td>\n      <td>2.464778</td>\n      <td>2.634708</td>\n      <td>2.410055</td>\n      <td>2.535805</td>\n      <td>2.527185</td>\n      <td>2.496570</td>\n      <td>2.469015</td>\n      <td>2.507974</td>\n      <td>3.263621</td>\n    </tr>\n    <tr>\n      <th>N102_SouthEast</th>\n      <td>3.526453</td>\n      <td>NaN</td>\n      <td>2.647338</td>\n      <td>2.861637</td>\n      <td>2.739888</td>\n      <td>3.357569</td>\n      <td>2.814891</td>\n      <td>2.618617</td>\n      <td>2.772728</td>\n      <td>2.811410</td>\n      <td>...</td>\n      <td>2.752090</td>\n      <td>2.730305</td>\n      <td>2.865556</td>\n      <td>2.730642</td>\n      <td>2.763958</td>\n      <td>2.768557</td>\n      <td>2.731413</td>\n      <td>2.716643</td>\n      <td>2.716069</td>\n      <td>3.350637</td>\n    </tr>\n    <tr>\n      <th>N104_NorthEast</th>\n      <td>3.249455</td>\n      <td>2.641814</td>\n      <td>NaN</td>\n      <td>2.870999</td>\n      <td>2.777264</td>\n      <td>3.109597</td>\n      <td>2.759199</td>\n      <td>2.521369</td>\n      <td>2.803038</td>\n      <td>2.794768</td>\n      <td>...</td>\n      <td>2.754007</td>\n      <td>2.730678</td>\n      <td>2.832111</td>\n      <td>2.718654</td>\n      <td>2.744247</td>\n      <td>2.733733</td>\n      <td>2.715607</td>\n      <td>2.689393</td>\n      <td>2.733504</td>\n      <td>3.095552</td>\n    </tr>\n    <tr>\n      <th>N104_SouthWest</th>\n      <td>3.202593</td>\n      <td>2.792597</td>\n      <td>2.877006</td>\n      <td>NaN</td>\n      <td>2.828275</td>\n      <td>3.151327</td>\n      <td>2.836157</td>\n      <td>2.663646</td>\n      <td>2.860455</td>\n      <td>2.856783</td>\n      <td>...</td>\n      <td>2.759269</td>\n      <td>2.739628</td>\n      <td>2.836285</td>\n      <td>2.735393</td>\n      <td>2.761436</td>\n      <td>2.803493</td>\n      <td>2.750556</td>\n      <td>2.745863</td>\n      <td>2.760362</td>\n      <td>3.103168</td>\n    </tr>\n    <tr>\n      <th>N105_NorthWest</th>\n      <td>2.792970</td>\n      <td>2.829020</td>\n      <td>2.802554</td>\n      <td>2.860374</td>\n      <td>NaN</td>\n      <td>1.789081</td>\n      <td>2.810607</td>\n      <td>2.694622</td>\n      <td>2.813933</td>\n      <td>2.806104</td>\n      <td>...</td>\n      <td>2.569178</td>\n      <td>2.600277</td>\n      <td>2.667669</td>\n      <td>2.562602</td>\n      <td>2.584750</td>\n      <td>2.615603</td>\n      <td>2.582410</td>\n      <td>2.582025</td>\n      <td>2.595167</td>\n      <td>1.726322</td>\n    </tr>\n    <tr>\n      <th>N105_SouthEast</th>\n      <td>3.110737</td>\n      <td>3.443986</td>\n      <td>3.150030</td>\n      <td>3.142566</td>\n      <td>1.805807</td>\n      <td>NaN</td>\n      <td>2.995506</td>\n      <td>2.894375</td>\n      <td>2.957601</td>\n      <td>2.976988</td>\n      <td>...</td>\n      <td>2.672170</td>\n      <td>2.688653</td>\n      <td>2.743959</td>\n      <td>2.642622</td>\n      <td>2.687246</td>\n      <td>2.651487</td>\n      <td>2.667833</td>\n      <td>2.619903</td>\n      <td>2.704565</td>\n      <td>1.782865</td>\n    </tr>\n    <tr>\n      <th>N107_NorthWest</th>\n      <td>3.099423</td>\n      <td>2.813721</td>\n      <td>2.729828</td>\n      <td>2.842763</td>\n      <td>2.788829</td>\n      <td>3.016474</td>\n      <td>NaN</td>\n      <td>4.141019</td>\n      <td>3.450892</td>\n      <td>4.094919</td>\n      <td>...</td>\n      <td>2.735918</td>\n      <td>2.741504</td>\n      <td>2.765192</td>\n      <td>2.763627</td>\n      <td>2.745488</td>\n      <td>2.748655</td>\n      <td>2.751058</td>\n      <td>2.744015</td>\n      <td>2.749297</td>\n      <td>2.963695</td>\n    </tr>\n    <tr>\n      <th>N107_SouthEast</th>\n      <td>2.975105</td>\n      <td>2.623393</td>\n      <td>2.615370</td>\n      <td>2.698749</td>\n      <td>2.688873</td>\n      <td>2.871622</td>\n      <td>4.634306</td>\n      <td>NaN</td>\n      <td>3.121138</td>\n      <td>3.550298</td>\n      <td>...</td>\n      <td>2.704267</td>\n      <td>2.683942</td>\n      <td>2.784239</td>\n      <td>2.683445</td>\n      <td>2.705689</td>\n      <td>2.682757</td>\n      <td>2.711380</td>\n      <td>2.693970</td>\n      <td>2.672181</td>\n      <td>2.855430</td>\n    </tr>\n    <tr>\n      <th>N108_NorthEast</th>\n      <td>3.013760</td>\n      <td>2.799473</td>\n      <td>2.827784</td>\n      <td>2.827507</td>\n      <td>2.836859</td>\n      <td>2.978428</td>\n      <td>3.419458</td>\n      <td>3.122484</td>\n      <td>NaN</td>\n      <td>2.561762</td>\n      <td>...</td>\n      <td>2.710036</td>\n      <td>2.741120</td>\n      <td>2.816742</td>\n      <td>2.747285</td>\n      <td>2.729496</td>\n      <td>2.740852</td>\n      <td>2.739319</td>\n      <td>2.710057</td>\n      <td>2.714062</td>\n      <td>2.938916</td>\n    </tr>\n    <tr>\n      <th>N108_SouthWest</th>\n      <td>2.997092</td>\n      <td>2.836411</td>\n      <td>2.780951</td>\n      <td>2.845604</td>\n      <td>2.779548</td>\n      <td>3.009065</td>\n      <td>4.057692</td>\n      <td>3.370425</td>\n      <td>2.733784</td>\n      <td>NaN</td>\n      <td>...</td>\n      <td>2.747727</td>\n      <td>2.752129</td>\n      <td>2.821542</td>\n      <td>2.735767</td>\n      <td>2.741301</td>\n      <td>2.744624</td>\n      <td>2.715458</td>\n      <td>2.716765</td>\n      <td>2.738141</td>\n      <td>2.958088</td>\n    </tr>\n    <tr>\n      <th>N109_NorthEast</th>\n      <td>2.970070</td>\n      <td>2.799827</td>\n      <td>2.741108</td>\n      <td>2.849359</td>\n      <td>2.759499</td>\n      <td>2.938259</td>\n      <td>3.139139</td>\n      <td>2.953540</td>\n      <td>2.741738</td>\n      <td>2.778078</td>\n      <td>...</td>\n      <td>2.758601</td>\n      <td>2.736637</td>\n      <td>2.772508</td>\n      <td>2.754891</td>\n      <td>2.759320</td>\n      <td>2.752067</td>\n      <td>2.765585</td>\n      <td>2.724387</td>\n      <td>2.738775</td>\n      <td>2.906596</td>\n    </tr>\n    <tr>\n      <th>N109_SouthWest</th>\n      <td>2.946620</td>\n      <td>2.755564</td>\n      <td>2.800772</td>\n      <td>2.801302</td>\n      <td>2.754166</td>\n      <td>2.910548</td>\n      <td>3.103312</td>\n      <td>2.956624</td>\n      <td>2.774024</td>\n      <td>2.815479</td>\n      <td>...</td>\n      <td>2.800926</td>\n      <td>2.718812</td>\n      <td>2.793328</td>\n      <td>2.753818</td>\n      <td>2.734100</td>\n      <td>2.743079</td>\n      <td>2.759041</td>\n      <td>2.736692</td>\n      <td>2.736885</td>\n      <td>2.922474</td>\n    </tr>\n    <tr>\n      <th>N110_NorthWest</th>\n      <td>2.897452</td>\n      <td>2.695903</td>\n      <td>2.715934</td>\n      <td>2.793446</td>\n      <td>2.699480</td>\n      <td>2.833851</td>\n      <td>2.935993</td>\n      <td>2.771517</td>\n      <td>2.619046</td>\n      <td>2.602525</td>\n      <td>...</td>\n      <td>2.714617</td>\n      <td>2.728418</td>\n      <td>2.750162</td>\n      <td>2.698786</td>\n      <td>2.727653</td>\n      <td>2.717545</td>\n      <td>2.732754</td>\n      <td>2.727503</td>\n      <td>2.734940</td>\n      <td>2.818280</td>\n    </tr>\n    <tr>\n      <th>N110_SouthEast</th>\n      <td>2.961620</td>\n      <td>2.784295</td>\n      <td>2.759942</td>\n      <td>2.819389</td>\n      <td>2.776861</td>\n      <td>2.852305</td>\n      <td>3.026464</td>\n      <td>2.887831</td>\n      <td>2.682589</td>\n      <td>2.693864</td>\n      <td>...</td>\n      <td>2.732169</td>\n      <td>2.725183</td>\n      <td>2.760371</td>\n      <td>2.736716</td>\n      <td>2.739399</td>\n      <td>2.724813</td>\n      <td>2.710229</td>\n      <td>2.706508</td>\n      <td>2.724814</td>\n      <td>2.885799</td>\n    </tr>\n    <tr>\n      <th>N111_NorthWest</th>\n      <td>2.903689</td>\n      <td>2.535971</td>\n      <td>2.514659</td>\n      <td>2.645501</td>\n      <td>2.695971</td>\n      <td>2.872459</td>\n      <td>3.343918</td>\n      <td>2.602072</td>\n      <td>3.166600</td>\n      <td>3.155700</td>\n      <td>...</td>\n      <td>2.698417</td>\n      <td>2.700843</td>\n      <td>2.718105</td>\n      <td>2.686875</td>\n      <td>2.684011</td>\n      <td>2.693452</td>\n      <td>2.660353</td>\n      <td>2.682086</td>\n      <td>2.697151</td>\n      <td>2.852539</td>\n    </tr>\n    <tr>\n      <th>N111_SouthEast</th>\n      <td>2.992115</td>\n      <td>2.587089</td>\n      <td>2.387396</td>\n      <td>2.656951</td>\n      <td>2.678485</td>\n      <td>2.866053</td>\n      <td>3.384084</td>\n      <td>2.694006</td>\n      <td>3.013818</td>\n      <td>3.183181</td>\n      <td>...</td>\n      <td>2.716940</td>\n      <td>2.686041</td>\n      <td>2.747150</td>\n      <td>2.702076</td>\n      <td>2.696745</td>\n      <td>2.687969</td>\n      <td>2.659791</td>\n      <td>2.690854</td>\n      <td>2.683844</td>\n      <td>2.891948</td>\n    </tr>\n    <tr>\n      <th>N1_NorthWest</th>\n      <td>3.073969</td>\n      <td>3.330456</td>\n      <td>3.070807</td>\n      <td>3.117345</td>\n      <td>1.677350</td>\n      <td>1.723569</td>\n      <td>2.936470</td>\n      <td>2.819398</td>\n      <td>2.927564</td>\n      <td>2.925707</td>\n      <td>...</td>\n      <td>2.694115</td>\n      <td>2.654135</td>\n      <td>2.750179</td>\n      <td>2.659414</td>\n      <td>2.669473</td>\n      <td>2.683319</td>\n      <td>2.656712</td>\n      <td>2.622241</td>\n      <td>2.680062</td>\n      <td>1.000000</td>\n    </tr>\n    <tr>\n      <th>N1_SouthEast</th>\n      <td>3.205110</td>\n      <td>3.133373</td>\n      <td>3.180877</td>\n      <td>3.178468</td>\n      <td>3.069560</td>\n      <td>3.158010</td>\n      <td>3.447972</td>\n      <td>3.391424</td>\n      <td>3.295723</td>\n      <td>3.376110</td>\n      <td>...</td>\n      <td>2.927214</td>\n      <td>2.967477</td>\n      <td>2.973579</td>\n      <td>2.966740</td>\n      <td>2.962573</td>\n      <td>2.959437</td>\n      <td>2.949092</td>\n      <td>2.953063</td>\n      <td>2.945641</td>\n      <td>3.175724</td>\n    </tr>\n    <tr>\n      <th>N204_NorthEast</th>\n      <td>2.842045</td>\n      <td>3.137571</td>\n      <td>3.053960</td>\n      <td>3.093983</td>\n      <td>2.863352</td>\n      <td>3.083566</td>\n      <td>3.034792</td>\n      <td>2.931735</td>\n      <td>2.962329</td>\n      <td>2.997472</td>\n      <td>...</td>\n      <td>2.569058</td>\n      <td>2.457574</td>\n      <td>2.714783</td>\n      <td>2.470259</td>\n      <td>2.581412</td>\n      <td>2.562877</td>\n      <td>2.554683</td>\n      <td>2.519107</td>\n      <td>2.562739</td>\n      <td>3.021250</td>\n    </tr>\n    <tr>\n      <th>N204_SouthWest</th>\n      <td>2.629937</td>\n      <td>3.097448</td>\n      <td>3.013664</td>\n      <td>3.078534</td>\n      <td>2.704815</td>\n      <td>2.920084</td>\n      <td>2.949915</td>\n      <td>2.939472</td>\n      <td>2.937083</td>\n      <td>2.943999</td>\n      <td>...</td>\n      <td>2.358937</td>\n      <td>2.415345</td>\n      <td>2.520509</td>\n      <td>2.202509</td>\n      <td>2.373319</td>\n      <td>2.376603</td>\n      <td>2.310643</td>\n      <td>2.370898</td>\n      <td>2.567593</td>\n      <td>2.896549</td>\n    </tr>\n    <tr>\n      <th>N206_NorthEast</th>\n      <td>2.465246</td>\n      <td>2.756232</td>\n      <td>2.736610</td>\n      <td>2.774028</td>\n      <td>2.593173</td>\n      <td>2.674091</td>\n      <td>2.700005</td>\n      <td>2.672530</td>\n      <td>2.749389</td>\n      <td>2.732839</td>\n      <td>...</td>\n      <td>NaN</td>\n      <td>1.258929</td>\n      <td>2.906625</td>\n      <td>2.676090</td>\n      <td>1.596187</td>\n      <td>1.388244</td>\n      <td>2.070060</td>\n      <td>1.823336</td>\n      <td>2.702577</td>\n      <td>2.709276</td>\n    </tr>\n    <tr>\n      <th>N206_SouthWest</th>\n      <td>2.514518</td>\n      <td>2.736866</td>\n      <td>2.730795</td>\n      <td>2.787287</td>\n      <td>2.581687</td>\n      <td>2.662777</td>\n      <td>2.747433</td>\n      <td>2.704059</td>\n      <td>2.742688</td>\n      <td>2.709019</td>\n      <td>...</td>\n      <td>1.279605</td>\n      <td>NaN</td>\n      <td>3.000305</td>\n      <td>2.561489</td>\n      <td>1.465637</td>\n      <td>1.456373</td>\n      <td>1.929940</td>\n      <td>1.835831</td>\n      <td>2.707681</td>\n      <td>2.655001</td>\n    </tr>\n    <tr>\n      <th>N207_NorthEast</th>\n      <td>2.615021</td>\n      <td>2.831716</td>\n      <td>2.761731</td>\n      <td>2.802051</td>\n      <td>2.699278</td>\n      <td>2.770607</td>\n      <td>2.819566</td>\n      <td>2.733045</td>\n      <td>2.789852</td>\n      <td>2.807410</td>\n      <td>...</td>\n      <td>3.077472</td>\n      <td>3.051072</td>\n      <td>NaN</td>\n      <td>3.228040</td>\n      <td>3.110984</td>\n      <td>3.070552</td>\n      <td>2.903705</td>\n      <td>2.895488</td>\n      <td>2.880263</td>\n      <td>2.774460</td>\n    </tr>\n    <tr>\n      <th>N207_SouthWest</th>\n      <td>2.372660</td>\n      <td>2.699547</td>\n      <td>2.736159</td>\n      <td>2.783843</td>\n      <td>2.575509</td>\n      <td>2.599740</td>\n      <td>2.770065</td>\n      <td>2.708975</td>\n      <td>2.690928</td>\n      <td>2.756425</td>\n      <td>...</td>\n      <td>2.671972</td>\n      <td>2.684389</td>\n      <td>3.145500</td>\n      <td>NaN</td>\n      <td>2.640857</td>\n      <td>2.679467</td>\n      <td>2.592329</td>\n      <td>2.576555</td>\n      <td>2.812701</td>\n      <td>2.653567</td>\n    </tr>\n    <tr>\n      <th>N209_NorthWest</th>\n      <td>2.477686</td>\n      <td>2.750684</td>\n      <td>2.738629</td>\n      <td>2.761841</td>\n      <td>2.578953</td>\n      <td>2.664684</td>\n      <td>2.744232</td>\n      <td>2.696971</td>\n      <td>2.745179</td>\n      <td>2.750226</td>\n      <td>...</td>\n      <td>1.452694</td>\n      <td>1.565388</td>\n      <td>3.050974</td>\n      <td>2.773447</td>\n      <td>NaN</td>\n      <td>1.070684</td>\n      <td>1.858294</td>\n      <td>1.820569</td>\n      <td>2.602996</td>\n      <td>2.694426</td>\n    </tr>\n    <tr>\n      <th>N209_SouthEast</th>\n      <td>2.487122</td>\n      <td>2.734962</td>\n      <td>2.760918</td>\n      <td>2.784816</td>\n      <td>2.604844</td>\n      <td>2.679046</td>\n      <td>2.770063</td>\n      <td>2.697562</td>\n      <td>2.738379</td>\n      <td>2.757378</td>\n      <td>...</td>\n      <td>1.443559</td>\n      <td>1.461338</td>\n      <td>3.003099</td>\n      <td>2.743747</td>\n      <td>1.042012</td>\n      <td>NaN</td>\n      <td>1.940180</td>\n      <td>1.804806</td>\n      <td>2.611111</td>\n      <td>2.668827</td>\n    </tr>\n    <tr>\n      <th>N210_NorthEast</th>\n      <td>2.477257</td>\n      <td>2.733080</td>\n      <td>2.723459</td>\n      <td>2.748739</td>\n      <td>2.585314</td>\n      <td>2.673140</td>\n      <td>2.724247</td>\n      <td>2.691028</td>\n      <td>2.722752</td>\n      <td>2.724287</td>\n      <td>...</td>\n      <td>2.027745</td>\n      <td>1.912238</td>\n      <td>2.934506</td>\n      <td>2.611872</td>\n      <td>1.909567</td>\n      <td>1.874330</td>\n      <td>NaN</td>\n      <td>1.000000</td>\n      <td>2.844070</td>\n      <td>2.680005</td>\n    </tr>\n    <tr>\n      <th>N210_SouthWest</th>\n      <td>2.464034</td>\n      <td>2.718197</td>\n      <td>2.731049</td>\n      <td>2.739485</td>\n      <td>2.586281</td>\n      <td>2.645165</td>\n      <td>2.743400</td>\n      <td>2.675656</td>\n      <td>2.717897</td>\n      <td>2.719357</td>\n      <td>...</td>\n      <td>1.863411</td>\n      <td>1.858651</td>\n      <td>2.875567</td>\n      <td>2.559104</td>\n      <td>1.819856</td>\n      <td>1.832683</td>\n      <td>1.000000</td>\n      <td>NaN</td>\n      <td>2.803827</td>\n      <td>2.638386</td>\n    </tr>\n    <tr>\n      <th>N2_NorthEast</th>\n      <td>2.525935</td>\n      <td>2.755126</td>\n      <td>2.719911</td>\n      <td>2.759946</td>\n      <td>2.607528</td>\n      <td>2.680376</td>\n      <td>2.744044</td>\n      <td>2.692450</td>\n      <td>2.716867</td>\n      <td>2.746286</td>\n      <td>...</td>\n      <td>2.679834</td>\n      <td>2.724786</td>\n      <td>2.916357</td>\n      <td>2.738419</td>\n      <td>2.631912</td>\n      <td>2.625592</td>\n      <td>2.897521</td>\n      <td>2.770274</td>\n      <td>NaN</td>\n      <td>2.712638</td>\n    </tr>\n    <tr>\n      <th>N2_SouthWest</th>\n      <td>3.068054</td>\n      <td>3.296324</td>\n      <td>3.064762</td>\n      <td>3.074094</td>\n      <td>1.738708</td>\n      <td>1.688031</td>\n      <td>2.950882</td>\n      <td>2.843617</td>\n      <td>2.939252</td>\n      <td>2.980142</td>\n      <td>...</td>\n      <td>2.671994</td>\n      <td>2.671168</td>\n      <td>2.749545</td>\n      <td>2.667389</td>\n      <td>2.675703</td>\n      <td>2.675678</td>\n      <td>2.680071</td>\n      <td>2.657667</td>\n      <td>2.689097</td>\n      <td>NaN</td>\n    </tr>\n  </tbody>\n</table>\n<p>30 rows × 30 columns</p>\n</div>"
     },
     "execution_count": 11,
     "metadata": {},
     "output_type": "execute_result"
    }
   ],
   "source": [
    "# Print a full delay table for a scenario\n",
    "tt_delays[4].unstack()"
   ],
   "metadata": {
    "collapsed": false,
    "pycharm": {
     "name": "#%%\n"
    }
   }
  },
  {
   "cell_type": "markdown",
   "source": [
    "**To-do:**\n",
    " - DONE: Make start and end points human readable (for example, road_name + north or south for each source)\n",
    " - DONE: Check for which routes the largest increase in travel time takes place between routes\n",
    " - Create some nice tables, plots and/or graphs"
   ],
   "metadata": {
    "collapsed": false,
    "pycharm": {
     "name": "#%% md\n"
    }
   }
  }
 ],
 "metadata": {
  "kernelspec": {
   "display_name": "Python 3",
   "language": "python",
   "name": "python3"
  },
  "language_info": {
   "codemirror_mode": {
    "name": "ipython",
    "version": 2
   },
   "file_extension": ".py",
   "mimetype": "text/x-python",
   "name": "python",
   "nbconvert_exporter": "python",
   "pygments_lexer": "ipython2",
   "version": "2.7.6"
  }
 },
 "nbformat": 4,
 "nbformat_minor": 0
}