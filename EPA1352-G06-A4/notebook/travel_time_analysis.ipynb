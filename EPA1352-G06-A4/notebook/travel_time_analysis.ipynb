{
 "cells": [
  {
   "cell_type": "markdown",
   "metadata": {
    "collapsed": true,
    "pycharm": {
     "name": "#%% md\n"
    }
   },
   "source": [
    "## Travel time analysis"
   ]
  },
  {
   "cell_type": "code",
   "execution_count": 1,
   "outputs": [],
   "source": [
    "import pandas as pd\n",
    "import seaborn as sns\n",
    "import matplotlib.pyplot as plt\n",
    "import scipy.stats as st\n",
    "import numpy as np"
   ],
   "metadata": {
    "collapsed": false,
    "pycharm": {
     "name": "#%%\n"
    }
   }
  },
  {
   "cell_type": "markdown",
   "source": [
    "### Data reading"
   ],
   "metadata": {
    "collapsed": false,
    "pycharm": {
     "name": "#%% md\n"
    }
   }
  },
  {
   "cell_type": "code",
   "execution_count": 2,
   "outputs": [],
   "source": [
    "# Read in travel time results and SourceSink data\n",
    "scenarios = range(0,5)\n",
    "results = {}\n",
    "for s in scenarios:\n",
    "    results[s] = pd.read_csv(f\"../experiments/results_scenario_{s}.csv\", index_col=0)\n",
    "    results[s].drop(\"VehicleID\", axis=\"columns\", inplace=True)\n",
    "source_sinks = pd.read_csv(f\"../experiments/source_data.csv\", index_col=0)"
   ],
   "metadata": {
    "collapsed": false,
    "pycharm": {
     "name": "#%%\n"
    }
   }
  },
  {
   "cell_type": "code",
   "execution_count": 3,
   "outputs": [
    {
     "data": {
      "text/plain": "   Travel_Time       Startpoint  Endpoint\n0            6  SourceSink13034     13040\n1            6  SourceSink10000     11303\n2           12  SourceSink11303     12254\n3            9  SourceSink13012     13022\n4            9  SourceSink13022     13012",
      "text/html": "<div>\n<style scoped>\n    .dataframe tbody tr th:only-of-type {\n        vertical-align: middle;\n    }\n\n    .dataframe tbody tr th {\n        vertical-align: top;\n    }\n\n    .dataframe thead th {\n        text-align: right;\n    }\n</style>\n<table border=\"1\" class=\"dataframe\">\n  <thead>\n    <tr style=\"text-align: right;\">\n      <th></th>\n      <th>Travel_Time</th>\n      <th>Startpoint</th>\n      <th>Endpoint</th>\n    </tr>\n  </thead>\n  <tbody>\n    <tr>\n      <th>0</th>\n      <td>6</td>\n      <td>SourceSink13034</td>\n      <td>13040</td>\n    </tr>\n    <tr>\n      <th>1</th>\n      <td>6</td>\n      <td>SourceSink10000</td>\n      <td>11303</td>\n    </tr>\n    <tr>\n      <th>2</th>\n      <td>12</td>\n      <td>SourceSink11303</td>\n      <td>12254</td>\n    </tr>\n    <tr>\n      <th>3</th>\n      <td>9</td>\n      <td>SourceSink13012</td>\n      <td>13022</td>\n    </tr>\n    <tr>\n      <th>4</th>\n      <td>9</td>\n      <td>SourceSink13022</td>\n      <td>13012</td>\n    </tr>\n  </tbody>\n</table>\n</div>"
     },
     "metadata": {},
     "output_type": "display_data"
    },
    {
     "data": {
      "text/plain": "       Road               Coordinates\n10000    N1   (90.443333, 23.7060278)\n11302    N1   (92.298083, 20.8629167)\n11303    N2  (90.5214438, 23.7059167)\n12253    N2  (92.0176382, 25.1570556)\n12254  N105  (90.5466108, 23.6904163)",
      "text/html": "<div>\n<style scoped>\n    .dataframe tbody tr th:only-of-type {\n        vertical-align: middle;\n    }\n\n    .dataframe tbody tr th {\n        vertical-align: top;\n    }\n\n    .dataframe thead th {\n        text-align: right;\n    }\n</style>\n<table border=\"1\" class=\"dataframe\">\n  <thead>\n    <tr style=\"text-align: right;\">\n      <th></th>\n      <th>Road</th>\n      <th>Coordinates</th>\n    </tr>\n  </thead>\n  <tbody>\n    <tr>\n      <th>10000</th>\n      <td>N1</td>\n      <td>(90.443333, 23.7060278)</td>\n    </tr>\n    <tr>\n      <th>11302</th>\n      <td>N1</td>\n      <td>(92.298083, 20.8629167)</td>\n    </tr>\n    <tr>\n      <th>11303</th>\n      <td>N2</td>\n      <td>(90.5214438, 23.7059167)</td>\n    </tr>\n    <tr>\n      <th>12253</th>\n      <td>N2</td>\n      <td>(92.0176382, 25.1570556)</td>\n    </tr>\n    <tr>\n      <th>12254</th>\n      <td>N105</td>\n      <td>(90.5466108, 23.6904163)</td>\n    </tr>\n  </tbody>\n</table>\n</div>"
     },
     "metadata": {},
     "output_type": "display_data"
    }
   ],
   "source": [
    "display(results[4].head(5))\n",
    "display(source_sinks.head(5))"
   ],
   "metadata": {
    "collapsed": false,
    "pycharm": {
     "name": "#%%\n"
    }
   }
  },
  {
   "cell_type": "markdown",
   "source": [
    "### Global average travel time"
   ],
   "metadata": {
    "collapsed": false,
    "pycharm": {
     "name": "#%% md\n"
    }
   }
  },
  {
   "cell_type": "code",
   "execution_count": 4,
   "outputs": [
    {
     "name": "stdout",
     "output_type": "stream",
     "text": [
      "Average travel time (95% confidence interval) for scenario 0: 378.247 (377.586, 378.909), economic interval: 0.350%\n",
      "Average travel time (95% confidence interval) for scenario 1: 380.893 (380.225, 381.560), economic interval: 0.351%\n",
      "Average travel time (95% confidence interval) for scenario 2: 388.969 (387.015, 390.923), economic interval: 1.005%\n",
      "Average travel time (95% confidence interval) for scenario 3: 510.638 (507.942, 513.333), economic interval: 1.056%\n",
      "Average travel time (95% confidence interval) for scenario 4: 992.122 (990.269, 993.975), economic interval: 0.373%\n"
     ]
    },
    {
     "data": {
      "text/plain": "   Average (min)  Low bound (min)  High bound (min)  Interval range (min)  \\\n0     378.247130       377.585546        378.908714              1.323168   \n1     380.892805       380.225254        381.560357              1.335103   \n2     388.968883       387.014987        390.922779              3.907793   \n3     510.637547       507.942086        513.333008              5.390923   \n4     992.122083       990.269402        993.974764              3.705362   \n\n   Economic interval (%)  \n0               0.349816  \n1               0.350519  \n2               1.004654  \n3               1.055724  \n4               0.373478  ",
      "text/html": "<div>\n<style scoped>\n    .dataframe tbody tr th:only-of-type {\n        vertical-align: middle;\n    }\n\n    .dataframe tbody tr th {\n        vertical-align: top;\n    }\n\n    .dataframe thead th {\n        text-align: right;\n    }\n</style>\n<table border=\"1\" class=\"dataframe\">\n  <thead>\n    <tr style=\"text-align: right;\">\n      <th></th>\n      <th>Average (min)</th>\n      <th>Low bound (min)</th>\n      <th>High bound (min)</th>\n      <th>Interval range (min)</th>\n      <th>Economic interval (%)</th>\n    </tr>\n  </thead>\n  <tbody>\n    <tr>\n      <th>0</th>\n      <td>378.247130</td>\n      <td>377.585546</td>\n      <td>378.908714</td>\n      <td>1.323168</td>\n      <td>0.349816</td>\n    </tr>\n    <tr>\n      <th>1</th>\n      <td>380.892805</td>\n      <td>380.225254</td>\n      <td>381.560357</td>\n      <td>1.335103</td>\n      <td>0.350519</td>\n    </tr>\n    <tr>\n      <th>2</th>\n      <td>388.968883</td>\n      <td>387.014987</td>\n      <td>390.922779</td>\n      <td>3.907793</td>\n      <td>1.004654</td>\n    </tr>\n    <tr>\n      <th>3</th>\n      <td>510.637547</td>\n      <td>507.942086</td>\n      <td>513.333008</td>\n      <td>5.390923</td>\n      <td>1.055724</td>\n    </tr>\n    <tr>\n      <th>4</th>\n      <td>992.122083</td>\n      <td>990.269402</td>\n      <td>993.974764</td>\n      <td>3.705362</td>\n      <td>0.373478</td>\n    </tr>\n  </tbody>\n</table>\n</div>"
     },
     "execution_count": 4,
     "metadata": {},
     "output_type": "execute_result"
    }
   ],
   "source": [
    "#calculating 95% confidence intervals of the economic losses\n",
    "confidence = 0.95\n",
    "\n",
    "average = {}\n",
    "low_bound = {}\n",
    "high_bound = {}\n",
    "interval_range = {}\n",
    "economic_interval = {}\n",
    "\n",
    "for i in scenarios:\n",
    "    results_list = results[i][\"Travel_Time\"].tolist()\n",
    "    average[i] = np.mean(results_list)\n",
    "    low_bound[i], high_bound[i] = st.norm.interval(alpha=confidence, loc=average[i], scale=st.sem(results_list))\n",
    "    interval_range[i] = high_bound[i] - low_bound[i]\n",
    "    economic_interval[i] = interval_range[i] / average[i] * 100\n",
    "\n",
    "    print(f'Average travel time (95% confidence interval) for scenario {i}: {average[i]:.3f} ({low_bound[i]:.3f}, {high_bound[i]:.3f}), economic interval: {economic_interval[i]:.3f}%')\n",
    "\n",
    "df = pd.DataFrame({\n",
    "    \"Average (min)\": average,\n",
    "    \"Low bound (min)\": low_bound,\n",
    "    \"High bound (min)\": high_bound,\n",
    "    \"Interval range (min)\": interval_range,\n",
    "    \"Economic interval (%)\": economic_interval})\n",
    "df.to_csv(\"../results/travel_times.csv\", index_label=\"Scenario\")\n",
    "df"
   ],
   "metadata": {
    "collapsed": false,
    "pycharm": {
     "name": "#%%\n"
    }
   }
  },
  {
   "cell_type": "markdown",
   "source": [
    "### Average travel time per route"
   ],
   "metadata": {
    "collapsed": false,
    "pycharm": {
     "name": "#%% md\n"
    }
   }
  },
  {
   "cell_type": "code",
   "execution_count": 5,
   "outputs": [
    {
     "data": {
      "text/plain": "305.7307692307692"
     },
     "execution_count": 5,
     "metadata": {},
     "output_type": "execute_result"
    }
   ],
   "source": [
    "# Test for getting average travel time between two points\n",
    "df = results[3]\n",
    "dfi = df.loc[df['Startpoint'] == f'SourceSink{11303}']\n",
    "dfi2 = dfi.loc[dfi['Endpoint'] == 12800]\n",
    "dfi2[\"Travel_Time\"].mean()"
   ],
   "metadata": {
    "collapsed": false,
    "pycharm": {
     "name": "#%%\n"
    }
   }
  },
  {
   "cell_type": "code",
   "execution_count": 6,
   "outputs": [],
   "source": [
    "# Create lists of start and end points\n",
    "start_points = set([int(i.replace('SourceSink', '')) for i in results[2][\"Startpoint\"].tolist()])\n",
    "end_points = set(results[2][\"Endpoint\"].tolist())"
   ],
   "metadata": {
    "collapsed": false,
    "pycharm": {
     "name": "#%%\n"
    }
   }
  },
  {
   "cell_type": "code",
   "execution_count": 7,
   "outputs": [],
   "source": [
    "# For all scenarios, for all startpoints (sources) and for all endpoints (sinks), report the average travel time.\n",
    "tt_roads = {}\n",
    "for s, df in results.items():\n",
    "    tt_roads[s] = {}\n",
    "    for sp in start_points:\n",
    "        dfi = df.loc[df['Startpoint'] == f'SourceSink{sp}']\n",
    "        for ep in end_points:\n",
    "            dfi2 = dfi.loc[dfi['Endpoint'] == ep]\n",
    "            tt_roads[s][(sp,ep)] = dfi2[\"Travel_Time\"].mean()"
   ],
   "metadata": {
    "collapsed": false,
    "pycharm": {
     "name": "#%%\n"
    }
   }
  },
  {
   "cell_type": "code",
   "source": [
    "# Create dataframe and export to CSV\n",
    "df_tt_roads = pd.DataFrame.from_dict(tt_roads)\n",
    "df_tt_roads.to_csv(\"../results/travel_time_per_route.csv\")\n",
    "df_tt_roads"
   ],
   "metadata": {
    "collapsed": false,
    "pycharm": {
     "name": "#%%\n"
    }
   },
   "execution_count": 8,
   "outputs": [
    {
     "data": {
      "text/plain": "                 0           1           2            3            4\n12800 12800    NaN         NaN         NaN          NaN          NaN\n      10000  223.0  223.000000  242.222222   315.363636   643.069519\n      11302  781.0  798.721893  952.769231  1347.785714  2462.522124\n      11303  221.0  221.000000  233.368421   314.461538   640.137255\n      12354  261.0  261.000000  276.966667   342.800000   705.956790\n...            ...         ...         ...          ...          ...\n12799 12657  158.0  158.000000  163.000000   212.859155   411.198992\n      12656  191.0  191.000000  205.600000   285.160714   529.359712\n      12541  460.0  463.440181  502.750000   746.740000  1332.827982\n      12542  313.0  313.000000  334.924528   485.911765   850.087282\n      12799    NaN         NaN         NaN          NaN          NaN\n\n[900 rows x 5 columns]",
      "text/html": "<div>\n<style scoped>\n    .dataframe tbody tr th:only-of-type {\n        vertical-align: middle;\n    }\n\n    .dataframe tbody tr th {\n        vertical-align: top;\n    }\n\n    .dataframe thead th {\n        text-align: right;\n    }\n</style>\n<table border=\"1\" class=\"dataframe\">\n  <thead>\n    <tr style=\"text-align: right;\">\n      <th></th>\n      <th></th>\n      <th>0</th>\n      <th>1</th>\n      <th>2</th>\n      <th>3</th>\n      <th>4</th>\n    </tr>\n  </thead>\n  <tbody>\n    <tr>\n      <th rowspan=\"5\" valign=\"top\">12800</th>\n      <th>12800</th>\n      <td>NaN</td>\n      <td>NaN</td>\n      <td>NaN</td>\n      <td>NaN</td>\n      <td>NaN</td>\n    </tr>\n    <tr>\n      <th>10000</th>\n      <td>223.0</td>\n      <td>223.000000</td>\n      <td>242.222222</td>\n      <td>315.363636</td>\n      <td>643.069519</td>\n    </tr>\n    <tr>\n      <th>11302</th>\n      <td>781.0</td>\n      <td>798.721893</td>\n      <td>952.769231</td>\n      <td>1347.785714</td>\n      <td>2462.522124</td>\n    </tr>\n    <tr>\n      <th>11303</th>\n      <td>221.0</td>\n      <td>221.000000</td>\n      <td>233.368421</td>\n      <td>314.461538</td>\n      <td>640.137255</td>\n    </tr>\n    <tr>\n      <th>12354</th>\n      <td>261.0</td>\n      <td>261.000000</td>\n      <td>276.966667</td>\n      <td>342.800000</td>\n      <td>705.956790</td>\n    </tr>\n    <tr>\n      <th>...</th>\n      <th>...</th>\n      <td>...</td>\n      <td>...</td>\n      <td>...</td>\n      <td>...</td>\n      <td>...</td>\n    </tr>\n    <tr>\n      <th rowspan=\"5\" valign=\"top\">12799</th>\n      <th>12657</th>\n      <td>158.0</td>\n      <td>158.000000</td>\n      <td>163.000000</td>\n      <td>212.859155</td>\n      <td>411.198992</td>\n    </tr>\n    <tr>\n      <th>12656</th>\n      <td>191.0</td>\n      <td>191.000000</td>\n      <td>205.600000</td>\n      <td>285.160714</td>\n      <td>529.359712</td>\n    </tr>\n    <tr>\n      <th>12541</th>\n      <td>460.0</td>\n      <td>463.440181</td>\n      <td>502.750000</td>\n      <td>746.740000</td>\n      <td>1332.827982</td>\n    </tr>\n    <tr>\n      <th>12542</th>\n      <td>313.0</td>\n      <td>313.000000</td>\n      <td>334.924528</td>\n      <td>485.911765</td>\n      <td>850.087282</td>\n    </tr>\n    <tr>\n      <th>12799</th>\n      <td>NaN</td>\n      <td>NaN</td>\n      <td>NaN</td>\n      <td>NaN</td>\n      <td>NaN</td>\n    </tr>\n  </tbody>\n</table>\n<p>900 rows × 5 columns</p>\n</div>"
     },
     "execution_count": 8,
     "metadata": {},
     "output_type": "execute_result"
    }
   ]
  },
  {
   "cell_type": "markdown",
   "source": [
    "**To-do:**\n",
    " - Make start and end points human readable (for example, road_name + north or south for each source)\n",
    " - Check for which routes the largest increase in travel time takes place between routes\n",
    " - Create some nice plots and/or graphs"
   ],
   "metadata": {
    "collapsed": false,
    "pycharm": {
     "name": "#%% md\n"
    }
   }
  },
  {
   "cell_type": "code",
   "execution_count": 8,
   "outputs": [],
   "source": [],
   "metadata": {
    "collapsed": false,
    "pycharm": {
     "name": "#%%\n"
    }
   }
  }
 ],
 "metadata": {
  "kernelspec": {
   "display_name": "Python 3",
   "language": "python",
   "name": "python3"
  },
  "language_info": {
   "codemirror_mode": {
    "name": "ipython",
    "version": 2
   },
   "file_extension": ".py",
   "mimetype": "text/x-python",
   "name": "python",
   "nbconvert_exporter": "python",
   "pygments_lexer": "ipython2",
   "version": "2.7.6"
  }
 },
 "nbformat": 4,
 "nbformat_minor": 0
}