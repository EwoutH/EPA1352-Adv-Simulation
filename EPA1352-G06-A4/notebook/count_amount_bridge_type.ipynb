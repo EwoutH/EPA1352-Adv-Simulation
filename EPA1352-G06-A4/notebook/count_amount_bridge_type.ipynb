{
 "cells": [
  {
   "cell_type": "code",
   "execution_count": 57,
   "metadata": {
    "collapsed": true
   },
   "outputs": [],
   "source": [
    "import pandas as pd"
   ]
  },
  {
   "cell_type": "code",
   "execution_count": 2,
   "outputs": [
    {
     "data": {
      "text/plain": "   Unnamed: 0  length condition        lat        lon intersection  \\\n0           0     4.0       NaN  23.706028  90.443333          NaN   \n1           1  1800.0       NaN  23.702383  90.451097            0   \n2           2    11.3         A  23.698739  90.458861          NaN   \n3           3  3125.0       NaN  23.696701  90.473318            0   \n4           4     6.6         A  23.694664  90.487775          NaN   \n\n   model_type     id road  name  \n0  sourcesink  10000   N1   NaN  \n1        link  10001   N1   NaN  \n2      bridge  10002   N1   NaN  \n3        link  10003   N1   NaN  \n4      bridge  10004   N1   NaN  ",
      "text/html": "<div>\n<style scoped>\n    .dataframe tbody tr th:only-of-type {\n        vertical-align: middle;\n    }\n\n    .dataframe tbody tr th {\n        vertical-align: top;\n    }\n\n    .dataframe thead th {\n        text-align: right;\n    }\n</style>\n<table border=\"1\" class=\"dataframe\">\n  <thead>\n    <tr style=\"text-align: right;\">\n      <th></th>\n      <th>Unnamed: 0</th>\n      <th>length</th>\n      <th>condition</th>\n      <th>lat</th>\n      <th>lon</th>\n      <th>intersection</th>\n      <th>model_type</th>\n      <th>id</th>\n      <th>road</th>\n      <th>name</th>\n    </tr>\n  </thead>\n  <tbody>\n    <tr>\n      <th>0</th>\n      <td>0</td>\n      <td>4.0</td>\n      <td>NaN</td>\n      <td>23.706028</td>\n      <td>90.443333</td>\n      <td>NaN</td>\n      <td>sourcesink</td>\n      <td>10000</td>\n      <td>N1</td>\n      <td>NaN</td>\n    </tr>\n    <tr>\n      <th>1</th>\n      <td>1</td>\n      <td>1800.0</td>\n      <td>NaN</td>\n      <td>23.702383</td>\n      <td>90.451097</td>\n      <td>0</td>\n      <td>link</td>\n      <td>10001</td>\n      <td>N1</td>\n      <td>NaN</td>\n    </tr>\n    <tr>\n      <th>2</th>\n      <td>2</td>\n      <td>11.3</td>\n      <td>A</td>\n      <td>23.698739</td>\n      <td>90.458861</td>\n      <td>NaN</td>\n      <td>bridge</td>\n      <td>10002</td>\n      <td>N1</td>\n      <td>NaN</td>\n    </tr>\n    <tr>\n      <th>3</th>\n      <td>3</td>\n      <td>3125.0</td>\n      <td>NaN</td>\n      <td>23.696701</td>\n      <td>90.473318</td>\n      <td>0</td>\n      <td>link</td>\n      <td>10003</td>\n      <td>N1</td>\n      <td>NaN</td>\n    </tr>\n    <tr>\n      <th>4</th>\n      <td>4</td>\n      <td>6.6</td>\n      <td>A</td>\n      <td>23.694664</td>\n      <td>90.487775</td>\n      <td>NaN</td>\n      <td>bridge</td>\n      <td>10004</td>\n      <td>N1</td>\n      <td>NaN</td>\n    </tr>\n  </tbody>\n</table>\n</div>"
     },
     "execution_count": 2,
     "metadata": {},
     "output_type": "execute_result"
    }
   ],
   "source": [
    "df = pd.read_csv('../data/df_road_N1andN2.csv')\n",
    "df.head()"
   ],
   "metadata": {
    "collapsed": false,
    "pycharm": {
     "name": "#%%\n"
    }
   }
  },
  {
   "cell_type": "code",
   "execution_count": 59,
   "outputs": [],
   "source": [
    "bridge_condition_per_road = df.groupby(by = 'road', dropna= True)['condition'].value_counts()\n",
    "bridge_condition_per_road.name='amount'\n",
    "bridge_condition_per_road.to_csv('Amount of bridges type per road.csv')"
   ],
   "metadata": {
    "collapsed": false,
    "pycharm": {
     "name": "#%%\n"
    }
   }
  },
  {
   "cell_type": "code",
   "execution_count": null,
   "outputs": [],
   "source": [],
   "metadata": {
    "collapsed": false,
    "pycharm": {
     "name": "#%%\n"
    }
   }
  }
 ],
 "metadata": {
  "kernelspec": {
   "display_name": "Python 3",
   "language": "python",
   "name": "python3"
  },
  "language_info": {
   "codemirror_mode": {
    "name": "ipython",
    "version": 2
   },
   "file_extension": ".py",
   "mimetype": "text/x-python",
   "name": "python",
   "nbconvert_exporter": "python",
   "pygments_lexer": "ipython2",
   "version": "2.7.6"
  }
 },
 "nbformat": 4,
 "nbformat_minor": 0
}