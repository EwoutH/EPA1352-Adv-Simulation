{
 "cells": [
  {
   "cell_type": "code",
   "execution_count": 102,
   "id": "13de5885-a2d0-42cc-b3a8-7ac8e5469713",
   "metadata": {},
   "outputs": [],
   "source": [
    "import pandas as pd\n",
    "import numpy as np\n",
    "import math"
   ]
  },
  {
   "cell_type": "markdown",
   "id": "12b26e19-723e-4640-a21e-4b20fab681a2",
   "metadata": {},
   "source": [
    "## Bridges"
   ]
  },
  {
   "cell_type": "code",
   "execution_count": 103,
   "id": "1afa51e9-4e76-47e8-9635-ac823ed87fd8",
   "metadata": {},
   "outputs": [],
   "source": [
    "bridges = pd.read_excel('../data/BMMS_overview.xlsx')"
   ]
  },
  {
   "cell_type": "code",
   "execution_count": 104,
   "id": "f19f2cf3-516b-4cce-8463-d055db0a749d",
   "metadata": {},
   "outputs": [],
   "source": [
    "bridges = bridges[(bridges['road'].str.contains(pat = ('N1'), regex = False)) | (bridges['road'].str.contains(pat = ('N2'), regex = False))]"
   ]
  },
  {
   "cell_type": "code",
   "execution_count": 105,
   "id": "e4e1c867-b900-44db-b021-73c3353435e5",
   "metadata": {},
   "outputs": [],
   "source": [
    "# Define bridge length bins and labels\n",
    "length_bins = [0, 10, 50, 200, math.inf]\n",
    "length_labels = ['S', 'M', 'L', 'XL']\n",
    "\n",
    "# Categorize bridges per length class\n",
    "bridges[\"length_class\"] = pd.cut(bridges[\"length\"], bins=length_bins, include_lowest=False, right=False, labels=length_labels)"
   ]
  },
  {
   "cell_type": "code",
   "execution_count": 106,
   "id": "b53fbb1b-4c47-4289-9387-f389880fc811",
   "metadata": {},
   "outputs": [],
   "source": [
    "# Keep only useful columns\n",
    "keep_columns = ['road', 'lat', 'lon', 'length', 'condition', 'name', 'LRPName', 'chainage', 'km']\n",
    "bridges = bridges[keep_columns]"
   ]
  },
  {
   "cell_type": "code",
   "execution_count": 107,
   "id": "4cfc635d-cc56-4de7-a6f4-611778e523bf",
   "metadata": {},
   "outputs": [
    {
     "name": "stderr",
     "output_type": "stream",
     "text": [
      "/Users/timofrazer/opt/anaconda3/lib/python3.8/site-packages/pandas/core/strings/accessor.py:101: UserWarning: This pattern has match groups. To actually get the groups, use str.extract.\n",
      "  return func(self, *args, **kwargs)\n"
     ]
    }
   ],
   "source": [
    "# Filters out all variations of (R), (Right), (  R  ), etc.\n",
    "patternDel = \"\\(\\s*[a-zA-Z]*(R|r)[a-zA-Z]*\\s*\\)\"\n",
    "filter = bridges['name'].str.contains(patternDel)\n",
    "bridges = bridges[~filter]"
   ]
  },
  {
   "cell_type": "code",
   "execution_count": 108,
   "id": "872cfe00-edd1-414c-b5b9-b74f963592f7",
   "metadata": {},
   "outputs": [],
   "source": [
    "# Calculate distance between bridges\n",
    "bridges1 = bridges.copy()\n",
    "bridges1[\"dist\"] = bridges1[\"km\"].diff()\n",
    "\n",
    "# Drop all bridges that are closer to the previous bridge then their own length\n",
    "bridges = bridges.loc[bridges1[\"dist\"]*1000 >= bridges[\"length\"]]"
   ]
  },
  {
   "cell_type": "code",
   "execution_count": 109,
   "id": "3458fc2c-a503-4b2d-844b-71d08e0e09f7",
   "metadata": {},
   "outputs": [],
   "source": [
    "bridges['model_type'] = 'bridge'"
   ]
  },
  {
   "cell_type": "code",
   "execution_count": 110,
   "id": "5f341b0d-1c1c-4e0e-a2f8-2149e22a0ebb",
   "metadata": {},
   "outputs": [
    {
     "name": "stdout",
     "output_type": "stream",
     "text": [
      "<class 'pandas.core.frame.DataFrame'>\n",
      "Int64Index: 1763 entries, 1 to 19507\n",
      "Data columns (total 10 columns):\n",
      " #   Column      Non-Null Count  Dtype  \n",
      "---  ------      --------------  -----  \n",
      " 0   road        1763 non-null   object \n",
      " 1   lat         1763 non-null   float64\n",
      " 2   lon         1763 non-null   float64\n",
      " 3   length      1763 non-null   float64\n",
      " 4   condition   1763 non-null   object \n",
      " 5   name        1763 non-null   object \n",
      " 6   LRPName     1763 non-null   object \n",
      " 7   chainage    1763 non-null   float64\n",
      " 8   km          1763 non-null   float64\n",
      " 9   model_type  1763 non-null   object \n",
      "dtypes: float64(5), object(5)\n",
      "memory usage: 151.5+ KB\n"
     ]
    }
   ],
   "source": [
    "bridges.info()"
   ]
  },
  {
   "cell_type": "markdown",
   "id": "e7c13e26-9ca9-4259-bf57-b1b447774ca6",
   "metadata": {},
   "source": [
    "## Roads"
   ]
  },
  {
   "cell_type": "code",
   "execution_count": 111,
   "id": "0b1bd39b-ff32-467f-8df4-9e9a65b68c97",
   "metadata": {},
   "outputs": [],
   "source": [
    "roads = pd.read_csv('../data/_roads3.csv')\n",
    "roads = roads.rename(columns = {'lrp':'LRPName'})\n",
    "roads = roads[[\"road\", \"chainage\", \"LRPName\", \"lat\", \"lon\", \"name\"]]\n",
    "length = (roads['chainage'] - roads['chainage'].shift(-1)).abs()\n",
    "roads['length'] = (length * 1000)\n",
    "roads.drop(roads.tail(1).index, inplace=True)\n",
    "roads.reset_index()\n",
    "roads['model_type'] = 'link'"
   ]
  },
  {
   "cell_type": "code",
   "execution_count": 112,
   "id": "e8d7f995-d49c-4a66-9297-c2fc99669de2",
   "metadata": {},
   "outputs": [],
   "source": [
    "roads = roads[(roads['road'].str.contains(pat = ('N1'), regex = False)) | (roads['road'].str.contains(pat = ('N2'), regex = False))]"
   ]
  },
  {
   "cell_type": "code",
   "execution_count": 113,
   "id": "9c3f95d2-5d14-497a-bb94-2c05cc564faf",
   "metadata": {},
   "outputs": [],
   "source": [
    "short_roads = roads[(roads['length'] < 25) & (roads['road'] != 'N1') & (roads['road'] != 'N2')].index"
   ]
  },
  {
   "cell_type": "code",
   "execution_count": 114,
   "id": "929082e2-1cc7-4d1f-9824-4e4d25b89cae",
   "metadata": {},
   "outputs": [],
   "source": [
    "roads = roads.drop(short_roads)"
   ]
  },
  {
   "cell_type": "code",
   "execution_count": 115,
   "id": "f20b2d26-e9b4-48c5-a983-2098f4e6a54f",
   "metadata": {},
   "outputs": [
    {
     "data": {
      "text/plain": [
       "array(['N101', 'N102', 'N103', 'N104', 'N105', 'N106', 'N107', 'N108',\n",
       "       'N109', 'N110', 'N111', 'N112', 'N119', 'N120', 'N123', 'N128',\n",
       "       'N129', 'N203', 'N204', 'N205', 'N206', 'N207', 'N208', 'N209',\n",
       "       'N210'], dtype=object)"
      ]
     },
     "execution_count": 115,
     "metadata": {},
     "output_type": "execute_result"
    }
   ],
   "source": [
    "# Delete N1 and N2 from the list\n",
    "roadslist = roads['road'].unique()\n",
    "roadslist = np.delete(roadslist, 0)\n",
    "roadslist = np.delete(roadslist, 17)\n",
    "roadslist"
   ]
  },
  {
   "cell_type": "code",
   "execution_count": 116,
   "id": "9cb57495-869b-483d-a930-457afbfbcc5a",
   "metadata": {},
   "outputs": [],
   "source": [
    "firstroad = []\n",
    "for i in roadslist:\n",
    "    firstroad.append(roads[roads['road'] == i].iloc[:1].index.values.tolist())"
   ]
  },
  {
   "cell_type": "code",
   "execution_count": 117,
   "id": "ee305994-9c20-490a-8d1f-be5c2c6ba299",
   "metadata": {},
   "outputs": [],
   "source": [
    "for y in firstroad:\n",
    "    roads.at[y,'model_type'] = 'intersection'"
   ]
  },
  {
   "cell_type": "code",
   "execution_count": 118,
   "id": "1b0f33de-e12a-4d63-b9bb-4f911efa51f6",
   "metadata": {},
   "outputs": [],
   "source": [
    "lastroad = []\n",
    "for z in roadslist:\n",
    "    lastroad.append(roads[roads['road'] == z].iloc[-1:].index.values.tolist())"
   ]
  },
  {
   "cell_type": "code",
   "execution_count": 119,
   "id": "089c2bc7-df93-4ccb-b491-d922add461c5",
   "metadata": {},
   "outputs": [],
   "source": [
    "for w in lastroad:\n",
    "    roads.at[w,'model_type'] = 'sourcesink'"
   ]
  },
  {
   "cell_type": "code",
   "execution_count": 120,
   "id": "98d4c2a3-952b-4b8a-8a12-504949d31a04",
   "metadata": {},
   "outputs": [],
   "source": [
    "roads.loc[(roads.road == 'N1') & (roads.LRPName == 'LRPS'), ['model_type']] = 'sourcesink'\n",
    "roads.loc[(roads.road == 'N1') & (roads.LRPName == 'LRPE'), ['model_type']] = 'sourcesink'"
   ]
  },
  {
   "cell_type": "code",
   "execution_count": 121,
   "id": "e78e4599-ff00-423a-8176-a664f677fe76",
   "metadata": {},
   "outputs": [],
   "source": [
    "roads.loc[(roads.road == 'N2') & (roads.LRPName == 'LRPS'), ['model_type']] = 'intersection'\n",
    "roads.loc[(roads.road == 'N2') & (roads.LRPName == 'LRPE'), ['model_type']] = 'sourcesink'"
   ]
  },
  {
   "cell_type": "code",
   "execution_count": 122,
   "id": "00ee14b7-b542-4de5-86a7-f62cd61c4dc6",
   "metadata": {},
   "outputs": [],
   "source": [
    "Changelist = ['N109','N129','N123','N120','N102','N104','N207','N208','N206','N103','N210','N205','N107','N204','N103','N209', 'N205']\n",
    "for i in Changelist:\n",
    "    roads.loc[(roads.road == i) & (roads.LRPName == 'LRPE'), ['model_type']] = 'intersection'"
   ]
  },
  {
   "cell_type": "code",
   "execution_count": 123,
   "id": "5a42cbb7-a083-447d-b208-daf59fb99482",
   "metadata": {},
   "outputs": [],
   "source": [
    "roads.loc[(roads.road == 'N119') & (roads.LRPName == 'LRP002a'), ['model_type']] = 'intersection'\n",
    "roads.loc[(roads.road == 'N104') & (roads.LRPName == 'LRPE'), ['model_type']] = 'sourcesink'\n",
    "roads.loc[(roads.road == 'N107') & (roads.LRPName == 'LRPS'), ['model_type']] = 'sourcesink'"
   ]
  },
  {
   "cell_type": "markdown",
   "id": "5b13dd60-5bd3-43fc-9633-cb000bfbf4bf",
   "metadata": {},
   "source": [
    "## Mergen"
   ]
  },
  {
   "cell_type": "code",
   "execution_count": 124,
   "id": "1d5fd669-c8a3-4c04-a7b8-bdbb67b8d9d0",
   "metadata": {},
   "outputs": [],
   "source": [
    "merged = pd.merge(roads, bridges, how = 'outer', on = [\"road\", \"LRPName\", \"length\", \"lat\", \"lon\", \"model_type\", \"chainage\", \"name\"])\n",
    "merged = merged.sort_values(by = ['lat', 'lon'])\n",
    "merged.reset_index()\n",
    "merged.insert(0, 'id', range(0, len(merged)))\n",
    "merged = merged[[\"id\", \"road\", \"name\", \"lat\", \"lon\", \"model_type\", \"chainage\", \"LRPName\", \"length\", \"condition\"]]\n",
    "\n",
    "# merged.to_csv(\"../data/A3_data_clean.csv\", index = False)"
   ]
  },
  {
   "cell_type": "code",
   "execution_count": 125,
   "id": "16adee2b-ade2-4f98-b276-c78772fc060a",
   "metadata": {},
   "outputs": [],
   "source": [
    "intersection = merged[merged['model_type'] == 'intersection']"
   ]
  },
  {
   "cell_type": "code",
   "execution_count": 126,
   "id": "91ccaa0a-ba18-47ba-8319-3eca113c5ec7",
   "metadata": {},
   "outputs": [
    {
     "data": {
      "text/plain": [
       "Int64Index([2099, 2098, 2089, 2017, 2016, 2130, 2267, 2259, 2253, 2252, 2234,\n",
       "            2233, 1339, 2187, 1353, 2183, 1668, 2268, 1548, 1558],\n",
       "           dtype='int64')"
      ]
     },
     "execution_count": 126,
     "metadata": {},
     "output_type": "execute_result"
    }
   ],
   "source": [
    "intersectlist = intersection[(intersection['name'].str.contains(pat = ('N1'), regex = False))].index\n",
    "intersectlist"
   ]
  },
  {
   "cell_type": "code",
   "execution_count": 127,
   "id": "ebd75842-2874-463c-b18b-6a9085760b83",
   "metadata": {},
   "outputs": [],
   "source": [
    "for y in intersectlist:\n",
    "    intersection.at[y,'road'] = 'N1'"
   ]
  },
  {
   "cell_type": "code",
   "execution_count": 128,
   "id": "29a36493-ce19-44b2-a814-2619dd5bbb4c",
   "metadata": {},
   "outputs": [
    {
     "data": {
      "text/plain": [
       "Int64Index([3154, 3159, 3247, 3262, 3417, 3416, 3630, 3586, 3587, 3254, 3593,\n",
       "            3253, 3261, 3594],\n",
       "           dtype='int64')"
      ]
     },
     "execution_count": 128,
     "metadata": {},
     "output_type": "execute_result"
    }
   ],
   "source": [
    "intersectlistN2 = intersection[(intersection['name'].str.contains(pat = ('N2'), regex = False))].index\n",
    "intersectlistN2"
   ]
  },
  {
   "cell_type": "code",
   "execution_count": 129,
   "id": "67ac9139-58df-44a0-ad7a-ad31ccbf17ff",
   "metadata": {},
   "outputs": [],
   "source": [
    "for y in intersectlistN2:\n",
    "    intersection.at[y,'road'] = 'N2'"
   ]
  },
  {
   "cell_type": "code",
   "execution_count": 130,
   "id": "9ba829d7-fdc8-4e44-9806-31c72abce362",
   "metadata": {},
   "outputs": [
    {
     "name": "stderr",
     "output_type": "stream",
     "text": [
      "<ipython-input-130-076838185f2b>:1: SettingWithCopyWarning: \n",
      "A value is trying to be set on a copy of a slice from a DataFrame\n",
      "\n",
      "See the caveats in the documentation: https://pandas.pydata.org/pandas-docs/stable/user_guide/indexing.html#returning-a-view-versus-a-copy\n",
      "  intersection['road'][2176] = 'N1'\n",
      "/Users/timofrazer/opt/anaconda3/lib/python3.8/site-packages/pandas/core/indexing.py:692: SettingWithCopyWarning: \n",
      "A value is trying to be set on a copy of a slice from a DataFrame\n",
      "\n",
      "See the caveats in the documentation: https://pandas.pydata.org/pandas-docs/stable/user_guide/indexing.html#returning-a-view-versus-a-copy\n",
      "  iloc._setitem_with_indexer(indexer, value, self.name)\n",
      "/Users/timofrazer/opt/anaconda3/lib/python3.8/site-packages/IPython/core/interactiveshell.py:3437: SettingWithCopyWarning: \n",
      "A value is trying to be set on a copy of a slice from a DataFrame\n",
      "\n",
      "See the caveats in the documentation: https://pandas.pydata.org/pandas-docs/stable/user_guide/indexing.html#returning-a-view-versus-a-copy\n",
      "  exec(code_obj, self.user_global_ns, self.user_ns)\n",
      "<ipython-input-130-076838185f2b>:2: SettingWithCopyWarning: \n",
      "A value is trying to be set on a copy of a slice from a DataFrame\n",
      "\n",
      "See the caveats in the documentation: https://pandas.pydata.org/pandas-docs/stable/user_guide/indexing.html#returning-a-view-versus-a-copy\n",
      "  intersection['road'][1547] = 'N2'\n",
      "<ipython-input-130-076838185f2b>:3: SettingWithCopyWarning: \n",
      "A value is trying to be set on a copy of a slice from a DataFrame\n",
      "\n",
      "See the caveats in the documentation: https://pandas.pydata.org/pandas-docs/stable/user_guide/indexing.html#returning-a-view-versus-a-copy\n",
      "  intersection['road'][1559] = 'N1'\n",
      "<ipython-input-130-076838185f2b>:4: SettingWithCopyWarning: \n",
      "A value is trying to be set on a copy of a slice from a DataFrame\n",
      "\n",
      "See the caveats in the documentation: https://pandas.pydata.org/pandas-docs/stable/user_guide/indexing.html#returning-a-view-versus-a-copy\n",
      "  intersection['road'][1784] = 'N1'\n",
      "<ipython-input-130-076838185f2b>:5: SettingWithCopyWarning: \n",
      "A value is trying to be set on a copy of a slice from a DataFrame\n",
      "\n",
      "See the caveats in the documentation: https://pandas.pydata.org/pandas-docs/stable/user_guide/indexing.html#returning-a-view-versus-a-copy\n",
      "  intersection['road'][3418] = 'N207'\n",
      "<ipython-input-130-076838185f2b>:6: SettingWithCopyWarning: \n",
      "A value is trying to be set on a copy of a slice from a DataFrame\n",
      "\n",
      "See the caveats in the documentation: https://pandas.pydata.org/pandas-docs/stable/user_guide/indexing.html#returning-a-view-versus-a-copy\n",
      "  intersection['road'][1558] = 'N102'\n",
      "<ipython-input-130-076838185f2b>:7: SettingWithCopyWarning: \n",
      "A value is trying to be set on a copy of a slice from a DataFrame\n",
      "\n",
      "See the caveats in the documentation: https://pandas.pydata.org/pandas-docs/stable/user_guide/indexing.html#returning-a-view-versus-a-copy\n",
      "  intersection['road'][1548] = 'N102'\n",
      "<ipython-input-130-076838185f2b>:8: SettingWithCopyWarning: \n",
      "A value is trying to be set on a copy of a slice from a DataFrame\n",
      "\n",
      "See the caveats in the documentation: https://pandas.pydata.org/pandas-docs/stable/user_guide/indexing.html#returning-a-view-versus-a-copy\n",
      "  intersection['road'][3254] = 'N208'\n",
      "<ipython-input-130-076838185f2b>:9: SettingWithCopyWarning: \n",
      "A value is trying to be set on a copy of a slice from a DataFrame\n",
      "\n",
      "See the caveats in the documentation: https://pandas.pydata.org/pandas-docs/stable/user_guide/indexing.html#returning-a-view-versus-a-copy\n",
      "  intersection['road'][3631] = 'N208'\n",
      "<ipython-input-130-076838185f2b>:10: SettingWithCopyWarning: \n",
      "A value is trying to be set on a copy of a slice from a DataFrame\n",
      "\n",
      "See the caveats in the documentation: https://pandas.pydata.org/pandas-docs/stable/user_guide/indexing.html#returning-a-view-versus-a-copy\n",
      "  intersection['road'][3249] = 'N2'\n",
      "<ipython-input-130-076838185f2b>:11: SettingWithCopyWarning: \n",
      "A value is trying to be set on a copy of a slice from a DataFrame\n",
      "\n",
      "See the caveats in the documentation: https://pandas.pydata.org/pandas-docs/stable/user_guide/indexing.html#returning-a-view-versus-a-copy\n",
      "  intersection['road'][2187] = 'N1'\n",
      "<ipython-input-130-076838185f2b>:12: SettingWithCopyWarning: \n",
      "A value is trying to be set on a copy of a slice from a DataFrame\n",
      "\n",
      "See the caveats in the documentation: https://pandas.pydata.org/pandas-docs/stable/user_guide/indexing.html#returning-a-view-versus-a-copy\n",
      "  intersection['road'][1339] = 'N120'\n"
     ]
    }
   ],
   "source": [
    "intersection['road'][2176] = 'N1'\n",
    "intersection['road'][1547] = 'N2'\n",
    "intersection['road'][1559] = 'N1'\n",
    "intersection['road'][1784] = 'N1'\n",
    "intersection['road'][3418] = 'N207'\n",
    "intersection['road'][1558] = 'N102'\n",
    "intersection['road'][1548] = 'N102'\n",
    "intersection['road'][3254] = 'N208'\n",
    "intersection['road'][3631] = 'N208'\n",
    "intersection['road'][3249] = 'N2'\n",
    "intersection['road'][2187] = 'N1'\n",
    "intersection['road'][1339] = 'N120'"
   ]
  },
  {
   "cell_type": "code",
   "execution_count": 131,
   "id": "cc110899-f9c7-4926-a86e-1c3a1876325a",
   "metadata": {},
   "outputs": [],
   "source": [
    "full_merged = pd.merge(merged, intersection, how = 'outer', on = [\"id\", \"road\", \"LRPName\", \"length\", \"lat\", \"lon\", \"model_type\", \"chainage\", \"name\", \"condition\"])\n",
    "full_merged = full_merged.sort_values(by = ['lat', 'lon'])\n",
    "full_merged.reset_index()\n",
    "full_merged = full_merged[[\"id\", \"road\", \"name\", \"lat\", \"lon\", \"model_type\", \"chainage\", \"LRPName\", \"length\", \"condition\"]]"
   ]
  },
  {
   "cell_type": "code",
   "execution_count": 132,
   "id": "e411cd9f-d3cc-4de7-a87a-e8a256ebeaea",
   "metadata": {},
   "outputs": [],
   "source": [
    "full_merged.to_csv(\"../data/A3_data_clean.csv\", index = False)"
   ]
  },
  {
   "cell_type": "code",
   "execution_count": null,
   "id": "ba42c519-72a3-4258-9686-35185a1650e0",
   "metadata": {},
   "outputs": [],
   "source": []
  },
  {
   "cell_type": "code",
   "execution_count": null,
   "id": "7fd11e6c-ebea-418d-92a5-5755876e6fef",
   "metadata": {},
   "outputs": [],
   "source": []
  },
  {
   "cell_type": "code",
   "execution_count": null,
   "id": "bf3977a2-02e7-4478-b0c0-862b6137f48e",
   "metadata": {},
   "outputs": [],
   "source": [
    "roads.info()"
   ]
  }
 ],
 "metadata": {
  "kernelspec": {
   "display_name": "Python 3",
   "language": "python",
   "name": "python3"
  },
  "language_info": {
   "codemirror_mode": {
    "name": "ipython",
    "version": 3
   },
   "file_extension": ".py",
   "mimetype": "text/x-python",
   "name": "python",
   "nbconvert_exporter": "python",
   "pygments_lexer": "ipython3",
   "version": "3.8.8"
  }
 },
 "nbformat": 4,
 "nbformat_minor": 5
}
