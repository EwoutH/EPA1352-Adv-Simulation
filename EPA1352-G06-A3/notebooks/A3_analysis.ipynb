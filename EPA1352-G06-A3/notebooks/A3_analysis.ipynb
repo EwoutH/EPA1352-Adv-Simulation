{
 "cells": [
  {
   "cell_type": "markdown",
   "source": [],
   "metadata": {
    "collapsed": false,
    "pycharm": {
     "name": "#%% md\n"
    }
   }
  },
  {
   "cell_type": "code",
   "execution_count": 1,
   "metadata": {
    "collapsed": true
   },
   "outputs": [],
   "source": [
    "import pandas as pd\n",
    "import seaborn as sns\n",
    "import matplotlib.pyplot as plt\n",
    "import scipy.stats as st\n",
    "import numpy as np"
   ]
  },
  {
   "cell_type": "code",
   "execution_count": 2,
   "outputs": [
    {
     "data": {
      "text/plain": "       Scenario  Travel_Time\n0             A           21\n1             A           21\n2             A           21\n3             A           21\n4             A           39\n...         ...          ...\n194872        A          107\n194873        A         1054\n194874        A          709\n194875        A          234\n194876        A          124\n\n[194877 rows x 2 columns]",
      "text/html": "<div>\n<style scoped>\n    .dataframe tbody tr th:only-of-type {\n        vertical-align: middle;\n    }\n\n    .dataframe tbody tr th {\n        vertical-align: top;\n    }\n\n    .dataframe thead th {\n        text-align: right;\n    }\n</style>\n<table border=\"1\" class=\"dataframe\">\n  <thead>\n    <tr style=\"text-align: right;\">\n      <th></th>\n      <th>Scenario</th>\n      <th>Travel_Time</th>\n    </tr>\n  </thead>\n  <tbody>\n    <tr>\n      <th>0</th>\n      <td>A</td>\n      <td>21</td>\n    </tr>\n    <tr>\n      <th>1</th>\n      <td>A</td>\n      <td>21</td>\n    </tr>\n    <tr>\n      <th>2</th>\n      <td>A</td>\n      <td>21</td>\n    </tr>\n    <tr>\n      <th>3</th>\n      <td>A</td>\n      <td>21</td>\n    </tr>\n    <tr>\n      <th>4</th>\n      <td>A</td>\n      <td>39</td>\n    </tr>\n    <tr>\n      <th>...</th>\n      <td>...</td>\n      <td>...</td>\n    </tr>\n    <tr>\n      <th>194872</th>\n      <td>A</td>\n      <td>107</td>\n    </tr>\n    <tr>\n      <th>194873</th>\n      <td>A</td>\n      <td>1054</td>\n    </tr>\n    <tr>\n      <th>194874</th>\n      <td>A</td>\n      <td>709</td>\n    </tr>\n    <tr>\n      <th>194875</th>\n      <td>A</td>\n      <td>234</td>\n    </tr>\n    <tr>\n      <th>194876</th>\n      <td>A</td>\n      <td>124</td>\n    </tr>\n  </tbody>\n</table>\n<p>194877 rows × 2 columns</p>\n</div>"
     },
     "execution_count": 2,
     "metadata": {},
     "output_type": "execute_result"
    }
   ],
   "source": [
    "results = pd.read_csv(f\"../experiments/scenario{0}_timo.csv\")\n",
    "dfi = results[[\"Travel_Time\"]]\n",
    "dfi.insert(0, 'Scenario', 'A')\n",
    "dfi"
   ],
   "metadata": {
    "collapsed": false,
    "pycharm": {
     "name": "#%%\n"
    }
   }
  },
  {
   "cell_type": "code",
   "execution_count": 3,
   "outputs": [],
   "source": [
    "results = {}\n",
    "results_df = pd.DataFrame(columns=[\"Scenario\", \"Travel_Time\"])\n",
    "\n",
    "scenarios = [\"A\", \"B\", \"C\", \"D\"]\n",
    "\n",
    "for i, scen in enumerate(scenarios):\n",
    "    results[scen] = pd.read_csv(f\"../experiments/scenario{i}_timo.csv\")\n",
    "    dfi = results[scen][[\"Travel_Time\"]]\n",
    "    dfi.insert(0, 'Scenario', scen)\n",
    "    results_df = pd.concat([results_df, dfi])\n",
    "results_df = results_df.reset_index(drop=True)"
   ],
   "metadata": {
    "collapsed": false,
    "pycharm": {
     "name": "#%%\n"
    }
   }
  },
  {
   "cell_type": "code",
   "execution_count": 4,
   "outputs": [
    {
     "data": {
      "text/plain": "  Scenario Travel_Time\n0        A          21\n1        A          21\n2        A          21\n3        A          21\n4        A          39",
      "text/html": "<div>\n<style scoped>\n    .dataframe tbody tr th:only-of-type {\n        vertical-align: middle;\n    }\n\n    .dataframe tbody tr th {\n        vertical-align: top;\n    }\n\n    .dataframe thead th {\n        text-align: right;\n    }\n</style>\n<table border=\"1\" class=\"dataframe\">\n  <thead>\n    <tr style=\"text-align: right;\">\n      <th></th>\n      <th>Scenario</th>\n      <th>Travel_Time</th>\n    </tr>\n  </thead>\n  <tbody>\n    <tr>\n      <th>0</th>\n      <td>A</td>\n      <td>21</td>\n    </tr>\n    <tr>\n      <th>1</th>\n      <td>A</td>\n      <td>21</td>\n    </tr>\n    <tr>\n      <th>2</th>\n      <td>A</td>\n      <td>21</td>\n    </tr>\n    <tr>\n      <th>3</th>\n      <td>A</td>\n      <td>21</td>\n    </tr>\n    <tr>\n      <th>4</th>\n      <td>A</td>\n      <td>39</td>\n    </tr>\n  </tbody>\n</table>\n</div>"
     },
     "execution_count": 4,
     "metadata": {},
     "output_type": "execute_result"
    }
   ],
   "source": [
    "results_df.head(5)"
   ],
   "metadata": {
    "collapsed": false,
    "pycharm": {
     "name": "#%%\n"
    }
   }
  },
  {
   "cell_type": "markdown",
   "source": [
    "### Averages and standard deviations"
   ],
   "metadata": {
    "collapsed": false
   }
  },
  {
   "cell_type": "code",
   "execution_count": 5,
   "outputs": [
    {
     "name": "stdout",
     "output_type": "stream",
     "text": [
      "Average travel time (95% confidence interval) for scenario A: 230.744 (229.566, 231.922), economic interval: 1.021%\n",
      "Average travel time (95% confidence interval) for scenario B: 302.237 (300.719, 303.756), economic interval: 1.005%\n",
      "Average travel time (95% confidence interval) for scenario C: 865.502 (861.404, 869.599), economic interval: 0.947%\n",
      "Average travel time (95% confidence interval) for scenario D: 1256.685 (1251.178, 1262.192), economic interval: 0.876%\n"
     ]
    },
    {
     "data": {
      "text/plain": "   Average (min)  Low bound (min)  High bound (min)  Interval range (min)  \\\nA     230.743782       229.566017        231.921547              2.355529   \nB     302.237064       300.718528        303.755599              3.037072   \nC     865.501554       861.404326        869.598782              8.194457   \nD    1256.684958      1251.177608       1262.192307             11.014699   \n\n   Economic interval (%)  \nA               1.020842  \nB               1.004864  \nC               0.946787  \nD               0.876488  ",
      "text/html": "<div>\n<style scoped>\n    .dataframe tbody tr th:only-of-type {\n        vertical-align: middle;\n    }\n\n    .dataframe tbody tr th {\n        vertical-align: top;\n    }\n\n    .dataframe thead th {\n        text-align: right;\n    }\n</style>\n<table border=\"1\" class=\"dataframe\">\n  <thead>\n    <tr style=\"text-align: right;\">\n      <th></th>\n      <th>Average (min)</th>\n      <th>Low bound (min)</th>\n      <th>High bound (min)</th>\n      <th>Interval range (min)</th>\n      <th>Economic interval (%)</th>\n    </tr>\n  </thead>\n  <tbody>\n    <tr>\n      <th>A</th>\n      <td>230.743782</td>\n      <td>229.566017</td>\n      <td>231.921547</td>\n      <td>2.355529</td>\n      <td>1.020842</td>\n    </tr>\n    <tr>\n      <th>B</th>\n      <td>302.237064</td>\n      <td>300.718528</td>\n      <td>303.755599</td>\n      <td>3.037072</td>\n      <td>1.004864</td>\n    </tr>\n    <tr>\n      <th>C</th>\n      <td>865.501554</td>\n      <td>861.404326</td>\n      <td>869.598782</td>\n      <td>8.194457</td>\n      <td>0.946787</td>\n    </tr>\n    <tr>\n      <th>D</th>\n      <td>1256.684958</td>\n      <td>1251.177608</td>\n      <td>1262.192307</td>\n      <td>11.014699</td>\n      <td>0.876488</td>\n    </tr>\n  </tbody>\n</table>\n</div>"
     },
     "execution_count": 5,
     "metadata": {},
     "output_type": "execute_result"
    }
   ],
   "source": [
    "#calculating 95% confidence intervals of the economic losses\n",
    "confidence = 0.95\n",
    "\n",
    "average = {}\n",
    "low_bound = {}\n",
    "high_bound = {}\n",
    "interval_range = {}\n",
    "economic_interval = {}\n",
    "\n",
    "for i in scenarios:\n",
    "    results_list = results[i][\"Travel_Time\"].tolist()\n",
    "    average[i] = np.mean(results_list)\n",
    "    low_bound[i], high_bound[i] = st.norm.interval(alpha=confidence, loc=average[i], scale=st.sem(results_list))\n",
    "    interval_range[i] = high_bound[i] - low_bound[i]\n",
    "    economic_interval[i] = interval_range[i] / average[i] * 100\n",
    "\n",
    "    print(f'Average travel time (95% confidence interval) for scenario {i}: {average[i]:.3f} ({low_bound[i]:.3f}, {high_bound[i]:.3f}), economic interval: {economic_interval[i]:.3f}%')\n",
    "\n",
    "df = pd.DataFrame({\n",
    "    \"Average (min)\": average,\n",
    "    \"Low bound (min)\": low_bound,\n",
    "    \"High bound (min)\": high_bound,\n",
    "    \"Interval range (min)\": interval_range,\n",
    "    \"Economic interval (%)\": economic_interval})\n",
    "df.to_csv(\"../results/travel_times.csv\", index_label=\"Scenario\")\n",
    "df"
   ],
   "metadata": {
    "collapsed": false,
    "pycharm": {
     "name": "#%%\n"
    }
   }
  },
  {
   "cell_type": "markdown",
   "source": [
    "### Plots"
   ],
   "metadata": {
    "collapsed": false
   }
  },
  {
   "cell_type": "code",
   "execution_count": 6,
   "outputs": [
    {
     "data": {
      "text/plain": "<Figure size 864x288 with 4 Axes>",
      "image/png": "[encoded data removed]"
     },
     "metadata": {
      "needs_background": "light"
     },
     "output_type": "display_data"
    }
   ],
   "source": [
    "g = sns.FacetGrid(results_df, col=\"Scenario\", height=4, aspect=0.75)\n",
    "g.map_dataframe(sns.histplot, x=\"Travel_Time\", binwidth=50)\n",
    "plt.savefig(\"../images/histograms.svg\")"
   ],
   "metadata": {
    "collapsed": false,
    "pycharm": {
     "name": "#%%\n"
    }
   }
  },
  {
   "cell_type": "code",
   "execution_count": 7,
   "outputs": [],
   "source": [
    "pal = sns.color_palette(\"hls\", 4)"
   ],
   "metadata": {
    "collapsed": false,
    "pycharm": {
     "name": "#%%\n"
    }
   }
  },
  {
   "cell_type": "code",
   "execution_count": 9,
   "outputs": [
    {
     "data": {
      "text/plain": "<Figure size 432x288 with 1 Axes>",
      "image/png": "[encoded data removed]"
     },
     "metadata": {
      "needs_background": "light"
     },
     "output_type": "display_data"
    }
   ],
   "source": [
    "sns.kdeplot(data=results_df, x=\"Travel_Time\", hue=\"Scenario\", fill=True, common_norm=False, palette=pal, alpha=0.5, linewidth=0)\n",
    "plt.savefig(\"../images/densities.svg\")"
   ],
   "metadata": {
    "collapsed": false,
    "pycharm": {
     "name": "#%%\n"
    }
   }
  }
 ],
 "metadata": {
  "kernelspec": {
   "display_name": "Python 3",
   "language": "python",
   "name": "python3"
  },
  "language_info": {
   "codemirror_mode": {
    "name": "ipython",
    "version": 2
   },
   "file_extension": ".py",
   "mimetype": "text/x-python",
   "name": "python",
   "nbconvert_exporter": "python",
   "pygments_lexer": "ipython2",
   "version": "2.7.6"
  }
 },
 "nbformat": 4,
 "nbformat_minor": 0
}